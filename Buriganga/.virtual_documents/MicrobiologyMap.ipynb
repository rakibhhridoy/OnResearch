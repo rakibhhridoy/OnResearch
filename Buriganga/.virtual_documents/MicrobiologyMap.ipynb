import geopandas as gpd
import pandas as pd
import matplotlib.pyplot


df = pd.read_csv("data/BurigangaMap.csv")


df


df.plot.hexbin(x = "Longitude", y = "Latitude")


import plotly.express as px
import plotly.io as pio


pio.renderers.default = "firefox"


from shapely.geometry import Point, Polygon














geometric_points = []
for xy in zip(df['Longitude'], df['Latitude']):
   geometric_points.append(Point(xy))



geometric_points


df = gpd.GeoDataFrame(df,
                                 crs = {'init': 'epsg:4326'},
                                 geometry = geometric_points)
df


type(df)


df["E Coli"].plot()


import matplotlib.pyplot as plt


cents = df.centroid
cents.head()


poly = df['geometry'][0]
pt1 = cents[0]
pt2 = cents[1]


cents.plot()


import plotly.express as px


fig = px.density_mapbox(df, lat='Latitude', lon='Longitude', z='E Coli', radius=10,
                        center=dict(lat=0, lon=180), zoom=0,
                        mapbox_style="stamen-terrain")
fig.show()


buri = pd.read_json("data/Buriganga.json")


buri


from pykml import parser
with open('data/Sampling points.kml', 'r') as f:
    root = parser.parse(f).getroot()
namespace = {"kml": 'http://www.opengis.net/kml/2.2'}
pms = root.xpath(".//kml:Placemark[.//kml:Polygon]", namespaces=namespace)
for p in pms:
    print(p.Polygon.outerBoundaryIs.LinearRing.coordinates)


gpd.io.file.fiona.drvsupport.supported_drivers['KML'] = 'rw'
df = gpd.read_file('data/Sampling points.kml', driver='KML')


df


type(df)



