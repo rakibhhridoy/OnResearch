import pandas as pd
import numpy as np
import matplotlib.pyplot as plt


df = pd.read_excel("data/wpburiganga.xlsx")
df.info()


df.columns


df


stat_df = df.loc[9:]
df = df.loc[:8]
df


sampling_point = df["Sampling Point"].str.split("(")
sampling_point


i = 0
while i< len(sampling_point):
    sampling_point[i][1] = sampling_point[i][1][:-1]

    i+=1
    
sampling_point


sampling = pd.DataFrame(columns=[])


point = []
location = []

i = 0
while i < len(sampling_point):
    point.append(sampling_point[i][0])
    location.append(sampling_point[i][1])
    i+=1
    
point, location


df["Point"], df["location"] = point, location
df


df.drop(columns=["Sampling Point"], inplace=True)
df


df.describe()


stat_df


df.to_excel("data.xlsx")








summer = pd.read_csv("data/Buriganga_S.csv")
winter = pd.read_csv("data/Buriganga_W .csv")


summer


summer.columns


summer.describe()


winter.describe()


ws = winter.describe()
ss = summer.describe()


ws.to_csv("data/WinterDescribe.csv")
ss.to_csv("data/SummerDescribe.csv")


winter


summer.columns


summer.info()


summer_p = summer.drop(columns= ["SamplingPoint"])
winter_p = winter.drop(columns= ["SamplingPoint"])


summer_p


winter_p


from scipy import stats


pH = stats.pearsonr(summer_p["pH"], winter_p["pH"])
pH[1]


p_values = {}
for col in summer_p.columns:
    p = stats.pearsonr(summer_p[col], winter_p[col])
    p_values[col] = p[1]
    
p_values





from scipy.stats import ttest_ind


ex = ttest_ind(summer_p["Pb"], winter_p["Pb"])
ex


pH = stats.pearsonr(summer_p["pH"], winter_p["pH"])
pH


pH = stats.pearsonr(summer_p["Pb"], winter_p["Pb"])
pH





summer


summer_p.T


winter_p


sT = summer_p.T
wT = winter_p.T


wT


sT[17:]


stations = summer["SamplingPoint"]
stations


sT.columns = stations
sT


p = stats.pearsonr(sT["Gabtoli Dhalwes"][:9], sT["Gabtoli Turag"][:9])
p[1]


sT["Gabtoli Dhalwes"][:9]


def p_gen_physio(i,j,p_values):
    a,b = sT.columns[i], sT.columns[j] 
    p = stats.pearsonr(sT[a][:9], sT[b][:9])
    notation = a + ' | ' + b
    p_values[notation] = p[1]
    
    return p_values




p_values = {}
p_gen_physio(0,1,p_values)


p_values = p_gen_physio(0,2,p_values)
p_values = p_gen_physio(0,3,p_values)
p_values = p_gen_physio(0,4,p_values)
p_values = p_gen_physio(0,5,p_values)
p_values = p_gen_physio(0,6,p_values)
p_values = p_gen_physio(0,7,p_values)
p_values = p_gen_physio(0,8,p_values)

p_values = p_gen_physio(1,2,p_values)
p_values = p_gen_physio(1,3,p_values)
p_values = p_gen_physio(1,4,p_values)
p_values = p_gen_physio(1,5,p_values)
p_values = p_gen_physio(1,6,p_values)
p_values = p_gen_physio(1,7,p_values)
p_values = p_gen_physio(1,8,p_values)

p_values = p_gen_physio(2,3,p_values)
p_values = p_gen_physio(2,4,p_values)
p_values = p_gen_physio(2,5,p_values)
p_values = p_gen_physio(2,6,p_values)
p_values = p_gen_physio(2,7,p_values)
p_values = p_gen_physio(2,8,p_values)

p_values = p_gen_physio(3,4,p_values)
p_values = p_gen_physio(3,5,p_values)
p_values = p_gen_physio(3,6,p_values)
p_values = p_gen_physio(3,7,p_values)
p_values = p_gen_physio(3,8,p_values)

p_values = p_gen_physio(4,5,p_values)
p_values = p_gen_physio(4,6,p_values)
p_values = p_gen_physio(4,7,p_values)
p_values = p_gen_physio(4,8,p_values)

p_values = p_gen_physio(5,6,p_values)
p_values = p_gen_physio(5,7,p_values)
p_values = p_gen_physio(5,8,p_values)

p_values = p_gen_physio(6,7,p_values)
p_values = p_gen_physio(6,8,p_values)

p_values = p_gen_physio(7,8,p_values)

p_values


temp_cod_s = pd.DataFrame(data={
    "Point": p_values.keys(),
    "p value": p_values.values()
})
temp_cod_s


def p_gen_hm(i,j,p_values):
    a,b = sT.columns[i], sT.columns[j] 
    p = stats.pearsonr(sT[a][18:], sT[b][18:])
    notation = a + ' | ' + b
    p_values[notation] = p[1]
    
    return p_values




p_values = {}
p_values = p_gen_hm(0,1,p_values)


p_values = p_gen_hm(0,2,p_values)
p_values = p_gen_hm(0,3,p_values)
p_values = p_gen_hm(0,4,p_values)
p_values = p_gen_hm(0,5,p_values)
p_values = p_gen_hm(0,6,p_values)
p_values = p_gen_hm(0,7,p_values)
p_values = p_gen_hm(0,8,p_values)

p_values = p_gen_hm(1,2,p_values)
p_values = p_gen_hm(1,3,p_values)
p_values = p_gen_hm(1,4,p_values)
p_values = p_gen_hm(1,5,p_values)
p_values = p_gen_hm(1,6,p_values)
p_values = p_gen_hm(1,7,p_values)
p_values = p_gen_hm(1,8,p_values)

p_values = p_gen_hm(2,3,p_values)
p_values = p_gen_hm(2,4,p_values)
p_values = p_gen_hm(2,5,p_values)
p_values = p_gen_hm(2,6,p_values)
p_values = p_gen_hm(2,7,p_values)
p_values = p_gen_hm(2,8,p_values)

p_values = p_gen_hm(3,4,p_values)
p_values = p_gen_hm(3,5,p_values)
p_values = p_gen_hm(3,6,p_values)
p_values = p_gen_hm(3,7,p_values)
p_values = p_gen_hm(3,8,p_values)

p_values = p_gen_hm(4,5,p_values)
p_values = p_gen_hm(4,6,p_values)
p_values = p_gen_hm(4,7,p_values)
p_values = p_gen_hm(4,8,p_values)

p_values = p_gen_hm(5,6,p_values)
p_values = p_gen_hm(5,7,p_values)
p_values = p_gen_hm(5,8,p_values)

p_values = p_gen_hm(6,7,p_values)
p_values = p_gen_hm(6,8,p_values)

p_values = p_gen_hm(7,8,p_values)

p_values


hm_s = pd.DataFrame(data={
    "Point": p_values.keys(),
    "p value": p_values.values()
})
hm_s


wT.columns = stations


wT


def p_gen_physio_w(i,j,p_values):
    a,b = sT.columns[i], sT.columns[j] 
    p = stats.pearsonr(wT[a][:9], wT[b][:9])
    notation = a + ' | ' + b
    p_values[notation] = p[1]
    
    return p_values


p_values = {}
p_values = p_gen_physio_w(0,1,p_values)


p_values = p_gen_physio_w(0,2,p_values)
p_values = p_gen_physio_w(0,3,p_values)
p_values = p_gen_physio_w(0,4,p_values)
p_values = p_gen_physio_w(0,5,p_values)
p_values = p_gen_physio_w(0,6,p_values)
p_values = p_gen_physio_w(0,7,p_values)
p_values = p_gen_physio_w(0,8,p_values)

p_values = p_gen_physio_w(1,2,p_values)
p_values = p_gen_physio_w(1,3,p_values)
p_values = p_gen_physio_w(1,4,p_values)
p_values = p_gen_physio_w(1,5,p_values)
p_values = p_gen_physio_w(1,6,p_values)
p_values = p_gen_physio_w(1,7,p_values)
p_values = p_gen_physio_w(1,8,p_values)

p_values = p_gen_physio_w(2,3,p_values)
p_values = p_gen_physio_w(2,4,p_values)
p_values = p_gen_physio_w(2,5,p_values)
p_values = p_gen_physio_w(2,6,p_values)
p_values = p_gen_physio_w(2,7,p_values)
p_values = p_gen_physio_w(2,8,p_values)

p_values = p_gen_physio_w(3,4,p_values)
p_values = p_gen_physio_w(3,5,p_values)
p_values = p_gen_physio_w(3,6,p_values)
p_values = p_gen_physio_w(3,7,p_values)
p_values = p_gen_physio_w(3,8,p_values)

p_values = p_gen_physio_w(4,5,p_values)
p_values = p_gen_physio_w(4,6,p_values)
p_values = p_gen_physio_w(4,7,p_values)
p_values = p_gen_physio_w(4,8,p_values)

p_values = p_gen_physio_w(5,6,p_values)
p_values = p_gen_physio_w(5,7,p_values)
p_values = p_gen_physio_w(5,8,p_values)

p_values = p_gen_physio_w(6,7,p_values)
p_values = p_gen_physio_w(6,8,p_values)

p_values = p_gen_physio_w(7,8,p_values)

p_values


temp_cod_w = pd.DataFrame(data={
    "Point": p_values.keys(),
    "p value": p_values.values()
})
temp_cod_w





def p_gen_hm_w(i,j,p_values):
    a,b = wT.columns[i], wT.columns[j] 
    p = stats.pearsonr(wT[a][18:], wT[b][18:])
    notation = a + ' | ' + b
    p_values[notation] = p[1]
    
    return p_values



p_values = {}
p_values = p_gen_hm_w(0,1,p_values)


p_values = p_gen_hm_w(0,2,p_values)
p_values = p_gen_hm_w(0,3,p_values)
p_values = p_gen_hm_w(0,4,p_values)
p_values = p_gen_hm_w(0,5,p_values)
p_values = p_gen_hm_w(0,6,p_values)
p_values = p_gen_hm_w(0,7,p_values)
p_values = p_gen_hm_w(0,8,p_values)

p_values = p_gen_hm_w(1,2,p_values)
p_values = p_gen_hm_w(1,3,p_values)
p_values = p_gen_hm_w(1,4,p_values)
p_values = p_gen_hm_w(1,5,p_values)
p_values = p_gen_hm_w(1,6,p_values)
p_values = p_gen_hm_w(1,7,p_values)
p_values = p_gen_hm_w(1,8,p_values)

p_values = p_gen_hm_w(2,3,p_values)
p_values = p_gen_hm_w(2,4,p_values)
p_values = p_gen_hm_w(2,5,p_values)
p_values = p_gen_hm_w(2,6,p_values)
p_values = p_gen_hm_w(2,7,p_values)
p_values = p_gen_hm_w(2,8,p_values)

p_values = p_gen_hm_w(3,4,p_values)
p_values = p_gen_hm_w(3,5,p_values)
p_values = p_gen_hm_w(3,6,p_values)
p_values = p_gen_hm_w(3,7,p_values)
p_values = p_gen_hm_w(3,8,p_values)

p_values = p_gen_hm_w(4,5,p_values)
p_values = p_gen_hm_w(4,6,p_values)
p_values = p_gen_hm_w(4,7,p_values)
p_values = p_gen_hm_w(4,8,p_values)

p_values = p_gen_hm_w(5,6,p_values)
p_values = p_gen_hm_w(5,7,p_values)
p_values = p_gen_hm_w(5,8,p_values)

p_values = p_gen_hm_w(6,7,p_values)
p_values = p_gen_hm_w(6,8,p_values)

p_values = p_gen_hm_w(7,8,p_values)

p_values


hm_w = pd.DataFrame(data={
    "Point": p_values.keys(),
    "p value": p_values.values()
})
hm_w


temp_cod_s.to_excel("p_val/temp_cod_summer.xlsx")
temp_cod_w.to_excel("p_val/temp_cod_winter.xlsx")

hm_s.to_excel("p_val/hm_summer.xlsx")
hm_w.to_excel("p_val/hm_winter.xlsx")


summer































































