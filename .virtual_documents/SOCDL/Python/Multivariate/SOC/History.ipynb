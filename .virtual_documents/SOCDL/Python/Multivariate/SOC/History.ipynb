


import pandas as pd
import numpy as np
import matplotlib.pyplot as plt
import seaborn as sns


def load_history(epochs, model):
    fname = f"epochs{epochs}/history_{model}.csv"
    hist = pd.read_csv(fname)
    hist.drop(columns= "Unnamed: 0", inplace= True)
    return hist

def plot4(m1, m2, m3, m4, m1name, m2name, m3name, m4name, title):
    fig, axes = plt.subplots(2, 2, figsize=(10, 6))

    axes[0, 0].plot(m1['training_loss'], label = "Training")
    axes[0, 0].plot(m1['validation_loss'], label =  "Validation")
    axes[0, 0].set_title(m1name)
    axes[0, 0].set_xlabel("Epochs")
    axes[0, 0].set_ylabel("loss")
    axes[0, 0].legend()

    axes[0, 1].plot(m2['training_loss'], label = "Training")
    axes[0, 1].plot(m2['validation_loss'], label =  "Validation")
    axes[0, 1].set_title(m2name)
    axes[0, 1].set_xlabel("Epochs")
    axes[0, 1].set_ylabel("loss")
    axes[0, 1].legend()


    axes[1, 0].plot(m3['training_loss'], label = "Training")
    axes[1, 0].plot(m3['validation_loss'], label =  "Validation")
    axes[1, 0].set_title(m3name)
    axes[1, 0].set_xlabel("Epochs")
    axes[1, 0].set_ylabel("loss")
    axes[1, 0].legend()


    axes[1, 1].plot(m4['training_loss'], label = "Training")
    axes[1, 1].plot(m4['validation_loss'], label =  "Validation")
    axes[1, 1].set_title(m4name)
    axes[1, 1].set_xlabel("Epochs")
    axes[1, 1].set_ylabel("loss")
    axes[1, 1].legend()


    fig.suptitle(title, fontsize=12)
    plt.tight_layout()

    plt.show()
    
def plot6(m1, m2, m3, m4, m5, m6, m1name, m2name, m3name, m4name, m5name,m6name, title):
    fig, axes = plt.subplots(3, 2, figsize=(10, 6))

    axes[0, 0].plot(m1['training_loss'], label = "Training")
    axes[0, 0].plot(m1['validation_loss'], label =  "Validation")
    axes[0, 0].set_title(m1name)
    axes[0, 0].set_xlabel("Epochs")
    axes[0, 0].set_ylabel("loss")
    axes[0, 0].legend()

    axes[0, 1].plot(m2['training_loss'], label = "Training")
    axes[0, 1].plot(m2['validation_loss'], label =  "Validation")
    axes[0, 1].set_title(m2name)
    axes[0, 1].set_xlabel("Epochs")
    axes[0, 1].set_ylabel("loss")
    axes[0, 1].legend()


    axes[1, 0].plot(m3['training_loss'], label = "Training")
    axes[1, 0].plot(m3['validation_loss'], label =  "Validation")
    axes[1, 0].set_title(m3name)
    axes[1, 0].set_xlabel("Epochs")
    axes[1, 0].set_ylabel("loss")
    axes[1, 0].legend()


    axes[1, 1].plot(m4['training_loss'], label = "Training")
    axes[1, 1].plot(m4['validation_loss'], label =  "Validation")
    axes[1, 1].set_title(m4name)
    axes[1, 1].set_xlabel("Epochs")
    axes[1, 1].set_ylabel("loss")
    axes[1, 1].legend()

    axes[2, 0].plot(m5['training_loss'], label = "Training")
    axes[2, 0].plot(m5['validation_loss'], label =  "Validation")
    axes[2, 0].set_title(m5name)
    axes[2, 0].set_xlabel("Epochs")
    axes[2, 0].set_ylabel("loss")
    axes[2, 0].legend()


    axes[2, 1].plot(m6['training_loss'], label = "Training")
    axes[2, 1].plot(m6['validation_loss'], label =  "Validation")
    axes[2, 1].set_title(m6name)
    axes[2, 1].set_xlabel("Epochs")
    axes[2, 1].set_ylabel("loss")
    axes[2, 1].legend()


    fig.suptitle(title, fontsize=12)
    plt.tight_layout()

    plt.show()


def plot28(epochs):
    fig, axes = plt.subplots(7, 4, figsize=(30, 20))
    axes[0, 0].plot(cnn_history10['training_loss'], label = "Training")
    axes[0, 0].plot(cnn_history10['validation_loss'], label =  "Validation")
    axes[0, 0].set_title("CNN")
    axes[0, 0].set_ylabel("loss")
    axes[0, 0].legend()

    axes[0, 1].plot(gru_history10['training_loss'], label = "Training")
    axes[0, 1].plot(gru_history10['validation_loss'], label =  "Validation")
    axes[0, 1].set_title("GRU")
    axes[0, 1].set_ylabel("loss")
    axes[0, 1].legend()

    axes[0, 2].plot(rnn_history10['training_loss'], label = "Training")
    axes[0, 2].plot(rnn_history10['validation_loss'], label =  "Validation")
    axes[0, 2].set_title("RNN")
    axes[0, 2].set_ylabel("loss")
    axes[0, 2].legend()

    axes[0, 3].plot(lstm_history10['training_loss'], label = "Training")
    axes[0, 3].plot(lstm_history10['validation_loss'], label =  "Validation")
    axes[0, 3].set_title("LSTM")
    axes[0, 3].set_ylabel("loss")
    axes[0, 3].legend()



    axes[1, 0].plot(mavg_cnn_history10['training_loss'], label = "Training")
    axes[1, 0].plot(mavg_cnn_history10['validation_loss'], label =  "Validation")
    axes[1, 0].set_title("MA CNN")
    axes[1, 0].set_ylabel("loss")
    axes[1, 0].legend()

    axes[1, 1].plot(mavg_gru_history10['training_loss'], label = "Training")
    axes[1, 1].plot(mavg_gru_history10['validation_loss'], label =  "Validation")
    axes[1, 1].set_title("MA GRU")
    axes[1, 1].set_ylabel("loss")
    axes[1, 1].legend()

    axes[1, 2].plot(mavg_rnn_history10['training_loss'], label = "Training")
    axes[1, 2].plot(mavg_rnn_history10['validation_loss'], label =  "Validation")
    axes[1, 2].set_title("MA RNN")
    axes[1, 2].set_ylabel("loss")
    axes[1, 2].legend()

    axes[1, 3].plot(mavg_lstm_history10['training_loss'], label = "Training")
    axes[1, 3].plot(mavg_lstm_history10['validation_loss'], label =  "Validation")
    axes[1, 3].set_title("MA LSTM")
    axes[1, 3].set_ylabel("loss")
    axes[1, 3].legend()



    axes[2, 0].plot(auto_cnn_history10['training_loss'], label = "Training")
    axes[2, 0].plot(auto_cnn_history10['validation_loss'], label =  "Validation")
    axes[2, 0].set_title("AE CNN")
    axes[2, 0].set_ylabel("loss")
    axes[2, 0].legend()

    axes[2, 1].plot(auto_gru_history10['training_loss'], label = "Training")
    axes[2, 1].plot(auto_gru_history10['validation_loss'], label =  "Validation")
    axes[2, 1].set_title("AE GRU")
    axes[2, 1].set_ylabel("loss")
    axes[2, 1].legend()

    axes[2, 2].plot(auto_rnn_history10['training_loss'], label = "Training")
    axes[2, 2].plot(auto_rnn_history10['validation_loss'], label =  "Validation")
    axes[2, 2].set_title("AE RNN")
    axes[2, 2].set_ylabel("loss")
    axes[2, 2].legend()

    axes[2, 3].plot(auto_lstm_history10['training_loss'], label = "Training")
    axes[2, 3].plot(auto_lstm_history10['validation_loss'], label =  "Validation")
    axes[2, 3].set_title("AE LSTM")
    axes[2, 3].set_ylabel("loss")
    axes[2, 3].legend()



    axes[3, 0].plot(mavg_auto_cnn_history10['training_loss'], label = "Training")
    axes[3, 0].plot(mavg_auto_cnn_history10['validation_loss'], label =  "Validation")
    axes[3, 0].set_title("MA AE CNN")
    axes[3, 0].set_ylabel("loss")
    axes[3, 0].legend()

    axes[3, 1].plot(mavg_auto_gru_history10['training_loss'], label = "Training")
    axes[3, 1].plot(mavg_auto_gru_history10['validation_loss'], label =  "Validation")
    axes[3, 1].set_title("MA AE GRU")
    axes[3, 1].set_ylabel("loss")
    axes[3, 1].legend()

    axes[3, 2].plot(mavg_auto_rnn_history10['training_loss'], label = "Training")
    axes[3, 2].plot(mavg_auto_rnn_history10['validation_loss'], label =  "Validation")
    axes[3, 2].set_title("MA AE RNN")
    axes[3, 2].set_ylabel("loss")
    axes[3, 2].legend()

    axes[3, 3].plot(mavg_auto_lstm_history10['training_loss'], label = "Training")
    axes[3, 3].plot(mavg_auto_lstm_history10['validation_loss'], label =  "Validation")
    axes[3, 3].set_title("MA AE LSTM")
    axes[3, 3].set_ylabel("loss")
    axes[3, 3].legend()



    axes[4, 0].plot(hybrid_cnn_lstm_history10['training_loss'], label = "Training")
    axes[4, 0].plot(hybrid_cnn_lstm_history10['validation_loss'], label =  "Validation")
    axes[4, 0].set_title("HY CNN LSTM")
    axes[4, 0].set_ylabel("loss")
    axes[4, 0].legend()

    axes[4, 1].plot(hybrid_rnn_lstm_history10['training_loss'], label = "Training")
    axes[4, 1].plot(hybrid_rnn_lstm_history10['validation_loss'], label =  "Validation")
    axes[4, 1].set_title("HY RNN LSTM")
    axes[4, 1].set_ylabel("loss")
    axes[4, 1].legend()

    axes[4, 2].plot(hybrid_rnn_gru_history10['training_loss'], label = "Training")
    axes[4, 2].plot(hybrid_rnn_gru_history10['validation_loss'], label =  "Validation")
    axes[4, 2].set_title("HY RNN GRU")
    axes[4, 2].set_ylabel("loss")
    axes[4, 2].legend()

    axes[4, 3].plot(hybrid_cnn_gru_history10['training_loss'], label = "Training")
    axes[4, 3].plot(hybrid_cnn_gru_history10['validation_loss'], label =  "Validation")
    axes[4, 3].set_title("HY CNN GRU")
    axes[4, 3].set_ylabel("loss")
    axes[4, 3].legend()

    axes[5, 0].plot(hybrid_cnn_rnn_gru_history10['training_loss'], label = "Training")
    axes[5, 0].plot(hybrid_cnn_rnn_gru_history10['validation_loss'], label =  "Validation")
    axes[5, 0].set_title("HY CNN RNN GRU")
    axes[5, 0].set_ylabel("loss")
    axes[5, 0].legend()

    axes[5, 1].plot(hybrid_lstm_rnn_gru_history10['training_loss'], label = "Training")
    axes[5, 1].plot(hybrid_lstm_rnn_gru_history10['validation_loss'], label =  "Validation")
    axes[5, 1].set_title("HY LSTM RNN GRU")
    axes[5, 1].set_ylabel("loss")
    axes[5, 1].legend()



    axes[5, 2].plot(mavg_hybrid_cnn_lstm_history10['training_loss'], label = "Training")
    axes[5, 2].plot(mavg_hybrid_cnn_lstm_history10['validation_loss'], label =  "Validation")
    axes[5, 2].set_title("HY MA CNN LSTM")
    axes[5, 2].set_xlabel("Epochs")
    axes[5, 2].set_ylabel("loss")
    axes[5, 2].legend()

    axes[5, 3].plot(mavg_hybrid_rnn_lstm_history10['training_loss'], label = "Training")
    axes[5, 3].plot(mavg_hybrid_rnn_lstm_history10['validation_loss'], label =  "Validation")
    axes[5, 3].set_title("HY MA RNN LSTM")
    axes[5, 3].set_xlabel("Epochs")
    axes[5, 3].set_ylabel("loss")
    axes[5, 3].legend()


    axes[6, 0].plot(mavg_hybrid_rnn_gru_history10['training_loss'], label = "Training")
    axes[6, 0].plot(mavg_hybrid_rnn_gru_history10['validation_loss'], label =  "Validation")
    axes[6, 0].set_title("HY MA RNN GRU")
    axes[6, 0].set_xlabel("Epochs")
    axes[6, 0].set_ylabel("loss")
    axes[6, 0].legend()

    axes[6, 1].plot(mavg_hybrid_cnn_gru_history10['training_loss'], label = "Training")
    axes[6, 1].plot(mavg_hybrid_cnn_gru_history10['validation_loss'], label =  "Validation")
    axes[6, 1].set_title("HY MA CNN GRU")
    axes[6, 1].set_xlabel("Epochs")
    axes[6, 1].set_ylabel("loss")
    axes[6, 1].legend()

    axes[6, 2].plot(mavg_hybrid_cnn_rnn_gru_history10['training_loss'], label = "Training")
    axes[6, 2].plot(mavg_hybrid_cnn_rnn_gru_history10['validation_loss'], label =  "Validation")
    axes[6, 2].set_title("HY MA CNN RNN GRU")
    axes[6, 2].set_xlabel("Epochs")
    axes[6, 2].set_ylabel("loss")
    axes[6, 2].legend()


    axes[6, 3].plot(mavg_hybrid_lstm_rnn_gru_history10['training_loss'], label = "Training")
    axes[6, 3].plot(mavg_hybrid_lstm_rnn_gru_history10['validation_loss'], label =  "Validation")
    axes[6, 3].set_title("HY MA LSTM RNN GRU")
    axes[6, 3].set_xlabel("Epochs")
    axes[6, 3].set_ylabel("loss")
    axes[6, 3].legend()

    fig.suptitle(f"Epochs {epochs}", fontsize=15)
    plt.tight_layout()
    fname = f"epochs{epochs}/multiplot_history.png"
    plt.savefig(fname, dpi=500, bbox_inches='tight')

    plt.show()





epochs = 10





cnn_history10 = load_history(epochs, "cnn")
gru_history10 = load_history(epochs, "gru")
rnn_history10 = load_history(epochs, "rnn")
lstm_history10 = load_history(epochs, "lstm")

plot4(cnn_history10, gru_history10, rnn_history10, lstm_history10, "CNN", "GRU", "RNN", "LSTM", "General Model")





mavg_cnn_history10 = load_history(epochs, "mavg_cnn")
mavg_gru_history10 = load_history(epochs, "mavg_gru")
mavg_rnn_history10 = load_history(epochs, "mavg_rnn")
mavg_lstm_history10 = load_history(epochs, "mavg_lstm")

plot4(mavg_cnn_history10, mavg_gru_history10, mavg_rnn_history10, mavg_lstm_history10, "CNN", "GRU", "RNN", "LSTM", "Moving Average")





auto_cnn_history10 = load_history(epochs, "auto_cnn")
auto_gru_history10 = load_history(epochs, "auto_gru")
auto_rnn_history10 = load_history(epochs, "auto_rnn")
auto_lstm_history10 = load_history(epochs, "auto_lstm")

plot4(auto_cnn_history10, auto_gru_history10, auto_rnn_history10, auto_lstm_history10, "CNN", "GRU", "RNN", "LSTM", "Auto Encoder")





mavg_auto_cnn_history10 = load_history(epochs, "mavg_auto_cnn")
mavg_auto_gru_history10 = load_history(epochs, "mavg_auto_gru")
mavg_auto_rnn_history10 = load_history(epochs, "mavg_auto_rnn")
mavg_auto_lstm_history10 = load_history(epochs, "mavg_auto_lstm")

plot4(mavg_auto_cnn_history10, mavg_auto_gru_history10, mavg_auto_rnn_history10, mavg_auto_lstm_history10, "CNN", "GRU", "RNN", "LSTM", "Moving Average with Auto Encoder")








hybrid_cnn_lstm_history10 = load_history(epochs, "hybrid_cnn_lstm")
hybrid_rnn_lstm_history10 = load_history(epochs, "hybrid_rnn_lstm")
hybrid_rnn_gru_history10 = load_history(epochs, "hybrid_rnn_gru")
hybrid_cnn_gru_history10 = load_history(epochs, "hybrid_cnn_gru")
hybrid_cnn_rnn_gru_history10 = load_history(epochs, "hybrid_cnn_rnn_gru")
hybrid_lstm_rnn_gru_history10 = load_history(epochs, "hybrid_lstm_rnn_gru")

plot6(hybrid_cnn_lstm_history10, hybrid_rnn_lstm_history10, hybrid_rnn_gru_history10, hybrid_cnn_gru_history10,
      hybrid_cnn_rnn_gru_history10, hybrid_lstm_rnn_gru_history10, "CNN LSTM", "RNN LSTM", "RNN GRU", "CNN GRU", "CNN RNN GRU","LSTM RNN GRU", "Hybrid")





mavg_hybrid_cnn_lstm_history10 = load_history(epochs, "mavg_hybrid_cnn_lstm")
mavg_hybrid_rnn_lstm_history10 = load_history(epochs, "mavg_hybrid_rnn_lstm")
mavg_hybrid_rnn_gru_history10 = load_history(epochs, "mavg_hybrid_rnn_gru")
mavg_hybrid_cnn_gru_history10 = load_history(epochs, "mavg_hybrid_cnn_gru")
mavg_hybrid_cnn_rnn_gru_history10 = load_history(epochs, "mavg_hybrid_cnn_rnn_gru")
mavg_hybrid_lstm_rnn_gru_history10 = load_history(epochs, "mavg_hybrid_lstm_rnn_gru")

plot6(mavg_hybrid_cnn_lstm_history10, mavg_hybrid_rnn_lstm_history10, mavg_hybrid_rnn_gru_history10, mavg_hybrid_cnn_gru_history10,
      mavg_hybrid_cnn_rnn_gru_history10, mavg_hybrid_lstm_rnn_gru_history10, "CNN LSTM", "RNN LSTM", "RNN GRU", "CNN GRU", "CNN RNN GRU","LSTM RNN GRU", "Moving Average Hybrid")


plot28(epochs)





epochs = 20





cnn_history10 = load_history(epochs, "cnn")
gru_history10 = load_history(epochs, "gru")
rnn_history10 = load_history(epochs, "rnn")
lstm_history10 = load_history(epochs, "lstm")

plot4(cnn_history10, gru_history10, rnn_history10, lstm_history10, "CNN", "GRU", "RNN", "LSTM", "General Model")





mavg_cnn_history10 = load_history(epochs, "mavg_cnn")
mavg_gru_history10 = load_history(epochs, "mavg_gru")
mavg_rnn_history10 = load_history(epochs, "mavg_rnn")
mavg_lstm_history10 = load_history(epochs, "mavg_lstm")

plot4(mavg_cnn_history10, mavg_gru_history10, mavg_rnn_history10, mavg_lstm_history10, "CNN", "GRU", "RNN", "LSTM", "Moving Average")





auto_cnn_history10 = load_history(epochs, "auto_cnn")
auto_gru_history10 = load_history(epochs, "auto_gru")
auto_rnn_history10 = load_history(epochs, "auto_rnn")
auto_lstm_history10 = load_history(epochs, "auto_lstm")

plot4(auto_cnn_history10, auto_gru_history10, auto_rnn_history10, auto_lstm_history10, "CNN", "GRU", "RNN", "LSTM", "Auto Encoder")





mavg_auto_cnn_history10 = load_history(epochs, "mavg_auto_cnn")
mavg_auto_gru_history10 = load_history(epochs, "mavg_auto_gru")
mavg_auto_rnn_history10 = load_history(epochs, "mavg_auto_rnn")
mavg_auto_lstm_history10 = load_history(epochs, "mavg_auto_lstm")

plot4(mavg_auto_cnn_history10, mavg_auto_gru_history10, mavg_auto_rnn_history10, mavg_auto_lstm_history10, "CNN", "GRU", "RNN", "LSTM", "Moving Average with Auto Encoder")








hybrid_cnn_lstm_history10 = load_history(epochs, "hybrid_cnn_lstm")
hybrid_rnn_lstm_history10 = load_history(epochs, "hybrid_rnn_lstm")
hybrid_rnn_gru_history10 = load_history(epochs, "hybrid_rnn_gru")
hybrid_cnn_gru_history10 = load_history(epochs, "hybrid_cnn_gru")
hybrid_cnn_rnn_gru_history10 = load_history(epochs, "hybrid_cnn_rnn_gru")
hybrid_lstm_rnn_gru_history10 = load_history(epochs, "hybrid_lstm_rnn_gru")

plot6(hybrid_cnn_lstm_history10, hybrid_rnn_lstm_history10, hybrid_rnn_gru_history10, hybrid_cnn_gru_history10,
      hybrid_cnn_rnn_gru_history10, hybrid_lstm_rnn_gru_history10, "CNN LSTM", "RNN LSTM", "RNN GRU", "CNN GRU", "CNN RNN GRU","LSTM RNN GRU", "Hybrid")





mavg_hybrid_cnn_lstm_history10 = load_history(epochs, "mavg_hybrid_cnn_lstm")
mavg_hybrid_rnn_lstm_history10 = load_history(epochs, "mavg_hybrid_rnn_lstm")
mavg_hybrid_rnn_gru_history10 = load_history(epochs, "mavg_hybrid_rnn_gru")
mavg_hybrid_cnn_gru_history10 = load_history(epochs, "mavg_hybrid_cnn_gru")
mavg_hybrid_cnn_rnn_gru_history10 = load_history(epochs, "mavg_hybrid_cnn_rnn_gru")
mavg_hybrid_lstm_rnn_gru_history10 = load_history(epochs, "mavg_hybrid_lstm_rnn_gru")

plot6(mavg_hybrid_cnn_lstm_history10, mavg_hybrid_rnn_lstm_history10, mavg_hybrid_rnn_gru_history10, mavg_hybrid_cnn_gru_history10,
      mavg_hybrid_cnn_rnn_gru_history10, mavg_hybrid_lstm_rnn_gru_history10, "CNN LSTM", "RNN LSTM", "RNN GRU", "CNN GRU", "CNN RNN GRU","LSTM RNN GRU", "Moving Average Hybrid")


plot28(epochs)





epochs = 30





cnn_history10 = load_history(epochs, "cnn")
gru_history10 = load_history(epochs, "gru")
rnn_history10 = load_history(epochs, "rnn")
lstm_history10 = load_history(epochs, "lstm")

plot4(cnn_history10, gru_history10, rnn_history10, lstm_history10, "CNN", "GRU", "RNN", "LSTM", "General Model")





mavg_cnn_history10 = load_history(epochs, "mavg_cnn")
mavg_gru_history10 = load_history(epochs, "mavg_gru")
mavg_rnn_history10 = load_history(epochs, "mavg_rnn")
mavg_lstm_history10 = load_history(epochs, "mavg_lstm")

plot4(mavg_cnn_history10, mavg_gru_history10, mavg_rnn_history10, mavg_lstm_history10, "CNN", "GRU", "RNN", "LSTM", "Moving Average")





auto_cnn_history10 = load_history(epochs, "auto_cnn")
auto_gru_history10 = load_history(epochs, "auto_gru")
auto_rnn_history10 = load_history(epochs, "auto_rnn")
auto_lstm_history10 = load_history(epochs, "auto_lstm")

plot4(auto_cnn_history10, auto_gru_history10, auto_rnn_history10, auto_lstm_history10, "CNN", "GRU", "RNN", "LSTM", "Auto Encoder")





mavg_auto_cnn_history10 = load_history(epochs, "mavg_auto_cnn")
mavg_auto_gru_history10 = load_history(epochs, "mavg_auto_gru")
mavg_auto_rnn_history10 = load_history(epochs, "mavg_auto_rnn")
mavg_auto_lstm_history10 = load_history(epochs, "mavg_auto_lstm")

plot4(mavg_auto_cnn_history10, mavg_auto_gru_history10, mavg_auto_rnn_history10, mavg_auto_lstm_history10, "CNN", "GRU", "RNN", "LSTM", "Moving Average with Auto Encoder")








hybrid_cnn_lstm_history10 = load_history(epochs, "hybrid_cnn_lstm")
hybrid_rnn_lstm_history10 = load_history(epochs, "hybrid_rnn_lstm")
hybrid_rnn_gru_history10 = load_history(epochs, "hybrid_rnn_gru")
hybrid_cnn_gru_history10 = load_history(epochs, "hybrid_cnn_gru")
hybrid_cnn_rnn_gru_history10 = load_history(epochs, "hybrid_cnn_rnn_gru")
hybrid_lstm_rnn_gru_history10 = load_history(epochs, "hybrid_lstm_rnn_gru")

plot6(hybrid_cnn_lstm_history10, hybrid_rnn_lstm_history10, hybrid_rnn_gru_history10, hybrid_cnn_gru_history10,
      hybrid_cnn_rnn_gru_history10, hybrid_lstm_rnn_gru_history10, "CNN LSTM", "RNN LSTM", "RNN GRU", "CNN GRU", "CNN RNN GRU","LSTM RNN GRU", "Hybrid")





mavg_hybrid_cnn_lstm_history10 = load_history(epochs, "mavg_hybrid_cnn_lstm")
mavg_hybrid_rnn_lstm_history10 = load_history(epochs, "mavg_hybrid_rnn_lstm")
mavg_hybrid_rnn_gru_history10 = load_history(epochs, "mavg_hybrid_rnn_gru")
mavg_hybrid_cnn_gru_history10 = load_history(epochs, "mavg_hybrid_cnn_gru")
mavg_hybrid_cnn_rnn_gru_history10 = load_history(epochs, "mavg_hybrid_cnn_rnn_gru")
mavg_hybrid_lstm_rnn_gru_history10 = load_history(epochs, "mavg_hybrid_lstm_rnn_gru")

plot6(mavg_hybrid_cnn_lstm_history10, mavg_hybrid_rnn_lstm_history10, mavg_hybrid_rnn_gru_history10, mavg_hybrid_cnn_gru_history10,
      mavg_hybrid_cnn_rnn_gru_history10, mavg_hybrid_lstm_rnn_gru_history10, "CNN LSTM", "RNN LSTM", "RNN GRU", "CNN GRU", "CNN RNN GRU","LSTM RNN GRU", "Moving Average Hybrid")


plot28(epochs)





epochs = 50





cnn_history10 = load_history(epochs, "cnn")
gru_history10 = load_history(epochs, "gru")
rnn_history10 = load_history(epochs, "rnn")
lstm_history10 = load_history(epochs, "lstm")

plot4(cnn_history10, gru_history10, rnn_history10, lstm_history10, "CNN", "GRU", "RNN", "LSTM", "General Model")





mavg_cnn_history10 = load_history(epochs, "mavg_cnn")
mavg_gru_history10 = load_history(epochs, "mavg_gru")
mavg_rnn_history10 = load_history(epochs, "mavg_rnn")
mavg_lstm_history10 = load_history(epochs, "mavg_lstm")

plot4(mavg_cnn_history10, mavg_gru_history10, mavg_rnn_history10, mavg_lstm_history10, "CNN", "GRU", "RNN", "LSTM", "Moving Average")





auto_cnn_history10 = load_history(epochs, "auto_cnn")
auto_gru_history10 = load_history(epochs, "auto_gru")
auto_rnn_history10 = load_history(epochs, "auto_rnn")
auto_lstm_history10 = load_history(epochs, "auto_lstm")

plot4(auto_cnn_history10, auto_gru_history10, auto_rnn_history10, auto_lstm_history10, "CNN", "GRU", "RNN", "LSTM", "Auto Encoder")





mavg_auto_cnn_history10 = load_history(epochs, "mavg_auto_cnn")
mavg_auto_gru_history10 = load_history(epochs, "mavg_auto_gru")
mavg_auto_rnn_history10 = load_history(epochs, "mavg_auto_rnn")
mavg_auto_lstm_history10 = load_history(epochs, "mavg_auto_lstm")

plot4(mavg_auto_cnn_history10, mavg_auto_gru_history10, mavg_auto_rnn_history10, mavg_auto_lstm_history10, "CNN", "GRU", "RNN", "LSTM", "Moving Average with Auto Encoder")








hybrid_cnn_lstm_history10 = load_history(epochs, "hybrid_cnn_lstm")
hybrid_rnn_lstm_history10 = load_history(epochs, "hybrid_rnn_lstm")
hybrid_rnn_gru_history10 = load_history(epochs, "hybrid_rnn_gru")
hybrid_cnn_gru_history10 = load_history(epochs, "hybrid_cnn_gru")
hybrid_cnn_rnn_gru_history10 = load_history(epochs, "hybrid_cnn_rnn_gru")
hybrid_lstm_rnn_gru_history10 = load_history(epochs, "hybrid_lstm_rnn_gru")

plot6(hybrid_cnn_lstm_history10, hybrid_rnn_lstm_history10, hybrid_rnn_gru_history10, hybrid_cnn_gru_history10,
      hybrid_cnn_rnn_gru_history10, hybrid_lstm_rnn_gru_history10, "CNN LSTM", "RNN LSTM", "RNN GRU", "CNN GRU", "CNN RNN GRU","LSTM RNN GRU", "Hybrid")





mavg_hybrid_cnn_lstm_history10 = load_history(epochs, "mavg_hybrid_cnn_lstm")
mavg_hybrid_rnn_lstm_history10 = load_history(epochs, "mavg_hybrid_rnn_lstm")
mavg_hybrid_rnn_gru_history10 = load_history(epochs, "mavg_hybrid_rnn_gru")
mavg_hybrid_cnn_gru_history10 = load_history(epochs, "mavg_hybrid_cnn_gru")
mavg_hybrid_cnn_rnn_gru_history10 = load_history(epochs, "mavg_hybrid_cnn_rnn_gru")
mavg_hybrid_lstm_rnn_gru_history10 = load_history(epochs, "mavg_hybrid_lstm_rnn_gru")

plot6(mavg_hybrid_cnn_lstm_history10, mavg_hybrid_rnn_lstm_history10, mavg_hybrid_rnn_gru_history10, mavg_hybrid_cnn_gru_history10,
      mavg_hybrid_cnn_rnn_gru_history10, mavg_hybrid_lstm_rnn_gru_history10, "CNN LSTM", "RNN LSTM", "RNN GRU", "CNN GRU", "CNN RNN GRU","LSTM RNN GRU", "Moving Average Hybrid")


plot28(epochs)





epochs = 100





cnn_history10 = load_history(epochs, "cnn")
gru_history10 = load_history(epochs, "gru")
rnn_history10 = load_history(epochs, "rnn")
lstm_history10 = load_history(epochs, "lstm")

plot4(cnn_history10, gru_history10, rnn_history10, lstm_history10, "CNN", "GRU", "RNN", "LSTM", "General Model")





mavg_cnn_history10 = load_history(epochs, "mavg_cnn")
mavg_gru_history10 = load_history(epochs, "mavg_gru")
mavg_rnn_history10 = load_history(epochs, "mavg_rnn")
mavg_lstm_history10 = load_history(epochs, "mavg_lstm")

plot4(mavg_cnn_history10, mavg_gru_history10, mavg_rnn_history10, mavg_lstm_history10, "CNN", "GRU", "RNN", "LSTM", "Moving Average")





auto_cnn_history10 = load_history(epochs, "auto_cnn")
auto_gru_history10 = load_history(epochs, "auto_gru")
auto_rnn_history10 = load_history(epochs, "auto_rnn")
auto_lstm_history10 = load_history(epochs, "auto_lstm")

plot4(auto_cnn_history10, auto_gru_history10, auto_rnn_history10, auto_lstm_history10, "CNN", "GRU", "RNN", "LSTM", "Auto Encoder")





mavg_auto_cnn_history10 = load_history(epochs, "mavg_auto_cnn")
mavg_auto_gru_history10 = load_history(epochs, "mavg_auto_gru")
mavg_auto_rnn_history10 = load_history(epochs, "mavg_auto_rnn")
mavg_auto_lstm_history10 = load_history(epochs, "mavg_auto_lstm")

plot4(mavg_auto_cnn_history10, mavg_auto_gru_history10, mavg_auto_rnn_history10, mavg_auto_lstm_history10, "CNN", "GRU", "RNN", "LSTM", "Moving Average with Auto Encoder")








hybrid_cnn_lstm_history10 = load_history(epochs, "hybrid_cnn_lstm")
hybrid_rnn_lstm_history10 = load_history(epochs, "hybrid_rnn_lstm")
hybrid_rnn_gru_history10 = load_history(epochs, "hybrid_rnn_gru")
hybrid_cnn_gru_history10 = load_history(epochs, "hybrid_cnn_gru")
hybrid_cnn_rnn_gru_history10 = load_history(epochs, "hybrid_cnn_rnn_gru")
hybrid_lstm_rnn_gru_history10 = load_history(epochs, "hybrid_lstm_rnn_gru")

plot6(hybrid_cnn_lstm_history10, hybrid_rnn_lstm_history10, hybrid_rnn_gru_history10, hybrid_cnn_gru_history10,
      hybrid_cnn_rnn_gru_history10, hybrid_lstm_rnn_gru_history10, "CNN LSTM", "RNN LSTM", "RNN GRU", "CNN GRU", "CNN RNN GRU","LSTM RNN GRU", "Hybrid")





mavg_hybrid_cnn_lstm_history10 = load_history(epochs, "mavg_hybrid_cnn_lstm")
mavg_hybrid_rnn_lstm_history10 = load_history(epochs, "mavg_hybrid_rnn_lstm")
mavg_hybrid_rnn_gru_history10 = load_history(epochs, "mavg_hybrid_rnn_gru")
mavg_hybrid_cnn_gru_history10 = load_history(epochs, "mavg_hybrid_cnn_gru")
mavg_hybrid_cnn_rnn_gru_history10 = load_history(epochs, "mavg_hybrid_cnn_rnn_gru")
mavg_hybrid_lstm_rnn_gru_history10 = load_history(epochs, "mavg_hybrid_lstm_rnn_gru")

plot6(mavg_hybrid_cnn_lstm_history10, mavg_hybrid_rnn_lstm_history10, mavg_hybrid_rnn_gru_history10, mavg_hybrid_cnn_gru_history10,
      mavg_hybrid_cnn_rnn_gru_history10, mavg_hybrid_lstm_rnn_gru_history10, "CNN LSTM", "RNN LSTM", "RNN GRU", "CNN GRU", "CNN RNN GRU","LSTM RNN GRU", "Moving Average Hybrid")


plot28(epochs)






