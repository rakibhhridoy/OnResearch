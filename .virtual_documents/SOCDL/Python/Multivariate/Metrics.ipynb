import pandas as pd
import numpy as np
import matplotlib.pyplot as plt
import seaborn as sns





epochs = 50


soc = pd.read_csv(f"SOC/epochs{epochs}/metricsT.csv", index_col= False)


soc


def convert_series_to_range(series):
    series_min = np.min(series)
    series_max = np.max(series)
    new_min = -1
    new_max = 1
    converted_series = [(2 * (value - series_min) / (series_max - series_min)) - 1 for value in series]
    return converted_series

conv_r2 = convert_series_to_range(soc.R2)
soc["R2"] = conv_r2


doA = soc.copy()


loc1 = ["S1" for _ in range (0,28)]


loc = []
loc.extend(loc1)

model_cat = []
model_cat.extend(doA["Model Category"])

model = []
model.extend(doA["Model"])

mse = []
mse.extend(doA.NSE)

rmse = []
rmse.extend(doA.RMSE)

mae = []
mae.extend(doA.MAE)

r2 = []
r2.extend(doA.R2)

data = pd.DataFrame({
    "Location" : loc,
    "Model Category": model_cat,
    "Model": model,
    "MSE": mse,
    "RMSE": rmse,
    "MAE": mae,
    "R2": r2
})


data


mse = data.MSE
mae = data.MAE
r2 = data.R2
rmse = data.RMSE







l_mse = ["MSE" for _ in range(0,28)]

msedf = pd.DataFrame({
    "Location": data.Location,
    "Metrics": l_mse,
    "Model Category": data["Model Category"],
    "Model": data.Model,
    "y": mse
})


l_mae = ["MAE" for _ in range(0,28)]

maedf = pd.DataFrame({
    "Location": data.Location,
    "Metrics": l_mae,
    "Model Category": data["Model Category"],
    "Model": data.Model,
    "y": mae
})


l_rmse = ["RMSE" for _ in range(0,28)]

rmsedf = pd.DataFrame({
    "Location": data.Location,
    "Metrics": l_rmse,
    "Model Category": data["Model Category"],
    "Model": data.Model,
    "y": rmse
})


l_r2 = ["R2" for _ in range(0,28)]

r2df = pd.DataFrame({
    "Location": data.Location,
    "Metrics": l_r2,
    "Model Category": data["Model Category"],
    "Model": data.Model,
    "y": r2
})


msedf


metrics = pd.concat([msedf, rmsedf, maedf, r2df], axis=0)


metrics


metrics["Model"] = metrics["Model"].replace("LSTM RNN GRU", "RNN LSTM GRU")


metrics.reset_index(inplace=True)
metrics.drop(columns= "index")


metrics.to_csv("DOmetrics.csv", index=False)





bodA = pd.read_csv('BODA/epochs50/metricsT.csv', index_col= False)
bodB = pd.read_csv('BODB/epochs50/metricsT.csv', index_col= False)
bodC = pd.read_csv('BODC/epochs50/metricsT.csv', index_col= False)
bodD = pd.read_csv('BODD/epochs50/metricsT.csv', index_col= False)


bodA.head()


conv_r2 = convert_series_to_range(bodA.R2)
bodA["R2"] = conv_r2
conv_r2 = convert_series_to_range(bodB.R2)
bodB["R2"] = conv_r2
conv_r2 = convert_series_to_range(bodC.R2)
bodC["R2"] = conv_r2
conv_r2 = convert_series_to_range(bodD.R2)
bodD["R2"] = conv_r2


loc1 = ["S1" for _ in range (0,28)]
loc2 = ["S2" for _ in range (0,28)]
loc3 = ["S3" for _ in range (0,28)]
loc4 = ["S4" for _ in range (0,28)]


loc = []
loc.extend(loc1)
loc.extend(loc2)
loc.extend(loc3)
loc.extend(loc4)

model_cat = []
model_cat.extend(bodA["Model Category"])
model_cat.extend(bodB["Model Category"])
model_cat.extend(bodC["Model Category"])
model_cat.extend(bodD["Model Category"])

model = []
model.extend(bodA["Model"])
model.extend(bodB["Model"])
model.extend(bodC["Model"])
model.extend(bodD["Model"])


mse = []
mse.extend(bodA.MSE)
mse.extend(bodB.MSE)
mse.extend(bodC.MSE)
mse.extend(bodD.MSE)

rmse = []
rmse.extend(bodA.RMSE)
rmse.extend(bodB.RMSE)
rmse.extend(bodC.RMSE)
rmse.extend(bodD.RMSE)

mae = []
mae.extend(bodA.MAE)
mae.extend(bodB.MAE)
mae.extend(bodC.MAE)
mae.extend(bodD.MAE)

r2 = []
r2.extend(bodA.R2)
r2.extend(bodB.R2)
r2.extend(bodC.R2)
r2.extend(bodD.R2)


data = pd.DataFrame({
    "Location" : loc,
    "Model Category": model_cat,
    "Model": model,
    "MSE": mse,
    "RMSE": rmse,
    "MAE": mae,
    "R2": r2
})


data


mse = data.MSE
mae = data.MAE
r2 = data.R2
rmse = data.RMSE


l_mse = ["MSE" for _ in range(0,112)]

msedf = pd.DataFrame({
    "Location": data.Location,
    "Metrics": l_mse,
    "Model Category": data["Model Category"],
    "Model": data.Model,
    "y": mse
})


l_mae = ["MAE" for _ in range(0,112)]

maedf = pd.DataFrame({
    "Location": data.Location,
    "Metrics": l_mae,
    "Model Category": data["Model Category"],
    "Model": data.Model,
    "y": mae
})


l_rmse = ["RMSE" for _ in range(0,112)]

rmsedf = pd.DataFrame({
    "Location": data.Location,
    "Metrics": l_rmse,
    "Model Category": data["Model Category"],
    "Model": data.Model,
    "y": rmse
})


l_r2 = ["R2" for _ in range(0,112)]

r2df = pd.DataFrame({
    "Location": data.Location,
    "Metrics": l_r2,
    "Model Category": data["Model Category"],
    "Model": data.Model,
    "y": r2
})


bodD.tail()


msedf


metrics = pd.concat([msedf, rmsedf, maedf, r2df], axis=0)


metrics


metrics["Model"] = metrics["Model"].replace("LSTM RNN GRU", "RNN LSTM GRU")


metrics.reset_index(inplace=True)
metrics.drop(columns= "index")


metrics.to_csv("BODmetrics.csv", index=False)





do = pd.read_csv("DOmetrics.csv", index_col= False)
bod = pd.read_csv("BODmetrics.csv", index_col= False)


i = 112
mse = do[:i]
rmse = do[i:2*i]
mae = do[2*i:3*i]
r2 = do[i*3:]


mse.to_csv("DOMSE.csv", index=False)
rmse.to_csv("DORMSE.csv", index=False)
mae.to_csv("DOMAE.csv", index=False)
r2.to_csv("DOR2.csv", index=False)


i = 112
mse = bod[:i]
rmse = bod[i:2*i]
mae = bod[2*i:3*i]
r2 = bod[i*3:]


mse.to_csv("BODMSE.csv", index=False)
rmse.to_csv("BODRMSE.csv", index=False)
mae.to_csv("BODMAE.csv", index=False)
r2.to_csv("BODR2.csv", index=False)


do[i*3:]


do.drop(columns="index", inplace=True)
bod.drop(columns="index", inplace=True)


do.head()


mse["Model Category"].unique()


do["Model"].unique()


cnn_g = do[(do['Model Category'] == 'General') & (do['Model'] == "CNN")]
cnn_ma = do[(do['Model Category'] == 'MA') & (do['Model'] == "CNN")]
cnn_dreg = do[(do['Model Category'] == 'DReg') & (do['Model'] == "CNN")]

rnn_g = do[(do['Model Category'] == 'General') & (do['Model'] == "RNN")]
rnn_ma = do[(do['Model Category'] == 'MA') & (do['Model'] == "RNN")]
rnn_dreg = do[(do['Model Category'] == 'DReg') & (do['Model'] == "RNN")]

gru_g = do[(do['Model Category'] == 'General') & (do['Model'] == "GRU")]
gru_ma = do[(do['Model Category'] == 'MA') & (do['Model'] == "GRU")]
gru_dreg = do[(do['Model Category'] == 'DReg') & (do['Model'] == "GRU")]


lstm_g = do[(do['Model Category'] == 'General') & (do['Model'] == "LSTM")]
lstm_ma = do[(do['Model Category'] == 'MA') & (do['Model'] == "LSTM")]
lstm_dreg = do[(do['Model Category'] == 'DReg') & (do['Model'] == "LSTM")]


cnn_lstm = do[(do['Model Category'] == 'HY') & (do['Model'] == "CNN LSTM")]
cnn_lstm_ma = do[(do['Model Category'] == 'MA HY') & (do['Model'] == "CNN LSTM")]

lstm_rnn_gru = do[(do['Model Category'] == 'HY') & (do['Model'] == "LSTM RNN GRU")]
lstm_rnn_gru_ma = do[(do['Model Category'] == 'MA HY') & (do['Model'] == "LSTM RNN GRU")]

cnn_rnn_gru = do[(do['Model Category'] == 'HY') & (do['Model'] == "CNN RNN GRU")]
cnn_rnn_gru_ma = do[(do['Model Category'] == 'MA HY') & (do['Model'] == "CNN RNN GRU")]

cnn_gru = do[(do['Model Category'] == 'HY') & (do['Model'] == "CNN GRU")]
cnn_gru_ma = do[(do['Model Category'] == 'MA HY') & (do['Model'] == "CNN GRU")]

rnn_gru = do[(do['Model Category'] == 'HY') & (do['Model'] == "RNN GRU")]
rnn_gru_ma = do[(do['Model Category'] == 'MA HY') & (do['Model'] == "RNN GRU")]

rnn_lstm = do[(do['Model Category'] == 'HY') & (do['Model'] == "RNN LSTM")]
rnn_lstm_ma = do[(do['Model Category'] == 'MA HY') & (do['Model'] == "RNN LSTM")]


cnn_g = cnn_g.groupby(["Metrics"]).mean()
cnn_ma = cnn_ma.groupby(["Metrics"]).mean()
cnn_dreg = cnn_dreg.groupby(["Metrics"]).mean()

cnn_g = cnn_g.groupby(["Metrics"]).mean()
cnn_ma = cnn_ma.groupby(["Metrics"]).mean()
cnn_dreg = cnn_dreg.groupby(["Metrics"]).mean()
