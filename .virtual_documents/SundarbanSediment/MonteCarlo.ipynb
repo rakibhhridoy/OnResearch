import pandas as pd
import numpy as np
import matplotlib.pyplot as plt


df = pd.read_csv("data/ER_Aquatic Sediment.xlsx - ER.csv", index_col= False)
df.head()


df.describe()


df.columns


dt = df[['Mn', 'Fe', 'Co', 'Cu', 'Zn', 'As', 'Pb']]
dt.head()


dt.describe()


np.random.seed(0)
num_samples = 10000  
metals = {
    'Mn': {'mean': dt.Mn.mean() , 'std_dev': dt.Mn.std()},
    'Fe': {'mean': dt.Fe.mean() , 'std_dev': dt.Fe.std()},
    'Cu': {'mean': dt.Cu.mean() , 'std_dev': dt.Cu.std()},
    'Zn': {'mean': dt.Zn.mean() , 'std_dev': dt.Zn.std()},
    'As': {'mean': dt.As.mean() , 'std_dev': dt.As.std()},
    'Pb': {'mean': dt.Pb.mean() , 'std_dev': dt.Pb.std()},
}

data = {}
for metal, params in metals.items():
    data[metal] = np.random.normal(params['mean'], params['std_dev'], num_samples)

df = pd.DataFrame(data)
df.describe()


df["RI"] = df.sum(axis=1)
df.head()


df.to_csv("data/MonteDataER.csv", index=False)


stats = df.describe()
print("Statistical Summary:")
print(stats)

fig, axes = plt.subplots(1, 6, figsize=(15, 5))
for i, metal in enumerate(metals.keys()):
    axes[i].hist(df[metal], bins=50, density=True, alpha=0.6)
    axes[i].set_title(f'{metal} Concentration')
    axes[i].set_xlabel('Concentration')
    axes[i].set_ylabel('Density')

plt.tight_layout()
plt.show()


data = {}
for metal, params in metals.items():
    mean_log = np.log(params['mean']**2 / np.sqrt(params['std_dev']**2 + params['mean']**2))
    sigma_log = np.sqrt(np.log(1 + (params['std_dev']**2 / params['mean']**2)))
    data[metal] = np.random.lognormal(mean_log, sigma_log, num_samples)

log_df = pd.DataFrame(data)
log_df.head()


log_df["RI"] = log_df.sum(axis=1)
log_df.head()


log_df.to_csv("data/MonteLogER.csv", index= False)


norm_legend = ["Normal" for _ in range(0,10000)]
log_legend = ["Log Normal" for _ in range(0,10000)]


len(norm_legend)


df["Legend"] = norm_legend
log_df["Legend"] = log_legend


df.head(), df.tail()


norm_log = pd.concat([df, log_df])
norm_log.head()


norm_log.tail()


norm_log.describe()


norm_log.to_csv("data/MonteNormlog.csv", index=False)





for metal in metals.keys():
    log_df[f'{metal}'] = (log_df[f'{metal}'] / log_df["RI"]) * 100
log_df.head()


percent = log_df[["Mn","Fe","Cu","Zn","As","Pb"]]
percent.describe()


percent.head()


percent_sum = percent.mean(axis=0)
percent_sum.head()


sens = pd.DataFrame({
    "Metals" : percent_sum.index,
    "Values": percent_sum.values
})
sens.head()


sens.to_csv("data/MonteSensitivity.csv")


percent_melt = percent.melt(value_name= "values")
percent_melt.head(10001)


percent_melt.to_csv("data/MontePercent.csv", index=False)



