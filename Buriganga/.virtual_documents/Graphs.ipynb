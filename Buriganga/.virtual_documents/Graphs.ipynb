import pandas as pd
import matplotlib.pyplot as plt


df = pd.read_csv("data/summer_data_all_param.csv")


df.head()


df.columns


df.drop(columns= "Unnamed: 0", inplace=True)


df


samplingpoint = df.SamplingPoint


df.drop(columns="SamplingPoint", inplace=True)


from sklearn.preprocessing import normalize
data_scaled = normalize(df)
data_scaled = pd.DataFrame(data_scaled, columns=df.columns)
data_scaled.head()


import scipy.cluster.hierarchy as shc
plt.figure(figsize=(10, 7))  
plt.title("Dendrograms")  
dend = shc.dendrogram(shc.linkage(data_scaled, method='ward'))


plt.figure(figsize=(10, 7))  
plt.title("Dendrograms")  
dend = shc.dendrogram(shc.linkage(data_scaled, method='ward'))
plt.axhline(y=.38, color='r', linestyle='--')


import numpy as np


plt.figure(figsize=(10, 7))  
plt.title("Dendrograms")  
dend = shc.dendrogram(shc.linkage(data_scaled, method='ward'))
plt.axhline(y=.38, color='r', linestyle='--')


import scipy.cluster.hierarchy as shc
from sklearn.preprocessing import normalize
import pandas as pd
import matplotlib.pyplot as plt



df = pd.read_csv("data/summer_data_all_param.csv")
df.drop(columns= ["Unnamed: 0", "SamplingPoint"], inplace=True)
data_scaled = normalize(df)
data_scaled = pd.DataFrame(data_scaled, columns=df.columns)

plt.figure(figsize=(10, 7))  
plt.title("Rescaled Distance Cluster Combined")

dend = shc.dendrogram(shc.linkage(data_scaled, method='ward'))
plt.axhline(y=.38, color='r', linestyle='--')
plt.show()


import seaborn as sns


sns.clustermap(data_scaled)


sns.clustermap(data_scaled, method= "ward", cmap="rocket")


sns.clustermap(data_scaled, method= "ward", cmap="YlOrBr")


sns.clustermap(data_scaled, method= "ward", cmap="magma")


cols = df.columns
cols


new_cols = ['Temperature', 'pH', 'EC', 'TSS', 'Turbidity', 'Salinity', 'TDS', 'DO',
       'COD', 'Ammonium', 'Nitrate', 'Phosphate', 'Sulfates', 'Potassium', 'Calcium', 'Magnesium', 'Chloride',
       'Bromine', 'Cadmium', 'Chromium', 'Nickel', 'Copper', 'Zinc', 'Manganese', 'Mercury', 'Arsenic', 'Lead', 'THB', 'TC',
       'FC', 'FS', 'Vibrio C', 'E Coli']


df.columns = new_cols
df.head()





summer = pd.read_csv("data/summer_data_all_param.csv")
winter = pd.read_csv("data/winter_data_all_param.csv")


summer.drop(columns=["Unnamed: 0", "SamplingPoint"], inplace=True)
winter.drop(columns=["Unnamed: 0", "SamplingPoint"], inplace=True)


summer.columns


summer.columns = new_cols
winter.columns = new_cols


summer.columns


summer.to_csv("data/all_param_full_form_summer.csv")
winter.to_csv("data/all_param_full_form_winter.csv")


average = (summer + winter) / 2


average


(summer["Temperature"] + winter["Temperature"])/2


(summer["TDS"] + winter["TDS"])/2


average.to_csv("data/summer_winter_average.csv")


data_scaled = normalize(average)
data_scaled = pd.DataFrame(data_scaled, columns=average.columns)

sns.clustermap(data_scaled, method= "ward", cmap="magma")


import scipy.cluster.hierarchy as shc
from sklearn.preprocessing import normalize
import pandas as pd
import matplotlib.pyplot as plt
import seaborn as sns


df = pd.read_csv("data/summer_winter_average.csv")
df.drop(columns="Unnamed: 0", inplace=True)
data_scaled = normalize(df)
data_scaled = pd.DataFrame(data_scaled, columns=df.columns)

sns.clustermap(data_scaled, method= "ward", cmap="magma")
plt.show()


import scipy.cluster.hierarchy as shc
from sklearn.preprocessing import normalize
import pandas as pd
import matplotlib.pyplot as plt
import seaborn as sns


df = pd.read_csv("data/summer_winter_average.csv")
data_scaled = normalize(df)
data_scaled = pd.DataFrame(data_scaled, columns=df.columns)



sns.clustermap(data_scaled, method= "ward", cmap="YlOrBr")
plt.show()


import scipy.cluster.hierarchy as shc
from sklearn.preprocessing import normalize
import pandas as pd
import matplotlib.pyplot as plt
import seaborn as sns


df = pd.read_csv("data/summer_winter_average.csv")
df.drop(columns="Unnamed: 0", inplace=True)
data_scaled = normalize(df)
data_scaled = pd.DataFrame(data_scaled, columns=df.columns)



sns.clustermap(data_scaled, method= "ward", cmap="flare")
plt.show()


import scipy.cluster.hierarchy as shc
from sklearn.preprocessing import normalize
import pandas as pd
import matplotlib.pyplot as plt
import seaborn as sns


df = pd.read_csv("data/summer_winter_average.csv")
df.drop(columns="Unnamed: 0", inplace=True)
data_scaled = normalize(df)
data_scaled = pd.DataFrame(data_scaled, columns=df.columns)



sns.clustermap(data_scaled, method= "ward", cmap="crest")
plt.show()


import scipy.cluster.hierarchy as shc
from sklearn.preprocessing import normalize
import pandas as pd
import matplotlib.pyplot as plt
import seaborn as sns


df = pd.read_csv("data/summer_winter_average.csv")
df.drop(columns="Unnamed: 0", inplace=True)
data_scaled = normalize(df)
data_scaled = pd.DataFrame(data_scaled, columns=df.columns)



sns.clustermap(data_scaled, method= "ward", cmap="viridis")
plt.show()


import scipy.cluster.hierarchy as shc
from sklearn.preprocessing import normalize
import pandas as pd
import matplotlib.pyplot as plt
import seaborn as sns


df = pd.read_csv("data/summer_winter_average.csv")
df.drop(columns="Unnamed: 0", inplace=True)
data_scaled = normalize(df)
data_scaled = pd.DataFrame(data_scaled, columns=df.columns)



sns.clustermap(data_scaled, method= "ward", cmap="rocket_r")
plt.show()


df


new_cols


import scipy.cluster.hierarchy as shc
from sklearn.preprocessing import normalize
import pandas as pd
import matplotlib.pyplot as plt
import seaborn as sns


new_cols = ['Temperature',
 'pH',
 'EC',
 'TSS',
 'Turbidity',
 'Salinity',
 'TDS',
 'DO',
 'COD',
 'Ammonium',
 'Nitrate',
 'Phosphate',
 'Sulfates',
 'Potassium',
 'Calcium',
 'Magnesium',
 'Chloride',
 'Bromine',
 'Cadmium',
 'Chromium',
 'Nickel',
 'Copper',
 'Zinc',
 'Manganese',
 'Mercury',
 'Arsenic',
 'Lead',
 'THB',
 'TC',
 'FC',
 'FS',
 'Vibrio C',
 'E Coli']

df = pd.read_csv("data/winter_data_all_param.csv")
df.drop(columns=["Unnamed: 0", "SamplingPoint"], inplace=True)
df.columns = new_cols
data_scaled = normalize(df)
data_scaled = pd.DataFrame(data_scaled, columns=df.columns)



sns.clustermap(data_scaled, method= "ward", cmap="viridis")
plt.show()





import scipy.cluster.hierarchy as shc
from sklearn.preprocessing import normalize
import pandas as pd
import matplotlib.pyplot as plt
import seaborn as sns


df = pd.read_csv("data/summer_winter_average.csv")
df.drop(columns="Unnamed: 0", inplace=True)
data_scaled = normalize(df)
data_scaled = pd.DataFrame(data_scaled, columns=df.columns)



sns.clustermap(data_scaled, method= "ward", cmap="viridis")
plt.show()





import scipy.cluster.hierarchy as shc
from sklearn.preprocessing import normalize
import pandas as pd
import matplotlib.pyplot as plt
import seaborn as sns

new_cols = ['Temperature',
 'pH',
 'EC',
 'TSS',
 'Turbidity',
 'Salinity',
 'TDS',
 'DO',
 'COD',
 'Ammonium',
 'Nitrate',
 'Phosphate',
 'Sulfates',
 'Potassium',
 'Calcium',
 'Magnesium',
 'Chloride',
 'Bromine',
 'Cadmium',
 'Chromium',
 'Nickel',
 'Copper',
 'Zinc',
 'Manganese',
 'Mercury',
 'Arsenic',
 'Lead',
 'THB',
 'TC',
 'FC',
 'FS',
 'Vibrio C',
 'E Coli']

df = pd.read_csv("data/winter_data_all_param.csv")
df.drop(columns=["Unnamed: 0", "SamplingPoint"], inplace=True)
df.columns = new_cols
data_scaled = normalize(df)
data_scaled = pd.DataFrame(data_scaled, columns=df.columns)

sns.clustermap(data_scaled, method= "ward", cmap="rocket_r",tree_kws=dict(linewidths=1.5, colors=(0.2, 0.2, 0.4)))
plt.show()


g = sns.clustermap(data_scaled, method="ward", cmap = "viridis", tree_kws=dict(linewidths=1.5, colors=(0.2, 0.2, 0.4)))
g.ax_heatmap.set_xticklabels(g.ax_heatmap.get_xmajorticklabels(), fontsize = 16)
g.ax_heatmap.set_yticklabels(g.ax_heatmap.get_ymajorticklabels(), fontsize = 16)






