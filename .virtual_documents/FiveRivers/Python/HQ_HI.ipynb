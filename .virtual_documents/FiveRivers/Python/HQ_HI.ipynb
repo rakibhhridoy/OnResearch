import pandas as pd


%ls data


child_param = {
    "BW": 15,
    "EF":180,
    "ED": 6,
    "IRing": 200,
    "IRinh": 7.6,
    "SA": 1150,
    "SL": 0.2,
    "ABS": [0.001, 0.03],
    "PEF": 1.36e+09,
    "CF": 1.00e-06,
    "AT_carc": 365*70,
    "AT_non": 365 * 6,
    "RfDing": {
        "Cr": 3.00e-03,
        "Ni": 2.00e-02,
        "Cu": 4.00e-02,
        "Cd": 1.00e-03,
        "As": 3.00e-04,
        "Pb": 3.50e-03
    },
    "RfDinh": {
        "Cr": 2.86e-03,
        "Ni": 2.06e-02,
        "Cu": 4.02e-02,
        "Cd": 1.00e-03,
        "As": 3.01e-04,
        "Pb": 3.52e-03
    },
    "RfDderm": {
        "Cr": 6.00e-05,
        "Ni": 5.40e-03,
        "Cu": 1.20e-02,
        "Cd": 1.00e-05,
        "As": 1.25e-04,
        "Pb": 5.25e-04
    },
    "SFing": {
        "Pb": 8.50e-03,
        "As": 1.50e+00,
        "Cr": 0.50,
        "Cd": 0.38
    },
    
    "SFinh": {
        "Cr": 4.20e+01,
        "Pb": 4.20e-02,
        "Cd": 6.30e+00,
        "As": 1.51e+01
    },
    
    "SFderm": {
        "Cr": 2.00e+01,
        "As": 3.66e+00,
        "Cd": 0.38,
        "Pb": 8.50e-03
    }
}




adult_param = {
    "BW": 70,
    "EF":180,
    "ED": 30,
    "IRing": 100,
    "IRinh": 20,
    "SA": 2145,
    "SL": 0.07,
    "ABS": 0.001,
    "PEF": 1.36e+09,
    "CF": 1.00e-06,
    "AT_carc": 365*70,
    "AT_non": 365 * 30,
    "RfDing": {
        "Cr": 3.00e-03,
        "Ni": 2.00e-02,
        "Cu": 4.00e-02,
        "Cd": 1.00e-03,
        "As": 3.00e-04,
        "Pb": 3.50e-03
    },
    "RfDinh": {
        "Cr": 2.86e-03,
        "Ni": 2.06e-02,
        "Cu": 4.02e-02,
        "Cd": 1.00e-03,
        "As": 3.01e-04,
        "Pb": 3.52e-03
    },
    "RfDderm": {
        "Cr": 6.00e-05,
        "Ni": 5.40e-03,
        "Cu": 1.20e-02,
        "Cd": 1.00e-05,
        "As": 1.25e-04,
        "Pb": 5.25e-04
    },
    "SFing": {
        "Pb": 8.50e-03,
        "As": 1.50e+00,
        "Cr": 0.50,
        "Cd": 0.38
    },
    
    "SFinh": {
        "Cr": 4.20e+01,
        "Pb": 4.20e-02,
        "Cd": 6.30e+00,
        "As": 1.51e+01
    },
    
    "SFderm": {
        "Cr": 2.00e+01,
        "As": 3.66e+00,
        "Cd": 0.38,
        "Pb": 8.50e-03
    }
}


df = pd.read_csv("data/data.csv")
stations = pd.read_csv("data/stations.csv")
df["Station"], df["Location"], df["ID"]  = stations["Stations"], stations["Location"], stations["Station_Code"]
df = df.drop(columns=["Stations"])
df


df.shape


def hq_non_child(ds):
    
    #ingestion
    add_upper_ingCrW = ds["CrW"] * child_param["IRing"] * child_param["CF"] * child_param["EF"] * child_param["ED"]
    ADDingCrW = add_upper_ingCrW /  (child_param["BW"] * child_param["AT_non"])

    add_upper_ingNiW = ds["NiW"] * child_param["IRing"] * child_param["CF"] * child_param["EF"] * child_param["ED"]
    ADDingNiW = add_upper_ingNiW /  (child_param["BW"] * child_param["AT_non"])

    add_upper_ingCuW = ds["CuW"] * child_param["IRing"] * child_param["CF"] * child_param["EF"] * child_param["ED"]
    ADDingCuW = add_upper_ingCuW /  (child_param["BW"] * child_param["AT_non"])

    add_upper_ingAsW = ds["AsW"] * child_param["IRing"] * child_param["CF"] * child_param["EF"] * child_param["ED"]
    ADDingAsW = add_upper_ingAsW /  (child_param["BW"] * child_param["AT_non"])

    add_upper_ingCdW = ds["CdW"] * child_param["IRing"] * child_param["CF"] * child_param["EF"] * child_param["ED"]
    ADDingCdW = add_upper_ingCdW /  (child_param["BW"] * child_param["AT_non"])

    add_upper_ingPbW = ds["PbW"] * child_param["IRing"] * child_param["CF"] * child_param["EF"] * child_param["ED"]
    ADDingPbW = add_upper_ingPbW /  (child_param["BW"] * child_param["AT_non"])

    
    
    add_upper_ingCrR = ds["CrR"] * child_param["IRing"] * child_param["CF"] * child_param["EF"] * child_param["ED"]
    ADDingCrR = add_upper_ingCrR /  (child_param["BW"] * child_param["AT_non"])

    add_upper_ingNiR = ds["NiR"] * child_param["IRing"] * child_param["CF"] * child_param["EF"] * child_param["ED"]
    ADDingNiR = add_upper_ingNiR /  (child_param["BW"] * child_param["AT_non"])

    add_upper_ingCuR = ds["CuR"] * child_param["IRing"] * child_param["CF"] * child_param["EF"] * child_param["ED"]
    ADDingCuR = add_upper_ingCuR /  (child_param["BW"] * child_param["AT_non"])

    add_upper_ingAsR = ds["AsR"] * child_param["IRing"] * child_param["CF"] * child_param["EF"] * child_param["ED"]
    ADDingAsR = add_upper_ingAsR /  (child_param["BW"] * child_param["AT_non"])

    add_upper_ingCdR = ds["CdR"] * child_param["IRing"] * child_param["CF"] * child_param["EF"] * child_param["ED"]
    ADDingCdR = add_upper_ingCdR /  (child_param["BW"] * child_param["AT_non"])

    add_upper_ingPbR = ds["PbR"] * child_param["IRing"] * child_param["CF"] * child_param["EF"] * child_param["ED"]
    ADDingPbR = add_upper_ingPbR /  (child_param["BW"] * child_param["AT_non"])
    
    
    #inhalation
    add_upper_inhCrW = ds["CrW"] * child_param["IRinh"]  * child_param["EF"] * child_param["ED"]
    ADDinhCrW = add_upper_inhCrW /  (child_param["PEF"] * child_param["BW"] * child_param["AT_non"])

    add_upper_inhNiW = ds["NiW"] * child_param["IRinh"]  * child_param["EF"] * child_param["ED"]
    ADDinhNiW = add_upper_inhNiW /  (child_param["PEF"] * child_param["BW"] * child_param["AT_non"])

    add_upper_inhCuW = ds["CuW"] * child_param["IRinh"]  * child_param["EF"] * child_param["ED"]
    ADDinhCuW = add_upper_inhCuW /  (child_param["PEF"] * child_param["BW"] * child_param["AT_non"])

    add_upper_inhAsW = ds["AsW"] * child_param["IRinh"]  * child_param["EF"] * child_param["ED"]
    ADDinhAsW = add_upper_inhAsW /  (child_param["PEF"] * child_param["BW"] * child_param["AT_non"])

    add_upper_inhCdW = ds["CdW"] * child_param["IRinh"]  * child_param["EF"] * child_param["ED"]
    ADDinhCdW = add_upper_inhCdW /  (child_param["PEF"] * child_param["BW"] * child_param["AT_non"])

    add_upper_inhPbW = ds["PbW"] * child_param["IRinh"]  * child_param["EF"] * child_param["ED"]
    ADDinhPbW = add_upper_inhPbW /  (child_param["PEF"] * child_param["BW"] * child_param["AT_non"])
    
    

    add_upper_inhCrR = ds["CrR"] * child_param["IRinh"]  * child_param["EF"] * child_param["ED"]
    ADDinhCrR = add_upper_inhCrR /  (child_param["PEF"] * child_param["BW"] * child_param["AT_non"])

    add_upper_inhNiR = ds["NiR"] * child_param["IRinh"]  * child_param["EF"] * child_param["ED"]
    ADDinhNiR = add_upper_inhNiR /  (child_param["PEF"] * child_param["BW"] * child_param["AT_non"])

    add_upper_inhCuR = ds["CuR"] * child_param["IRinh"]  * child_param["EF"] * child_param["ED"]
    ADDinhCuR = add_upper_inhCuR /  (child_param["PEF"] * child_param["BW"] * child_param["AT_non"])

    add_upper_inhAsR = ds["AsR"] * child_param["IRinh"]  * child_param["EF"] * child_param["ED"]
    ADDinhAsR = add_upper_inhAsR /  (child_param["PEF"] * child_param["BW"] * child_param["AT_non"])

    add_upper_inhCdR = ds["CdR"] * child_param["IRinh"]  * child_param["EF"] * child_param["ED"]
    ADDinhCdR = add_upper_inhCdR /  (child_param["PEF"] * child_param["BW"] * child_param["AT_non"])

    add_upper_inhPbR = ds["PbR"] * child_param["IRinh"]  * child_param["EF"] * child_param["ED"]
    ADDinhPbR = add_upper_inhPbR /  (child_param["PEF"] * child_param["BW"] * child_param["AT_non"])
    
    
    
    #dermal
    add_upper_dermCrW = ds["CrW"] * child_param["CF"] * child_param["SA"] * child_param["SL"] * child_param["ABS"][0] * child_param["EF"] * child_param["ED"]
    ADDdermCrW = add_upper_dermCrW / (child_param["BW"] * child_param["AT_non"])

    add_upper_dermNiW = ds["NiW"] * child_param["CF"] * child_param["SA"] * child_param["SL"] * child_param["ABS"][0] * child_param["EF"] * child_param["ED"]
    ADDdermNiW = add_upper_dermNiW / (child_param["BW"] * child_param["AT_non"])

    add_upper_dermCuW = ds["CuW"] * child_param["CF"] * child_param["SA"] * child_param["SL"] * child_param["ABS"][0] * child_param["EF"] * child_param["ED"]
    ADDdermCuW = add_upper_dermCuW / (child_param["BW"] * child_param["AT_non"])

    add_upper_dermAsW = ds["AsW"] * child_param["CF"] * child_param["SA"] * child_param["SL"] * child_param["ABS"][1] * child_param["EF"] * child_param["ED"]
    ADDdermAsW = add_upper_dermAsW / (child_param["BW"] * child_param["AT_non"])

    add_upper_dermCdW = ds["CdW"] * child_param["CF"] * child_param["SA"] * child_param["SL"] * child_param["ABS"][0] * child_param["EF"] * child_param["ED"]
    ADDdermCdW = add_upper_dermCdW / (child_param["BW"] * child_param["AT_non"])

    add_upper_dermPbW = ds["PbW"] * child_param["CF"] * child_param["SA"] * child_param["SL"] * child_param["ABS"][0] * child_param["EF"] * child_param["ED"]
    ADDdermPbW = add_upper_dermPbW / (child_param["BW"] * child_param["AT_non"])
    

    
    add_upper_dermCrR = ds["CrR"] * child_param["CF"] * child_param["SA"] * child_param["SL"] * child_param["ABS"][0] * child_param["EF"] * child_param["ED"]
    ADDdermCrR = add_upper_dermCrR / (child_param["BW"] * child_param["AT_non"])

    add_upper_dermNiR = ds["NiR"] * child_param["CF"] * child_param["SA"] * child_param["SL"] * child_param["ABS"][0] * child_param["EF"] * child_param["ED"]
    ADDdermNiR = add_upper_dermNiR / (child_param["BW"] * child_param["AT_non"])

    add_upper_dermCuR = ds["CuR"] * child_param["CF"] * child_param["SA"] * child_param["SL"] * child_param["ABS"][0] * child_param["EF"] * child_param["ED"]
    ADDdermCuR = add_upper_dermCuR / (child_param["BW"] * child_param["AT_non"])

    add_upper_dermAsR = ds["AsR"] * child_param["CF"] * child_param["SA"] * child_param["SL"] * child_param["ABS"][1] * child_param["EF"] * child_param["ED"]
    ADDdermAsR = add_upper_dermAsR / (child_param["BW"] * child_param["AT_non"])

    add_upper_dermCdR = ds["CdR"] * child_param["CF"] * child_param["SA"] * child_param["SL"] * child_param["ABS"][0] * child_param["EF"] * child_param["ED"]
    ADDdermCdR = add_upper_dermCdR / (child_param["BW"] * child_param["AT_non"])

    add_upper_dermPbR = ds["PbR"] * child_param["CF"] * child_param["SA"] * child_param["SL"] * child_param["ABS"][0] * child_param["EF"] * child_param["ED"]
    ADDdermPbR = add_upper_dermPbR / (child_param["BW"] * child_param["AT_non"])

    
    
    #winter
    add_winter = pd.DataFrame({
        "ADDingCr" : ADDingCrW,
        "ADDinhCr" : ADDinhCrW,
        "ADDdermCr": ADDdermCrW,
        "ADDingNi" : ADDingNiW,
        "ADDinhNi" : ADDinhNiW,
        "ADDdermNi" : ADDdermNiW,
        "ADDingCu" : ADDingCuW,
        "ADDinhCu" : ADDinhCuW,
        "ADDdermCu" : ADDdermCuW,
        "ADDingAs" : ADDingAsW,
        "ADDinhAs" : ADDinhAsW,
        "ADDdermAs" : ADDdermAsW,
        "ADDingCd" : ADDingCdW,
        "ADDinhCd" : ADDinhCdW,
        "ADDdermCd" : ADDdermCdW,
        "ADDingPb" : ADDingPbW,
        "ADDinhPb" : ADDinhPbW,
        "ADDdermPb" : ADDdermPbW,
    })

    ingestion_winter = pd.DataFrame({
        "Cr": ADDingCrW,
        "Ni": ADDingNiW,
        "Cu": ADDingCuW,
        "As": ADDingAsW,
        "Cd": ADDingCdW,
        "Pb": ADDingPbW,
    })
    
    inhal_winter = pd.DataFrame({
        "Cr": ADDinhCrW,
        "Ni": ADDinhNiW,
        "Cu": ADDinhCuW,
        "As": ADDinhAsW,
        "Cd": ADDinhCdW,
        "Pb": ADDinhPbW,
    })
    
    
    derm_winter = pd.DataFrame({
        "Cr": ADDdermCrW,
        "Ni": ADDdermNiW,
        "Cu": ADDdermCuW,
        "As": ADDdermAsW,
        "Cd": ADDdermCdW,
        "Pb": ADDdermPbW,
    })
    
    
    cr_ing = ingestion_winter["Cr"] / child_param["RfDing"]["Cr"]
    ni_ing = ingestion_winter["Ni"] / child_param["RfDing"]["Ni"]
    cu_ing = ingestion_winter["Cu"] / child_param["RfDing"]["Cu"]
    as_ing = ingestion_winter["As"] / child_param["RfDing"]["As"]
    cd_ing = ingestion_winter["Cd"] / child_param["RfDing"]["Cd"]
    pb_ing = ingestion_winter["Pb"] / child_param["RfDing"]["Pb"]
    
    cr_inh = inhal_winter["Cr"] / child_param["RfDinh"]["Cr"]
    ni_inh = inhal_winter["Ni"] / child_param["RfDinh"]["Ni"]
    cu_inh = inhal_winter["Cu"] / child_param["RfDinh"]["Cu"]
    as_inh = inhal_winter["As"] / child_param["RfDinh"]["As"]
    cd_inh = inhal_winter["Cd"] / child_param["RfDinh"]["Cd"]
    pb_inh = inhal_winter["Pb"] / child_param["RfDinh"]["Pb"]
    
    cr_derm = derm_winter["Cr"] / child_param["RfDderm"]["Cr"]
    ni_derm = derm_winter["Ni"] / child_param["RfDderm"]["Ni"]
    cu_derm = derm_winter["Cu"] / child_param["RfDderm"]["Cu"]
    as_derm = derm_winter["As"] / child_param["RfDderm"]["As"]
    cd_derm = derm_winter["Cd"] / child_param["RfDderm"]["Cd"]
    pb_derm = derm_winter["Pb"] / child_param["RfDderm"]["Pb"]

    
    ing_w = pd.DataFrame({
        "Cr": cr_ing,
        "Ni": ni_ing,
        "Cu": cu_ing,
        "As": as_ing,
        "Cd": cd_ing,
        "Pb": pb_ing,
    })
    
    inh_w = pd.DataFrame({
        "Cr": cr_inh,
        "Ni": ni_inh,
        "Cu": cu_inh,
        "As": as_inh,
        "Cd": cd_inh,
        "Pb": pb_inh,
    })
    
    derm_w = pd.DataFrame({
        "Cr": cr_derm,
        "Ni": ni_derm,
        "Cu": cu_derm,
        "As": as_derm,
        "Cd": cd_derm,
        "Pb": pb_derm,
    })
    
    
    #rainy
    add_rainy = pd.DataFrame({
        "ADDingCr" : ADDingCrR,
        "ADDinhCr" : ADDinhCrR,
        "ADDdermCr": ADDdermCrR,
        "ADDingNi" : ADDingNiR,
        "ADDinhNi" : ADDinhNiR,
        "ADDdermNi" : ADDdermNiR,
        "ADDingCu" : ADDingCuR,
        "ADDinhCu" : ADDinhCuR,
        "ADDdermCu" : ADDdermCuR,
        "ADDingAs" : ADDingAsR,
        "ADDinhAs" : ADDinhAsR,
        "ADDdermAs" : ADDdermAsR,
        "ADDingCd" : ADDingCdR,
        "ADDinhCd" : ADDinhCdR,
        "ADDdermCd" : ADDdermCdR,
        "ADDingPb" : ADDingPbR,
        "ADDinhPb" : ADDinhPbR,
        "ADDdermPb" : ADDdermPbR,
    })

    ingestion_rainy = pd.DataFrame({
        "Cr": ADDingCrR,
        "Ni": ADDingNiR,
        "Cu": ADDingCuR,
        "As": ADDingAsR,
        "Cd": ADDingCdR,
        "Pb": ADDingPbR,
    })

    inhal_rainy = pd.DataFrame({
        "Cr": ADDinhCrR,
        "Ni": ADDinhNiR,
        "Cu": ADDinhCuR,
        "As": ADDinhAsR,
        "Cd": ADDinhCdR,
        "Pb": ADDinhPbR,
    })


    derm_rainy = pd.DataFrame({
        "Cr": ADDdermCrR,
        "Ni": ADDdermNiR,
        "Cu": ADDdermCuR,
        "As": ADDdermAsR,
        "Cd": ADDdermCdR,
        "Pb": ADDdermPbR,
    })
    
    
    cr_ingR = ingestion_rainy["Cr"] / child_param["RfDing"]["Cr"]
    ni_ingR = ingestion_rainy["Ni"] / child_param["RfDing"]["Ni"]
    cu_ingR = ingestion_rainy["Cu"] / child_param["RfDing"]["Cu"]
    as_ingR = ingestion_rainy["As"] / child_param["RfDing"]["As"]
    cd_ingR = ingestion_rainy["Cd"] / child_param["RfDing"]["Cd"]
    pb_ingR = ingestion_rainy["Pb"] / child_param["RfDing"]["Pb"]
    
    cr_inhR = inhal_rainy["Cr"] / child_param["RfDinh"]["Cr"]
    ni_inhR = inhal_rainy["Ni"] / child_param["RfDinh"]["Ni"]
    cu_inhR = inhal_rainy["Cu"] / child_param["RfDinh"]["Cu"]
    as_inhR = inhal_rainy["As"] / child_param["RfDinh"]["As"]
    cd_inhR = inhal_rainy["Cd"] / child_param["RfDinh"]["Cd"]
    pb_inhR = inhal_rainy["Pb"] / child_param["RfDinh"]["Pb"]
    
    cr_dermR = derm_rainy["Cr"] / child_param["RfDderm"]["Cr"]
    ni_dermR = derm_rainy["Ni"] / child_param["RfDderm"]["Ni"]
    cu_dermR = derm_rainy["Cu"] / child_param["RfDderm"]["Cu"]
    as_dermR = derm_rainy["As"] / child_param["RfDderm"]["As"]
    cd_dermR = derm_rainy["Cd"] / child_param["RfDderm"]["Cd"]
    pb_dermR = derm_rainy["Pb"] / child_param["RfDderm"]["Pb"]

    
    ing_r = pd.DataFrame({
        "Cr": cr_ingR,
        "Ni": ni_ingR,
        "Cu": cu_ingR,
        "As": as_ingR,
        "Cd": cd_ingR,
        "Pb": pb_ingR,
    })
    
    inh_r = pd.DataFrame({
        "Cr": cr_inhR,
        "Ni": ni_inhR,
        "Cu": cu_inhR,
        "As": as_inhR,
        "Cd": cd_inhR,
        "Pb": pb_inhR,
    })
    
    derm_r = pd.DataFrame({
        "Cr": cr_dermR,
        "Ni": ni_dermR,
        "Cu": cu_dermR,
        "As": as_dermR,
        "Cd": cd_dermR,
        "Pb": pb_dermR,
    })
    

    ing_w = ing_w.mean()
    inh_w = inh_w.mean()
    derm_w = derm_w.mean()
    ing_r = ing_r.mean()
    inh_r = inh_r.mean()
    derm_r = derm_r.mean()
    
    return ing_w, inh_w, derm_w, ing_r, inh_r, derm_r


df.tail()


def hq_dataset_child(df):
    dingW,dinhW,ddermW,dingR,dinhR,ddermR = hq_non_child(df)
    
    #winter
    dcW = pd.DataFrame([dingW, dinhW, ddermW])
    dcW = dcW.T
    dcW.columns = ["ingestion", "inhalation", "dermal"]
    
    #rainy 
    dcR = pd.DataFrame([dingR, dinhR, ddermR])
    dcR = dcR.T
    dcR.columns = ["ingestion", "inhalation", "dermal"]
    
    return dcW, dcR


def save_dataset_child(df):
    cdW, cdR = hq_dataset_child(df)
    cdW.to_excel("HQ_child_Winter.xlsx")
    cdR.to_excel("HQ_child_Rainy.xlsx")
    
def save_dataset_adult(df):
    cdW, cdR = hq_dataset_adult(df)
    cdW.to_excel("HQ_adult_Winter.xlsx")
    cdR.to_excel("HQ_adult_Rainy.xlsx")
    


save_dataset_child(df)


cW, cR = hq_dataset_child(df)
cW, cR





def hq_non_adult(ds):
    
    #ingestion
    add_upper_ingCrW = ds["CrW"] * adult_param["IRing"] * adult_param["CF"] * adult_param["EF"] * adult_param["ED"]
    ADDingCrW = add_upper_ingCrW /  (adult_param["BW"] * adult_param["AT_non"])

    add_upper_ingNiW = ds["NiW"] * adult_param["IRing"] * adult_param["CF"] * adult_param["EF"] * adult_param["ED"]
    ADDingNiW = add_upper_ingNiW /  (adult_param["BW"] * adult_param["AT_non"])

    add_upper_ingCuW = ds["CuW"] * adult_param["IRing"] * adult_param["CF"] * adult_param["EF"] * adult_param["ED"]
    ADDingCuW = add_upper_ingCuW /  (adult_param["BW"] * adult_param["AT_non"])

    add_upper_ingAsW = ds["AsW"] * adult_param["IRing"] * adult_param["CF"] * adult_param["EF"] * adult_param["ED"]
    ADDingAsW = add_upper_ingAsW /  (adult_param["BW"] * adult_param["AT_non"])

    add_upper_ingCdW = ds["CdW"] * adult_param["IRing"] * adult_param["CF"] * adult_param["EF"] * adult_param["ED"]
    ADDingCdW = add_upper_ingCdW /  (adult_param["BW"] * adult_param["AT_non"])

    add_upper_ingPbW = ds["PbW"] * adult_param["IRing"] * adult_param["CF"] * adult_param["EF"] * adult_param["ED"]
    ADDingPbW = add_upper_ingPbW /  (adult_param["BW"] * adult_param["AT_non"])

    
    
    add_upper_ingCrR = ds["CrR"] * adult_param["IRing"] * adult_param["CF"] * adult_param["EF"] * adult_param["ED"]
    ADDingCrR = add_upper_ingCrR /  (adult_param["BW"] * adult_param["AT_non"])

    add_upper_ingNiR = ds["NiR"] * adult_param["IRing"] * adult_param["CF"] * adult_param["EF"] * adult_param["ED"]
    ADDingNiR = add_upper_ingNiR /  (adult_param["BW"] * adult_param["AT_non"])

    add_upper_ingCuR = ds["CuR"] * adult_param["IRing"] * adult_param["CF"] * adult_param["EF"] * adult_param["ED"]
    ADDingCuR = add_upper_ingCuR /  (adult_param["BW"] * adult_param["AT_non"])

    add_upper_ingAsR = ds["AsR"] * adult_param["IRing"] * adult_param["CF"] * adult_param["EF"] * adult_param["ED"]
    ADDingAsR = add_upper_ingAsR /  (adult_param["BW"] * adult_param["AT_non"])

    add_upper_ingCdR = ds["CdR"] * adult_param["IRing"] * adult_param["CF"] * adult_param["EF"] * adult_param["ED"]
    ADDingCdR = add_upper_ingCdR /  (adult_param["BW"] * adult_param["AT_non"])

    add_upper_ingPbR = ds["PbR"] * adult_param["IRing"] * adult_param["CF"] * adult_param["EF"] * adult_param["ED"]
    ADDingPbR = add_upper_ingPbR /  (adult_param["BW"] * adult_param["AT_non"])
    
    
    #inhalation
    add_upper_inhCrW = ds["CrW"] * adult_param["IRinh"]  * adult_param["EF"] * adult_param["ED"]
    ADDinhCrW = add_upper_inhCrW /  (adult_param["PEF"] * adult_param["BW"] * adult_param["AT_non"])

    add_upper_inhNiW = ds["NiW"] * adult_param["IRinh"]  * adult_param["EF"] * adult_param["ED"]
    ADDinhNiW = add_upper_inhNiW /  (adult_param["PEF"] * adult_param["BW"] * adult_param["AT_non"])

    add_upper_inhCuW = ds["CuW"] * adult_param["IRinh"]  * adult_param["EF"] * adult_param["ED"]
    ADDinhCuW = add_upper_inhCuW /  (adult_param["PEF"] * adult_param["BW"] * adult_param["AT_non"])

    add_upper_inhAsW = ds["AsW"] * adult_param["IRinh"]  * adult_param["EF"] * adult_param["ED"]
    ADDinhAsW = add_upper_inhAsW /  (adult_param["PEF"] * adult_param["BW"] * adult_param["AT_non"])

    add_upper_inhCdW = ds["CdW"] * adult_param["IRinh"]  * adult_param["EF"] * adult_param["ED"]
    ADDinhCdW = add_upper_inhCdW /  (adult_param["PEF"] * adult_param["BW"] * adult_param["AT_non"])

    add_upper_inhPbW = ds["PbW"] * adult_param["IRinh"]  * adult_param["EF"] * adult_param["ED"]
    ADDinhPbW = add_upper_inhPbW /  (adult_param["PEF"] * adult_param["BW"] * adult_param["AT_non"])
    
    

    add_upper_inhCrR = ds["CrR"] * adult_param["IRinh"]  * adult_param["EF"] * adult_param["ED"]
    ADDinhCrR = add_upper_inhCrR /  (adult_param["PEF"] * adult_param["BW"] * adult_param["AT_non"])

    add_upper_inhNiR = ds["NiR"] * adult_param["IRinh"]  * adult_param["EF"] * adult_param["ED"]
    ADDinhNiR = add_upper_inhNiR /  (adult_param["PEF"] * adult_param["BW"] * adult_param["AT_non"])

    add_upper_inhCuR = ds["CuR"] * adult_param["IRinh"]  * adult_param["EF"] * adult_param["ED"]
    ADDinhCuR = add_upper_inhCuR /  (adult_param["PEF"] * adult_param["BW"] * adult_param["AT_non"])

    add_upper_inhAsR = ds["AsR"] * adult_param["IRinh"]  * adult_param["EF"] * adult_param["ED"]
    ADDinhAsR = add_upper_inhAsR /  (adult_param["PEF"] * adult_param["BW"] * adult_param["AT_non"])

    add_upper_inhCdR = ds["CdR"] * adult_param["IRinh"]  * adult_param["EF"] * adult_param["ED"]
    ADDinhCdR = add_upper_inhCdR /  (adult_param["PEF"] * adult_param["BW"] * adult_param["AT_non"])

    add_upper_inhPbR = ds["PbR"] * adult_param["IRinh"]  * adult_param["EF"] * adult_param["ED"]
    ADDinhPbR = add_upper_inhPbR /  (adult_param["PEF"] * adult_param["BW"] * adult_param["AT_non"])
    
    
    
    #dermal
    add_upper_dermCrW = ds["CrW"] * adult_param["CF"] * adult_param["SA"] * adult_param["SL"] * adult_param["ABS"] * adult_param["EF"] * adult_param["ED"]
    ADDdermCrW = add_upper_dermCrW / (adult_param["BW"] * adult_param["AT_non"])

    add_upper_dermNiW = ds["NiW"] * adult_param["CF"] * adult_param["SA"] * adult_param["SL"] * adult_param["ABS"] * adult_param["EF"] * adult_param["ED"]
    ADDdermNiW = add_upper_dermNiW / (adult_param["BW"] * adult_param["AT_non"])

    add_upper_dermCuW = ds["CuW"] * adult_param["CF"] * adult_param["SA"] * adult_param["SL"] * adult_param["ABS"] * adult_param["EF"] * adult_param["ED"]
    ADDdermCuW = add_upper_dermCuW / (adult_param["BW"] * adult_param["AT_non"])

    add_upper_dermAsW = ds["AsW"] * adult_param["CF"] * adult_param["SA"] * adult_param["SL"] * adult_param["ABS"] * adult_param["EF"] * adult_param["ED"]
    ADDdermAsW = add_upper_dermAsW / (adult_param["BW"] * adult_param["AT_non"])

    add_upper_dermCdW = ds["CdW"] * adult_param["CF"] * adult_param["SA"] * adult_param["SL"] * adult_param["ABS"] * adult_param["EF"] * adult_param["ED"]
    ADDdermCdW = add_upper_dermCdW / (adult_param["BW"] * adult_param["AT_non"])

    add_upper_dermPbW = ds["PbW"] * adult_param["CF"] * adult_param["SA"] * adult_param["SL"] * adult_param["ABS"] * adult_param["EF"] * adult_param["ED"]
    ADDdermPbW = add_upper_dermPbW / (adult_param["BW"] * adult_param["AT_non"])
    

    
    add_upper_dermCrR = ds["CrR"] * adult_param["CF"] * adult_param["SA"] * adult_param["SL"] * adult_param["ABS"] * adult_param["EF"] * adult_param["ED"]
    ADDdermCrR = add_upper_dermCrR / (adult_param["BW"] * adult_param["AT_non"])

    add_upper_dermNiR = ds["NiR"] * adult_param["CF"] * adult_param["SA"] * adult_param["SL"] * adult_param["ABS"] * adult_param["EF"] * adult_param["ED"]
    ADDdermNiR = add_upper_dermNiR / (adult_param["BW"] * adult_param["AT_non"])

    add_upper_dermCuR = ds["CuR"] * adult_param["CF"] * adult_param["SA"] * adult_param["SL"] * adult_param["ABS"] * adult_param["EF"] * adult_param["ED"]
    ADDdermCuR = add_upper_dermCuR / (adult_param["BW"] * adult_param["AT_non"])

    add_upper_dermAsR = ds["AsR"] * adult_param["CF"] * adult_param["SA"] * adult_param["SL"] * adult_param["ABS"] * adult_param["EF"] * adult_param["ED"]
    ADDdermAsR = add_upper_dermAsR / (adult_param["BW"] * adult_param["AT_non"])

    add_upper_dermCdR = ds["CdR"] * adult_param["CF"] * adult_param["SA"] * adult_param["SL"] * adult_param["ABS"] * adult_param["EF"] * adult_param["ED"]
    ADDdermCdR = add_upper_dermCdR / (adult_param["BW"] * adult_param["AT_non"])

    add_upper_dermPbR = ds["PbR"] * adult_param["CF"] * adult_param["SA"] * adult_param["SL"] * adult_param["ABS"] * adult_param["EF"] * adult_param["ED"]
    ADDdermPbR = add_upper_dermPbR / (adult_param["BW"] * adult_param["AT_non"])

    
    
    #winter
    add_winter = pd.DataFrame({
        "ADDingCr" : ADDingCrW,
        "ADDinhCr" : ADDinhCrW,
        "ADDdermCr": ADDdermCrW,
        "ADDingNi" : ADDingNiW,
        "ADDinhNi" : ADDinhNiW,
        "ADDdermNi" : ADDdermNiW,
        "ADDingCu" : ADDingCuW,
        "ADDinhCu" : ADDinhCuW,
        "ADDdermCu" : ADDdermCuW,
        "ADDingAs" : ADDingAsW,
        "ADDinhAs" : ADDinhAsW,
        "ADDdermAs" : ADDdermAsW,
        "ADDingCd" : ADDingCdW,
        "ADDinhCd" : ADDinhCdW,
        "ADDdermCd" : ADDdermCdW,
        "ADDingPb" : ADDingPbW,
        "ADDinhPb" : ADDinhPbW,
        "ADDdermPb" : ADDdermPbW,
    })

    ingestion_winter = pd.DataFrame({
        "Cr": ADDingCrW,
        "Ni": ADDingNiW,
        "Cu": ADDingCuW,
        "As": ADDingAsW,
        "Cd": ADDingCdW,
        "Pb": ADDingPbW,
    })
    
    inhal_winter = pd.DataFrame({
        "Cr": ADDinhCrW,
        "Ni": ADDinhNiW,
        "Cu": ADDinhCuW,
        "As": ADDinhAsW,
        "Cd": ADDinhCdW,
        "Pb": ADDinhPbW,
    })
    
    
    derm_winter = pd.DataFrame({
        "Cr": ADDdermCrW,
        "Ni": ADDdermNiW,
        "Cu": ADDdermCuW,
        "As": ADDdermAsW,
        "Cd": ADDdermCdW,
        "Pb": ADDdermPbW,
    })
    
    
    cr_ing = ingestion_winter["Cr"] / adult_param["RfDing"]["Cr"]
    ni_ing = ingestion_winter["Ni"] / adult_param["RfDing"]["Ni"]
    cu_ing = ingestion_winter["Cu"] / adult_param["RfDing"]["Cu"]
    as_ing = ingestion_winter["As"] / adult_param["RfDing"]["As"]
    cd_ing = ingestion_winter["Cd"] / adult_param["RfDing"]["Cd"]
    pb_ing = ingestion_winter["Pb"] / adult_param["RfDing"]["Pb"]
    
    cr_inh = inhal_winter["Cr"] / adult_param["RfDinh"]["Cr"]
    ni_inh = inhal_winter["Ni"] / adult_param["RfDinh"]["Ni"]
    cu_inh = inhal_winter["Cu"] / adult_param["RfDinh"]["Cu"]
    as_inh = inhal_winter["As"] / adult_param["RfDinh"]["As"]
    cd_inh = inhal_winter["Cd"] / adult_param["RfDinh"]["Cd"]
    pb_inh = inhal_winter["Pb"] / adult_param["RfDinh"]["Pb"]
    
    cr_derm = derm_winter["Cr"] / adult_param["RfDderm"]["Cr"]
    ni_derm = derm_winter["Ni"] / adult_param["RfDderm"]["Ni"]
    cu_derm = derm_winter["Cu"] / adult_param["RfDderm"]["Cu"]
    as_derm = derm_winter["As"] / adult_param["RfDderm"]["As"]
    cd_derm = derm_winter["Cd"] / adult_param["RfDderm"]["Cd"]
    pb_derm = derm_winter["Pb"] / adult_param["RfDderm"]["Pb"]

    
    ing_w = pd.DataFrame({
        "Cr": cr_ing,
        "Ni": ni_ing,
        "Cu": cu_ing,
        "As": as_ing,
        "Cd": cd_ing,
        "Pb": pb_ing,
    })
    
    inh_w = pd.DataFrame({
        "Cr": cr_inh,
        "Ni": ni_inh,
        "Cu": cu_inh,
        "As": as_inh,
        "Cd": cd_inh,
        "Pb": pb_inh,
    })
    
    derm_w = pd.DataFrame({
        "Cr": cr_derm,
        "Ni": ni_derm,
        "Cu": cu_derm,
        "As": as_derm,
        "Cd": cd_derm,
        "Pb": pb_derm,
    })
    
    
    #rainy
    add_rainy = pd.DataFrame({
        "ADDingCr" : ADDingCrR,
        "ADDinhCr" : ADDinhCrR,
        "ADDdermCr": ADDdermCrR,
        "ADDingNi" : ADDingNiR,
        "ADDinhNi" : ADDinhNiR,
        "ADDdermNi" : ADDdermNiR,
        "ADDingCu" : ADDingCuR,
        "ADDinhCu" : ADDinhCuR,
        "ADDdermCu" : ADDdermCuR,
        "ADDingAs" : ADDingAsR,
        "ADDinhAs" : ADDinhAsR,
        "ADDdermAs" : ADDdermAsR,
        "ADDingCd" : ADDingCdR,
        "ADDinhCd" : ADDinhCdR,
        "ADDdermCd" : ADDdermCdR,
        "ADDingPb" : ADDingPbR,
        "ADDinhPb" : ADDinhPbR,
        "ADDdermPb" : ADDdermPbR,
    })

    ingestion_rainy = pd.DataFrame({
        "Cr": ADDingCrR,
        "Ni": ADDingNiR,
        "Cu": ADDingCuR,
        "As": ADDingAsR,
        "Cd": ADDingCdR,
        "Pb": ADDingPbR,
    })

    inhal_rainy = pd.DataFrame({
        "Cr": ADDinhCrR,
        "Ni": ADDinhNiR,
        "Cu": ADDinhCuR,
        "As": ADDinhAsR,
        "Cd": ADDinhCdR,
        "Pb": ADDinhPbR,
    })


    derm_rainy = pd.DataFrame({
        "Cr": ADDdermCrR,
        "Ni": ADDdermNiR,
        "Cu": ADDdermCuR,
        "As": ADDdermAsR,
        "Cd": ADDdermCdR,
        "Pb": ADDdermPbR,
    })
    
    
    cr_ingR = ingestion_rainy["Cr"] / adult_param["RfDing"]["Cr"]
    ni_ingR = ingestion_rainy["Ni"] / adult_param["RfDing"]["Ni"]
    cu_ingR = ingestion_rainy["Cu"] / adult_param["RfDing"]["Cu"]
    as_ingR = ingestion_rainy["As"] / adult_param["RfDing"]["As"]
    cd_ingR = ingestion_rainy["Cd"] / adult_param["RfDing"]["Cd"]
    pb_ingR = ingestion_rainy["Pb"] / adult_param["RfDing"]["Pb"]
    
    cr_inhR = inhal_rainy["Cr"] / adult_param["RfDinh"]["Cr"]
    ni_inhR = inhal_rainy["Ni"] / adult_param["RfDinh"]["Ni"]
    cu_inhR = inhal_rainy["Cu"] / adult_param["RfDinh"]["Cu"]
    as_inhR = inhal_rainy["As"] / adult_param["RfDinh"]["As"]
    cd_inhR = inhal_rainy["Cd"] / adult_param["RfDinh"]["Cd"]
    pb_inhR = inhal_rainy["Pb"] / adult_param["RfDinh"]["Pb"]
    
    cr_dermR = derm_rainy["Cr"] / adult_param["RfDderm"]["Cr"]
    ni_dermR = derm_rainy["Ni"] / adult_param["RfDderm"]["Ni"]
    cu_dermR = derm_rainy["Cu"] / adult_param["RfDderm"]["Cu"]
    as_dermR = derm_rainy["As"] / adult_param["RfDderm"]["As"]
    cd_dermR = derm_rainy["Cd"] / adult_param["RfDderm"]["Cd"]
    pb_dermR = derm_rainy["Pb"] / adult_param["RfDderm"]["Pb"]

    
    ing_r = pd.DataFrame({
        "Cr": cr_ingR,
        "Ni": ni_ingR,
        "Cu": cu_ingR,
        "As": as_ingR,
        "Cd": cd_ingR,
        "Pb": pb_ingR,
    })
    
    inh_r = pd.DataFrame({
        "Cr": cr_inhR,
        "Ni": ni_inhR,
        "Cu": cu_inhR,
        "As": as_inhR,
        "Cd": cd_inhR,
        "Pb": pb_inhR,
    })
    
    derm_r = pd.DataFrame({
        "Cr": cr_dermR,
        "Ni": ni_dermR,
        "Cu": cu_dermR,
        "As": as_dermR,
        "Cd": cd_dermR,
        "Pb": pb_dermR,
    })
    

    ing_w = ing_w.mean()
    inh_w = inh_w.mean()
    derm_w = derm_w.mean()
    ing_r = ing_r.mean()
    inh_r = inh_r.mean()
    derm_r = derm_r.mean()
    
    return ing_w, inh_w, derm_w, ing_r, inh_r, derm_r


def hq_dataset_adult(df):
    dingW,dinhW,ddermW,dingR,dinhR,ddermR = hq_non_adult(df)
    
    #winter
    dcW = pd.DataFrame([dingW, dinhW, ddermW])
    dcW = dcW.T
    dcW.columns = ["ingestion", "inhalation", "dermal"]
    
    #rainy 
    dcR = pd.DataFrame([dingR, dinhR, ddermR])
    dcR = dcR.T
    dcR.columns = ["ingestion", "inhalation", "dermal"]
    
    return dcW, dcR


adultW, adultR = hq_dataset_adult(df)


adultW, adultR


cW, cR


save_dataset_adult(df)








def hq_soil_child(ds):
    
    #ingestion
    add_upper_ingCrW = ds["CrW"] * child_param["IRing"] * child_param["CF"] * child_param["EF"] * child_param["ED"]
    ADDingCrW = add_upper_ingCrW /  (child_param["BW"] * child_param["AT_non"])

    add_upper_ingNiW = ds["NiW"] * child_param["IRing"] * child_param["CF"] * child_param["EF"] * child_param["ED"]
    ADDingNiW = add_upper_ingNiW /  (child_param["BW"] * child_param["AT_non"])

    add_upper_ingCuW = ds["CuW"] * child_param["IRing"] * child_param["CF"] * child_param["EF"] * child_param["ED"]
    ADDingCuW = add_upper_ingCuW /  (child_param["BW"] * child_param["AT_non"])

    add_upper_ingAsW = ds["AsW"] * child_param["IRing"] * child_param["CF"] * child_param["EF"] * child_param["ED"]
    ADDingAsW = add_upper_ingAsW /  (child_param["BW"] * child_param["AT_non"])

    add_upper_ingCdW = ds["CdW"] * child_param["IRing"] * child_param["CF"] * child_param["EF"] * child_param["ED"]
    ADDingCdW = add_upper_ingCdW /  (child_param["BW"] * child_param["AT_non"])

    add_upper_ingPbW = ds["PbW"] * child_param["IRing"] * child_param["CF"] * child_param["EF"] * child_param["ED"]
    ADDingPbW = add_upper_ingPbW /  (child_param["BW"] * child_param["AT_non"])

    
    
    add_upper_ingCrR = ds["CrR"] * child_param["IRing"] * child_param["CF"] * child_param["EF"] * child_param["ED"]
    ADDingCrR = add_upper_ingCrR /  (child_param["BW"] * child_param["AT_non"])

    add_upper_ingNiR = ds["NiR"] * child_param["IRing"] * child_param["CF"] * child_param["EF"] * child_param["ED"]
    ADDingNiR = add_upper_ingNiR /  (child_param["BW"] * child_param["AT_non"])

    add_upper_ingCuR = ds["CuR"] * child_param["IRing"] * child_param["CF"] * child_param["EF"] * child_param["ED"]
    ADDingCuR = add_upper_ingCuR /  (child_param["BW"] * child_param["AT_non"])

    add_upper_ingAsR = ds["AsR"] * child_param["IRing"] * child_param["CF"] * child_param["EF"] * child_param["ED"]
    ADDingAsR = add_upper_ingAsR /  (child_param["BW"] * child_param["AT_non"])

    add_upper_ingCdR = ds["CdR"] * child_param["IRing"] * child_param["CF"] * child_param["EF"] * child_param["ED"]
    ADDingCdR = add_upper_ingCdR /  (child_param["BW"] * child_param["AT_non"])

    add_upper_ingPbR = ds["PbR"] * child_param["IRing"] * child_param["CF"] * child_param["EF"] * child_param["ED"]
    ADDingPbR = add_upper_ingPbR /  (child_param["BW"] * child_param["AT_non"])
    
    
    #inhalation
    add_upper_inhCrW = ds["CrW"] * child_param["IRinh"]  * child_param["EF"] * child_param["ED"]
    ADDinhCrW = add_upper_inhCrW /  (child_param["PEF"] * child_param["BW"] * child_param["AT_non"])

    add_upper_inhNiW = ds["NiW"] * child_param["IRinh"]  * child_param["EF"] * child_param["ED"]
    ADDinhNiW = add_upper_inhNiW /  (child_param["PEF"] * child_param["BW"] * child_param["AT_non"])

    add_upper_inhCuW = ds["CuW"] * child_param["IRinh"]  * child_param["EF"] * child_param["ED"]
    ADDinhCuW = add_upper_inhCuW /  (child_param["PEF"] * child_param["BW"] * child_param["AT_non"])

    add_upper_inhAsW = ds["AsW"] * child_param["IRinh"]  * child_param["EF"] * child_param["ED"]
    ADDinhAsW = add_upper_inhAsW /  (child_param["PEF"] * child_param["BW"] * child_param["AT_non"])

    add_upper_inhCdW = ds["CdW"] * child_param["IRinh"]  * child_param["EF"] * child_param["ED"]
    ADDinhCdW = add_upper_inhCdW /  (child_param["PEF"] * child_param["BW"] * child_param["AT_non"])

    add_upper_inhPbW = ds["PbW"] * child_param["IRinh"]  * child_param["EF"] * child_param["ED"]
    ADDinhPbW = add_upper_inhPbW /  (child_param["PEF"] * child_param["BW"] * child_param["AT_non"])
    
    

    add_upper_inhCrR = ds["CrR"] * child_param["IRinh"]  * child_param["EF"] * child_param["ED"]
    ADDinhCrR = add_upper_inhCrR /  (child_param["PEF"] * child_param["BW"] * child_param["AT_non"])

    add_upper_inhNiR = ds["NiR"] * child_param["IRinh"]  * child_param["EF"] * child_param["ED"]
    ADDinhNiR = add_upper_inhNiR /  (child_param["PEF"] * child_param["BW"] * child_param["AT_non"])

    add_upper_inhCuR = ds["CuR"] * child_param["IRinh"]  * child_param["EF"] * child_param["ED"]
    ADDinhCuR = add_upper_inhCuR /  (child_param["PEF"] * child_param["BW"] * child_param["AT_non"])

    add_upper_inhAsR = ds["AsR"] * child_param["IRinh"]  * child_param["EF"] * child_param["ED"]
    ADDinhAsR = add_upper_inhAsR /  (child_param["PEF"] * child_param["BW"] * child_param["AT_non"])

    add_upper_inhCdR = ds["CdR"] * child_param["IRinh"]  * child_param["EF"] * child_param["ED"]
    ADDinhCdR = add_upper_inhCdR /  (child_param["PEF"] * child_param["BW"] * child_param["AT_non"])

    add_upper_inhPbR = ds["PbR"] * child_param["IRinh"]  * child_param["EF"] * child_param["ED"]
    ADDinhPbR = add_upper_inhPbR /  (child_param["PEF"] * child_param["BW"] * child_param["AT_non"])
    
    
    
    #dermal
    add_upper_dermCrW = ds["CrW"] * child_param["CF"] * child_param["SA"] * child_param["SL"] * child_param["ABS"][0] * child_param["EF"] * child_param["ED"]
    ADDdermCrW = add_upper_dermCrW / (child_param["BW"] * child_param["AT_non"])

    add_upper_dermNiW = ds["NiW"] * child_param["CF"] * child_param["SA"] * child_param["SL"] * child_param["ABS"][0] * child_param["EF"] * child_param["ED"]
    ADDdermNiW = add_upper_dermNiW / (child_param["BW"] * child_param["AT_non"])

    add_upper_dermCuW = ds["CuW"] * child_param["CF"] * child_param["SA"] * child_param["SL"] * child_param["ABS"][0] * child_param["EF"] * child_param["ED"]
    ADDdermCuW = add_upper_dermCuW / (child_param["BW"] * child_param["AT_non"])

    add_upper_dermAsW = ds["AsW"] * child_param["CF"] * child_param["SA"] * child_param["SL"] * child_param["ABS"][1] * child_param["EF"] * child_param["ED"]
    ADDdermAsW = add_upper_dermAsW / (child_param["BW"] * child_param["AT_non"])

    add_upper_dermCdW = ds["CdW"] * child_param["CF"] * child_param["SA"] * child_param["SL"] * child_param["ABS"][0] * child_param["EF"] * child_param["ED"]
    ADDdermCdW = add_upper_dermCdW / (child_param["BW"] * child_param["AT_non"])

    add_upper_dermPbW = ds["PbW"] * child_param["CF"] * child_param["SA"] * child_param["SL"] * child_param["ABS"][0] * child_param["EF"] * child_param["ED"]
    ADDdermPbW = add_upper_dermPbW / (child_param["BW"] * child_param["AT_non"])
    

    
    add_upper_dermCrR = ds["CrR"] * child_param["CF"] * child_param["SA"] * child_param["SL"] * child_param["ABS"][0] * child_param["EF"] * child_param["ED"]
    ADDdermCrR = add_upper_dermCrR / (child_param["BW"] * child_param["AT_non"])

    add_upper_dermNiR = ds["NiR"] * child_param["CF"] * child_param["SA"] * child_param["SL"] * child_param["ABS"][0] * child_param["EF"] * child_param["ED"]
    ADDdermNiR = add_upper_dermNiR / (child_param["BW"] * child_param["AT_non"])

    add_upper_dermCuR = ds["CuR"] * child_param["CF"] * child_param["SA"] * child_param["SL"] * child_param["ABS"][0] * child_param["EF"] * child_param["ED"]
    ADDdermCuR = add_upper_dermCuR / (child_param["BW"] * child_param["AT_non"])

    add_upper_dermAsR = ds["AsR"] * child_param["CF"] * child_param["SA"] * child_param["SL"] * child_param["ABS"][1] * child_param["EF"] * child_param["ED"]
    ADDdermAsR = add_upper_dermAsR / (child_param["BW"] * child_param["AT_non"])

    add_upper_dermCdR = ds["CdR"] * child_param["CF"] * child_param["SA"] * child_param["SL"] * child_param["ABS"][0] * child_param["EF"] * child_param["ED"]
    ADDdermCdR = add_upper_dermCdR / (child_param["BW"] * child_param["AT_non"])

    add_upper_dermPbR = ds["PbR"] * child_param["CF"] * child_param["SA"] * child_param["SL"] * child_param["ABS"][0] * child_param["EF"] * child_param["ED"]
    ADDdermPbR = add_upper_dermPbR / (child_param["BW"] * child_param["AT_non"])

    
    
    ADDCrR = ADDingCrR + ADDinhCrR + ADDdermCrR
    ADDNiR = ADDingNiR + ADDinhNiR + ADDdermNiR
    ADDCuR = ADDingCuR + ADDinhCuR + ADDdermCuR
    ADDAsR = ADDingAsR + ADDinhAsR + ADDdermAsR
    ADDCdR = ADDingCdR + ADDinhCdR + ADDdermCdR
    ADDPbR = ADDingPbR + ADDinhPbR + ADDdermPbR
    
    
    ADDCrW = ADDingCrW + ADDinhCrW + ADDdermCrW
    ADDNiW = ADDingNiW + ADDinhNiW + ADDdermNiW
    ADDCuW = ADDingCuW + ADDinhCuW + ADDdermCuW
    ADDAsW = ADDingAsW + ADDinhAsW + ADDdermAsW
    ADDCdW = ADDingCdW + ADDinhCdW + ADDdermCdW
    ADDPbW = ADDingPbW + ADDinhPbW + ADDdermPbW
    
    
    
    crR = ADDCrR / child_param["RfDing"]["Cr"]
    niR = ADDNiR / child_param["RfDing"]["Ni"]
    cuR = ADDCuR / child_param["RfDing"]["Cu"]
    asR = ADDAsR / child_param["RfDing"]["As"]
    cdR = ADDCdR / child_param["RfDing"]["Cd"]
    pbR = ADDPbR / child_param["RfDing"]["Pb"]
    
    crW = ADDCrW / child_param["RfDing"]["Cr"]
    niW = ADDNiW / child_param["RfDing"]["Ni"]
    cuW = ADDCuW / child_param["RfDing"]["Cu"]
    asW = ADDAsW / child_param["RfDing"]["As"]
    cdW = ADDCdW / child_param["RfDing"]["Cd"]
    pbW = ADDPbW / child_param["RfDing"]["Pb"]
    
    
    soil_r = pd.DataFrame({
        "Cr": crR,
        "Ni": niR,
        "Cu": cuR,
        "As": asR,
        "Cd": cdR,
        "Pb": pbR,
    })
    
    soil_w = pd.DataFrame({
    "Cr": crW,
    "Ni": niW,
    "Cu": cuW,
    "As": asW,
    "Cd": cdW,
    "Pb": pbW,
    
    })

    
    return soil_w.mean(), soil_r.mean()


def hq_soil_adult(ds):
    
    #ingestion
    add_upper_ingCrW = ds["CrW"] * adult_param["IRing"] * adult_param["CF"] * adult_param["EF"] * adult_param["ED"]
    ADDingCrW = add_upper_ingCrW /  (adult_param["BW"] * adult_param["AT_non"])

    add_upper_ingNiW = ds["NiW"] * adult_param["IRing"] * adult_param["CF"] * adult_param["EF"] * adult_param["ED"]
    ADDingNiW = add_upper_ingNiW /  (adult_param["BW"] * adult_param["AT_non"])

    add_upper_ingCuW = ds["CuW"] * adult_param["IRing"] * adult_param["CF"] * adult_param["EF"] * adult_param["ED"]
    ADDingCuW = add_upper_ingCuW /  (adult_param["BW"] * adult_param["AT_non"])

    add_upper_ingAsW = ds["AsW"] * adult_param["IRing"] * adult_param["CF"] * adult_param["EF"] * adult_param["ED"]
    ADDingAsW = add_upper_ingAsW /  (adult_param["BW"] * adult_param["AT_non"])

    add_upper_ingCdW = ds["CdW"] * adult_param["IRing"] * adult_param["CF"] * adult_param["EF"] * adult_param["ED"]
    ADDingCdW = add_upper_ingCdW /  (adult_param["BW"] * adult_param["AT_non"])

    add_upper_ingPbW = ds["PbW"] * adult_param["IRing"] * adult_param["CF"] * adult_param["EF"] * adult_param["ED"]
    ADDingPbW = add_upper_ingPbW /  (adult_param["BW"] * adult_param["AT_non"])

    
    
    add_upper_ingCrR = ds["CrR"] * adult_param["IRing"] * adult_param["CF"] * adult_param["EF"] * adult_param["ED"]
    ADDingCrR = add_upper_ingCrR /  (adult_param["BW"] * adult_param["AT_non"])

    add_upper_ingNiR = ds["NiR"] * adult_param["IRing"] * adult_param["CF"] * adult_param["EF"] * adult_param["ED"]
    ADDingNiR = add_upper_ingNiR /  (adult_param["BW"] * adult_param["AT_non"])

    add_upper_ingCuR = ds["CuR"] * adult_param["IRing"] * adult_param["CF"] * adult_param["EF"] * adult_param["ED"]
    ADDingCuR = add_upper_ingCuR /  (adult_param["BW"] * adult_param["AT_non"])

    add_upper_ingAsR = ds["AsR"] * adult_param["IRing"] * adult_param["CF"] * adult_param["EF"] * adult_param["ED"]
    ADDingAsR = add_upper_ingAsR /  (adult_param["BW"] * adult_param["AT_non"])

    add_upper_ingCdR = ds["CdR"] * adult_param["IRing"] * adult_param["CF"] * adult_param["EF"] * adult_param["ED"]
    ADDingCdR = add_upper_ingCdR /  (adult_param["BW"] * adult_param["AT_non"])

    add_upper_ingPbR = ds["PbR"] * adult_param["IRing"] * adult_param["CF"] * adult_param["EF"] * adult_param["ED"]
    ADDingPbR = add_upper_ingPbR /  (adult_param["BW"] * adult_param["AT_non"])
    
    
    #inhalation
    add_upper_inhCrW = ds["CrW"] * adult_param["IRinh"]  * adult_param["EF"] * adult_param["ED"]
    ADDinhCrW = add_upper_inhCrW /  (adult_param["PEF"] * adult_param["BW"] * adult_param["AT_non"])

    add_upper_inhNiW = ds["NiW"] * adult_param["IRinh"]  * adult_param["EF"] * adult_param["ED"]
    ADDinhNiW = add_upper_inhNiW /  (adult_param["PEF"] * adult_param["BW"] * adult_param["AT_non"])

    add_upper_inhCuW = ds["CuW"] * adult_param["IRinh"]  * adult_param["EF"] * adult_param["ED"]
    ADDinhCuW = add_upper_inhCuW /  (adult_param["PEF"] * adult_param["BW"] * adult_param["AT_non"])

    add_upper_inhAsW = ds["AsW"] * adult_param["IRinh"]  * adult_param["EF"] * adult_param["ED"]
    ADDinhAsW = add_upper_inhAsW /  (adult_param["PEF"] * adult_param["BW"] * adult_param["AT_non"])

    add_upper_inhCdW = ds["CdW"] * adult_param["IRinh"]  * adult_param["EF"] * adult_param["ED"]
    ADDinhCdW = add_upper_inhCdW /  (adult_param["PEF"] * adult_param["BW"] * adult_param["AT_non"])

    add_upper_inhPbW = ds["PbW"] * adult_param["IRinh"]  * adult_param["EF"] * adult_param["ED"]
    ADDinhPbW = add_upper_inhPbW /  (adult_param["PEF"] * adult_param["BW"] * adult_param["AT_non"])
    
    

    add_upper_inhCrR = ds["CrR"] * adult_param["IRinh"]  * adult_param["EF"] * adult_param["ED"]
    ADDinhCrR = add_upper_inhCrR /  (adult_param["PEF"] * adult_param["BW"] * adult_param["AT_non"])

    add_upper_inhNiR = ds["NiR"] * adult_param["IRinh"]  * adult_param["EF"] * adult_param["ED"]
    ADDinhNiR = add_upper_inhNiR /  (adult_param["PEF"] * adult_param["BW"] * adult_param["AT_non"])

    add_upper_inhCuR = ds["CuR"] * adult_param["IRinh"]  * adult_param["EF"] * adult_param["ED"]
    ADDinhCuR = add_upper_inhCuR /  (adult_param["PEF"] * adult_param["BW"] * adult_param["AT_non"])

    add_upper_inhAsR = ds["AsR"] * adult_param["IRinh"]  * adult_param["EF"] * adult_param["ED"]
    ADDinhAsR = add_upper_inhAsR /  (adult_param["PEF"] * adult_param["BW"] * adult_param["AT_non"])

    add_upper_inhCdR = ds["CdR"] * adult_param["IRinh"]  * adult_param["EF"] * adult_param["ED"]
    ADDinhCdR = add_upper_inhCdR /  (adult_param["PEF"] * adult_param["BW"] * adult_param["AT_non"])

    add_upper_inhPbR = ds["PbR"] * adult_param["IRinh"]  * adult_param["EF"] * adult_param["ED"]
    ADDinhPbR = add_upper_inhPbR /  (adult_param["PEF"] * adult_param["BW"] * adult_param["AT_non"])
    
    
    
    #dermal
    add_upper_dermCrW = ds["CrW"] * adult_param["CF"] * adult_param["SA"] * adult_param["SL"] * adult_param["ABS"] * adult_param["EF"] * adult_param["ED"]
    ADDdermCrW = add_upper_dermCrW / (adult_param["BW"] * adult_param["AT_non"])

    add_upper_dermNiW = ds["NiW"] * adult_param["CF"] * adult_param["SA"] * adult_param["SL"] * adult_param["ABS"] * adult_param["EF"] * adult_param["ED"]
    ADDdermNiW = add_upper_dermNiW / (adult_param["BW"] * adult_param["AT_non"])

    add_upper_dermCuW = ds["CuW"] * adult_param["CF"] * adult_param["SA"] * adult_param["SL"] * adult_param["ABS"] * adult_param["EF"] * adult_param["ED"]
    ADDdermCuW = add_upper_dermCuW / (adult_param["BW"] * adult_param["AT_non"])

    add_upper_dermAsW = ds["AsW"] * adult_param["CF"] * adult_param["SA"] * adult_param["SL"] * adult_param["ABS"] * adult_param["EF"] * adult_param["ED"]
    ADDdermAsW = add_upper_dermAsW / (adult_param["BW"] * adult_param["AT_non"])

    add_upper_dermCdW = ds["CdW"] * adult_param["CF"] * adult_param["SA"] * adult_param["SL"] * adult_param["ABS"] * adult_param["EF"] * adult_param["ED"]
    ADDdermCdW = add_upper_dermCdW / (adult_param["BW"] * adult_param["AT_non"])

    add_upper_dermPbW = ds["PbW"] * adult_param["CF"] * adult_param["SA"] * adult_param["SL"] * adult_param["ABS"] * adult_param["EF"] * adult_param["ED"]
    ADDdermPbW = add_upper_dermPbW / (adult_param["BW"] * adult_param["AT_non"])
    

    
    add_upper_dermCrR = ds["CrR"] * adult_param["CF"] * adult_param["SA"] * adult_param["SL"] * adult_param["ABS"] * adult_param["EF"] * adult_param["ED"]
    ADDdermCrR = add_upper_dermCrR / (adult_param["BW"] * adult_param["AT_non"])

    add_upper_dermNiR = ds["NiR"] * adult_param["CF"] * adult_param["SA"] * adult_param["SL"] * adult_param["ABS"] * adult_param["EF"] * adult_param["ED"]
    ADDdermNiR = add_upper_dermNiR / (adult_param["BW"] * adult_param["AT_non"])

    add_upper_dermCuR = ds["CuR"] * adult_param["CF"] * adult_param["SA"] * adult_param["SL"] * adult_param["ABS"] * adult_param["EF"] * adult_param["ED"]
    ADDdermCuR = add_upper_dermCuR / (adult_param["BW"] * adult_param["AT_non"])

    add_upper_dermAsR = ds["AsR"] * adult_param["CF"] * adult_param["SA"] * adult_param["SL"] * adult_param["ABS"] * adult_param["EF"] * adult_param["ED"]
    ADDdermAsR = add_upper_dermAsR / (adult_param["BW"] * adult_param["AT_non"])

    add_upper_dermCdR = ds["CdR"] * adult_param["CF"] * adult_param["SA"] * adult_param["SL"] * adult_param["ABS"] * adult_param["EF"] * adult_param["ED"]
    ADDdermCdR = add_upper_dermCdR / (adult_param["BW"] * adult_param["AT_non"])

    add_upper_dermPbR = ds["PbR"] * adult_param["CF"] * adult_param["SA"] * adult_param["SL"] * adult_param["ABS"] * adult_param["EF"] * adult_param["ED"]
    ADDdermPbR = add_upper_dermPbR / (adult_param["BW"] * adult_param["AT_non"])

    
    
    ADDCrR = ADDingCrR + ADDinhCrR + ADDdermCrR
    ADDNiR = ADDingNiR + ADDinhNiR + ADDdermNiR
    ADDCuR = ADDingCuR + ADDinhCuR + ADDdermCuR
    ADDAsR = ADDingAsR + ADDinhAsR + ADDdermAsR
    ADDCdR = ADDingCdR + ADDinhCdR + ADDdermCdR
    ADDPbR = ADDingPbR + ADDinhPbR + ADDdermPbR
    
    
    ADDCrW = ADDingCrW + ADDinhCrW + ADDdermCrW
    ADDNiW = ADDingNiW + ADDinhNiW + ADDdermNiW
    ADDCuW = ADDingCuW + ADDinhCuW + ADDdermCuW
    ADDAsW = ADDingAsW + ADDinhAsW + ADDdermAsW
    ADDCdW = ADDingCdW + ADDinhCdW + ADDdermCdW
    ADDPbW = ADDingPbW + ADDinhPbW + ADDdermPbW
    
    
    
    crR = ADDCrR / adult_param["RfDing"]["Cr"]
    niR = ADDNiR / adult_param["RfDing"]["Ni"]
    cuR = ADDCuR / adult_param["RfDing"]["Cu"]
    asR = ADDAsR / adult_param["RfDing"]["As"]
    cdR = ADDCdR / adult_param["RfDing"]["Cd"]
    pbR = ADDPbR / adult_param["RfDing"]["Pb"]
    
    crW = ADDCrW / adult_param["RfDing"]["Cr"]
    niW = ADDNiW / adult_param["RfDing"]["Ni"]
    cuW = ADDCuW / adult_param["RfDing"]["Cu"]
    asW = ADDAsW / adult_param["RfDing"]["As"]
    cdW = ADDCdW / adult_param["RfDing"]["Cd"]
    pbW = ADDPbW / adult_param["RfDing"]["Pb"]
    
    
    soil_r = pd.DataFrame({
        "Cr": crR,
        "Ni": niR,
        "Cu": cuR,
        "As": asR,
        "Cd": cdR,
        "Pb": pbR,
    })
    
    soil_w = pd.DataFrame({
    "Cr": crW,
    "Ni": niW,
    "Cu": cuW,
    "As": asW,
    "Cd": cdW,
    "Pb": pbW,
    
    })

    
    
    return soil_w.mean(), soil_r.mean()


df


asw, asr = hq_soil_adult(df)
csw,csr = hq_soil_child(df)


asw.mean(), asr.mean()


csw.mean(), csr.mean()








add_upper_ingCrW = df["CrW"] * adult_param["IRing"] * adult_param["CF"] * adult_param["EF"] * adult_param["ED"]
ADDingCrW = add_upper_ingCrW /  (adult_param["BW"] * adult_param["AT_non"])

add_upper_ingNiW = df["NiW"] * adult_param["IRing"] * adult_param["CF"] * adult_param["EF"] * adult_param["ED"]
ADDingNiW = add_upper_ingNiW /  (adult_param["BW"] * adult_param["AT_non"])

add_upper_ingCuW = df["CuW"] * adult_param["IRing"] * adult_param["CF"] * adult_param["EF"] * adult_param["ED"]
ADDingCuW = add_upper_ingCuW /  (adult_param["BW"] * adult_param["AT_non"])

add_upper_ingAsW = df["AsW"] * adult_param["IRing"] * adult_param["CF"] * adult_param["EF"] * adult_param["ED"]
ADDingAsW = add_upper_ingAsW /  (adult_param["BW"] * adult_param["AT_non"])

add_upper_ingCdW = df["CdW"] * adult_param["IRing"] * adult_param["CF"] * adult_param["EF"] * adult_param["ED"]
ADDingCdW = add_upper_ingCdW /  (adult_param["BW"] * adult_param["AT_non"])

add_upper_ingPbW = df["PbW"] * adult_param["IRing"] * adult_param["CF"] * adult_param["EF"] * adult_param["ED"]
ADDingPbW = add_upper_ingPbW /  (adult_param["BW"] * adult_param["AT_non"])



add_upper_ingCrR = df["CrR"] * adult_param["IRing"] * adult_param["CF"] * adult_param["EF"] * adult_param["ED"]
ADDingCrR = add_upper_ingCrR /  (adult_param["BW"] * adult_param["AT_non"])

add_upper_ingNiR = df["NiR"] * adult_param["IRing"] * adult_param["CF"] * adult_param["EF"] * adult_param["ED"]
ADDingNiR = add_upper_ingNiR /  (adult_param["BW"] * adult_param["AT_non"])

add_upper_ingCuR = df["CuR"] * adult_param["IRing"] * adult_param["CF"] * adult_param["EF"] * adult_param["ED"]
ADDingCuR = add_upper_ingCuR /  (adult_param["BW"] * adult_param["AT_non"])

add_upper_ingAsR = df["AsR"] * adult_param["IRing"] * adult_param["CF"] * adult_param["EF"] * adult_param["ED"]
ADDingAsR = add_upper_ingAsR /  (adult_param["BW"] * adult_param["AT_non"])

add_upper_ingCdR = df["CdR"] * adult_param["IRing"] * adult_param["CF"] * adult_param["EF"] * adult_param["ED"]
ADDingCdR = add_upper_ingCdR /  (adult_param["BW"] * adult_param["AT_non"])

add_upper_ingPbR = df["PbR"] * adult_param["IRing"] * adult_param["CF"] * adult_param["EF"] * adult_param["ED"]
ADDingPbR = add_upper_ingPbR /  (adult_param["BW"] * adult_param["AT_non"])


#inhalation
add_upper_inhCrW = df["CrW"] * adult_param["IRinh"]  * adult_param["EF"] * adult_param["ED"]
ADDinhCrW = add_upper_inhCrW /  (adult_param["PEF"] * adult_param["BW"] * adult_param["AT_non"])

add_upper_inhNiW = df["NiW"] * adult_param["IRinh"]  * adult_param["EF"] * adult_param["ED"]
ADDinhNiW = add_upper_inhNiW /  (adult_param["PEF"] * adult_param["BW"] * adult_param["AT_non"])

add_upper_inhCuW = df["CuW"] * adult_param["IRinh"]  * adult_param["EF"] * adult_param["ED"]
ADDinhCuW = add_upper_inhCuW /  (adult_param["PEF"] * adult_param["BW"] * adult_param["AT_non"])

add_upper_inhAsW = df["AsW"] * adult_param["IRinh"]  * adult_param["EF"] * adult_param["ED"]
ADDinhAsW = add_upper_inhAsW /  (adult_param["PEF"] * adult_param["BW"] * adult_param["AT_non"])

add_upper_inhCdW = df["CdW"] * adult_param["IRinh"]  * adult_param["EF"] * adult_param["ED"]
ADDinhCdW = add_upper_inhCdW /  (adult_param["PEF"] * adult_param["BW"] * adult_param["AT_non"])

add_upper_inhPbW = df["PbW"] * adult_param["IRinh"]  * adult_param["EF"] * adult_param["ED"]
ADDinhPbW = add_upper_inhPbW /  (adult_param["PEF"] * adult_param["BW"] * adult_param["AT_non"])



add_upper_inhCrR = df["CrR"] * adult_param["IRinh"]  * adult_param["EF"] * adult_param["ED"]
ADDinhCrR = add_upper_inhCrR /  (adult_param["PEF"] * adult_param["BW"] * adult_param["AT_non"])

add_upper_inhNiR = df["NiR"] * adult_param["IRinh"]  * adult_param["EF"] * adult_param["ED"]
ADDinhNiR = add_upper_inhNiR /  (adult_param["PEF"] * adult_param["BW"] * adult_param["AT_non"])

add_upper_inhCuR = df["CuR"] * adult_param["IRinh"]  * adult_param["EF"] * adult_param["ED"]
ADDinhCuR = add_upper_inhCuR /  (adult_param["PEF"] * adult_param["BW"] * adult_param["AT_non"])

add_upper_inhAsR = df["AsR"] * adult_param["IRinh"]  * adult_param["EF"] * adult_param["ED"]
ADDinhAsR = add_upper_inhAsR /  (adult_param["PEF"] * adult_param["BW"] * adult_param["AT_non"])

add_upper_inhCdR = df["CdR"] * adult_param["IRinh"]  * adult_param["EF"] * adult_param["ED"]
ADDinhCdR = add_upper_inhCdR /  (adult_param["PEF"] * adult_param["BW"] * adult_param["AT_non"])

add_upper_inhPbR = df["PbR"] * adult_param["IRinh"]  * adult_param["EF"] * adult_param["ED"]
ADDinhPbR = add_upper_inhPbR /  (adult_param["PEF"] * adult_param["BW"] * adult_param["AT_non"])



#dermal
add_upper_dermCrW = df["CrW"] * adult_param["CF"] * adult_param["SA"] * adult_param["SL"] * adult_param["ABS"] * adult_param["EF"] * adult_param["ED"]
ADDdermCrW = add_upper_dermCrW / (adult_param["BW"] * adult_param["AT_non"])

add_upper_dermNiW = df["NiW"] * adult_param["CF"] * adult_param["SA"] * adult_param["SL"] * adult_param["ABS"] * adult_param["EF"] * adult_param["ED"]
ADDdermNiW = add_upper_dermNiW / (adult_param["BW"] * adult_param["AT_non"])

add_upper_dermCuW = df["CuW"] * adult_param["CF"] * adult_param["SA"] * adult_param["SL"] * adult_param["ABS"] * adult_param["EF"] * adult_param["ED"]
ADDdermCuW = add_upper_dermCuW / (adult_param["BW"] * adult_param["AT_non"])

add_upper_dermAsW = df["AsW"] * adult_param["CF"] * adult_param["SA"] * adult_param["SL"] * adult_param["ABS"] * adult_param["EF"] * adult_param["ED"]
ADDdermAsW = add_upper_dermAsW / (adult_param["BW"] * adult_param["AT_non"])

add_upper_dermCdW = df["CdW"] * adult_param["CF"] * adult_param["SA"] * adult_param["SL"] * adult_param["ABS"] * adult_param["EF"] * adult_param["ED"]
ADDdermCdW = add_upper_dermCdW / (adult_param["BW"] * adult_param["AT_non"])

add_upper_dermPbW = df["PbW"] * adult_param["CF"] * adult_param["SA"] * adult_param["SL"] * adult_param["ABS"] * adult_param["EF"] * adult_param["ED"]
ADDdermPbW = add_upper_dermPbW / (adult_param["BW"] * adult_param["AT_non"])



add_upper_dermCrR = df["CrR"] * adult_param["CF"] * adult_param["SA"] * adult_param["SL"] * adult_param["ABS"] * adult_param["EF"] * adult_param["ED"]
ADDdermCrR = add_upper_dermCrR / (adult_param["BW"] * adult_param["AT_non"])

add_upper_dermNiR = df["NiR"] * adult_param["CF"] * adult_param["SA"] * adult_param["SL"] * adult_param["ABS"] * adult_param["EF"] * adult_param["ED"]
ADDdermNiR = add_upper_dermNiR / (adult_param["BW"] * adult_param["AT_non"])

add_upper_dermCuR = df["CuR"] * adult_param["CF"] * adult_param["SA"] * adult_param["SL"] * adult_param["ABS"] * adult_param["EF"] * adult_param["ED"]
ADDdermCuR = add_upper_dermCuR / (adult_param["BW"] * adult_param["AT_non"])

add_upper_dermAsR = df["AsR"] * adult_param["CF"] * adult_param["SA"] * adult_param["SL"] * adult_param["ABS"] * adult_param["EF"] * adult_param["ED"]
ADDdermAsR = add_upper_dermAsR / (adult_param["BW"] * adult_param["AT_non"])

add_upper_dermCdR = df["CdR"] * adult_param["CF"] * adult_param["SA"] * adult_param["SL"] * adult_param["ABS"] * adult_param["EF"] * adult_param["ED"]
ADDdermCdR = add_upper_dermCdR / (adult_param["BW"] * adult_param["AT_non"])

add_upper_dermPbR = df["PbR"] * adult_param["CF"] * adult_param["SA"] * adult_param["SL"] * adult_param["ABS"] * adult_param["EF"] * adult_param["ED"]
ADDdermPbR = add_upper_dermPbR / (adult_param["BW"] * adult_param["AT_non"])



ADDCrR = ADDingCrR + ADDinhCrR + ADDdermCrR
ADDNiR = ADDingNiR + ADDinhNiR + ADDdermNiR
ADDCuR = ADDingCuR + ADDinhCuR + ADDdermCuR
ADDAsR = ADDingAsR + ADDinhAsR + ADDdermAsR
ADDCdR = ADDingCdR + ADDinhCdR + ADDdermCdR
ADDPbR = ADDingPbR + ADDinhPbR + ADDdermPbR


ADDCrW = ADDingCrW + ADDinhCrW + ADDdermCrW
ADDNiW = ADDingNiW + ADDinhNiW + ADDdermNiW
ADDCuW = ADDingCuW + ADDinhCuW + ADDdermCuW
ADDAsW = ADDingAsW + ADDinhAsW + ADDdermAsW
ADDCdW = ADDingCdW + ADDinhCdW + ADDdermCdW
ADDPbW = ADDingPbW + ADDinhPbW + ADDdermPbW




ADDCrW


crR = ADDCrR / adult_param["RfDing"]["Cr"]
niR = ADDNiR / adult_param["RfDing"]["Ni"]
cuR = ADDCuR / adult_param["RfDing"]["Cu"]
asR = ADDAsR / adult_param["RfDing"]["As"]
cdR = ADDCdR / adult_param["RfDing"]["Cd"]
pbR = ADDPbR / adult_param["RfDing"]["Pb"]

crW = ADDCrW / adult_param["RfDing"]["Cr"]
niW = ADDNiW / adult_param["RfDing"]["Ni"]
cuW = ADDCuW / adult_param["RfDing"]["Cu"]
asW = ADDAsW / adult_param["RfDing"]["As"]
cdW = ADDCdW / adult_param["RfDing"]["Cd"]
pbW = ADDPbW / adult_param["RfDing"]["Pb"]


crW


soil_r = pd.DataFrame({
    "Cr": crR,
    "Ni": niR,
    "Cu": cuR,
    "As": asR,
    "Cd": cdR,
    "Pb": pbR,
})

soil_w = pd.DataFrame({
"Cr": crW,
"Ni": niW,
"Cu": cuW,
"As": asW,
"Cd": cdW,
"Pb": pbW,

})


soil_r.mean()


soil_w.mean()


soil_r.mean().sum()


soil_w.mean().sum()



















































