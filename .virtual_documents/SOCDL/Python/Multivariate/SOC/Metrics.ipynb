import pandas as pd
import numpy as np
import matplotlib.pyplot as plt
import seaborn as sns


def load_metrics(epochs):
    fname = f"epochs{epochs}/metrics.csv"
    metrics = pd.read_csv(fname)
    return metrics


epochs = 50


ep100 = load_metrics(epochs)
ep100


ep100.plot()


sns.barplot(ep100, x= "Model Category", y="Metrics", hue= "Model", palette= "Dark2")



