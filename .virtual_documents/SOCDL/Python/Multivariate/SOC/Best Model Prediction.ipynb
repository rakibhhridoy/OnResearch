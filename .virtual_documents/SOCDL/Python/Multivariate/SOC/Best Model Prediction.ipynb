import pandas as pd
import numpy as np
import matplotlib.pyplot as plt
import tensorflow as tf
from tensorflow.keras.models import Sequential
from tensorflow.keras.layers import Conv1D, MaxPooling1D, Flatten, Dense
from tensorflow.keras.layers import Conv1D
from tensorflow.keras.models import Sequential
from tensorflow.keras.layers import *
from tensorflow.keras.callbacks import ModelCheckpoint
from tensorflow.keras.losses import MeanSquaredError
from tensorflow.keras.metrics import RootMeanSquaredError
from tensorflow.keras.optimizers import Adam
from sklearn.model_selection import train_test_split
from tensorflow.keras.models import load_model
from sklearn.metrics import mean_squared_error as mse
from sklearn.metrics import mean_absolute_error as mae
from sklearn.metrics import r2_score as r2
from tensorflow import keras
from keras import layers


def load_data(file):
    df = pd.read_csv(file)
    df.drop(columns="Unnamed: 0", inplace= True)
    df = df.set_index("Date")
    return df

def plot_val(model,Nsample, xv, yv):
    val_predictions = model.predict(xv).flatten()
    val_results = pd.DataFrame(data={'Val Predictions':val_predictions, 'Actuals':yv})
    plt.plot(val_results['Val Predictions'][:Nsample])
    plt.plot(val_results['Actuals'][:Nsample])
    plt.title("Validation")
    plt.show()
    return val_results
    
def plot_test(model, Nsample, xtt, ytt):
    test_predictions = model.predict(xtt).flatten()
    test_results = pd.DataFrame(data={'Test Predictions':test_predictions, 'Actuals':ytt})
    plt.plot(test_results['Test Predictions'][:Nsample])
    plt.plot(test_results['Actuals'][:Nsample])
    plt.title("Test")
    plt.show()
    return test_results
    
def plot_predictions1(model, X, y, start=0, end=100):
    prediction = model.predict(X).flatten()
    df = pd.DataFrame(data={'Predictions':prediction, 'Actuals':y})
    plt.plot(df['Predictions'][start:end])
    plt.plot(df['Actuals'][start:end])
    plt.title("Predictions")
    plt.show()
    return df
    
def load_data_model(epochs):
    x_train = np.load(f"epochs{epochs}/x_train.npy")
    y_train = np.load(f"epochs{epochs}/y_train.npy")
    x_test  = np.load(f"epochs{epochs}/x_test.npy")
    y_test  = np.load(f"epochs{epochs}/y_test.npy")
    x_val   = np.load(f"epochs{epochs}/x_val.npy")
    y_val   = np.load(f"epochs{epochs}/y_val.npy")
    
    return x_train, y_train, x_test, y_test, x_val, y_val


epochs = 50
x_train, y_train, x_test, y_test, x_val, y_val = load_data_model(epochs)


metricsdf = pd.read_csv(f"epochs{epochs}/metricsT.csv", index_col= False)








metricsdf = pd.read_csv(f"../DOmetrics.csv", index_col= False)
metricsdf.drop(columns="index", inplace= True)


metricsdf.head(), metricsdf.tail()


rmse = metricsdf[metricsdf['Metrics'].str.contains('RMSE')]
rmse.describe()


rmse = metricsdf[metricsdf['Metrics'].str.contains('RMSE')]
mse = metricsdf[metricsdf['Metrics'].str.contains('MSE')]
mae = metricsdf[metricsdf['Metrics'].str.contains('MAE')]
r2 = metricsdf[metricsdf['Metrics'].str.contains('R2')]


print(rmse.groupby(["Model"]).min())
rmse.groupby(["Model"]).min().plot(kind= "bar")





epochs = 50
x_train, y_train, x_test, y_test, x_val, y_val = load_data_model(epochs)


model = load_model(f"epochs{epochs}/hybrid_rnn_gru/")
rnn_gru = plot_predictions1(model, x_test, y_test)





model = load_model(f"epochs{epochs}/hybrid_lstm_rnn_gru/")
lstm_rnn_gru = plot_predictions1(model, x_test, y_test)





model = load_model(f"epochs{epochs}/auto_rnn/")
auto_rnn = plot_predictions1(model, x_test, y_test)





model = load_model(f"epochs{epochs}/auto_lstm/")
auto_lstm = plot_predictions1(model, x_test, y_test)


rnn_gru


df = pd.DataFrame()
df["RNN GRU P"] = rnn_gru["Predictions"]
df["LSTM RNN GRU P"] = lstm_rnn_gru["Predictions"]
df["DReg RNN P"] = auto_rnn["Predictions"]
df["DReg LSTM P"] = auto_lstm["Predictions"]
df["Actuals"] = y_test


df.plot()


df.to_csv("../prediction/DOoverall.csv", index= False)





mvgdf = metricsdf[metricsdf['Model Category'].str.contains('MA')]
mvgdf = mvgdf[mvgdf['Metrics'].str.contains('RMSE')]


print(mvgdf.groupby(["Model"]).min())
mvgdf.groupby(["Model"]).min().plot(kind= "bar")





epochs = 50
x_train, y_train, x_test, y_test, x_val, y_val = load_data_model(epochs)


model = load_model(f"epochs{epochs}/mavg_hybrid_rnn_gru/")
rnn_gru = plot_predictions1(model, x_test, y_test)





model = load_model(f"epochs{epochs}/mavg_hybrid_lstm_rnn_gru/")
lstm_rnn_gru = plot_predictions1(model, x_test, y_test)





model = load_model(f"epochs{epochs}/mavg_rnn/")
rnn = plot_predictions1(model, x_test, y_test)





model = load_model(f"epochs{epochs}/mavg_hybrid_rnn_lstm/")
rnn_lstm = plot_predictions1(model, x_test, y_test)


df = pd.DataFrame()
df["MA HY RNN GRU"] = rnn_gru["Predictions"]
df["MA HY LSTM RNN GRU"] = lstm_rnn_gru["Predictions"]
df["MA HY RNN LSTM"] = rnn_lstm["Predictions"]
df["MA RNN"] = rnn["Predictions"]
df["Actuals"] = y_test


df.plot()


df.to_csv("../prediction/DOmavg.csv", index= False)





mvgdf = metricsdf[metricsdf['Model Category'].str.contains('DReg')]
mvgdf = mvgdf[mvgdf['Metrics'].str.contains('RMSE')]


mvgdf.head()


print(mvgdf.groupby(["Model"]).min())
mvgdf.groupby(["Model"]).min().plot(kind= "bar")





model = load_model(f"epochs{epochs}/auto_rnn/")
rnn = plot_predictions1(model, x_test, y_test)





model = load_model(f"epochs{epochs}/auto_lstm/")
lstm = plot_predictions1(model, x_test, y_test)





model = load_model(f"epochs{epochs}/auto_gru/")
gru = plot_predictions1(model, x_test, y_test)


df = pd.DataFrame()
df["DReg RNN"] = rnn["Predictions"]
df["Dreg LSTM"] = lstm["Predictions"]
df["Dreg GRU"] = gru["Predictions"]
df["Actuals"] = y_test


df.plot()


df.to_csv("../prediction/DOdreg.csv", index= False)





mvgdf = metricsdf[metricsdf['Model Category'].str.contains('DReg')]
mvgdf = mvgdf[mvgdf['Metrics'].str.contains('RMSE')]
mvgdf = mvgdf[mvgdf['Model Category'].str.contains('MA DReg')]


mvgdf.head()


print(mvgdf.groupby(["Model"]).min())
mvgdf.groupby(["Model"]).min().plot(kind= "bar")





model = load_model(f"epochs{epochs}/mavg_auto_rnn/")
rnn = plot_predictions1(model, x_test, y_test)





model = load_model(f"epochs{epochs}/mavg_auto_lstm/")
lstm = plot_predictions1(model, x_test, y_test)





model = load_model(f"epochs{epochs}/mavg_auto_gru/")
gru = plot_predictions1(model, x_test, y_test)


df = pd.DataFrame()
df["MA DReg RNN"] = rnn["Predictions"]
df["MA Dreg LSTM"] = lstm["Predictions"]
df["MA Dreg GRU"] = gru["Predictions"]
df["Actuals"] = y_test


df.plot()


df.to_csv("../prediction/DOmadreg.csv", index= False)


ov = pd.read_csv("../prediction/DOoverall.csv", index_col= False)
mvg = pd.read_csv("../prediction/DOmavg.csv", index_col= False)
dreg = pd.read_csv("../prediction/DOdreg.csv", index_col= False)
mvgdreg = pd.read_csv("../prediction/DOmadreg.csv", index_col= False)


ov.columns = ['OV RNN GRU', 'OV LSTM RNN GRU', 'OV DReg RNN', ' OV DReg LSTM', 'Actuals']


mvgdreg.columns


df = ov[['OV RNN GRU', 'OV LSTM RNN GRU', 'OV DReg RNN', ' OV DReg LSTM']]
df[['MA HY RNN GRU', 'MA HY LSTM RNN GRU', 'MA HY RNN LSTM', 'MA RNN']] = mvg[['MA HY RNN GRU', 'MA HY LSTM RNN GRU', 'MA HY RNN LSTM', 'MA RNN']]
df[['DReg RNN', 'Dreg LSTM', 'Dreg GRU']] = dreg[['DReg RNN', 'Dreg LSTM', 'Dreg GRU']]
df[['MA DReg RNN', 'MA Dreg LSTM', 'MA Dreg GRU', "Actuals"]] = mvgdreg[['MA DReg RNN', 'MA Dreg LSTM', 'MA Dreg GRU', "Actuals"]]
df.head()


df.columns = ['OV RNN GRU', 'OV LSTM RNN GRU', 'OV DReg RNN', ' OV DReg LSTM',
       'MA HY RNN GRU', 'MA HY LSTM RNN GRU', 'MA HY RNN LSTM', 'MA RNN',
       'DReg RNN', 'DReg LSTM', 'DReg GRU', 'MA DReg RNN', 'MA DReg LSTM',
       'MA DReg GRU', 'Actuals']


df.to_csv("../prediction/DOBest.csv")








metricsdf = pd.read_csv(f"../BODmetrics.csv", index_col= False)
metricsdf.drop(columns="index", inplace= True)


metricsdf.head(), metricsdf.tail()


rmse = metricsdf[metricsdf['Metrics'].str.contains('RMSE')]
rmse.describe()


rmse = metricsdf[metricsdf['Metrics'].str.contains('RMSE')]
mse = metricsdf[metricsdf['Metrics'].str.contains('MSE')]
mae = metricsdf[metricsdf['Metrics'].str.contains('MAE')]
r2 = metricsdf[metricsdf['Metrics'].str.contains('R2')]


print(rmse.groupby(["Model"]).min())
rmse.groupby(["Model"]).min().plot(kind= "bar")





epochs = 50
x_train, y_train, x_test, y_test, x_val, y_val = load_data_model(epochs)


model = load_model(f"epochs{epochs}/hybrid_rnn_gru/")
rnn_gru = plot_predictions1(model, x_test, y_test)





model = load_model(f"epochs{epochs}/hybrid_lstm_rnn_gru/")
lstm_rnn_gru = plot_predictions1(model, x_test, y_test)





model = load_model(f"epochs{epochs}/auto_rnn/")
auto_rnn = plot_predictions1(model, x_test, y_test)





model = load_model(f"epochs{epochs}/auto_lstm/")
auto_lstm = plot_predictions1(model, x_test, y_test)


rnn_gru


df = pd.DataFrame()
df["RNN GRU P"] = rnn_gru["Predictions"]
df["LSTM RNN GRU P"] = lstm_rnn_gru["Predictions"]
df["DReg RNN P"] = auto_rnn["Predictions"]
df["DReg LSTM P"] = auto_lstm["Predictions"]
df["Actuals"] = y_test


df.plot()


df.to_csv("../prediction/BODoverall.csv", index= False)








mvgdf = metricsdf[metricsdf['Model Category'].str.contains('MA')]
mvgdf = mvgdf[mvgdf['Metrics'].str.contains('RMSE')]


print(mvgdf.groupby(["Model"]).min())
mvgdf.groupby(["Model"]).min().plot(kind= "bar")





epochs = 50
x_train, y_train, x_test, y_test, x_val, y_val = load_data_model(epochs)


model = load_model(f"epochs{epochs}/mavg_hybrid_rnn_gru/")
rnn_gru = plot_predictions1(model, x_test, y_test)





model = load_model(f"epochs{epochs}/mavg_hybrid_lstm_rnn_gru/")
lstm_rnn_gru = plot_predictions1(model, x_test, y_test)





model = load_model(f"epochs{epochs}/mavg_rnn/")
rnn = plot_predictions1(model, x_test, y_test)





model = load_model(f"epochs{epochs}/mavg_hybrid_rnn_lstm/")
rnn_lstm = plot_predictions1(model, x_test, y_test)


df = pd.DataFrame()
df["MA HY RNN GRU"] = rnn_gru["Predictions"]
df["MA HY LSTM RNN GRU"] = lstm_rnn_gru["Predictions"]
df["MA HY RNN LSTM"] = rnn_lstm["Predictions"]
df["MA RNN"] = rnn["Predictions"]
df["Actuals"] = y_test


df.plot()


df.to_csv("../prediction/BODmavg.csv", index= False)





mvgdf = metricsdf[metricsdf['Model Category'].str.contains('DReg')]
mvgdf = mvgdf[mvgdf['Metrics'].str.contains('RMSE')]


mvgdf.head()


print(mvgdf.groupby(["Model"]).min())
mvgdf.groupby(["Model"]).min().plot(kind= "bar")





model = load_model(f"epochs{epochs}/auto_rnn/")
rnn = plot_predictions1(model, x_test, y_test)





model = load_model(f"epochs{epochs}/auto_lstm/")
lstm = plot_predictions1(model, x_test, y_test)





model = load_model(f"epochs{epochs}/auto_gru/")
gru = plot_predictions1(model, x_test, y_test)


df = pd.DataFrame()
df["DReg RNN"] = rnn["Predictions"]
df["Dreg LSTM"] = lstm["Predictions"]
df["Dreg GRU"] = gru["Predictions"]
df["Actuals"] = y_test


df.plot()


df.to_csv("../prediction/BODdreg.csv", index= False)





mvgdf = metricsdf[metricsdf['Model Category'].str.contains('DReg')]
mvgdf = mvgdf[mvgdf['Metrics'].str.contains('RMSE')]
mvgdf = mvgdf[mvgdf['Model Category'].str.contains('MA DReg')]


mvgdf.head()


print(mvgdf.groupby(["Model"]).min())
mvgdf.groupby(["Model"]).min().plot(kind= "bar")





model = load_model(f"epochs{epochs}/mavg_auto_rnn/")
rnn = plot_predictions1(model, x_test, y_test)





model = load_model(f"epochs{epochs}/mavg_auto_lstm/")
lstm = plot_predictions1(model, x_test, y_test)





model = load_model(f"epochs{epochs}/mavg_auto_gru/")
gru = plot_predictions1(model, x_test, y_test)


df = pd.DataFrame()
df["MA DReg RNN"] = rnn["Predictions"]
df["MA Dreg LSTM"] = lstm["Predictions"]
df["MA Dreg GRU"] = gru["Predictions"]
df["Actuals"] = y_test


df.plot()


df.to_csv("../prediction/BODmadreg.csv", index= False)


ov = pd.read_csv("../prediction/BODoverall.csv", index_col= False)
mvg = pd.read_csv("../prediction/BODmavg.csv", index_col= False)
dreg = pd.read_csv("../prediction/BODdreg.csv", index_col= False)
mvgdreg = pd.read_csv("../prediction/BODmadreg.csv", index_col= False)


df = pd.concat([ov, mvg, dreg, mvgdreg], axis=1)
df.head()


df.columns = ['OV RNN GRU', 'OV LSTM RNN GRU', 'OV DReg RNN', 'OV DReg LSTM', 'Actuals',
       'MA HY RNN GRU', 'MA HY LSTM RNN GRU', 'MA HY RNN LSTM', 'MA RNN',
       'Actuals', 'DReg RNN', 'Dreg LSTM', 'Dreg GRU', 'Actuals',
       'MA DReg RNN', 'MA Dreg LSTM', 'MA Dreg GRU', 'Actuals']


df = df.drop(columns= "Actuals")
df.head()


df["Actuals"] = ov["Actuals"]


df.to_csv("../prediction/BODBest.csv")


print(rmse.groupby(["Model"]).max())
rmse.groupby(["Model"]).max().plot(kind= "bar")












