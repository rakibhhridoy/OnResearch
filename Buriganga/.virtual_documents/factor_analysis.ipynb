import pandas as pd
from sklearn import preprocessing
import seaborn as sns
from factor_analyzer import FactorAnalyzer


summer = pd.read_csv("data/Buriganga_S.csv")


def fac(data):
    scaled = pd.DataFrame(preprocessing.scale(data))
    fa = FactorAnalyzer(n_factors=4, rotation="varimax")
    fa.fit(X= scaled)
    return fa
    


summer


sample = summer.drop(columns="SamplingPoint")


sample


scaled = preprocessing.scale(sample)


scaled


scaled = pd.DataFrame(data= scaled)


scaled.corr()


fa = FactorAnalyzer(n_factors=4, rotation="varimax")


fa.fit(X= scaled)


fa.loadings_


fa.rotation_matrix_


fa.get_communalities()


fa.get_eigenvalues()


fa.get_uniquenesses()


fa.get_factor_variance()


load_s = pd.DataFrame(fa.loadings_)
load_s


load_s.to_excel("fa_summer.xlsx")


load_s


winter = pd.read_csv("data/Buriganga_W .csv")





sample = winter.drop(columns="SamplingPoint")


fa = fac(sample)
fa


fa.loadings_


load_w = pd.DataFrame(fa.loadings_)


load_w.to_excel("Fa_winter.xlsx")


load_w


fa.get_factor_variance()





msummer = pd.read_excel("data/microbio_summer.xlsx")
mwinter = pd.read_excel("data/microbio_winter.xlsx")

msummer


msummer.drop(columns="Sampling Point", inplace=True)
mwinter.drop(columns="Sampling Point", inplace=True)


sfa = fac(msummer)
wfa = fac(mwinter)


sfa.loadings_


wfa.loadings_


sloads = sfa.loadings_
wloads = wfa.loadings_


sfa.get_factor_variance()


91.59+2.10


wfa.get_factor_variance()


sloads[0][1]


sloads = pd.DataFrame(data=sloads)
wloads = pd.DataFrame(data=wloads)
sloads


sloads.columns = ["Factor 1", "Factor 2", "Factor 3", "Factor 4"]
wloads.columns = ["Factor 1", "Factor 2", "Factor 3", "Factor 4"]
sloads


wloads


mfactor = pd.DataFrame(data={
    "Factor 1 W": wloads["Factor 1"],
    "Factor 1 S": sloads["Factor 1"],
    "Factor 2 W": wloads["Factor 2"],
    "Factor 2 S": sloads["Factor 2"],
    "Factor 3 W": wloads["Factor 3"],
    "Factor 3 S": sloads["Factor 3"],
    "Factor 4 W": wloads["Factor 4"],
    "Factor 4 S": sloads["Factor 4"]
})


mfactor


mfactor.to_csv("MicroBiology_Factor_Analysis.csv")


mwinter.drop(columns= ['NH4+  (mg/l)', 'NO3 (mg/l)', 'Phosphate(mg/l)', 'Sulfates(mg/l)'], inplace=True)
msummer.drop(columns= ['NH4+  (mg/l)', 'NO3 (mg/l)', 'P (mg/l)', 'S (mg/l)'], inplace= True)


msummer.columns





msummer


summer


sd = pd.concat([summer, msummer], axis = 1)
wd = pd.concat([winter, mwinter], axis = 1)
sd


sd.to_csv("summer_data_all_param.csv")
wd.to_csv("winter_data_all_param.csv")


sd.info()


wd.info()


sd.drop(columns="SamplingPoint", inplace=True)
wd.drop(columns="SamplingPoint", inplace=True)


sd


wd


wfa = fac(wd)
sfa = fac(sd)


sloads = sfa.loadings_
wloads = wfa.loadings_


sloads = pd.DataFrame(data=sloads)
wloads = pd.DataFrame(data=wloads)


sloads.columns = ["Factor 1", "Factor 2", "Factor 3", "Factor 4"]
wloads.columns = ["Factor 1", "Factor 2", "Factor 3", "Factor 4"]


factor = pd.DataFrame(data={
    "Factor 1 W": wloads["Factor 1"],
    "Factor 1 S": sloads["Factor 1"],
    "Factor 2 W": wloads["Factor 2"],
    "Factor 2 S": sloads["Factor 2"],
    "Factor 3 W": wloads["Factor 3"],
    "Factor 3 S": sloads["Factor 3"],
    "Factor 4 W": wloads["Factor 4"],
    "Factor 4 S": sloads["Factor 4"]
})


factor


factor.to_csv("Factor_Analysis_All_Param.csv")





wfa.get_factor_variance()


sfa.get_factor_variance()


39.75 + 16.60




































