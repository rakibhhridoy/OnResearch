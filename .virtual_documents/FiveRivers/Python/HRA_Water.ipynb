import pandas as pd


df = pd.read_csv("data/HM_Water.csv", index_col="Station")
df


df.columns


param_adult= {
    "IR" : 2.5,
    "EF": 365,
    "ED": 70,
    "BW": 70,
    "AT": 365 * 70,
    "SA": 18000,
    "ET": 0.58,
    "CF": 10**-3,
    'Kp': {
        "Mn": 0.001,
        "Cr": 0.002,
        "Ni": 0.0002,
        "Cu": 0.001,
        "Zn": 0.0006,
        "As": 0.001,
        "Cd": 0.001,
        "Hg": 0.001,
        "Pb": 0.0001
    },
    'RfDing': {
        "Mn": 0.024,
        "Cr": 0.003,
        "Ni": 0.025,
        "Cu": 0.04,
        "Zn": 0.3,
        "As": 0.0003,
        "Cd": 0.0005,
        "Hg": 0.00016,
        "Pb": 0.0035
    },
    "RfDderm": {
        "Mn": 0.00096,
        "Cr": 0.0195,
        "Ni": 0.0054,
        "Cu": 0.04,
        "Zn": 0.06,
        "As": 0.0003,
        "Cd": 0.000025,
        "Hg": 0.00016,
        "Pb": 0.042
        
    },
    "CSFing": {
        "Cd": 0.38,
        "Cr": 0.5,
        "As": 1.5,
        "Pb": 0.0085,
        "Ni": 1.7,
        "Cu": 1.7
    },
    "CSFderm": {
        "Cd": 0.38,
        "Cr": 0.5,
        "As": 1.5,
        "Pb": 0.0085,
        "Ni": 1.7,
        "Cu": 42.5
    }
    

}

param_child= {
    "IR" : 0.64,
    "EF": 365,
    "ED": 6,
    "BW": 25,
    "AT": 365 * 6,
    "SA": 6600,
    "ET": 1,
    "CF": 10**-3,
    'Kp': {
        "Mn": 0.001,
        "Cr": 0.002,
        "Ni": 0.0002,
        "Cu": 0.001,
        "Zn": 0.0006,
        "As": 0.001,
        "Cd": 0.001,
        "Hg": 0.001,
        "Pb": 0.0001
    },
    'RfDing': {
        "Mn": 0.024,
        "Cr": 0.003,
        "Ni": 0.025,
        "Cu": 0.04,
        "Zn": 0.3,
        "As": 0.0003,
        "Cd": 0.0005,
        "Hg": 0.00016,
        "Pb": 0.0035
    },
    "RfDderm": {
        "Mn": 0.00096,
        "Cr": 0.0195,
        "Ni": 0.0054,
        "Cu": 0.04,
        "Zn": 0.06,
        "As": 0.0003,
        "Cd": 0.000025,
        "Hg": 0.00016,
        "Pb": 0.042
    },
    "CSFing": {
        "Cd": 0.38,
        "Cr": 0.5,
        "As": 1.5,
        "Pb": 0.0085,
        "Ni": 1.7,
        "Cu": 1.7
    },
    "CSFderm": {
        "Cd": 0.38,
        "Cr": 0.5,
        "As": 1.5,
        "Pb": 0.0085,
        "Ni": 1.7,
        "Cu": 42.5
    }
    

}








shil = pd.DataFrame(data={
    "Cd": df.CdW,
    "Cr": df.CrW,
    "Ni": df.NiW,
    "Cu": df.CuW,
    "As": df.AsW,
    "Pb": df.PbW,
})

Cr = (shil["Cr"] * param_adult["IR"] * param_adult["EF"] * param_adult["ED"])/ (param_adult["BW"]* param_adult["AT"])
Ni = (shil["Ni"] * param_adult["IR"] * param_adult["EF"] * param_adult["ED"])/ (param_adult["BW"]* param_adult["AT"])
Cu = (shil["Cu"] * param_adult["IR"] * param_adult["EF"] * param_adult["ED"])/ (param_adult["BW"]* param_adult["AT"])
As = (shil["As"] * param_adult["IR"] * param_adult["EF"] * param_adult["ED"])/ (param_adult["BW"]* param_adult["AT"])
Cd = (shil["Cd"] * param_adult["IR"] * param_adult["EF"] * param_adult["ED"])/ (param_adult["BW"]* param_adult["AT"])
Pb = (shil["Pb"] * param_adult["IR"] * param_adult["EF"] * param_adult["ED"])/ (param_adult["BW"]* param_adult["AT"])

cdi_ing = pd.DataFrame(data = {
    "Cr": Cr,
    "Ni": Ni,
    "Cu": Cu,
    "As": As,
    "Cd": Cd,
    "Pb": Pb
})

hqCr = cdi_ing["Cr"] / param_adult["RfDing"]["Cr"]
hqCu = cdi_ing["Cu"] / param_adult["RfDing"]["Cu"]
hqAs = cdi_ing["As"] / param_adult["RfDing"]["As"]
hqCd = cdi_ing["Cd"] / param_adult["RfDing"]["Cd"]
hqPb = cdi_ing["Pb"] / param_adult["RfDing"]["Pb"]
hqNi = cdi_ing["Ni"] / param_adult["RfDing"]["Ni"]

hq_ingwa = pd.DataFrame(data = {
    "Cr": hqCr,
    "Ni": hqNi,
    "Cu": hqCu,
    "As": hqAs,
    "Cd": hqCd,
    "Pb": hqPb
})

Cr = (shil["Cr"] * param_adult["SA"] * param_adult["Kp"]["Cr"] * param_adult["ET"] * param_adult["EF"] * param_adult["ED"] * param_adult["CF"])/ (param_adult["BW"]* param_adult["AT"])
Ni = (shil["Ni"] * param_adult["SA"] * param_adult["Kp"]["Ni"] * param_adult["ET"] * param_adult["EF"] * param_adult["ED"] * param_adult["CF"])/ (param_adult["BW"]* param_adult["AT"])
Cu = (shil["Cu"] * param_adult["SA"] * param_adult["Kp"]["Cu"] * param_adult["ET"] * param_adult["EF"] * param_adult["ED"] * param_adult["CF"])/ (param_adult["BW"]* param_adult["AT"])
As = (shil["As"] * param_adult["SA"] * param_adult["Kp"]["As"] * param_adult["ET"] * param_adult["EF"] * param_adult["ED"] * param_adult["CF"])/ (param_adult["BW"]* param_adult["AT"])
Cd = (shil["Cd"] * param_adult["SA"] * param_adult["Kp"]["Cd"] * param_adult["ET"] * param_adult["EF"] * param_adult["ED"] * param_adult["CF"])/ (param_adult["BW"]* param_adult["AT"])
Pb = (shil["Pb"] * param_adult["SA"] * param_adult["Kp"]["Pb"] * param_adult["ET"] * param_adult["EF"] * param_adult["ED"] * param_adult["CF"])/ (param_adult["BW"]* param_adult["AT"])

cdi_derm = pd.DataFrame(data = {
    "Cr": Cr,
    "Ni": Ni,
    "Cu": Cu,
    "As": As,
    "Cd": Cd,
    "Pb": Pb
})

hqCr = cdi_derm["Cr"] / param_adult["RfDderm"]["Cr"]
hqCu = cdi_derm["Cu"] / param_adult["RfDderm"]["Cu"]
hqAs = cdi_derm["As"] / param_adult["RfDderm"]["As"]
hqCd = cdi_derm["Cd"] / param_adult["RfDderm"]["Cd"]
hqPb = cdi_derm["Pb"] / param_adult["RfDderm"]["Pb"]
hqNi = cdi_derm["Ni"] / param_adult["RfDderm"]["Ni"]

hq_dermwa = pd.DataFrame(data = {
    "Cr": hqCr,
    "Ni": hqNi,
    "Cu": hqCu,
    "As": hqAs,
    "Cd": hqCd,
    "Pb": hqPb
})

hi = hq_dermwa + hq_ingwa
hiwa = hi.sum(axis=1)



shil = pd.DataFrame(data={
    "Cd": df.CdW,
    "Cr": df.CrW,
    "Ni": df.NiW,
    "Cu": df.CuW,
    "As": df.AsW,
    "Pb": df.PbW,
})

Cr = (shil["Cr"] * param_adult["IR"] * param_adult["EF"] * param_adult["ED"])/ (param_adult["BW"]* param_adult["AT"])
Ni = (shil["Ni"] * param_adult["IR"] * param_adult["EF"] * param_adult["ED"])/ (param_adult["BW"]* param_adult["AT"])
Cu = (shil["Cu"] * param_adult["IR"] * param_adult["EF"] * param_adult["ED"])/ (param_adult["BW"]* param_adult["AT"])
As = (shil["As"] * param_adult["IR"] * param_adult["EF"] * param_adult["ED"])/ (param_adult["BW"]* param_adult["AT"])
Cd = (shil["Cd"] * param_adult["IR"] * param_adult["EF"] * param_adult["ED"])/ (param_adult["BW"]* param_adult["AT"])
Pb = (shil["Pb"] * param_adult["IR"] * param_adult["EF"] * param_adult["ED"])/ (param_adult["BW"]* param_adult["AT"])

cdi_ing = pd.DataFrame(data = {
    "Cr": Cr,
    "Ni": Ni,
    "Cu": Cu,
    "As": As,
    "Cd": Cd,
    "Pb": Pb
})

Cr = (shil["Cr"] * param_adult["SA"] * param_adult["Kp"]["Cr"] * param_adult["ET"] * param_adult["EF"] * param_adult["ED"] * param_adult["CF"])/ (param_adult["BW"]* param_adult["AT"])
Ni = (shil["Ni"] * param_adult["SA"] * param_adult["Kp"]["Ni"] * param_adult["ET"] * param_adult["EF"] * param_adult["ED"] * param_adult["CF"])/ (param_adult["BW"]* param_adult["AT"])
Cu = (shil["Cu"] * param_adult["SA"] * param_adult["Kp"]["Cu"] * param_adult["ET"] * param_adult["EF"] * param_adult["ED"] * param_adult["CF"])/ (param_adult["BW"]* param_adult["AT"])
As = (shil["As"] * param_adult["SA"] * param_adult["Kp"]["As"] * param_adult["ET"] * param_adult["EF"] * param_adult["ED"] * param_adult["CF"])/ (param_adult["BW"]* param_adult["AT"])
Cd = (shil["Cd"] * param_adult["SA"] * param_adult["Kp"]["Cd"] * param_adult["ET"] * param_adult["EF"] * param_adult["ED"] * param_adult["CF"])/ (param_adult["BW"]* param_adult["AT"])
Pb = (shil["Pb"] * param_adult["SA"] * param_adult["Kp"]["Pb"] * param_adult["ET"] * param_adult["EF"] * param_adult["ED"] * param_adult["CF"])/ (param_adult["BW"]* param_adult["AT"])

cdi_derm = pd.DataFrame(data = {
    "Cr": Cr,
    "Ni": Ni,
    "Cu": Cu,
    "As": As,
    "Cd": Cd,
    "Pb": Pb
})

Cd = cdi_ing.Cd * param_adult["CSFing"]["Cd"]
Cr = cdi_ing.Cr * param_adult["CSFing"]["Cr"]
As = cdi_ing.As * param_adult["CSFing"]["As"]
Pb = cdi_ing.Pb * param_adult["CSFing"]["Pb"]
Ni = cdi_ing.Ni * param_adult["CSFing"]["Ni"]
Cu = cdi_ing.Cu * param_adult["CSFing"]["Cu"]

ilcr_ingwa = pd.DataFrame(data={
    "Cd": Cd,
    "Cr": Cr,
    "As": As,
    "Pb": Pb,
    "Ni": Ni,
    "Cu": Cu
})

Cd = cdi_derm.Cd * param_adult["CSFderm"]["Cd"]
Cr = cdi_derm.Cr * param_adult["CSFderm"]["Cr"]
As = cdi_derm.As * param_adult["CSFderm"]["As"]
Pb = cdi_derm.Pb * param_adult["CSFderm"]["Pb"]
Ni = cdi_derm.Ni * param_adult["CSFderm"]["Ni"]
Cu = cdi_derm.Cu * param_adult["CSFderm"]["Cu"]

ilcr_dermwa = pd.DataFrame(data={
    "Cd": Cd,
    "Cr": Cr,
    "As": As,
    "Pb": Pb,
    "Ni": Ni,
    "Cu": Cu
})

ilcr = ilcr_ingwa + ilcr_dermwa
ilcr_wadult = ilcr.sum(axis=1)





shil = pd.DataFrame(data={
    "Cd": df.CdR,
    "Cr": df.CrR,
    "Ni": df.NiR,
    "Cu": df.CuR,
    "As": df.AsR,
    "Pb": df.PbR,
})

Cr = (shil["Cr"] * param_adult["IR"] * param_adult["EF"] * param_adult["ED"]) / (param_adult["BW"] * param_adult["AT"])
Ni = (shil["Ni"] * param_adult["IR"] * param_adult["EF"] * param_adult["ED"]) / (param_adult["BW"] * param_adult["AT"])
Cu = (shil["Cu"] * param_adult["IR"] * param_adult["EF"] * param_adult["ED"]) / (param_adult["BW"] * param_adult["AT"])
As = (shil["As"] * param_adult["IR"] * param_adult["EF"] * param_adult["ED"]) / (param_adult["BW"] * param_adult["AT"])
Cd = (shil["Cd"] * param_adult["IR"] * param_adult["EF"] * param_adult["ED"]) / (param_adult["BW"] * param_adult["AT"])
Pb = (shil["Pb"] * param_adult["IR"] * param_adult["EF"] * param_adult["ED"]) / (param_adult["BW"] * param_adult["AT"])

cdi_ing = pd.DataFrame(data={
    "Cr": Cr,
    "Ni": Ni,
    "Cu": Cu,
    "As": As,
    "Cd": Cd,
    "Pb": Pb
})

Cr = (shil["Cr"] * param_adult["SA"] * param_adult["Kp"]["Cr"] * param_adult["ET"] * param_adult["EF"] * param_adult["ED"] * param_adult["CF"]) / (param_adult["BW"] * param_adult["AT"])
Ni = (shil["Ni"] * param_adult["SA"] * param_adult["Kp"]["Ni"] * param_adult["ET"] * param_adult["EF"] * param_adult["ED"] * param_adult["CF"]) / (param_adult["BW"] * param_adult["AT"])
Cu = (shil["Cu"] * param_adult["SA"] * param_adult["Kp"]["Cu"] * param_adult["ET"] * param_adult["EF"] * param_adult["ED"] * param_adult["CF"]) / (param_adult["BW"] * param_adult["AT"])
As = (shil["As"] * param_adult["SA"] * param_adult["Kp"]["As"] * param_adult["ET"] * param_adult["EF"] * param_adult["ED"] * param_adult["CF"]) / (param_adult["BW"] * param_adult["AT"])
Cd = (shil["Cd"] * param_adult["SA"] * param_adult["Kp"]["Cd"] * param_adult["ET"] * param_adult["EF"] * param_adult["ED"] * param_adult["CF"]) / (param_adult["BW"] * param_adult["AT"])
Pb = (shil["Pb"] * param_adult["SA"] * param_adult["Kp"]["Pb"] * param_adult["ET"] * param_adult["EF"] * param_adult["ED"] * param_adult["CF"]) / (param_adult["BW"] * param_adult["AT"])

cdi_derm = pd.DataFrame(data={
    "Cr": Cr,
    "Ni": Ni,
    "Cu": Cu,
    "As": As,
    "Cd": Cd,
    "Pb": Pb
})

hqCr = cdi_ing["Cr"] / param_adult["RfDing"]["Cr"]
hqCu = cdi_ing["Cu"] / param_adult["RfDing"]["Cu"]
hqAs = cdi_ing["As"] / param_adult["RfDing"]["As"]
hqCd = cdi_ing["Cd"] / param_adult["RfDing"]["Cd"]
hqPb = cdi_ing["Pb"] / param_adult["RfDing"]["Pb"]
hqNi = cdi_ing["Ni"] / param_adult["RfDing"]["Ni"]

hq_ingsa = pd.DataFrame(data={
    "Cr": hqCr,
    "Ni": hqNi,
    "Cu": hqCu,
    "As": hqAs,
    "Cd": hqCd,
    "Pb": hqPb
})

hqCr = cdi_derm["Cr"] / param_adult["RfDderm"]["Cr"]
hqCu = cdi_derm["Cu"] / param_adult["RfDderm"]["Cu"]
hqAs = cdi_derm["As"] / param_adult["RfDderm"]["As"]
hqCd = cdi_derm["Cd"] / param_adult["RfDderm"]["Cd"]
hqPb = cdi_derm["Pb"] / param_adult["RfDderm"]["Pb"]
hqNi = cdi_derm["Ni"] / param_adult["RfDderm"]["Ni"]

hq_dermsa = pd.DataFrame(data={
    "Cr": hqCr,
    "Ni": hqNi,
    "Cu": hqCu,
    "As": hqAs,
    "Cd": hqCd,
    "Pb": hqPb
})

hi = hq_dermsa + hq_ingsa
hisa = hi.sum(axis=1)



shil = pd.DataFrame(data={
    "Cd": df.CdR,
    "Cr": df.CrR,
    "Ni": df.NiR,
    "Cu": df.CuR,
    "As": df.AsR,
    "Pb": df.PbR,
})

Cr = (shil["Cr"] * param_adult["IR"] * param_adult["EF"] * param_adult["ED"]) / (param_adult["BW"] * param_adult["AT"])
Ni = (shil["Ni"] * param_adult["IR"] * param_adult["EF"] * param_adult["ED"]) / (param_adult["BW"] * param_adult["AT"])
Cu = (shil["Cu"] * param_adult["IR"] * param_adult["EF"] * param_adult["ED"]) / (param_adult["BW"] * param_adult["AT"])
As = (shil["As"] * param_adult["IR"] * param_adult["EF"] * param_adult["ED"]) / (param_adult["BW"] * param_adult["AT"])
Cd = (shil["Cd"] * param_adult["IR"] * param_adult["EF"] * param_adult["ED"]) / (param_adult["BW"] * param_adult["AT"])
Pb = (shil["Pb"] * param_adult["IR"] * param_adult["EF"] * param_adult["ED"]) / (param_adult["BW"] * param_adult["AT"])

cdi_ing = pd.DataFrame(data={
    "Cr": Cr,
    "Ni": Ni,
    "Cu": Cu,
    "As": As,
    "Cd": Cd,
    "Pb": Pb
})

Cr = (shil["Cr"] * param_adult["SA"] * param_adult["Kp"]["Cr"] * param_adult["ET"] * param_adult["EF"] * param_adult["ED"] * param_adult["CF"]) / (param_adult["BW"] * param_adult["AT"])
Ni = (shil["Ni"] * param_adult["SA"] * param_adult["Kp"]["Ni"] * param_adult["ET"] * param_adult["EF"] * param_adult["ED"] * param_adult["CF"]) / (param_adult["BW"] * param_adult["AT"])
Cu = (shil["Cu"] * param_adult["SA"] * param_adult["Kp"]["Cu"] * param_adult["ET"] * param_adult["EF"] * param_adult["ED"] * param_adult["CF"]) / (param_adult["BW"] * param_adult["AT"])
As = (shil["As"] * param_adult["SA"] * param_adult["Kp"]["As"] * param_adult["ET"] * param_adult["EF"] * param_adult["ED"] * param_adult["CF"]) / (param_adult["BW"] * param_adult["AT"])
Cd = (shil["Cd"] * param_adult["SA"] * param_adult["Kp"]["Cd"] * param_adult["ET"] * param_adult["EF"] * param_adult["ED"] * param_adult["CF"]) / (param_adult["BW"] * param_adult["AT"])
Pb = (shil["Pb"] * param_adult["SA"] * param_adult["Kp"]["Pb"] * param_adult["ET"] * param_adult["EF"] * param_adult["ED"] * param_adult["CF"]) / (param_adult["BW"] * param_adult["AT"])

cdi_derm = pd.DataFrame(data={
    "Cr": Cr,
    "Ni": Ni,
    "Cu": Cu,
    "As": As,
    "Cd": Cd,
    "Pb": Pb
})

Cd = cdi_ing.Cd * param_adult["CSFing"]["Cd"]
Cr = cdi_ing.Cr * param_adult["CSFing"]["Cr"]
As = cdi_ing.As * param_adult["CSFing"]["As"]
Pb = cdi_ing.Pb * param_adult["CSFing"]["Pb"]
Ni = cdi_ing.Ni * param_adult["CSFing"]["Ni"]
Cu = cdi_ing.Cu * param_adult["CSFing"]["Cu"]

ilcr_ingsa = pd.DataFrame(data={
    "Cd": Cd,
    "Cr": Cr,
    "As": As,
    "Pb": Pb,
    "Ni": Ni, 
    "Cu": Cu
})

Cd = cdi_derm.Cd * param_adult["CSFderm"]["Cd"]
Cr = cdi_derm.Cr * param_adult["CSFderm"]["Cr"]
As = cdi_derm.As * param_adult["CSFderm"]["As"]
Pb = cdi_derm.Pb * param_adult["CSFderm"]["Pb"]
Ni = cdi_derm.Ni * param_adult["CSFderm"]["Ni"]
Cu = cdi_derm.Cu * param_adult["CSFderm"]["Cu"]

ilcr_dermsa = pd.DataFrame(data={
    "Cd": Cd,
    "Cr": Cr,
    "As": As,
    "Pb": Pb,
    "Ni": Ni,
    "Cu": Cu
})

ilcr = ilcr_ingsa + ilcr_dermsa
ilcr_sadult = ilcr.sum(axis=1)






shil = pd.DataFrame(data={
    "Cd": df.CdR,
    "Cr": df.CrR,
    "Ni": df.NiR,
    "Cu": df.CuR,
    "As": df.AsR,
    "Pb": df.PbR,
})

Cr = (shil["Cr"] * param_child["IR"] * param_child["EF"] * param_child["ED"]) / (param_child["BW"] * param_child["AT"])
Ni = (shil["Ni"] * param_child["IR"] * param_child["EF"] * param_child["ED"]) / (param_child["BW"] * param_child["AT"])
Cu = (shil["Cu"] * param_child["IR"] * param_child["EF"] * param_child["ED"]) / (param_child["BW"] * param_child["AT"])
As = (shil["As"] * param_child["IR"] * param_child["EF"] * param_child["ED"]) / (param_child["BW"] * param_child["AT"])
Cd = (shil["Cd"] * param_child["IR"] * param_child["EF"] * param_child["ED"]) / (param_child["BW"] * param_child["AT"])
Pb = (shil["Pb"] * param_child["IR"] * param_child["EF"] * param_child["ED"]) / (param_child["BW"] * param_child["AT"])

cdi_ing = pd.DataFrame(data={
    "Cr": Cr,
    "Ni": Ni,
    "Cu": Cu,
    "As": As,
    "Cd": Cd,
    "Pb": Pb
})

Cr = (shil["Cr"] * param_child["SA"] * param_child["Kp"]["Cr"] * param_child["ET"] * param_child["EF"] * param_child["ED"] * param_child["CF"]) / (param_child["BW"] * param_child["AT"])
Ni = (shil["Ni"] * param_child["SA"] * param_child["Kp"]["Ni"] * param_child["ET"] * param_child["EF"] * param_child["ED"] * param_child["CF"]) / (param_child["BW"] * param_child["AT"])
Cu = (shil["Cu"] * param_child["SA"] * param_child["Kp"]["Cu"] * param_child["ET"] * param_child["EF"] * param_child["ED"] * param_child["CF"]) / (param_child["BW"] * param_child["AT"])
As = (shil["As"] * param_child["SA"] * param_child["Kp"]["As"] * param_child["ET"] * param_child["EF"] * param_child["ED"] * param_child["CF"]) / (param_child["BW"] * param_child["AT"])
Cd = (shil["Cd"] * param_child["SA"] * param_child["Kp"]["Cd"] * param_child["ET"] * param_child["EF"] * param_child["ED"] * param_child["CF"]) / (param_child["BW"] * param_child["AT"])
Pb = (shil["Pb"] * param_child["SA"] * param_child["Kp"]["Pb"] * param_child["ET"] * param_child["EF"] * param_child["ED"] * param_child["CF"]) / (param_child["BW"] * param_child["AT"])

cdi_derm = pd.DataFrame(data={
    "Cr": Cr,
    "Ni": Ni,
    "Cu": Cu,
    "As": As,
    "Cd": Cd,
    "Pb": Pb
})

hqCr = cdi_ing["Cr"] / param_child["RfDing"]["Cr"]
hqCu = cdi_ing["Cu"] / param_child["RfDing"]["Cu"]
hqAs = cdi_ing["As"] / param_child["RfDing"]["As"]
hqCd = cdi_ing["Cd"] / param_child["RfDing"]["Cd"]
hqPb = cdi_ing["Pb"] / param_child["RfDing"]["Pb"]
hqNi = cdi_ing["Ni"] / param_child["RfDing"]["Ni"]

hq_ingsc = pd.DataFrame(data={
    "Cr": hqCr,
    "Ni": hqNi,
    "Cu": hqCu,
    "As": hqAs,
    "Cd": hqCd,
    "Pb": hqPb
})

hqCr = cdi_derm["Cr"] / param_child["RfDderm"]["Cr"]
hqCu = cdi_derm["Cu"] / param_child["RfDderm"]["Cu"]
hqAs = cdi_derm["As"] / param_child["RfDderm"]["As"]
hqCd = cdi_derm["Cd"] / param_child["RfDderm"]["Cd"]
hqPb = cdi_derm["Pb"] / param_child["RfDderm"]["Pb"]
hqNi = cdi_derm["Ni"] / param_child["RfDderm"]["Ni"]

hq_dermsc = pd.DataFrame(data={
    "Cr": hqCr,
    "Ni": hqNi,
    "Cu": hqCu,
    "As": hqAs,
    "Cd": hqCd,
    "Pb": hqPb
})

hi = hq_dermsc + hq_ingsc
hisc = hi.sum(axis=1)



shil = pd.DataFrame(data={
    "Cd": df.CdR,
    "Cr": df.CrR,
    "Ni": df.NiR,
    "Cu": df.CuR,
    "As": df.AsR,
    "Pb": df.PbR,
})

# Calculate Chronic Daily Intake (CDI) for ingestion
Cr = (shil["Cr"] * param_child["IR"] * param_child["EF"] * param_child["ED"]) / (param_child["BW"] * param_child["AT"])
Ni = (shil["Ni"] * param_child["IR"] * param_child["EF"] * param_child["ED"]) / (param_child["BW"] * param_child["AT"])
Cu = (shil["Cu"] * param_child["IR"] * param_child["EF"] * param_child["ED"]) / (param_child["BW"] * param_child["AT"])
As = (shil["As"] * param_child["IR"] * param_child["EF"] * param_child["ED"]) / (param_child["BW"] * param_child["AT"])
Cd = (shil["Cd"] * param_child["IR"] * param_child["EF"] * param_child["ED"]) / (param_child["BW"] * param_child["AT"])
Pb = (shil["Pb"] * param_child["IR"] * param_child["EF"] * param_child["ED"]) / (param_child["BW"] * param_child["AT"])

cdi_ing = pd.DataFrame(data={
    "Cr": Cr,
    "Ni": Ni,
    "Cu": Cu,
    "As": As,
    "Cd": Cd,
    "Pb": Pb
})

# Calculate Chronic Daily Intake (CDI) for dermal exposure
Cr = (shil["Cr"] * param_child["SA"] * param_child["Kp"]["Cr"] * param_child["ET"] * param_child["EF"] * param_child["ED"] * param_child["CF"]) / (param_child["BW"] * param_child["AT"])
Ni = (shil["Ni"] * param_child["SA"] * param_child["Kp"]["Ni"] * param_child["ET"] * param_child["EF"] * param_child["ED"] * param_child["CF"]) / (param_child["BW"] * param_child["AT"])
Cu = (shil["Cu"] * param_child["SA"] * param_child["Kp"]["Cu"] * param_child["ET"] * param_child["EF"] * param_child["ED"] * param_child["CF"]) / (param_child["BW"] * param_child["AT"])
As = (shil["As"] * param_child["SA"] * param_child["Kp"]["As"] * param_child["ET"] * param_child["EF"] * param_child["ED"] * param_child["CF"]) / (param_child["BW"] * param_child["AT"])
Cd = (shil["Cd"] * param_child["SA"] * param_child["Kp"]["Cd"] * param_child["ET"] * param_child["EF"] * param_child["ED"] * param_child["CF"]) / (param_child["BW"] * param_child["AT"])
Pb = (shil["Pb"] * param_child["SA"] * param_child["Kp"]["Pb"] * param_child["ET"] * param_child["EF"] * param_child["ED"] * param_child["CF"]) / (param_child["BW"] * param_child["AT"])

cdi_derm = pd.DataFrame(data={
    "Cr": Cr,
    "Ni": Ni,
    "Cu": Cu,
    "As": As,
    "Cd": Cd,
    "Pb": Pb
})

# Calculate Incremental Lifetime Cancer Risk (ILCR) for ingestion
Cd = cdi_ing.Cd * param_child["CSFing"]["Cd"]
Cr = cdi_ing.Cr * param_child["CSFing"]["Cr"]
As = cdi_ing.As * param_child["CSFing"]["As"]
Pb = cdi_ing.Pb * param_child["CSFing"]["Pb"]
Ni = cdi_ing.Ni * param_child["CSFing"]["Ni"]
Cu = cdi_ing.Cu * param_child["CSFing"]["Cu"]


ilcr_ingsc = pd.DataFrame(data={
    "Cd": Cd,
    "Cr": Cr,
    "As": As,
    "Pb": Pb,
    "Ni": Ni,
    "Cu": Cu
})

# Calculate Incremental Lifetime Cancer Risk (ILCR) for dermal exposure
Cd = cdi_derm.Cd * param_child["CSFderm"]["Cd"]
Cr = cdi_derm.Cr * param_child["CSFderm"]["Cr"]
As = cdi_derm.As * param_child["CSFderm"]["As"]
Pb = cdi_derm.Pb * param_child["CSFderm"]["Pb"]
Ni = cdi_derm.Ni * param_child["CSFderm"]["Ni"]
Cu = cdi_derm.Cu * param_child["CSFderm"]["Cu"]


ilcr_dermsc = pd.DataFrame(data={
    "Cd": Cd,
    "Cr": Cr,
    "As": As,
    "Pb": Pb,
    "Ni": Ni,
    "Cu": Cu
})

# Combine ILCR ingestion and dermal to calculate total ILCR
ilcr = ilcr_ingsc + ilcr_dermsc
ilcr_schild = ilcr.sum(axis=1)
ilcr_schild






shil = pd.DataFrame(data={
    "Cd": df.CdW,
    "Cr": df.CrW,
    "Ni": df.NiW,
    "Cu": df.CuW,
    "As": df.AsW,
    "Pb": df.PbW,
})

# Calculate Chronic Daily Intake (CDI) for ingestion
Cr = (shil["Cr"] * param_child["IR"] * param_child["EF"] * param_child["ED"]) / (param_child["BW"] * param_child["AT"])
Ni = (shil["Ni"] * param_child["IR"] * param_child["EF"] * param_child["ED"]) / (param_child["BW"] * param_child["AT"])
Cu = (shil["Cu"] * param_child["IR"] * param_child["EF"] * param_child["ED"]) / (param_child["BW"] * param_child["AT"])
As = (shil["As"] * param_child["IR"] * param_child["EF"] * param_child["ED"]) / (param_child["BW"] * param_child["AT"])
Cd = (shil["Cd"] * param_child["IR"] * param_child["EF"] * param_child["ED"]) / (param_child["BW"] * param_child["AT"])
Pb = (shil["Pb"] * param_child["IR"] * param_child["EF"] * param_child["ED"]) / (param_child["BW"] * param_child["AT"])

cdi_ing = pd.DataFrame(data={
    "Cr": Cr,
    "Ni": Ni,
    "Cu": Cu,
    "As": As,
    "Cd": Cd,
    "Pb": Pb
})

# Calculate Chronic Daily Intake (CDI) for dermal exposure
Cr = (shil["Cr"] * param_child["SA"] * param_child["Kp"]["Cr"] * param_child["ET"] * param_child["EF"] * param_child["ED"] * param_child["CF"]) / (param_child["BW"] * param_child["AT"])
Ni = (shil["Ni"] * param_child["SA"] * param_child["Kp"]["Ni"] * param_child["ET"] * param_child["EF"] * param_child["ED"] * param_child["CF"]) / (param_child["BW"] * param_child["AT"])
Cu = (shil["Cu"] * param_child["SA"] * param_child["Kp"]["Cu"] * param_child["ET"] * param_child["EF"] * param_child["ED"] * param_child["CF"]) / (param_child["BW"] * param_child["AT"])
As = (shil["As"] * param_child["SA"] * param_child["Kp"]["As"] * param_child["ET"] * param_child["EF"] * param_child["ED"] * param_child["CF"]) / (param_child["BW"] * param_child["AT"])
Cd = (shil["Cd"] * param_child["SA"] * param_child["Kp"]["Cd"] * param_child["ET"] * param_child["EF"] * param_child["ED"] * param_child["CF"]) / (param_child["BW"] * param_child["AT"])
Pb = (shil["Pb"] * param_child["SA"] * param_child["Kp"]["Pb"] * param_child["ET"] * param_child["EF"] * param_child["ED"] * param_child["CF"]) / (param_child["BW"] * param_child["AT"])

cdi_derm = pd.DataFrame(data={
    "Cr": Cr,
    "Ni": Ni,
    "Cu": Cu,
    "As": As,
    "Cd": Cd,
    "Pb": Pb
})

# Calculate Hazard Quotients (HQ) for ingestion
hqCr = cdi_ing["Cr"] / param_child["RfDing"]["Cr"]
hqCu = cdi_ing["Cu"] / param_child["RfDing"]["Cu"]
hqAs = cdi_ing["As"] / param_child["RfDing"]["As"]
hqCd = cdi_ing["Cd"] / param_child["RfDing"]["Cd"]
hqPb = cdi_ing["Pb"] / param_child["RfDing"]["Pb"]
hqNi = cdi_ing["Ni"] / param_child["RfDing"]["Ni"]

hq_ingwc = pd.DataFrame(data={
    "Cr": hqCr,
    "Ni": hqNi,
    "Cu": hqCu,
    "As": hqAs,
    "Cd": hqCd,
    "Pb": hqPb
})

# Calculate Hazard Quotients (HQ) for dermal exposure
hqCr = cdi_derm["Cr"] / param_child["RfDderm"]["Cr"]
hqCu = cdi_derm["Cu"] / param_child["RfDderm"]["Cu"]
hqAs = cdi_derm["As"] / param_child["RfDderm"]["As"]
hqCd = cdi_derm["Cd"] / param_child["RfDderm"]["Cd"]
hqPb = cdi_derm["Pb"] / param_child["RfDderm"]["Pb"]
hqNi = cdi_derm["Ni"] / param_child["RfDderm"]["Ni"]

hq_dermwc = pd.DataFrame(data={
    "Cr": hqCr,
    "Ni": hqNi,
    "Cu": hqCu,
    "As": hqAs,
    "Cd": hqCd,
    "Pb": hqPb
})

# Combine Hazard Quotients for ingestion and dermal exposures
hi = hq_dermwc + hq_ingwc
hiwc = hi.sum(axis=1)
hiwc



shil = pd.DataFrame(data={
    "Cd": df.CdW,
    "Cr": df.CrW,
    "Ni": df.NiW,
    "Cu": df.CuW,
    "As": df.AsW,
    "Pb": df.PbW,
})

# Calculate Chronic Daily Intake (CDI) for ingestion
Cr = (shil["Cr"] * param_child["IR"] * param_child["EF"] * param_child["ED"]) / (param_child["BW"] * param_child["AT"])
Ni = (shil["Ni"] * param_child["IR"] * param_child["EF"] * param_child["ED"]) / (param_child["BW"] * param_child["AT"])
Cu = (shil["Cu"] * param_child["IR"] * param_child["EF"] * param_child["ED"]) / (param_child["BW"] * param_child["AT"])
As = (shil["As"] * param_child["IR"] * param_child["EF"] * param_child["ED"]) / (param_child["BW"] * param_child["AT"])
Cd = (shil["Cd"] * param_child["IR"] * param_child["EF"] * param_child["ED"]) / (param_child["BW"] * param_child["AT"])
Pb = (shil["Pb"] * param_child["IR"] * param_child["EF"] * param_child["ED"]) / (param_child["BW"] * param_child["AT"])

cdi_ing = pd.DataFrame(data={
    "Cr": Cr,
    "Ni": Ni,
    "Cu": Cu,
    "As": As,
    "Cd": Cd,
    "Pb": Pb
})

# Calculate Chronic Daily Intake (CDI) for dermal exposure
Cr = (shil["Cr"] * param_child["SA"] * param_child["Kp"]["Cr"] * param_child["ET"] * param_child["EF"] * param_child["ED"] * param_child["CF"]) / (param_child["BW"] * param_child["AT"])
Ni = (shil["Ni"] * param_child["SA"] * param_child["Kp"]["Ni"] * param_child["ET"] * param_child["EF"] * param_child["ED"] * param_child["CF"]) / (param_child["BW"] * param_child["AT"])
Cu = (shil["Cu"] * param_child["SA"] * param_child["Kp"]["Cu"] * param_child["ET"] * param_child["EF"] * param_child["ED"] * param_child["CF"]) / (param_child["BW"] * param_child["AT"])
As = (shil["As"] * param_child["SA"] * param_child["Kp"]["As"] * param_child["ET"] * param_child["EF"] * param_child["ED"] * param_child["CF"]) / (param_child["BW"] * param_child["AT"])
Cd = (shil["Cd"] * param_child["SA"] * param_child["Kp"]["Cd"] * param_child["ET"] * param_child["EF"] * param_child["ED"] * param_child["CF"]) / (param_child["BW"] * param_child["AT"])
Pb = (shil["Pb"] * param_child["SA"] * param_child["Kp"]["Pb"] * param_child["ET"] * param_child["EF"] * param_child["ED"] * param_child["CF"]) / (param_child["BW"] * param_child["AT"])

cdi_derm = pd.DataFrame(data={
    "Cr": Cr,
    "Ni": Ni,
    "Cu": Cu,
    "As": As,
    "Cd": Cd,
    "Pb": Pb
})

# Calculate Incremental Lifetime Cancer Risk (ILCR) for ingestion
Cd = cdi_ing.Cd * param_child["CSFing"]["Cd"]
Cr = cdi_ing.Cr * param_child["CSFing"]["Cr"]
As = cdi_ing.As * param_child["CSFing"]["As"]
Pb = cdi_ing.Pb * param_child["CSFing"]["Pb"]
Ni = cdi_ing.Ni * param_child["CSFing"]["Ni"]
Cu = cdi_ing.Cu * param_child["CSFing"]["Cu"]

ilcr_ingwc = pd.DataFrame(data={
    "Cd": Cd,
    "Cr": Cr,
    "As": As,
    "Pb": Pb,
    "Ni": Ni,
    "Cu": Cu
})

# Calculate Incremental Lifetime Cancer Risk (ILCR) for dermal exposure
Cd = cdi_derm.Cd * param_child["CSFderm"]["Cd"]
Cr = cdi_derm.Cr * param_child["CSFderm"]["Cr"]
As = cdi_derm.As * param_child["CSFderm"]["As"]
Pb = cdi_derm.Pb * param_child["CSFderm"]["Pb"]
Ni = cdi_derm.Ni * param_child["CSFderm"]["Ni"]
Cu = cdi_derm.Cu * param_child["CSFderm"]["Cu"]

ilcr_dermwc = pd.DataFrame(data={
    "Cd": Cd,
    "Cr": Cr,
    "As": As,
    "Pb": Pb,
    "Ni": Ni,
    "Cu": Cu
})

# Combine ILCR ingestion and dermal to calculate total ILCR
ilcr = ilcr_ingwc + ilcr_dermwc
ilcr_wchild = ilcr.sum(axis=1)
ilcr






hi = pd.DataFrame(data={
    "Adult W": hiwa,
    "Child W": hiwc,
    "Adult S": hisa,
    "Child S": hisc,
})

hi


cr = pd.DataFrame(data={
    "Adult W": ilcr_wadult,
    "Child W": ilcr_wchild,
    "Adult S": ilcr_sadult,
    "Child S": ilcr_schild,
})

cr


healthRisk = pd.DataFrame(data={
    "SamplingPoint": df.index,
    "HI Adult W": hiwa,
    "HI Child W": hiwc,
    "HI Adult S": hisa,
    "HI Child S": hisc,
    "CR Adult W": ilcr_wadult,
    "CR Child W": ilcr_wchild,
    "CR Adult S": ilcr_sadult,
    "CR Child S": ilcr_schild,
})

healthRisk


healthRisk.to_csv("data/HealthRisk.csv")


hq_dermsa.describe()


hq_metals = pd.DataFrame(data={
    "IngMeanWa": hq_ingwa.mean(),
    "IngMeanWc": hq_ingwc.mean(),
    "IngSDWa": hq_ingwa.std(),
    "IngSDWc": hq_ingwc.std(),
    "DermMeanWa": hq_dermwa.mean(),
    "DermMeanWc": hq_dermwc.mean(),
    "DermSDWa": hq_dermwa.std(),
    "DermSDWc":hq_dermwc.std(),
    "IngMeanSa": hq_ingsa.mean(),
    "IngMeanSc": hq_ingsc.mean(),
    "IngSDSa": hq_ingsa.std(),
    "IngSDSc": hq_ingsc.std(),
    "DermMeanSa": hq_dermsa.mean(),
    "DermMeanSc": hq_dermsc.mean(),
    "DermSDSa": hq_dermsa.std(),
    "DermSDSc": hq_dermsc.std(),
    
    
})
hq_metals


hq_dermsc.describe()


hi_dermsc.mean()


hi_dermsc.min(), hi_dermsc.max()





hq_metals.DermMeanSa.round(5)


hq_dermsa.std()


hq_metals.to_csv("data/HQMetals.csv")


hq_dermsa.min(), hq_dermsa.max()


hq_dermsc.min(), hq_dermsc.max()


hq_dermwa.min(), hq_dermwa.max()


hq_dermwc.min(), hq_dermwc.max()


hq_ingsa.min(), hq_ingsa.max()


hq_ingsc.min(), hq_ingsc.max()


hq_ingwa.min(), hq_ingwa.max()


hq_ingwc.min(), hq_ingwc.max()





ilcr_ingwa.describe()


ilcr_wadult


ilcr_metals = pd.DataFrame(data={
    "IngMeanWa": ilcr_ingwa.mean(),
    "IngMeanWc": ilcr_ingwc.mean(),
    "IngSDWa": ilcr_ingwa.std(),
    "IngSDWc": ilcr_ingwc.std(),
    "DermMeanWa": ilcr_dermwa.mean(),
    "DermMeanWc": ilcr_dermwc.mean(),
    "DermSDWa": ilcr_dermwa.std(),
    "DermSDWc":ilcr_dermwc.std(),
    "IngMeanSa": ilcr_ingsa.mean(),
    "IngMeanSc": ilcr_ingsc.mean(),
    "IngSDSa": ilcr_ingsa.std(),
    "IngSDSc": ilcr_ingsc.std(),
    "DermMeanSa": ilcr_dermsa.mean(),
    "DermMeanSc": ilcr_dermsc.mean(),
    "DermSDSa": ilcr_dermsa.std(),
    "DermSDSc": ilcr_dermsc.std(),
    
    
})
ilcr_metals


ilcr_metals.to_csv("data/ILCRMetals.csv")





ilcr_ingwa.min(),  ilcr_ingwa.max()


ilcr_ingwc.min(),  ilcr_ingwc.max()


ilcr_ingsa.min(),  ilcr_ingsa.max()


ilcr_ingsc.min(),  ilcr_ingsc.max()


tcr_wa = ilcr_ingwa + ilcr_dermwa
tcr_wa.mean()


tcr_wa.describe()


tcr_wa = ilcr_ingwa + ilcr_dermwa
tcr_wa = tcr_wa.sum(axis=1)


tcr_wa


tcr_wa.describe()


tcr_sa = ilcr_ingsa + ilcr_dermsa
tcr_sa.describe()














tcr_sa = ilcr_ingsa + ilcr_dermsa
tcr_sa = tcr_sa.sum(axis=1)


tcr_sa.describe()


tcr_wc = ilcr_ingwc + ilcr_dermwc
tcr_wc.describe()


tcr_wc = ilcr_ingwc + ilcr_dermwc
tcr_wc











tcr_wc = ilcr_ingwc + ilcr_dermwc
tcr_wc = tcr_wc.sum(axis=1)


tcr_wc.describe()


tcr_sc = ilcr_ingsc + ilcr_dermsc
tcr_sc.describe()





tcr_sc = ilcr_ingsc + ilcr_dermsc
tcr_sc = tcr_sc.sum(axis=1)


tcr_sc.describe()








ilcr_dermsa.min(), ilcr_dermsa.max()


ilcr_dermsc.min(), ilcr_dermsc.max()


ilcr_dermwa.min(), ilcr_dermwa.max()


ilcr_dermwc.min(), ilcr_dermwc.max()


hiwa.describe()


hi_ingwa = hq_ingwa.sum(axis=1)
hi_ingwa


hi_ingwa.describe()


hi_ingwa = hq_ingwa.sum(axis=1)
hi_ingwa.describe()


hi_dermwa = hq_dermwa.sum(axis=1)
hi_dermwa.describe()


hi_ingsa = hq_ingsa.sum(axis=1)
hi_ingsa.describe()


hi_dermsa = hq_dermsa.sum(axis=1)
hi_dermsa.describe()





hi_ingwc = hq_ingwc.sum(axis=1)
hi_ingwc.describe()


hi_dermwc = hq_dermwc.sum(axis=1)
hi_dermwc.describe()


hi_ingsc = hq_ingsc.sum(axis=1)
hi_ingsc.describe()


hi_dermsc = hq_dermsc.sum(axis=1)
hi_dermsc.describe()








cr_ingwa = ilcr_ingwa.sum(axis=1)
cr_ingwa.describe()


cr_dermwa = ilcr_dermwa.sum(axis=1)
cr_dermwa.describe()


cr_ingsa = ilcr_ingsa.sum(axis=1)
cr_ingsa.describe()


cr_dermsa = ilcr_dermsa.sum(axis=1)
cr_dermsa.describe()





cr_ingwc = ilcr_ingwc.sum(axis=1)
cr_ingwc.describe()


cr_dermwc = ilcr_dermwc.sum(axis=1)
cr_dermwc.describe()


cr_ingsc = ilcr_ingsc.sum(axis=1)
cr_ingsc.describe()


cr_dermsc = ilcr_dermsc.sum(axis=1)
cr_dermsc.describe()








Hiwa = hi_ingwa + hi_dermwa
Hiwc = hi_ingwc + hi_dermwc
Hisa = hi_ingsa + hi_dermsa
Hisc = hi_ingsc + hi_dermsc


Hiwa


Hi = pd.DataFrame(data={
    "HIWinterA": Hiwa,
    "HIWinterC": Hiwc,
    "HIRainyA": Hisa,
    "HIRainyC": Hisc,
    
})


Hi


Hi.info()


Hi.to_csv("data/HISeasonal.csv")


Hi.to_excel("data/HISeasonal.xlsx")








crwa = cr_ingwa + cr_dermwa
crwc = cr_ingwc + cr_dermwc
crsa = cr_ingsa + cr_dermsa
crsc = cr_ingsc + cr_dermsc


CR = pd.DataFrame(data={
    "CRWinterA": crwa,
    "CRWinterC": crwc,
    "CRRainyA": crsa,
    "CRRainyC": crsc
})


CR


CR.to_csv("data/CRGeo.csv")





















