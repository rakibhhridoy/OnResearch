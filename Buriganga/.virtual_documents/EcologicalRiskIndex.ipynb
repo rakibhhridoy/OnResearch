import numpy as np 
import pandas as pd


df = pd.read_csv("data/heavymetalSummer_Winter.csv")


df


Cb = {
        "Cd":0.01,
        "Cr":0.05,
        "Ni":0.05,
        "Cu":1,
        "Zn":5,
        "Mn":0.1,
        "Hg":0.05,
        "As":0.05,
        "Pb":0.05,
}


Ti = {
        "Cd": 30,
        "Cr": 2,
        "Ni": 5,
        "Cu": 5,
        "Zn": 1,
        "Mn": 1,
        "Hg": 40,
        "As": 10,
        "Pb": 5,
}


0.01, 0.05, 0.1, 1,  0.5,  1,  5, 0.05, 0.05, 0.05
 Cd    Cr    Mn  Fe   Co  Cu  Zn   As    Pb    Hg


30,   2,    1,   2.7, 2.3, 5, 1,  10,   5,     40


winter = pd.DataFrame(data={
    "Cd": df.CdW,
    "Cr": df.CrW,
    "Ni": df.NiW,
    "Cu": df.CuW,
    "Zn": df.ZnW,
    "Mn": df.MnW,
    "Hg": df.HgW,
    "As": df.AsW,
    "Pb": df.PbW,
})


summer = pd.DataFrame(data={
    "Cd": df.CdS,
    "Cr": df.CrS,
    "Ni": df.NiS,
    "Cu": df.CuS,
    "Zn": df.ZnS,
    "Mn": df.MnS,
    "Hg": df.HgS,
    "As": df.AsS,
    "Pb": df.PbS,
})





piCd = winter.Cd / Cb["Cd"]
piCr = winter.Cr / Cb["Cr"]
piNi = winter.Ni / Cb["Ni"]
piCu = winter.Cu / Cb["Cu"]
piZn = winter.Zn / Cb["Zn"]
piMn = winter.Mn / Cb["Mn"]
piHg = winter.Hg / Cb["Hg"]
piAs = winter.As / Cb["As"]
piPb = winter.Pb / Cb["Pb"]


riCd = piCd * Ti["Cd"]
riCr = piCr * Ti["Cr"]
riNi = piNi * Ti["Ni"]
riCu = piCu * Ti["Cu"]
riZn = piZn * Ti["Zn"]
riMn = piMn * Ti["Mn"]
riHg = piHg * Ti["Hg"]
riAs = piAs * Ti["As"]
riPb = piPb * Ti["Pb"]


riW = pd.DataFrame(data={
    "Cd": riCd,
    "Cr": riCr,
    "Ni": riNi,
    "Cu": riCu,
    "Zn": riZn,
    "Mn": riMn,
    "Hg": riHg,
    "As": riAs,
    "Pb": riPb,
})
riW


eriW = riW.sum(axis=1)
eriW


riW["ERI"] = eriW
riW


piCd = winter.Cd / Cb["Cd"]
piCr = winter.Cr / Cb["Cr"]
piNi = winter.Ni / Cb["Ni"]
piCu = winter.Cu / Cb["Cu"]
piZn = winter.Zn / Cb["Zn"]
piMn = winter.Mn / Cb["Mn"]
piHg = winter.Hg / Cb["Hg"]
piAs = winter.As / Cb["As"]
piPb = winter.Pb / Cb["Pb"]

riCd = piCd * Ti["Cd"]
riCr = piCr * Ti["Cr"]
riNi = piNi * Ti["Ni"]
riCu = piCu * Ti["Cu"]
riZn = piZn * Ti["Zn"]
riMn = piMn * Ti["Mn"]
riHg = piHg * Ti["Hg"]
riAs = piAs * Ti["As"]
riPb = piPb * Ti["Pb"]


riW = pd.DataFrame(data={
    "Cd": riCd,
    "Cr": riCr,
    "Ni": riNi,
    "Cu": riCu,
    "Zn": riZn,
    "Mn": riMn,
    "Hg": riHg,
    "As": riAs,
    "Pb": riPb,
})

eriW = riW.sum(axis=1)
riW["ERI"] = eriW
riW





piCd = summer.Cd / Cb["Cd"]
piCr = summer.Cr / Cb["Cr"]
piNi = summer.Ni / Cb["Ni"]
piCu = summer.Cu / Cb["Cu"]
piZn = summer.Zn / Cb["Zn"]
piMn = summer.Mn / Cb["Mn"]
piHg = summer.Hg / Cb["Hg"]
piAs = summer.As / Cb["As"]
piPb = summer.Pb / Cb["Pb"]

riCd = piCd * Ti["Cd"]
riCr = piCr * Ti["Cr"]
riNi = piNi * Ti["Ni"]
riCu = piCu * Ti["Cu"]
riZn = piZn * Ti["Zn"]
riMn = piMn * Ti["Mn"]
riHg = piHg * Ti["Hg"]
riAs = piAs * Ti["As"]
riPb = piPb * Ti["Pb"]


riS = pd.DataFrame(data={
    "Cd": riCd,
    "Cr": riCr,
    "Ni": riNi,
    "Cu": riCu,
    "Zn": riZn,
    "Mn": riMn,
    "Hg": riHg,
    "As": riAs,
    "Pb": riPb,
})

eriS = riS.sum(axis=1)
riS["ERI"] = eriS
riS





riW.to_csv("PollutionIndices/RI_winter.csv")
riS.to_csv("PollutionIndices/RI_summer.csv")






























































q = pd.read_csv("data/Buriganga_W .csv")


q.Cd


q = pd.read_excel("data.xlsx")


q["Cd (mg/l)"]










































