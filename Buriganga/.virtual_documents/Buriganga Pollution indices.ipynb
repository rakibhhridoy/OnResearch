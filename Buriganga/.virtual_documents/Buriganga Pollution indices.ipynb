import pandas as pd


summer = pd.read_csv("data/Buriganga_S.csv")
winter = pd.read_csv("data/Buriganga_W .csv")


summer


sampling_point = summer["SamplingPoint"]


summer.drop(columns="SamplingPoint", inplace=True)
winter.drop(columns="SamplingPoint", inplace=True)


summer


val = pd.read_csv("data/std_ideal_val - Sheet1.csv")


val


cols = ['Temperature', 'pH', 'EC', 'TSS', 'Turbidity', 'Salinity', 'TDS', 'DO',
       'COD', 'NH4', 'NO3', 'Phosphate', 'Sulfates', 'K', 'Ca', 'Mg', 'Cl',
       'Br', 'Cd', 'Cr', 'Ni', 'Cu', 'Zn', 'Mn', 'Hg', 'As', 'Pb']


val.columns = cols


val


val["Temperature"][1]


std = val.iloc[0]
idl = val.iloc[1]
std


len(std)


i = 0
inv = 0
while i < len(std):
    inv += 1/std[i]    
    i += 1
    
    
inv


k = 1/inv
k


weight = []
i = 0
while i < len(std):
    val = k/ std[i]
    weight.append(val)
    i+=1

weight


tempS = ((summer["Temperature"] - idl.Temperature) / (std.Temperature - idl.Temperature)) * 100
pHS   = ((summer["pH"] - idl.pH) / (std.pH - idl.pH)) * 100
ecS   = ((summer["EC"] - idl.EC) / (std.EC - idl.EC)) * 100
tssS  = ((summer["TSS"] - idl.TSS) / (std.TSS - idl.TSS)) * 100
turbS = ((summer["Turbidity"] - idl.Turbidity) / (std.Turbidity - idl.Turbidity)) * 100
salS  = ((summer["Salinity"] - idl.Salinity) / (std.Salinity - idl.Salinity)) * 100
tdsS  = ((summer["TDS"] - idl.TDS) / (std.TDS - idl.TDS)) * 100
doS   = ((summer["DO"] - idl.DO) / (std.DO - idl.DO)) * 100
codS  = ((summer["COD"] - idl.COD) / (std.COD - idl.COD)) * 100
nh4S  = ((summer["NH4+"] - idl.NH4) / (std.NH4 - idl.NH4)) * 100
no3S  = ((summer["NO3"] - idl.NO3) / (std.NO3 - idl.NO3)) * 100
po4S  = ((summer["Phosphate"] - idl.Phosphate) / (std.Phosphate - idl.Phosphate)) * 100
so4S  = ((summer["Sulfates"] - idl.Sulfates) / (std.Sulfates - idl.Sulfates)) * 100
kS    = ((summer["K"] - idl.K) / (std.K - idl.K)) * 100
caS   = ((summer["Ca"] - idl.Ca) / (std.Ca - idl.Ca)) * 100
mgS   = ((summer["Mg"] - idl.Mg) / (std.Mg - idl.Mg)) * 100
clS   = ((summer["Cl"] - idl.Cl) / (std.Cl - idl.Cl)) * 100
brS   = ((summer["Br"] - idl.Br) / (std.Br - idl.Br)) * 100
cdS   = ((summer["Cd"] - idl.Cd) / (std.Cd - idl.Cd)) * 100
crS   = ((summer["Cr"] - idl.Cr) / (std.Cr - idl.Cr)) * 100
niS   = ((summer["Ni"] - idl.Ni) / (std.Ni - idl.Ni)) * 100
cuS   = ((summer["Cu"] - idl.Cu) / (std.Cu - idl.Cu)) * 100
znS   = ((summer["Zn"] - idl.Zn) / (std.Zn - idl.Zn)) * 100
mnS   = ((summer["Mn"] - idl.Mn) / (std.Mn - idl.Mn)) * 100
hgS   = ((summer["Hg"] - idl.Hg) / (std.Hg - idl.Hg)) * 100
asS   = ((summer["As"] - idl.As) / (std.As - idl.As)) * 100
pbS   = ((summer["Pb"] - idl.Pb) / (std.Pb - idl.Pb)) * 100


qiS = pd.DataFrame(data={
     'Temperature' : tempS,
     'pH': pHS,
     'EC': ecS,
     'TSS': tssS,
     'Turbidity': turbS,
     'Salinity': salS,
     'TDS': tdsS,
     'DO': doS,
     'COD': codS,
     'NH4': nh4S,
     'NO3': no3S,
     'Phosphate': po4S,
     'Sulfates': so4S,
     'K': kS,
     'Ca': caS,
     'Mg': mgS,
     'Cl': clS,
     'Br': brS,
     'Cd': cdS,
     'Cr': crS,
     'Ni': niS,
     'Cu': cuS,
     'Zn': znS,
     'Mn': mnS,
     'Hg': hgS,
     'As': asS,
     'Pb': pbS
})


qiS


wqiS = qiS * weight


wqiS


wqiS = wqiS.sum(axis=1)
wqiS


sum(weight)


wqiS = pd.DataFrame(data={
    "SamplingPoint" : sampling_point,
    "WQI": wqiS
})


wqiS


tempS = ((winter["Temperature"] - idl.Temperature) / (std.Temperature - idl.Temperature)) * 100
pHS   = ((winter["pH"] - idl.pH) / (std.pH - idl.pH)) * 100
ecS   = ((winter["EC"] - idl.EC) / (std.EC - idl.EC)) * 100
tssS  = ((winter["TSS"] - idl.TSS) / (std.TSS - idl.TSS)) * 100
turbS = ((winter["Turbidity"] - idl.Turbidity) / (std.Turbidity - idl.Turbidity)) * 100
salS  = ((winter["Salinity"] - idl.Salinity) / (std.Salinity - idl.Salinity)) * 100
tdsS  = ((winter["TDS"] - idl.TDS) / (std.TDS - idl.TDS)) * 100
doS   = ((winter["DO"] - idl.DO) / (std.DO - idl.DO)) * 100
codS  = ((winter["COD"] - idl.COD) / (std.COD - idl.COD)) * 100
nh4S  = ((winter["NH4+"] - idl.NH4) / (std.NH4 - idl.NH4)) * 100
no3S  = ((winter["NO3"] - idl.NO3) / (std.NO3 - idl.NO3)) * 100
po4S  = ((winter["Phosphate"] - idl.Phosphate) / (std.Phosphate - idl.Phosphate)) * 100
so4S  = ((winter["Sulfates"] - idl.Sulfates) / (std.Sulfates - idl.Sulfates)) * 100
kS    = ((winter["K"] - idl.K) / (std.K - idl.K)) * 100
caS   = ((winter["Ca"] - idl.Ca) / (std.Ca - idl.Ca)) * 100
mgS   = ((winter["Mg"] - idl.Mg) / (std.Mg - idl.Mg)) * 100
clS   = ((winter["Cl"] - idl.Cl) / (std.Cl - idl.Cl)) * 100
brS   = ((winter["Br"] - idl.Br) / (std.Br - idl.Br)) * 100
cdS   = ((winter["Cd"] - idl.Cd) / (std.Cd - idl.Cd)) * 100
crS   = ((winter["Cr"] - idl.Cr) / (std.Cr - idl.Cr)) * 100
niS   = ((winter["Ni"] - idl.Ni) / (std.Ni - idl.Ni)) * 100
cuS   = ((winter["Cu"] - idl.Cu) / (std.Cu - idl.Cu)) * 100
znS   = ((winter["Zn"] - idl.Zn) / (std.Zn - idl.Zn)) * 100
mnS   = ((winter["Mn"] - idl.Mn) / (std.Mn - idl.Mn)) * 100
hgS   = ((winter["Hg"] - idl.Hg) / (std.Hg - idl.Hg)) * 100
asS   = ((winter["As"] - idl.As) / (std.As - idl.As)) * 100
pbS   = ((winter["Pb"] - idl.Pb) / (std.Pb - idl.Pb)) * 100


qiW = pd.DataFrame(data={
     'Temperature' : tempS,
     'pH': pHS,
     'EC': ecS,
     'TSS': tssS,
     'Turbidity': turbS,
     'Salinity': salS,
     'TDS': tdsS,
     'DO': doS,
     'COD': codS,
     'NH4': nh4S,
     'NO3': no3S,
     'Phosphate': po4S,
     'Sulfates': so4S,
     'K': kS,
     'Ca': caS,
     'Mg': mgS,
     'Cl': clS,
     'Br': brS,
     'Cd': cdS,
     'Cr': crS,
     'Ni': niS,
     'Cu': cuS,
     'Zn': znS,
     'Mn': mnS,
     'Hg': hgS,
     'As': asS,
     'Pb': pbS
})


wqiW = qiW * weight


wqiW


wqiW = wqiW.sum(axis=1)


wqiW = pd.DataFrame(data={
    "SamplingPoint" : sampling_point,
    "WQI": wqiW
})


wqiW


wqi = pd.DataFrame(data={
    "SamplingPoint": sampling_point,
    "WQI Winter" : wqiW.WQI,
    "WQI Summer": wqiS.WQI
})


wqi


wqi.to_excel("WQI.xlsx")








summer.columns


hm = cols[17:]
hm


heavyS = summer[hm]
heavyW = winter[hm]

heavyS


std_hm = std[hm]
std_hm


piS = heavyS / std_hm
piSmax = piS.max(axis=1)
squarepiSmax = piSmax ** 2
pibar = piS.mean(axis=1)
squared_pibar = pibar ** 2 
pnS = (squared_pibar + squarepiSmax) / 2
pnS = pnS ** (.5)
pnS


piW = heavyW / std_hm
piWmax = piW.max(axis=1)
squarepiWmax = piWmax ** 2
piWbar = piW.mean(axis=1)
squared_piWbar = piWbar ** 2 
pnW = (squared_piWbar + squarepiWmax) / 2
pnW = pnW ** (.5)
pnW


pn = pd.DataFrame(data={
    "SamplingPoint" : sampling_point,
    "Pn Winter": pnW,
    "Pn Summer": pnS
})
pn


pn.to_excel("PN.xlsx")





hmaci = val.iloc[2]
hmaci


hmaci = hmaci[17:]
hmaci


heiS = heavyS / hmaci
heiS


heiS = heiS.sum(axis=1)
heiS


heiS = heavyS / hmaci
heiS = heiS.sum(axis=1)
heiS


heiW = heavyW / hmaci
heiW = heiW.sum(axis=1)
heiW


hei = pd.DataFrame(data={
    "SamplingPoint" : sampling_point,
    "HEI Winter": heiW,
    "HEI Summer": heiS
})
hei


hei.to_excel("HEI.xlsx")





























































































