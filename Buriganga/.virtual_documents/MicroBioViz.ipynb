import pandas as pd
import seaborn as sns
import matplotlib.pyplot as plt


summer = pd.read_excel("data/microbio_summer.xlsx")
winter = pd.read_excel("data/microbio_winter.xlsx")


summer


cols = summer.columns


winter.columns = cols
winter


dropcols = ['Sampling Point', 'NH4+  (mg/l)', 'NO3 (mg/l)', 'P (mg/l)', 'S (mg/l)']


summer.drop(columns= dropcols, inplace= True)
winter.drop(columns= dropcols, inplace= True)


summer


winter


labsummer = []
for _ in range(9):
    labsummer.append("summer")
    
labwinter = []
for _ in range(9):
    labwinter.append("winter")


labsummer


summer["Season"] = labsummer
winter["Season"] = labwinter


summer


microdata = pd.concat([summer, winter])
microdata


microdata.to_csv("SeasonalMicrobio.csv")


import ptitprince as pt


pt.RainCloud(x = microdata["Season"], y = microdata["THB"], data = microdata, palette = "rocket_r", bw = 0.8,
                 width_viol = .6)








































