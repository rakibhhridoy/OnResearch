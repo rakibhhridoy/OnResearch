import pandas as pd


child_param = {
    "BW": 15,
    "ED": 6,
    "EFres": 350,
    "ETres": 0.54,
    "EV": 1,
    "SA": 6365,
    "IRWres": 0.78,
    "ATres": 2190,
    "IFWres": None,
    "DFWres": None,
    "ETevent-res": None,
    "LT": 70,
    "AT": 25550,
    
    "Kp": {
        "As": 0.001,
        "Co": 0.0004,
        "Cr": 0.002,
        "Cu": 0.001,
        "Mn": 0.001,
        "Pb": 0.0001,
        "Zn": 0.0006,
        "Hg": 0.001,
        "Cd": 0.0001,
        "Ni": 0.0002
    },
    
    "RfDo": {
        "As": 0.0003,
        "Co": 0.0003,
        "Cr": 0.003,
        "Cu": 0.04,
        "Mn": 0.024,
        "Pb": 0.0014,
        "Zn": 0.3,
        "Hg": 0.0002,
        "Cd": 0.001,
        "Ni": 0.025
    },
    
    "CSFo": {
        "As": 1.5,
        "Cr": 0.5,
        "Pb": 0.0085
    },
    
    "GIABS": {
        "As": 1,
        "Co": 1,
        "Cr": 0.025,
        "Cu": 1,
        "Mn": 0.04,
        "Pb": 1,
        "Zn": 1,
        "Hg": 1,
        "Cd": 1,
        "Ni": 0.04
    },
    
    "SFing": {
        "Pb": 8.50e-03,
        "As": 1.50e+00,
        "Cr": 0.50,
        "Cd": 0.38
    },
    
    "SFinh": {
        "Cr": 4.20e+01,
        "Pb": 4.20e-02,
        "Cd": 6.30e+00,
        "As": 1.51e+01
    },
    
    "SFderm": {
        "Cr": 2.00e+01,
        "As": 3.66e+00,
        "Cd": 0.38,
        "Pb": 8.50e-03
    }
}




adult_param = {
    "BW": 70,
    "ED": 20,
    "EFres": 350,
    "ETres": 0.71,
    "EV": 1,
    "SA": 19652,
    "IRWres": 2.5,
    "ATres": 7300,
    "IFWres": None,
    "DFWres": None,
    "ETevent-res": None,
    "LT": 70,
    "AT": 25550,
    
    
    
    "Kp": {
        "As": 0.001,
        "Co": 0.0004,
        "Cr": 0.002,
        "Cu": 0.001,
        "Mn": 0.001,
        "Pb": 0.0001,
        "Zn": 0.0006,
        "Hg": 0.001,
        "Cd": 0.0001,
        "Ni": 0.0002
    },
    
    "RfDo": {
        "As": 0.0003,
        "Co": 0.0003,
        "Cr": 0.003,
        "Cu": 0.04,
        "Mn": 0.024,
        "Pb": 0.0014,
        "Zn": 0.3,
        "Hg": 0.0002,
        "Cd": 0.001,
        "Ni": 0.025
    },
    
    "CSFo": {
        "As": 1.5,
        "Cr": 0.5,
        "Pb": 0.0085
    },
    
    "GIABS": {
        "As": 1,
        "Co": 1,
        "Cr": 0.025,
        "Cu": 1,
        "Mn": 0.04,
        "Pb": 1,
        "Zn": 1,
        "Hg": 1,
        "Cd": 1,
        "Ni": 0.04
    },

    "SFing": {
        "Pb": 8.50e-03,
        "As": 1.50e+00,
        "Cr": 0.50,
        "Cd": 0.38
    },
    
    "SFinh": {
        "Cr": 4.20e+01,
        "Pb": 4.20e-02,
        "Cd": 6.30e+00,
        "As": 1.51e+01
    },
    
    "SFderm": {
        "Cr": 2.00e+01,
        "As": 3.66e+00,
        "Cd": 0.38,
        "Pb": 8.50e-03
    }
}


df = pd.read_csv("data/heavymetalSummer_Winter.csv")
df





df["CrW"] * child_param["IRWres"] * child_param["EFres"] * child_param["ED"] * child_param["EV"] * child_param["ETres"] 


hqingCrW = (df["CrW"] * child_param["IRWres"] * child_param["EFres"] * child_param["ED"] * child_param["EV"] * child_param["ETres"]) / (child_param["BW"] * child_param["AT"] * child_param["RfDo"]["Cr"] * (10)**3)


hqingCrW = (df["CrW"] * child_param["IRWres"] * child_param["EFres"] * child_param["ED"] * child_param["EV"] * child_param["ETres"]) / (child_param["BW"] * child_param["ATres"] * child_param["RfDo"]["Cr"] * (10)**3)


hqingCrW = (df["CrW"] * child_param["IRWres"] * child_param["EFres"] * child_param["ED"] * child_param["EV"] * child_param["ETres"]) / (child_param["BW"] * child_param["ATres"] * child_param["RfDo"]["Cr"] * (10)**3)
hqingCdW = (df["CdW"] * child_param["IRWres"] * child_param["EFres"] * child_param["ED"] * child_param["EV"] * child_param["ETres"]) / (child_param["BW"] * child_param["ATres"] * child_param["RfDo"]["Cd"] * (10)**3)
hqingNiW = (df["NiW"] * child_param["IRWres"] * child_param["EFres"] * child_param["ED"] * child_param["EV"] * child_param["ETres"]) / (child_param["BW"] * child_param["ATres"] * child_param["RfDo"]["Ni"] * (10)**3)
hqingCuW = (df["CuW"] * child_param["IRWres"] * child_param["EFres"] * child_param["ED"] * child_param["EV"] * child_param["ETres"]) / (child_param["BW"] * child_param["ATres"] * child_param["RfDo"]["Cu"] * (10)**3)
hqingZnW = (df["ZnW"] * child_param["IRWres"] * child_param["EFres"] * child_param["ED"] * child_param["EV"] * child_param["ETres"]) / (child_param["BW"] * child_param["ATres"] * child_param["RfDo"]["Zn"] * (10)**3)
hqingMnW = (df["MnW"] * child_param["IRWres"] * child_param["EFres"] * child_param["ED"] * child_param["EV"] * child_param["ETres"]) / (child_param["BW"] * child_param["ATres"] * child_param["RfDo"]["Mn"] * (10)**3)
hqingHgW = (df["HgW"] * child_param["IRWres"] * child_param["EFres"] * child_param["ED"] * child_param["EV"] * child_param["ETres"]) / (child_param["BW"] * child_param["ATres"] * child_param["RfDo"]["Hg"] * (10)**3)
hqingAsW = (df["AsW"] * child_param["IRWres"] * child_param["EFres"] * child_param["ED"] * child_param["EV"] * child_param["ETres"]) / (child_param["BW"] * child_param["ATres"] * child_param["RfDo"]["As"] * (10)**3)
hqingPbW = (df["PbW"] * child_param["IRWres"] * child_param["EFres"] * child_param["ED"] * child_param["EV"] * child_param["ETres"]) / (child_param["BW"] * child_param["ATres"] * child_param["RfDo"]["Pb"] * (10)**3)



hqingCdW


hqdermCrW = (df["CrW"] * child_param["SA"] * child_param["Kp"]["Cr"] * child_param["ETres"] * child_param["EV"] * child_param["EFres"] * child_param["ED"]) / (child_param["BW"] * child_param["ATres"] * child_param["RfDo"]["Cr"] * child_param["GIABS"]["Cr"] * (10)**6)


hqdermCrW = (df["CrW"] * child_param["SA"] * child_param["Kp"]["Cr"] * child_param["ETres"] * child_param["EV"] * child_param["EFres"] * child_param["ED"]) / (child_param["BW"] * child_param["ATres"] * child_param["RfDo"]["Cr"] * child_param["GIABS"]["Cr"] * (10)**6)
hqdermCdW = (df["CdW"] * child_param["SA"] * child_param["Kp"]["Cd"] * child_param["ETres"] * child_param["EV"] * child_param["EFres"] * child_param["ED"]) / (child_param["BW"] * child_param["ATres"] * child_param["RfDo"]["Cd"] * child_param["GIABS"]["Cd"] * (10)**6)
hqdermNiW = (df["NiW"] * child_param["SA"] * child_param["Kp"]["Ni"] * child_param["ETres"] * child_param["EV"] * child_param["EFres"] * child_param["ED"]) / (child_param["BW"] * child_param["ATres"] * child_param["RfDo"]["Ni"] * child_param["GIABS"]["Ni"] * (10)**6)
hqdermCuW = (df["CuW"] * child_param["SA"] * child_param["Kp"]["Cu"] * child_param["ETres"] * child_param["EV"] * child_param["EFres"] * child_param["ED"]) / (child_param["BW"] * child_param["ATres"] * child_param["RfDo"]["Cu"] * child_param["GIABS"]["Cu"] * (10)**6)
hqdermMnW = (df["MnW"] * child_param["SA"] * child_param["Kp"]["Mn"] * child_param["ETres"] * child_param["EV"] * child_param["EFres"] * child_param["ED"]) / (child_param["BW"] * child_param["ATres"] * child_param["RfDo"]["Mn"] * child_param["GIABS"]["Mn"] * (10)**6)
hqdermZnW = (df["ZnW"] * child_param["SA"] * child_param["Kp"]["Zn"] * child_param["ETres"] * child_param["EV"] * child_param["EFres"] * child_param["ED"]) / (child_param["BW"] * child_param["ATres"] * child_param["RfDo"]["Zn"] * child_param["GIABS"]["Zn"] * (10)**6)
hqdermHgW = (df["HgW"] * child_param["SA"] * child_param["Kp"]["Hg"] * child_param["ETres"] * child_param["EV"] * child_param["EFres"] * child_param["ED"]) / (child_param["BW"] * child_param["ATres"] * child_param["RfDo"]["Hg"] * child_param["GIABS"]["Hg"] * (10)**6)
hqdermAsW = (df["AsW"] * child_param["SA"] * child_param["Kp"]["As"] * child_param["ETres"] * child_param["EV"] * child_param["EFres"] * child_param["ED"]) / (child_param["BW"] * child_param["ATres"] * child_param["RfDo"]["As"] * child_param["GIABS"]["As"] * (10)**6)
hqdermPbW = (df["PbW"] * child_param["SA"] * child_param["Kp"]["Pb"] * child_param["ETres"] * child_param["EV"] * child_param["EFres"] * child_param["ED"]) / (child_param["BW"] * child_param["ATres"] * child_param["RfDo"]["Pb"] * child_param["GIABS"]["Pb"] * (10)**6)





ing_w = pd.DataFrame({
        "Cr": hqingCrW,
        "Cd": hqingCdW,
        "Cu": hqingCuW,
        "Mn": hqingMnW,
        "Zn": hqingZnW,
        "Hg": hqingHgW,
        "As": hqingAsW,
        "Ni": hqingNiW,
        "Pb": hqingPbW
})

derm_w = pd.DataFrame({
        "Cr": hqdermCrW,
        "Cd": hqdermCdW,
        "Cu": hqdermCuW,
        "Mn": hqdermMnW,
        "Zn": hqdermZnW,
        "Hg": hqdermHgW,
        "As": hqdermAsW,
        "Ni": hqdermNiW,
        "Pb": hqdermPbW
})


ing_w


ing_w = ing_w.mean()
derm_w = derm_w.mean()  


ing_w


derm_w


dcW = pd.DataFrame([ing_w, derm_w])
dcW = dcW.T
dcW.columns = ["ingestion", "dermal"]


dcW


hi_ing = dcW["ingestion"].sum()
hi_derm = dcW["dermal"].sum()
hi_ing


thiW = hi_ing + hi_derm
thiW


hqingCrS = (df["CrS"] * child_param["IRWres"] * child_param["EFres"] * child_param["ED"] * child_param["EV"] * child_param["ETres"]) / (child_param["BW"] * child_param["ATres"] * child_param["RfDo"]["Cr"] * (10)**3)
hqingCdS = (df["CdS"] * child_param["IRWres"] * child_param["EFres"] * child_param["ED"] * child_param["EV"] * child_param["ETres"]) / (child_param["BW"] * child_param["ATres"] * child_param["RfDo"]["Cd"] * (10)**3)
hqingNiS = (df["NiS"] * child_param["IRWres"] * child_param["EFres"] * child_param["ED"] * child_param["EV"] * child_param["ETres"]) / (child_param["BW"] * child_param["ATres"] * child_param["RfDo"]["Ni"] * (10)**3)
hqingCuS = (df["CuS"] * child_param["IRWres"] * child_param["EFres"] * child_param["ED"] * child_param["EV"] * child_param["ETres"]) / (child_param["BW"] * child_param["ATres"] * child_param["RfDo"]["Cu"] * (10)**3)
hqingZnS = (df["ZnS"] * child_param["IRWres"] * child_param["EFres"] * child_param["ED"] * child_param["EV"] * child_param["ETres"]) / (child_param["BW"] * child_param["ATres"] * child_param["RfDo"]["Zn"] * (10)**3)
hqingMnS = (df["MnS"] * child_param["IRWres"] * child_param["EFres"] * child_param["ED"] * child_param["EV"] * child_param["ETres"]) / (child_param["BW"] * child_param["ATres"] * child_param["RfDo"]["Mn"] * (10)**3)
hqingHgS = (df["HgS"] * child_param["IRWres"] * child_param["EFres"] * child_param["ED"] * child_param["EV"] * child_param["ETres"]) / (child_param["BW"] * child_param["ATres"] * child_param["RfDo"]["Hg"] * (10)**3)
hqingAsS = (df["AsS"] * child_param["IRWres"] * child_param["EFres"] * child_param["ED"] * child_param["EV"] * child_param["ETres"]) / (child_param["BW"] * child_param["ATres"] * child_param["RfDo"]["As"] * (10)**3)
hqingPbS = (df["PbS"] * child_param["IRWres"] * child_param["EFres"] * child_param["ED"] * child_param["EV"] * child_param["ETres"]) / (child_param["BW"] * child_param["ATres"] * child_param["RfDo"]["Pb"] * (10)**3)

hqdermCrS = (df["CrS"] * child_param["SA"] * child_param["Kp"]["Cr"] * child_param["ETres"] * child_param["EV"] * child_param["EFres"] * child_param["ED"]) / (child_param["BW"] * child_param["ATres"] * child_param["RfDo"]["Cr"] * child_param["GIABS"]["Cr"] * (10)**6)
hqdermCdS = (df["CdS"] * child_param["SA"] * child_param["Kp"]["Cd"] * child_param["ETres"] * child_param["EV"] * child_param["EFres"] * child_param["ED"]) / (child_param["BW"] * child_param["ATres"] * child_param["RfDo"]["Cd"] * child_param["GIABS"]["Cd"] * (10)**6)
hqdermNiS = (df["NiS"] * child_param["SA"] * child_param["Kp"]["Ni"] * child_param["ETres"] * child_param["EV"] * child_param["EFres"] * child_param["ED"]) / (child_param["BW"] * child_param["ATres"] * child_param["RfDo"]["Ni"] * child_param["GIABS"]["Ni"] * (10)**6)
hqdermCuS = (df["CuS"] * child_param["SA"] * child_param["Kp"]["Cu"] * child_param["ETres"] * child_param["EV"] * child_param["EFres"] * child_param["ED"]) / (child_param["BW"] * child_param["ATres"] * child_param["RfDo"]["Cu"] * child_param["GIABS"]["Cu"] * (10)**6)
hqdermMnS = (df["MnS"] * child_param["SA"] * child_param["Kp"]["Mn"] * child_param["ETres"] * child_param["EV"] * child_param["EFres"] * child_param["ED"]) / (child_param["BW"] * child_param["ATres"] * child_param["RfDo"]["Mn"] * child_param["GIABS"]["Mn"] * (10)**6)
hqdermZnS = (df["ZnS"] * child_param["SA"] * child_param["Kp"]["Zn"] * child_param["ETres"] * child_param["EV"] * child_param["EFres"] * child_param["ED"]) / (child_param["BW"] * child_param["ATres"] * child_param["RfDo"]["Zn"] * child_param["GIABS"]["Zn"] * (10)**6)
hqdermHgS = (df["HgS"] * child_param["SA"] * child_param["Kp"]["Hg"] * child_param["ETres"] * child_param["EV"] * child_param["EFres"] * child_param["ED"]) / (child_param["BW"] * child_param["ATres"] * child_param["RfDo"]["Hg"] * child_param["GIABS"]["Hg"] * (10)**6)
hqdermAsS = (df["AsS"] * child_param["SA"] * child_param["Kp"]["As"] * child_param["ETres"] * child_param["EV"] * child_param["EFres"] * child_param["ED"]) / (child_param["BW"] * child_param["ATres"] * child_param["RfDo"]["As"] * child_param["GIABS"]["As"] * (10)**6)
hqdermPbS = (df["PbS"] * child_param["SA"] * child_param["Kp"]["Pb"] * child_param["ETres"] * child_param["EV"] * child_param["EFres"] * child_param["ED"]) / (child_param["BW"] * child_param["ATres"] * child_param["RfDo"]["Pb"] * child_param["GIABS"]["Pb"] * (10)**6)

ing_s = pd.DataFrame({
        "Cr": hqingCrS,
        "Cd": hqingCdS,
        "Cu": hqingCuS,
        "Mn": hqingMnS,
        "Zn": hqingZnS,
        "Hg": hqingHgS,
        "As": hqingAsS,
        "Ni": hqingNiS,
        "Pb": hqingPbS
})

derm_s = pd.DataFrame({
        "Cr": hqdermCrS,
        "Cd": hqdermCdS,
        "Cu": hqdermCuS,
        "Mn": hqdermMnS,
        "Zn": hqdermZnS,
        "Hg": hqdermHgS,
        "As": hqdermAsS,
        "Ni": hqdermNiS,
        "Pb": hqdermPbS
})

ing_s = ing_s.mean()
derm_s = derm_s.mean()    

dcS = pd.DataFrame([ing_s, derm_s])
dcS = dcS.T
dcS.columns = ["ingestion", "dermal"]
hi_ingS = dcS["ingestion"].sum()
hi_dermS = dcS["dermal"].sum()
thiS = hi_ingS + hi_dermS
thiS


dcS


hqingCrS = (df["CrS"] * adult_param["IRWres"] * adult_param["EFres"] * adult_param["ED"] * adult_param["EV"] * adult_param["ETres"]) / (adult_param["BW"] * adult_param["ATres"] * adult_param["RfDo"]["Cr"] * (10)**3)
hqingCdS = (df["CdS"] * adult_param["IRWres"] * adult_param["EFres"] * adult_param["ED"] * adult_param["EV"] * adult_param["ETres"]) / (adult_param["BW"] * adult_param["ATres"] * adult_param["RfDo"]["Cd"] * (10)**3)
hqingNiS = (df["NiS"] * adult_param["IRWres"] * adult_param["EFres"] * adult_param["ED"] * adult_param["EV"] * adult_param["ETres"]) / (adult_param["BW"] * adult_param["ATres"] * adult_param["RfDo"]["Ni"] * (10)**3)
hqingCuS = (df["CuS"] * adult_param["IRWres"] * adult_param["EFres"] * adult_param["ED"] * adult_param["EV"] * adult_param["ETres"]) / (adult_param["BW"] * adult_param["ATres"] * adult_param["RfDo"]["Cu"] * (10)**3)
hqingZnS = (df["ZnS"] * adult_param["IRWres"] * adult_param["EFres"] * adult_param["ED"] * adult_param["EV"] * adult_param["ETres"]) / (adult_param["BW"] * adult_param["ATres"] * adult_param["RfDo"]["Zn"] * (10)**3)
hqingMnS = (df["MnS"] * adult_param["IRWres"] * adult_param["EFres"] * adult_param["ED"] * adult_param["EV"] * adult_param["ETres"]) / (adult_param["BW"] * adult_param["ATres"] * adult_param["RfDo"]["Mn"] * (10)**3)
hqingHgS = (df["HgS"] * adult_param["IRWres"] * adult_param["EFres"] * adult_param["ED"] * adult_param["EV"] * adult_param["ETres"]) / (adult_param["BW"] * adult_param["ATres"] * adult_param["RfDo"]["Hg"] * (10)**3)
hqingAsS = (df["AsS"] * adult_param["IRWres"] * adult_param["EFres"] * adult_param["ED"] * adult_param["EV"] * adult_param["ETres"]) / (adult_param["BW"] * adult_param["ATres"] * adult_param["RfDo"]["As"] * (10)**3)
hqingPbS = (df["PbS"] * adult_param["IRWres"] * adult_param["EFres"] * adult_param["ED"] * adult_param["EV"] * adult_param["ETres"]) / (adult_param["BW"] * adult_param["ATres"] * adult_param["RfDo"]["Pb"] * (10)**3)

hqdermCrS = (df["CrS"] * adult_param["SA"] * adult_param["Kp"]["Cr"] * adult_param["ETres"] * adult_param["EV"] * adult_param["EFres"] * adult_param["ED"]) / (adult_param["BW"] * adult_param["ATres"] * adult_param["RfDo"]["Cr"] * adult_param["GIABS"]["Cr"] * (10)**6)
hqdermCdS = (df["CdS"] * adult_param["SA"] * adult_param["Kp"]["Cd"] * adult_param["ETres"] * adult_param["EV"] * adult_param["EFres"] * adult_param["ED"]) / (adult_param["BW"] * adult_param["ATres"] * adult_param["RfDo"]["Cd"] * adult_param["GIABS"]["Cd"] * (10)**6)
hqdermNiS = (df["NiS"] * adult_param["SA"] * adult_param["Kp"]["Ni"] * adult_param["ETres"] * adult_param["EV"] * adult_param["EFres"] * adult_param["ED"]) / (adult_param["BW"] * adult_param["ATres"] * adult_param["RfDo"]["Ni"] * adult_param["GIABS"]["Ni"] * (10)**6)
hqdermCuS = (df["CuS"] * adult_param["SA"] * adult_param["Kp"]["Cu"] * adult_param["ETres"] * adult_param["EV"] * adult_param["EFres"] * adult_param["ED"]) / (adult_param["BW"] * adult_param["ATres"] * adult_param["RfDo"]["Cu"] * adult_param["GIABS"]["Cu"] * (10)**6)
hqdermMnS = (df["MnS"] * adult_param["SA"] * adult_param["Kp"]["Mn"] * adult_param["ETres"] * adult_param["EV"] * adult_param["EFres"] * adult_param["ED"]) / (adult_param["BW"] * adult_param["ATres"] * adult_param["RfDo"]["Mn"] * adult_param["GIABS"]["Mn"] * (10)**6)
hqdermZnS = (df["ZnS"] * adult_param["SA"] * adult_param["Kp"]["Zn"] * adult_param["ETres"] * adult_param["EV"] * adult_param["EFres"] * adult_param["ED"]) / (adult_param["BW"] * adult_param["ATres"] * adult_param["RfDo"]["Zn"] * adult_param["GIABS"]["Zn"] * (10)**6)
hqdermHgS = (df["HgS"] * adult_param["SA"] * adult_param["Kp"]["Hg"] * adult_param["ETres"] * adult_param["EV"] * adult_param["EFres"] * adult_param["ED"]) / (adult_param["BW"] * adult_param["ATres"] * adult_param["RfDo"]["Hg"] * adult_param["GIABS"]["Hg"] * (10)**6)
hqdermAsS = (df["AsS"] * adult_param["SA"] * adult_param["Kp"]["As"] * adult_param["ETres"] * adult_param["EV"] * adult_param["EFres"] * adult_param["ED"]) / (adult_param["BW"] * adult_param["ATres"] * adult_param["RfDo"]["As"] * adult_param["GIABS"]["As"] * (10)**6)
hqdermPbS = (df["PbS"] * adult_param["SA"] * adult_param["Kp"]["Pb"] * adult_param["ETres"] * adult_param["EV"] * adult_param["EFres"] * adult_param["ED"]) / (adult_param["BW"] * adult_param["ATres"] * adult_param["RfDo"]["Pb"] * adult_param["GIABS"]["Pb"] * (10)**6)

ing_s = pd.DataFrame({
        "Cr": hqingCrS,
        "Cd": hqingCdS,
        "Cu": hqingCuS,
        "Mn": hqingMnS,
        "Zn": hqingZnS,
        "Hg": hqingHgS,
        "As": hqingAsS,
        "Ni": hqingNiS,
        "Pb": hqingPbS
})

derm_s = pd.DataFrame({
        "Cr": hqdermCrS,
        "Cd": hqdermCdS,
        "Cu": hqdermCuS,
        "Mn": hqdermMnS,
        "Zn": hqdermZnS,
        "Hg": hqdermHgS,
        "As": hqdermAsS,
        "Ni": hqdermNiS,
        "Pb": hqdermPbS
})

ing_s = ing_s.mean()
derm_s = derm_s.mean()    

dcS = pd.DataFrame([ing_s, derm_s])
dcS = dcS.T
dcS.columns = ["ingestion", "dermal"]
thiS = dcS.ingestion + dcS.dermal
thiS


thiS.sum()


dcS


ing_s








hqingCrS = (df["CrW"] * adult_param["IRWres"] * adult_param["EFres"] * adult_param["ED"] * adult_param["EV"] * adult_param["ETres"]) / (adult_param["BW"] * adult_param["ATres"] * adult_param["RfDo"]["Cr"] * (10)**3)
hqingCdS = (df["CdW"] * adult_param["IRWres"] * adult_param["EFres"] * adult_param["ED"] * adult_param["EV"] * adult_param["ETres"]) / (adult_param["BW"] * adult_param["ATres"] * adult_param["RfDo"]["Cd"] * (10)**3)
hqingNiS = (df["NiW"] * adult_param["IRWres"] * adult_param["EFres"] * adult_param["ED"] * adult_param["EV"] * adult_param["ETres"]) / (adult_param["BW"] * adult_param["ATres"] * adult_param["RfDo"]["Ni"] * (10)**3)
hqingCuS = (df["CuW"] * adult_param["IRWres"] * adult_param["EFres"] * adult_param["ED"] * adult_param["EV"] * adult_param["ETres"]) / (adult_param["BW"] * adult_param["ATres"] * adult_param["RfDo"]["Cu"] * (10)**3)
hqingZnS = (df["ZnW"] * adult_param["IRWres"] * adult_param["EFres"] * adult_param["ED"] * adult_param["EV"] * adult_param["ETres"]) / (adult_param["BW"] * adult_param["ATres"] * adult_param["RfDo"]["Zn"] * (10)**3)
hqingMnS = (df["MnW"] * adult_param["IRWres"] * adult_param["EFres"] * adult_param["ED"] * adult_param["EV"] * adult_param["ETres"]) / (adult_param["BW"] * adult_param["ATres"] * adult_param["RfDo"]["Mn"] * (10)**3)
hqingHgS = (df["HgW"] * adult_param["IRWres"] * adult_param["EFres"] * adult_param["ED"] * adult_param["EV"] * adult_param["ETres"]) / (adult_param["BW"] * adult_param["ATres"] * adult_param["RfDo"]["Hg"] * (10)**3)
hqingAsS = (df["AsW"] * adult_param["IRWres"] * adult_param["EFres"] * adult_param["ED"] * adult_param["EV"] * adult_param["ETres"]) / (adult_param["BW"] * adult_param["ATres"] * adult_param["RfDo"]["As"] * (10)**3)
hqingPbS = (df["PbW"] * adult_param["IRWres"] * adult_param["EFres"] * adult_param["ED"] * adult_param["EV"] * adult_param["ETres"]) / (adult_param["BW"] * adult_param["ATres"] * adult_param["RfDo"]["Pb"] * (10)**3)

hqdermCrS = (df["CrW"] * adult_param["SA"] * adult_param["Kp"]["Cr"] * adult_param["ETres"] * adult_param["EV"] * adult_param["EFres"] * adult_param["ED"]) / (adult_param["BW"] * adult_param["ATres"] * adult_param["RfDo"]["Cr"] * adult_param["GIABS"]["Cr"] * (10)**6)
hqdermCdS = (df["CdW"] * adult_param["SA"] * adult_param["Kp"]["Cd"] * adult_param["ETres"] * adult_param["EV"] * adult_param["EFres"] * adult_param["ED"]) / (adult_param["BW"] * adult_param["ATres"] * adult_param["RfDo"]["Cd"] * adult_param["GIABS"]["Cd"] * (10)**6)
hqdermNiS = (df["NiW"] * adult_param["SA"] * adult_param["Kp"]["Ni"] * adult_param["ETres"] * adult_param["EV"] * adult_param["EFres"] * adult_param["ED"]) / (adult_param["BW"] * adult_param["ATres"] * adult_param["RfDo"]["Ni"] * adult_param["GIABS"]["Ni"] * (10)**6)
hqdermCuS = (df["CuW"] * adult_param["SA"] * adult_param["Kp"]["Cu"] * adult_param["ETres"] * adult_param["EV"] * adult_param["EFres"] * adult_param["ED"]) / (adult_param["BW"] * adult_param["ATres"] * adult_param["RfDo"]["Cu"] * adult_param["GIABS"]["Cu"] * (10)**6)
hqdermMnS = (df["MnW"] * adult_param["SA"] * adult_param["Kp"]["Mn"] * adult_param["ETres"] * adult_param["EV"] * adult_param["EFres"] * adult_param["ED"]) / (adult_param["BW"] * adult_param["ATres"] * adult_param["RfDo"]["Mn"] * adult_param["GIABS"]["Mn"] * (10)**6)
hqdermZnS = (df["ZnW"] * adult_param["SA"] * adult_param["Kp"]["Zn"] * adult_param["ETres"] * adult_param["EV"] * adult_param["EFres"] * adult_param["ED"]) / (adult_param["BW"] * adult_param["ATres"] * adult_param["RfDo"]["Zn"] * adult_param["GIABS"]["Zn"] * (10)**6)
hqdermHgS = (df["HgW"] * adult_param["SA"] * adult_param["Kp"]["Hg"] * adult_param["ETres"] * adult_param["EV"] * adult_param["EFres"] * adult_param["ED"]) / (adult_param["BW"] * adult_param["ATres"] * adult_param["RfDo"]["Hg"] * adult_param["GIABS"]["Hg"] * (10)**6)
hqdermAsS = (df["AsW"] * adult_param["SA"] * adult_param["Kp"]["As"] * adult_param["ETres"] * adult_param["EV"] * adult_param["EFres"] * adult_param["ED"]) / (adult_param["BW"] * adult_param["ATres"] * adult_param["RfDo"]["As"] * adult_param["GIABS"]["As"] * (10)**6)
hqdermPbS = (df["PbW"] * adult_param["SA"] * adult_param["Kp"]["Pb"] * adult_param["ETres"] * adult_param["EV"] * adult_param["EFres"] * adult_param["ED"]) / (adult_param["BW"] * adult_param["ATres"] * adult_param["RfDo"]["Pb"] * adult_param["GIABS"]["Pb"] * (10)**6)

ing_w = pd.DataFrame({
        "Cr": hqingCrS,
        "Cd": hqingCdS,
        "Cu": hqingCuS,
        "Mn": hqingMnS,
        "Zn": hqingZnS,
        "Hg": hqingHgS,
        "As": hqingAsS,
        "Ni": hqingNiS,
        "Pb": hqingPbS
})

derm_w = pd.DataFrame({
        "Cr": hqdermCrS,
        "Cd": hqdermCdS,
        "Cu": hqdermCuS,
        "Mn": hqdermMnS,
        "Zn": hqdermZnS,
        "Hg": hqdermHgS,
        "As": hqdermAsS,
        "Ni": hqdermNiS,
        "Pb": hqdermPbS
})

ing_w = ing_w.mean()
derm_w = derm_w.mean()    

dcW = pd.DataFrame([ing_w, derm_w])
dcW = dcW.T
dcW.columns = ["ingestion", "dermal"]
thiW = dcW.ingestion + dcW.dermal
thiW


ing_w








s1 = [19.79, 0.92, 347.62, 0.15, 1.29, 4.60, 8.32, 0.82, 0.00, 0.16, 1.44]
s27 = [19.10, 0.32, 161.55, 0.10, 0.55, 1.25, 2.35, 7, 0.05, 0.20, 0.29]


s5  = [4.80, 0.55, 147, 0.1, 0.70, 2.25, 3.95,0.80,0.00, 0.10, 1.25]
s11 = [12.40, 0.80, 321.70, 0.05, 0.75, 2.55,4.30, 0.60,0.00, 0.15, 3.64 ]
s20 = [15.79,0.79, 253.18, 0.15, 0.89, 4.53, 5.97, 1.77,0.00, 0.20, 0.81]
s24 = [27.58, 0.73, 214.52, 0.10, 0.92, 4.46, 6.17,2.79, 0.05, 0.17,1.44]


metals = ["Mn", 
          "Cr",
          "Fe",
          "Co",
          "Ni",
          "Cu",
          "Zn",
          "As",
          "Cd",
          "Hg",
          "Pb"]


shil = pd.DataFrame(data={
    "Metals": metals,
    "s1": s1,
    "s5":s5,
    "s11": s11,
    "s20": s20,
    "s24": s24,
    "s27": s27
})


shil = shil.T
shil


cols = shil.iloc[0]
shil.columns = cols
shil = shil.iloc[1:]
shil


param_adult= {
    "IR" : 2.5,
    "EF": 365,
    "ED": 70,
    "BW": 70,
    "AT": 365 * 70,
    "SA": 18000,
    "ET": 0.58,
    "CF": 10**-3,
    'Kp': {
        "Mn": 0.001,
        "Cr": 0.002,
        "Fe": 0.001,
        "Co": 0.0004,
        "Ni": 0.0002,
        "Cu": 0.001,
        "Zn": 0.0006,
        "As": 0.001,
        "Cd": 0.001,
        "Hg": 0.001,
        "Pb": 0.0001
    },
    'RfDing': {
        "Mn": 0.024,
        "Cr": 0.003,
        "Fe": .7,
        "Co": 0.3,
        "Ni": 25,
        "Cu": 40,
        "Zn": 300,
        "As": 0.3,
        "Cd": 0.5,
        "Hg": 0.16,
        "Pb": 3.5
    },
    "RfDderm": {
        "Mn": 0.96,
        "Cr": 19.5,
        "Fe": 700,
        "Co": 0.3,
        "Ni": 5.4,
        "Cu": 40,
        "Zn": 60,
        "As": 0.3,
        "Cd": 0.025,
        "Hg": 0.16,
        "Pb": 42
        
    }

}

param_child= {
    "IR" : 0.64,
    "EF": 365,
    "ED": 6,
    "BW": 25,
    "AT": 365 * 6,
    "SA": 6600,
    "ET": 1,
    "CF": 10**-3,
    'Kp': {
        "Mn": 0.001,
        "Cr": 0.002,
        "Fe": 0.001,
        "Co": 0.0004,
        "Ni": 0.0002,
        "Cu": 0.001,
        "Zn": 0.0006,
        "As": 0.001,
        "Cd": 0.001,
        "Hg": 0.001,
        "Pb": 0.0001
    },
    'RfDing': {
        "Mn": 24,
        "Cr": 3,
        "Fe": 700,
        "Co": 0.3,
        "Ni": 25,
        "Cu": 40,
        "Zn": 300,
        "As": 0.3,
        "Cd": 0.5,
        "Hg": 0.16,
        "Pb": 3.5
    },
    "RfDderm": {
        "Mn": 0.96,
        "Cr": 19.5,
        "Fe": 700,
        "Co": 0.3,
        "Ni": 5.4,
        "Cu": 40,
        "Zn": 60,
        "As": 0.3,
        "Cd": 0.025,
        "Hg": 0.16,
        "Pb": 42
        
    }

}


shil


Mn = (shil["Mn"] * param_adult["IR"] * param_adult["EF"] * param_adult["ED"])/ (param_adult["BW"]* param_adult["AT"])
Cr = (shil["Cr"] * param_adult["IR"] * param_adult["EF"] * param_adult["ED"])/ (param_adult["BW"]* param_adult["AT"])
Fe = (shil["Fe"] * param_adult["IR"] * param_adult["EF"] * param_adult["ED"])/ (param_adult["BW"]* param_adult["AT"])
Co = (shil["Co"] * param_adult["IR"] * param_adult["EF"] * param_adult["ED"])/ (param_adult["BW"]* param_adult["AT"])
Ni = (shil["Ni"] * param_adult["IR"] * param_adult["EF"] * param_adult["ED"])/ (param_adult["BW"]* param_adult["AT"])
Cu = (shil["Cu"] * param_adult["IR"] * param_adult["EF"] * param_adult["ED"])/ (param_adult["BW"]* param_adult["AT"])
Zn = (shil["Zn"] * param_adult["IR"] * param_adult["EF"] * param_adult["ED"])/ (param_adult["BW"]* param_adult["AT"])
As = (shil["As"] * param_adult["IR"] * param_adult["EF"] * param_adult["ED"])/ (param_adult["BW"]* param_adult["AT"])
Cd = (shil["Cd"] * param_adult["IR"] * param_adult["EF"] * param_adult["ED"])/ (param_adult["BW"]* param_adult["AT"])
Hg = (shil["Hg"] * param_adult["IR"] * param_adult["EF"] * param_adult["ED"])/ (param_adult["BW"]* param_adult["AT"])
Pb = (shil["Pb"] * param_adult["IR"] * param_adult["EF"] * param_adult["ED"])/ (param_adult["BW"]* param_adult["AT"])



cdi_ing = pd.DataFrame(data = {
    "Mn": Mn,
    "Cr": Cr,
    "Fe": Fe,
    "Co": Co,
    "Ni": Ni,
    "Cu": Cu,
    "Zn": Zn,
    "As": As,
    "Cd": Cd,
    "Hg": Hg,
    "Pb": Pb
}
)


cdi_ing


Mn = (shil["Mn"] * param_adult["SA"] * param_adult["Kp"]["Mn"] * param_adult["ET"] * param_adult["EF"] * param_adult["ED"] * param_adult["CF"])/ (param_adult["BW"]* param_adult["AT"])
Cr = (shil["Cr"] * param_adult["SA"] * param_adult["Kp"]["Cr"] * param_adult["ET"] * param_adult["EF"] * param_adult["ED"] * param_adult["CF"])/ (param_adult["BW"]* param_adult["AT"])
Fe = (shil["Fe"] * param_adult["SA"] * param_adult["Kp"]["Fe"] * param_adult["ET"] * param_adult["EF"] * param_adult["ED"] * param_adult["CF"])/ (param_adult["BW"]* param_adult["AT"])
Co = (shil["Co"] * param_adult["SA"] * param_adult["Kp"]["Co"] * param_adult["ET"] * param_adult["EF"] * param_adult["ED"] * param_adult["CF"])/ (param_adult["BW"]* param_adult["AT"])
Ni = (shil["Ni"] * param_adult["SA"] * param_adult["Kp"]["Ni"] * param_adult["ET"] * param_adult["EF"] * param_adult["ED"] * param_adult["CF"])/ (param_adult["BW"]* param_adult["AT"])
Cu = (shil["Cu"] * param_adult["SA"] * param_adult["Kp"]["Cu"] * param_adult["ET"] * param_adult["EF"] * param_adult["ED"] * param_adult["CF"])/ (param_adult["BW"]* param_adult["AT"])
Zn = (shil["Zn"] * param_adult["SA"] * param_adult["Kp"]["Zn"] * param_adult["ET"] * param_adult["EF"] * param_adult["ED"] * param_adult["CF"])/ (param_adult["BW"]* param_adult["AT"])
As = (shil["As"] * param_adult["SA"] * param_adult["Kp"]["As"] * param_adult["ET"] * param_adult["EF"] * param_adult["ED"] * param_adult["CF"])/ (param_adult["BW"]* param_adult["AT"])
Cd = (shil["Cd"] * param_adult["SA"] * param_adult["Kp"]["Cd"] * param_adult["ET"] * param_adult["EF"] * param_adult["ED"] * param_adult["CF"])/ (param_adult["BW"]* param_adult["AT"])
Hg = (shil["Hg"] * param_adult["SA"] * param_adult["Kp"]["Hg"] * param_adult["ET"] * param_adult["EF"] * param_adult["ED"] * param_adult["CF"])/ (param_adult["BW"]* param_adult["AT"])
Pb = (shil["Pb"] * param_adult["SA"] * param_adult["Kp"]["Pb"] * param_adult["ET"] * param_adult["EF"] * param_adult["ED"] * param_adult["CF"])/ (param_adult["BW"]* param_adult["AT"])



cdi_derm = pd.DataFrame(data = {
    "Mn": Mn,
    "Cr": Cr,
    "Fe": Fe,
    "Co": Co,
    "Ni": Ni,
    "Cu": Cu,
    "Zn": Zn,
    "As": As,
    "Cd": Cd,
    "Hg": Hg,
    "Pb": Pb
}
)


hqMn = cdi_ing["Mn"] / param_adult["RfDing"]["Mn"]
hqCr = cdi_ing["Cr"] / param_adult["RfDing"]["Cr"]
hqFe = cdi_ing["Fe"] / param_adult["RfDing"]["Fe"]
hqCo = cdi_ing["Co"] / param_adult["RfDing"]["Co"]
hqCu = cdi_ing["Cu"] / param_adult["RfDing"]["Cu"]
hqZn = cdi_ing["Zn"] / param_adult["RfDing"]["Zn"]
hqAs = cdi_ing["As"] / param_adult["RfDing"]["As"]
hqCd = cdi_ing["Cd"] / param_adult["RfDing"]["Cd"]
hqHg = cdi_ing["Hg"] / param_adult["RfDing"]["Hg"]
hqPb = cdi_ing["Pb"] / param_adult["RfDing"]["Pb"]
hqNi = cdi_ing["Ni"] / param_adult["RfDing"]["Ni"]


hq_ing = pd.DataFrame(data = {
    "Mn": hqMn,
    "Cr": hqCr,
    "Fe": hqFe,
    "Co": hqCo,
    "Ni": hqNi,
    "Cu": hqCu,
    "Zn": hqZn,
    "As": hqAs,
    "Cd": hqCd,
    "Hg": hqHg,
    "Pb": hqPb
}
)


hq_ing


hqMn = cdi_derm["Mn"] / param_adult["RfDderm"]["Mn"]
hqCr = cdi_derm["Cr"] / param_adult["RfDderm"]["Cr"]
hqFe = cdi_derm["Fe"] / param_adult["RfDderm"]["Fe"]
hqCo = cdi_derm["Co"] / param_adult["RfDderm"]["Co"]
hqCu = cdi_derm["Cu"] / param_adult["RfDderm"]["Cu"]
hqZn = cdi_derm["Zn"] / param_adult["RfDderm"]["Zn"]
hqAs = cdi_derm["As"] / param_adult["RfDderm"]["As"]
hqCd = cdi_derm["Cd"] / param_adult["RfDderm"]["Cd"]
hqHg = cdi_derm["Hg"] / param_adult["RfDderm"]["Hg"]
hqPb = cdi_derm["Pb"] / param_adult["RfDderm"]["Pb"]
hqNi = cdi_derm["Ni"] / param_adult["RfDderm"]["Ni"]


hq_derm = pd.DataFrame(data = {
    "Mn": hqMn,
    "Cr": hqCr,
    "Fe": hqFe,
    "Co": hqCo,
    "Ni": hqNi,
    "Cu": hqCu,
    "Zn": hqZn,
    "As": hqAs,
    "Cd": hqCd,
    "Hg": hqHg,
    "Pb": hqPb
}
)


hi = hq_derm + hq_ing
hi


hi.sum(axis=1)





df.columns


param_adult= {
    "IR" : 2.5,
    "EF": 365,
    "ED": 70,
    "BW": 70,
    "AT": 365 * 70,
    "SA": 18000,
    "ET": 0.58,
    "CF": 10**-3,
    'Kp': {
        "Mn": 0.001,
        "Cr": 0.002,
        "Ni": 0.0002,
        "Cu": 0.001,
        "Zn": 0.0006,
        "As": 0.001,
        "Cd": 0.001,
        "Hg": 0.001,
        "Pb": 0.0001
    },
    'RfDing': {
        "Mn": 0.024,
        "Cr": 0.003,
        "Ni": 0.025,
        "Cu": 0.04,
        "Zn": 0.3,
        "As": 0.0003,
        "Cd": 0.0005,
        "Hg": 0.00016,
        "Pb": 0.0035
    },
    "RfDderm": {
        "Mn": 0.00096,
        "Cr": 0.0195,
        "Ni": 0.0054,
        "Cu": 0.04,
        "Zn": 0.06,
        "As": 0.0003,
        "Cd": 0.000025,
        "Hg": 0.00016,
        "Pb": 0.042
        
    },
    "CSFing": {
        "Cd": 0.38,
        "Cr": 0.5,
        "As":1.5,
        "Pb":0.0085
    },
    "CSFderm": {
        "Cd": 0.38,
        "Cr": 20,
        "As":3.66,
        "Pb":0.0085
    }
    
    

}

param_child= {
    "IR" : 0.64,
    "EF": 365,
    "ED": 6,
    "BW": 25,
    "AT": 365 * 6,
    "SA": 6600,
    "ET": 1,
    "CF": 10**-3,
    'Kp': {
        "Mn": 0.001,
        "Cr": 0.002,
        "Ni": 0.0002,
        "Cu": 0.001,
        "Zn": 0.0006,
        "As": 0.001,
        "Cd": 0.001,
        "Hg": 0.001,
        "Pb": 0.0001
    },
    'RfDing': {
        "Mn": 0.024,
        "Cr": 0.003,
        "Ni": 0.025,
        "Cu": 0.04,
        "Zn": 0.3,
        "As": 0.0003,
        "Cd": 0.0005,
        "Hg": 0.00016,
        "Pb": 0.0035
    },
    "RfDderm": {
        "Mn": 0.00096,
        "Cr": 0.0195,
        "Ni": 0.0054,
        "Cu": 0.04,
        "Zn": 0.06,
        "As": 0.0003,
        "Cd": 0.000025,
        "Hg": 0.00016,
        "Pb": 0.042
        
    },
    "CSFing": {
        "Cd": 0.38,
        "Cr": 0.5,
        "As":1.5,
        "Pb":0.0085
    },
    "CSFderm": {
        "Cd": 0.38,
        "Cr": 20,
        "As":3.66,
        "Pb":0.0085
    }
    

}


df.columns


shil = pd.DataFrame(data={
    "Cd": df.CdW,
    "Cr": df.CrW,
    "Ni": df.NiW,
    "Cu": df.CuW,
    "Zn": df.ZnW,
    "Mn": df.MnW,
    "Hg": df.HgW,
    "As": df.AsW,
    "Pb": df.PbW,
})
shil


Mn = (shil["Mn"] * param_adult["IR"] * param_adult["EF"] * param_adult["ED"])/ (param_adult["BW"]* param_adult["AT"])
Cr = (shil["Cr"] * param_adult["IR"] * param_adult["EF"] * param_adult["ED"])/ (param_adult["BW"]* param_adult["AT"])
Ni = (shil["Ni"] * param_adult["IR"] * param_adult["EF"] * param_adult["ED"])/ (param_adult["BW"]* param_adult["AT"])
Cu = (shil["Cu"] * param_adult["IR"] * param_adult["EF"] * param_adult["ED"])/ (param_adult["BW"]* param_adult["AT"])
Zn = (shil["Zn"] * param_adult["IR"] * param_adult["EF"] * param_adult["ED"])/ (param_adult["BW"]* param_adult["AT"])
As = (shil["As"] * param_adult["IR"] * param_adult["EF"] * param_adult["ED"])/ (param_adult["BW"]* param_adult["AT"])
Cd = (shil["Cd"] * param_adult["IR"] * param_adult["EF"] * param_adult["ED"])/ (param_adult["BW"]* param_adult["AT"])
Hg = (shil["Hg"] * param_adult["IR"] * param_adult["EF"] * param_adult["ED"])/ (param_adult["BW"]* param_adult["AT"])
Pb = (shil["Pb"] * param_adult["IR"] * param_adult["EF"] * param_adult["ED"])/ (param_adult["BW"]* param_adult["AT"])


cdi_ing = pd.DataFrame(data = {
    "Mn": Mn,
    "Cr": Cr,
    "Ni": Ni,
    "Cu": Cu,
    "Zn": Zn,
    "As": As,
    "Cd": Cd,
    "Hg": Hg,
    "Pb": Pb
}
)


hqMn = cdi_ing["Mn"] / param_adult["RfDing"]["Mn"]
hqCr = cdi_ing["Cr"] / param_adult["RfDing"]["Cr"]
hqCu = cdi_ing["Cu"] / param_adult["RfDing"]["Cu"]
hqZn = cdi_ing["Zn"] / param_adult["RfDing"]["Zn"]
hqAs = cdi_ing["As"] / param_adult["RfDing"]["As"]
hqCd = cdi_ing["Cd"] / param_adult["RfDing"]["Cd"]
hqHg = cdi_ing["Hg"] / param_adult["RfDing"]["Hg"]
hqPb = cdi_ing["Pb"] / param_adult["RfDing"]["Pb"]
hqNi = cdi_ing["Ni"] / param_adult["RfDing"]["Ni"]


hq_ing = pd.DataFrame(data = {
    "Mn": hqMn,
    "Cr": hqCr,
    "Ni": hqNi,
    "Cu": hqCu,
    "Zn": hqZn,
    "As": hqAs,
    "Cd": hqCd,
    "Hg": hqHg,
    "Pb": hqPb
}
)


Mn = (shil["Mn"] * param_adult["SA"] * param_adult["Kp"]["Mn"] * param_adult["ET"] * param_adult["EF"] * param_adult["ED"] * param_adult["CF"])/ (param_adult["BW"]* param_adult["AT"])
Cr = (shil["Cr"] * param_adult["SA"] * param_adult["Kp"]["Cr"] * param_adult["ET"] * param_adult["EF"] * param_adult["ED"] * param_adult["CF"])/ (param_adult["BW"]* param_adult["AT"])
Ni = (shil["Ni"] * param_adult["SA"] * param_adult["Kp"]["Ni"] * param_adult["ET"] * param_adult["EF"] * param_adult["ED"] * param_adult["CF"])/ (param_adult["BW"]* param_adult["AT"])
Cu = (shil["Cu"] * param_adult["SA"] * param_adult["Kp"]["Cu"] * param_adult["ET"] * param_adult["EF"] * param_adult["ED"] * param_adult["CF"])/ (param_adult["BW"]* param_adult["AT"])
Zn = (shil["Zn"] * param_adult["SA"] * param_adult["Kp"]["Zn"] * param_adult["ET"] * param_adult["EF"] * param_adult["ED"] * param_adult["CF"])/ (param_adult["BW"]* param_adult["AT"])
As = (shil["As"] * param_adult["SA"] * param_adult["Kp"]["As"] * param_adult["ET"] * param_adult["EF"] * param_adult["ED"] * param_adult["CF"])/ (param_adult["BW"]* param_adult["AT"])
Cd = (shil["Cd"] * param_adult["SA"] * param_adult["Kp"]["Cd"] * param_adult["ET"] * param_adult["EF"] * param_adult["ED"] * param_adult["CF"])/ (param_adult["BW"]* param_adult["AT"])
Hg = (shil["Hg"] * param_adult["SA"] * param_adult["Kp"]["Hg"] * param_adult["ET"] * param_adult["EF"] * param_adult["ED"] * param_adult["CF"])/ (param_adult["BW"]* param_adult["AT"])
Pb = (shil["Pb"] * param_adult["SA"] * param_adult["Kp"]["Pb"] * param_adult["ET"] * param_adult["EF"] * param_adult["ED"] * param_adult["CF"])/ (param_adult["BW"]* param_adult["AT"])



cdi_derm = pd.DataFrame(data = {
    "Mn": Mn,
    "Cr": Cr,
    "Ni": Ni,
    "Cu": Cu,
    "Zn": Zn,
    "As": As,
    "Cd": Cd,
    "Hg": Hg,
    "Pb": Pb
}
)


hqMn = cdi_derm["Mn"] / param_adult["RfDderm"]["Mn"]
hqCr = cdi_derm["Cr"] / param_adult["RfDderm"]["Cr"]
hqCu = cdi_derm["Cu"] / param_adult["RfDderm"]["Cu"]
hqZn = cdi_derm["Zn"] / param_adult["RfDderm"]["Zn"]
hqAs = cdi_derm["As"] / param_adult["RfDderm"]["As"]
hqCd = cdi_derm["Cd"] / param_adult["RfDderm"]["Cd"]
hqHg = cdi_derm["Hg"] / param_adult["RfDderm"]["Hg"]
hqPb = cdi_derm["Pb"] / param_adult["RfDderm"]["Pb"]
hqNi = cdi_derm["Ni"] / param_adult["RfDderm"]["Ni"]


hq_derm = pd.DataFrame(data = {
    "Mn": hqMn,
    "Cr": hqCr,
    "Ni": hqNi,
    "Cu": hqCu,
    "Zn": hqZn,
    "As": hqAs,
    "Cd": hqCd,
    "Hg": hqHg,
    "Pb": hqPb
}
)


hi = hq_derm + hq_ing
hi


hi.sum(axis=1)


param_adult= {
    "IR" : 2.5,
    "EF": 365,
    "ED": 70,
    "BW": 70,
    "AT": 365 * 70,
    "SA": 18000,
    "ET": 0.58,
    "CF": 10**-3,
    'Kp': {
        "Mn": 0.001,
        "Cr": 0.002,
        "Ni": 0.0002,
        "Cu": 0.001,
        "Zn": 0.0006,
        "As": 0.001,
        "Cd": 0.001,
        "Hg": 0.001,
        "Pb": 0.0001
    },
    'RfDing': {
        "Mn": 0.024,
        "Cr": 0.003,
        "Ni": 0.025,
        "Cu": 0.04,
        "Zn": 0.3,
        "As": 0.0003,
        "Cd": 0.0005,
        "Hg": 0.00016,
        "Pb": 0.0035
    },
    "RfDderm": {
        "Mn": 0.00096,
        "Cr": 0.0195,
        "Ni": 0.0054,
        "Cu": 0.04,
        "Zn": 0.06,
        "As": 0.0003,
        "Cd": 0.000025,
        "Hg": 0.00016,
        "Pb": 0.042
        
    },
    "CSFing": {
        "Cd": 0.38,
        "Cr": 0.5,
        "As": 1.5,
        "Pb": 0.0085,
        "Ni": 1.7
    },
    "CSFderm": {
        "Cd": 0.38,
        "Cr": 0.5,
        "As": 1.5,
        "Pb": 0.0085,
        "Ni": 1.7
    }
    

}

param_child= {
    "IR" : 0.64,
    "EF": 365,
    "ED": 6,
    "BW": 25,
    "AT": 365 * 6,
    "SA": 6600,
    "ET": 1,
    "CF": 10**-3,
    'Kp': {
        "Mn": 0.001,
        "Cr": 0.002,
        "Ni": 0.0002,
        "Cu": 0.001,
        "Zn": 0.0006,
        "As": 0.001,
        "Cd": 0.001,
        "Hg": 0.001,
        "Pb": 0.0001
    },
    'RfDing': {
        "Mn": 0.024,
        "Cr": 0.003,
        "Ni": 0.025,
        "Cu": 0.04,
        "Zn": 0.3,
        "As": 0.0003,
        "Cd": 0.0005,
        "Hg": 0.00016,
        "Pb": 0.0035
    },
    "RfDderm": {
        "Mn": 0.00096,
        "Cr": 0.0195,
        "Ni": 0.0054,
        "Cu": 0.04,
        "Zn": 0.06,
        "As": 0.0003,
        "Cd": 0.000025,
        "Hg": 0.00016,
        "Pb": 0.042
    },
    "CSFing": {
        "Cd": 0.38,
        "Cr": 0.5,
        "As": 1.5,
        "Pb": 0.0085,
        "Ni": 1.7
    },
    "CSFderm": {
        "Cd": 0.38,
        "Cr": 0.5,
        "As": 1.5,
        "Pb": 0.0085,
        "Ni": 1.7
    }
    

}








shil = pd.DataFrame(data={
    "Cd": df.CdW,
    "Cr": df.CrW,
    "Ni": df.NiW,
    "Cu": df.CuW,
    "Zn": df.ZnW,
    "Mn": df.MnW,
    "Hg": df.HgW,
    "As": df.AsW,
    "Pb": df.PbW,
})

Mn = (shil["Mn"] * param_adult["IR"] * param_adult["EF"] * param_adult["ED"])/ (param_adult["BW"]* param_adult["AT"])
Cr = (shil["Cr"] * param_adult["IR"] * param_adult["EF"] * param_adult["ED"])/ (param_adult["BW"]* param_adult["AT"])
Ni = (shil["Ni"] * param_adult["IR"] * param_adult["EF"] * param_adult["ED"])/ (param_adult["BW"]* param_adult["AT"])
Cu = (shil["Cu"] * param_adult["IR"] * param_adult["EF"] * param_adult["ED"])/ (param_adult["BW"]* param_adult["AT"])
Zn = (shil["Zn"] * param_adult["IR"] * param_adult["EF"] * param_adult["ED"])/ (param_adult["BW"]* param_adult["AT"])
As = (shil["As"] * param_adult["IR"] * param_adult["EF"] * param_adult["ED"])/ (param_adult["BW"]* param_adult["AT"])
Cd = (shil["Cd"] * param_adult["IR"] * param_adult["EF"] * param_adult["ED"])/ (param_adult["BW"]* param_adult["AT"])
Hg = (shil["Hg"] * param_adult["IR"] * param_adult["EF"] * param_adult["ED"])/ (param_adult["BW"]* param_adult["AT"])
Pb = (shil["Pb"] * param_adult["IR"] * param_adult["EF"] * param_adult["ED"])/ (param_adult["BW"]* param_adult["AT"])

cdi_ing = pd.DataFrame(data = {
    "Mn": Mn,
    "Cr": Cr,
    "Ni": Ni,
    "Cu": Cu,
    "Zn": Zn,
    "As": As,
    "Cd": Cd,
    "Hg": Hg,
    "Pb": Pb
}
)

hqMn = cdi_ing["Mn"] / param_adult["RfDing"]["Mn"]
hqCr = cdi_ing["Cr"] / param_adult["RfDing"]["Cr"]
hqCu = cdi_ing["Cu"] / param_adult["RfDing"]["Cu"]
hqZn = cdi_ing["Zn"] / param_adult["RfDing"]["Zn"]
hqAs = cdi_ing["As"] / param_adult["RfDing"]["As"]
hqCd = cdi_ing["Cd"] / param_adult["RfDing"]["Cd"]
hqHg = cdi_ing["Hg"] / param_adult["RfDing"]["Hg"]
hqPb = cdi_ing["Pb"] / param_adult["RfDing"]["Pb"]
hqNi = cdi_ing["Ni"] / param_adult["RfDing"]["Ni"]

hq_ingwa = pd.DataFrame(data = {
    "Mn": hqMn,
    "Cr": hqCr,
    "Ni": hqNi,
    "Cu": hqCu,
    "Zn": hqZn,
    "As": hqAs,
    "Cd": hqCd,
    "Hg": hqHg,
    "Pb": hqPb
}
)

Mn = (shil["Mn"] * param_adult["SA"] * param_adult["Kp"]["Mn"] * param_adult["ET"] * param_adult["EF"] * param_adult["ED"] * param_adult["CF"])/ (param_adult["BW"]* param_adult["AT"])
Cr = (shil["Cr"] * param_adult["SA"] * param_adult["Kp"]["Cr"] * param_adult["ET"] * param_adult["EF"] * param_adult["ED"] * param_adult["CF"])/ (param_adult["BW"]* param_adult["AT"])
Ni = (shil["Ni"] * param_adult["SA"] * param_adult["Kp"]["Ni"] * param_adult["ET"] * param_adult["EF"] * param_adult["ED"] * param_adult["CF"])/ (param_adult["BW"]* param_adult["AT"])
Cu = (shil["Cu"] * param_adult["SA"] * param_adult["Kp"]["Cu"] * param_adult["ET"] * param_adult["EF"] * param_adult["ED"] * param_adult["CF"])/ (param_adult["BW"]* param_adult["AT"])
Zn = (shil["Zn"] * param_adult["SA"] * param_adult["Kp"]["Zn"] * param_adult["ET"] * param_adult["EF"] * param_adult["ED"] * param_adult["CF"])/ (param_adult["BW"]* param_adult["AT"])
As = (shil["As"] * param_adult["SA"] * param_adult["Kp"]["As"] * param_adult["ET"] * param_adult["EF"] * param_adult["ED"] * param_adult["CF"])/ (param_adult["BW"]* param_adult["AT"])
Cd = (shil["Cd"] * param_adult["SA"] * param_adult["Kp"]["Cd"] * param_adult["ET"] * param_adult["EF"] * param_adult["ED"] * param_adult["CF"])/ (param_adult["BW"]* param_adult["AT"])
Hg = (shil["Hg"] * param_adult["SA"] * param_adult["Kp"]["Hg"] * param_adult["ET"] * param_adult["EF"] * param_adult["ED"] * param_adult["CF"])/ (param_adult["BW"]* param_adult["AT"])
Pb = (shil["Pb"] * param_adult["SA"] * param_adult["Kp"]["Pb"] * param_adult["ET"] * param_adult["EF"] * param_adult["ED"] * param_adult["CF"])/ (param_adult["BW"]* param_adult["AT"])

cdi_derm = pd.DataFrame(data = {
    "Mn": Mn,
    "Cr": Cr,
    "Ni": Ni,
    "Cu": Cu,
    "Zn": Zn,
    "As": As,
    "Cd": Cd,
    "Hg": Hg,
    "Pb": Pb
}
)

hqMn = cdi_derm["Mn"] / param_adult["RfDderm"]["Mn"]
hqCr = cdi_derm["Cr"] / param_adult["RfDderm"]["Cr"]
hqCu = cdi_derm["Cu"] / param_adult["RfDderm"]["Cu"]
hqZn = cdi_derm["Zn"] / param_adult["RfDderm"]["Zn"]
hqAs = cdi_derm["As"] / param_adult["RfDderm"]["As"]
hqCd = cdi_derm["Cd"] / param_adult["RfDderm"]["Cd"]
hqHg = cdi_derm["Hg"] / param_adult["RfDderm"]["Hg"]
hqPb = cdi_derm["Pb"] / param_adult["RfDderm"]["Pb"]
hqNi = cdi_derm["Ni"] / param_adult["RfDderm"]["Ni"]

hq_dermwa = pd.DataFrame(data = {
    "Mn": hqMn,
    "Cr": hqCr,
    "Ni": hqNi,
    "Cu": hqCu,
    "Zn": hqZn,
    "As": hqAs,
    "Cd": hqCd,
    "Hg": hqHg,
    "Pb": hqPb
}
)

hi = hq_dermwa + hq_ingwa
hiwa = hi.sum(axis=1)
hiwa


hq_ingwa








Cd = cdi_ing.Cd * param_adult["CSFing"]["Cd"]
Cr = cdi_ing.Cr * param_adult["CSFing"]["Cr"]
As = cdi_ing.As * param_adult["CSFing"]["As"]
Pb = cdi_ing.Pb * param_adult["CSFing"]["Pb"]
Ni = cdi_ing.Ni * param_adult["CSFing"]["Ni"]


ilcr_ing = pd.DataFrame(data={
    "Cd": Cd,
    "Cr": Cr,
    "As": As,
    "Pb": Pb,
    "Ni": Ni
})

Cd = cdi_derm.Cd * param_adult["CSFderm"]["Cd"]
Cr = cdi_derm.Cr * param_adult["CSFderm"]["Cr"]
As = cdi_derm.As * param_adult["CSFderm"]["As"]
Pb = cdi_derm.Pb * param_adult["CSFderm"]["Pb"]
Ni = cdi_derm.Ni * param_adult["CSFderm"]["Ni"]


ilcr_derm = pd.DataFrame(data={
    "Cd": Cd,
    "Cr": Cr,
    "As": As,
    "Pb": Pb,
    "Ni": Ni
})

ilcr = ilcr_ing + ilcr_derm
ilcr


ilcr_derm


ilcr = ilcr.sum(axis=1)
ilcr


Cd = cdi_ing.Cd * param_adult["CSFing"]["Cd"]
Cr = cdi_ing.Cr * param_adult["CSFing"]["Cr"]
As = cdi_ing.As * param_adult["CSFing"]["As"]
Pb = cdi_ing.Pb * param_adult["CSFing"]["Pb"]
Ni = cdi_ing.Ni * param_adult["CSFing"]["Ni"]

ilcr_ing = pd.DataFrame(data={
    "Cd": Cd,
    "Cr": Cr,
    "As": As,
    "Pb": Pb
})

Cd = cdi_derm.Cd * param_adult["CSFderm"]["Cd"]
Cr = cdi_derm.Cr * param_adult["CSFderm"]["Cr"]
As = cdi_derm.As * param_adult["CSFderm"]["As"]
Pb = cdi_derm.Pb * param_adult["CSFderm"]["Pb"]
Ni = cdi_derm.Ni * param_adult["CSFderm"]["Ni"]
Ni = cdi_derm.Ni * param_adult["CSFderm"]["Ni"]

ilcr_derm = pd.DataFrame(data={
    "Cd": Cd,
    "Cr": Cr,
    "As": As,
    "Pb": Pb
})

ilcr = ilcr_ing + ilcr_derm
ilcr = ilcr.sum(axis=1)
ilcr


shil = pd.DataFrame(data={
    "Cd": df.CdW,
    "Cr": df.CrW,
    "Ni": df.NiW,
    "Cu": df.CuW,
    "Zn": df.ZnW,
    "Mn": df.MnW,
    "Hg": df.HgW,
    "As": df.AsW,
    "Pb": df.PbW,
})

Mn = (shil["Mn"] * param_adult["IR"] * param_adult["EF"] * param_adult["ED"])/ (param_adult["BW"]* param_adult["AT"])
Cr = (shil["Cr"] * param_adult["IR"] * param_adult["EF"] * param_adult["ED"])/ (param_adult["BW"]* param_adult["AT"])
Ni = (shil["Ni"] * param_adult["IR"] * param_adult["EF"] * param_adult["ED"])/ (param_adult["BW"]* param_adult["AT"])
Cu = (shil["Cu"] * param_adult["IR"] * param_adult["EF"] * param_adult["ED"])/ (param_adult["BW"]* param_adult["AT"])
Zn = (shil["Zn"] * param_adult["IR"] * param_adult["EF"] * param_adult["ED"])/ (param_adult["BW"]* param_adult["AT"])
As = (shil["As"] * param_adult["IR"] * param_adult["EF"] * param_adult["ED"])/ (param_adult["BW"]* param_adult["AT"])
Cd = (shil["Cd"] * param_adult["IR"] * param_adult["EF"] * param_adult["ED"])/ (param_adult["BW"]* param_adult["AT"])
Hg = (shil["Hg"] * param_adult["IR"] * param_adult["EF"] * param_adult["ED"])/ (param_adult["BW"]* param_adult["AT"])
Pb = (shil["Pb"] * param_adult["IR"] * param_adult["EF"] * param_adult["ED"])/ (param_adult["BW"]* param_adult["AT"])

cdi_ing = pd.DataFrame(data = {
    "Mn": Mn,
    "Cr": Cr,
    "Ni": Ni,
    "Cu": Cu,
    "Zn": Zn,
    "As": As,
    "Cd": Cd,
    "Hg": Hg,
    "Pb": Pb
}
)

Mn = (shil["Mn"] * param_adult["SA"] * param_adult["Kp"]["Mn"] * param_adult["ET"] * param_adult["EF"] * param_adult["ED"] * param_adult["CF"])/ (param_adult["BW"]* param_adult["AT"])
Cr = (shil["Cr"] * param_adult["SA"] * param_adult["Kp"]["Cr"] * param_adult["ET"] * param_adult["EF"] * param_adult["ED"] * param_adult["CF"])/ (param_adult["BW"]* param_adult["AT"])
Ni = (shil["Ni"] * param_adult["SA"] * param_adult["Kp"]["Ni"] * param_adult["ET"] * param_adult["EF"] * param_adult["ED"] * param_adult["CF"])/ (param_adult["BW"]* param_adult["AT"])
Cu = (shil["Cu"] * param_adult["SA"] * param_adult["Kp"]["Cu"] * param_adult["ET"] * param_adult["EF"] * param_adult["ED"] * param_adult["CF"])/ (param_adult["BW"]* param_adult["AT"])
Zn = (shil["Zn"] * param_adult["SA"] * param_adult["Kp"]["Zn"] * param_adult["ET"] * param_adult["EF"] * param_adult["ED"] * param_adult["CF"])/ (param_adult["BW"]* param_adult["AT"])
As = (shil["As"] * param_adult["SA"] * param_adult["Kp"]["As"] * param_adult["ET"] * param_adult["EF"] * param_adult["ED"] * param_adult["CF"])/ (param_adult["BW"]* param_adult["AT"])
Cd = (shil["Cd"] * param_adult["SA"] * param_adult["Kp"]["Cd"] * param_adult["ET"] * param_adult["EF"] * param_adult["ED"] * param_adult["CF"])/ (param_adult["BW"]* param_adult["AT"])
Hg = (shil["Hg"] * param_adult["SA"] * param_adult["Kp"]["Hg"] * param_adult["ET"] * param_adult["EF"] * param_adult["ED"] * param_adult["CF"])/ (param_adult["BW"]* param_adult["AT"])
Pb = (shil["Pb"] * param_adult["SA"] * param_adult["Kp"]["Pb"] * param_adult["ET"] * param_adult["EF"] * param_adult["ED"] * param_adult["CF"])/ (param_adult["BW"]* param_adult["AT"])

cdi_derm = pd.DataFrame(data = {
    "Mn": Mn,
    "Cr": Cr,
    "Ni": Ni,
    "Cu": Cu,
    "Zn": Zn,
    "As": As,
    "Cd": Cd,
    "Hg": Hg,
    "Pb": Pb
}
)

Cd = cdi_ing.Cd * param_adult["CSFing"]["Cd"]
Cr = cdi_ing.Cr * param_adult["CSFing"]["Cr"]
As = cdi_ing.As * param_adult["CSFing"]["As"]
Pb = cdi_ing.Pb * param_adult["CSFing"]["Pb"]
Ni = cdi_ing.Ni * param_adult["CSFing"]["Ni"]


ilcr_ingwa = pd.DataFrame(data={
    "Cd": Cd,
    "Cr": Cr,
    "As": As,
    "Pb": Pb,
    "Ni": Ni
})

Cd = cdi_derm.Cd * param_adult["CSFderm"]["Cd"]
Cr = cdi_derm.Cr * param_adult["CSFderm"]["Cr"]
As = cdi_derm.As * param_adult["CSFderm"]["As"]
Pb = cdi_derm.Pb * param_adult["CSFderm"]["Pb"]
Ni = cdi_derm.Ni * param_adult["CSFderm"]["Ni"]

ilcr_dermwa = pd.DataFrame(data={
    "Cd": Cd,
    "Cr": Cr,
    "As": As,
    "Pb": Pb,
    "Ni": Ni
})

ilcr = ilcr_ingwa + ilcr_dermwa
ilcr_wadult = ilcr.sum(axis=1)
ilcr_wadult





shil = pd.DataFrame(data={
    "Cd": df.CdS,
    "Cr": df.CrS,
    "Ni": df.NiS,
    "Cu": df.CuS,
    "Zn": df.ZnS,
    "Mn": df.MnS,
    "Hg": df.HgS,
    "As": df.AsS,
    "Pb": df.PbS,
})

Mn = (shil["Mn"] * param_adult["IR"] * param_adult["EF"] * param_adult["ED"])/ (param_adult["BW"]* param_adult["AT"])
Cr = (shil["Cr"] * param_adult["IR"] * param_adult["EF"] * param_adult["ED"])/ (param_adult["BW"]* param_adult["AT"])
Ni = (shil["Ni"] * param_adult["IR"] * param_adult["EF"] * param_adult["ED"])/ (param_adult["BW"]* param_adult["AT"])
Cu = (shil["Cu"] * param_adult["IR"] * param_adult["EF"] * param_adult["ED"])/ (param_adult["BW"]* param_adult["AT"])
Zn = (shil["Zn"] * param_adult["IR"] * param_adult["EF"] * param_adult["ED"])/ (param_adult["BW"]* param_adult["AT"])
As = (shil["As"] * param_adult["IR"] * param_adult["EF"] * param_adult["ED"])/ (param_adult["BW"]* param_adult["AT"])
Cd = (shil["Cd"] * param_adult["IR"] * param_adult["EF"] * param_adult["ED"])/ (param_adult["BW"]* param_adult["AT"])
Hg = (shil["Hg"] * param_adult["IR"] * param_adult["EF"] * param_adult["ED"])/ (param_adult["BW"]* param_adult["AT"])
Pb = (shil["Pb"] * param_adult["IR"] * param_adult["EF"] * param_adult["ED"])/ (param_adult["BW"]* param_adult["AT"])

cdi_ing = pd.DataFrame(data = {
    "Mn": Mn,
    "Cr": Cr,
    "Ni": Ni,
    "Cu": Cu,
    "Zn": Zn,
    "As": As,
    "Cd": Cd,
    "Hg": Hg,
    "Pb": Pb
}
)

hqMn = cdi_ing["Mn"] / param_adult["RfDing"]["Mn"]
hqCr = cdi_ing["Cr"] / param_adult["RfDing"]["Cr"]
hqCu = cdi_ing["Cu"] / param_adult["RfDing"]["Cu"]
hqZn = cdi_ing["Zn"] / param_adult["RfDing"]["Zn"]
hqAs = cdi_ing["As"] / param_adult["RfDing"]["As"]
hqCd = cdi_ing["Cd"] / param_adult["RfDing"]["Cd"]
hqHg = cdi_ing["Hg"] / param_adult["RfDing"]["Hg"]
hqPb = cdi_ing["Pb"] / param_adult["RfDing"]["Pb"]
hqNi = cdi_ing["Ni"] / param_adult["RfDing"]["Ni"]

hq_ingsa = pd.DataFrame(data = {
    "Mn": hqMn,
    "Cr": hqCr,
    "Ni": hqNi,
    "Cu": hqCu,
    "Zn": hqZn,
    "As": hqAs,
    "Cd": hqCd,
    "Hg": hqHg,
    "Pb": hqPb
}
)

Mn = (shil["Mn"] * param_adult["SA"] * param_adult["Kp"]["Mn"] * param_adult["ET"] * param_adult["EF"] * param_adult["ED"] * param_adult["CF"])/ (param_adult["BW"]* param_adult["AT"])
Cr = (shil["Cr"] * param_adult["SA"] * param_adult["Kp"]["Cr"] * param_adult["ET"] * param_adult["EF"] * param_adult["ED"] * param_adult["CF"])/ (param_adult["BW"]* param_adult["AT"])
Ni = (shil["Ni"] * param_adult["SA"] * param_adult["Kp"]["Ni"] * param_adult["ET"] * param_adult["EF"] * param_adult["ED"] * param_adult["CF"])/ (param_adult["BW"]* param_adult["AT"])
Cu = (shil["Cu"] * param_adult["SA"] * param_adult["Kp"]["Cu"] * param_adult["ET"] * param_adult["EF"] * param_adult["ED"] * param_adult["CF"])/ (param_adult["BW"]* param_adult["AT"])
Zn = (shil["Zn"] * param_adult["SA"] * param_adult["Kp"]["Zn"] * param_adult["ET"] * param_adult["EF"] * param_adult["ED"] * param_adult["CF"])/ (param_adult["BW"]* param_adult["AT"])
As = (shil["As"] * param_adult["SA"] * param_adult["Kp"]["As"] * param_adult["ET"] * param_adult["EF"] * param_adult["ED"] * param_adult["CF"])/ (param_adult["BW"]* param_adult["AT"])
Cd = (shil["Cd"] * param_adult["SA"] * param_adult["Kp"]["Cd"] * param_adult["ET"] * param_adult["EF"] * param_adult["ED"] * param_adult["CF"])/ (param_adult["BW"]* param_adult["AT"])
Hg = (shil["Hg"] * param_adult["SA"] * param_adult["Kp"]["Hg"] * param_adult["ET"] * param_adult["EF"] * param_adult["ED"] * param_adult["CF"])/ (param_adult["BW"]* param_adult["AT"])
Pb = (shil["Pb"] * param_adult["SA"] * param_adult["Kp"]["Pb"] * param_adult["ET"] * param_adult["EF"] * param_adult["ED"] * param_adult["CF"])/ (param_adult["BW"]* param_adult["AT"])

cdi_derm = pd.DataFrame(data = {
    "Mn": Mn,
    "Cr": Cr,
    "Ni": Ni,
    "Cu": Cu,
    "Zn": Zn,
    "As": As,
    "Cd": Cd,
    "Hg": Hg,
    "Pb": Pb
}
)

hqMn = cdi_derm["Mn"] / param_adult["RfDderm"]["Mn"]
hqCr = cdi_derm["Cr"] / param_adult["RfDderm"]["Cr"]
hqCu = cdi_derm["Cu"] / param_adult["RfDderm"]["Cu"]
hqZn = cdi_derm["Zn"] / param_adult["RfDderm"]["Zn"]
hqAs = cdi_derm["As"] / param_adult["RfDderm"]["As"]
hqCd = cdi_derm["Cd"] / param_adult["RfDderm"]["Cd"]
hqHg = cdi_derm["Hg"] / param_adult["RfDderm"]["Hg"]
hqPb = cdi_derm["Pb"] / param_adult["RfDderm"]["Pb"]
hqNi = cdi_derm["Ni"] / param_adult["RfDderm"]["Ni"]

hq_dermsa = pd.DataFrame(data = {
    "Mn": hqMn,
    "Cr": hqCr,
    "Ni": hqNi,
    "Cu": hqCu,
    "Zn": hqZn,
    "As": hqAs,
    "Cd": hqCd,
    "Hg": hqHg,
    "Pb": hqPb
}
)

hi = hq_dermsa + hq_ingsa
hisa = hi.sum(axis=1)
hisa


shil = pd.DataFrame(data={
    "Cd": df.CdS,
    "Cr": df.CrS,
    "Ni": df.NiS,
    "Cu": df.CuS,
    "Zn": df.ZnS,
    "Mn": df.MnS,
    "Hg": df.HgS,
    "As": df.AsS,
    "Pb": df.PbS,
})

Mn = (shil["Mn"] * param_adult["IR"] * param_adult["EF"] * param_adult["ED"])/ (param_adult["BW"]* param_adult["AT"])
Cr = (shil["Cr"] * param_adult["IR"] * param_adult["EF"] * param_adult["ED"])/ (param_adult["BW"]* param_adult["AT"])
Ni = (shil["Ni"] * param_adult["IR"] * param_adult["EF"] * param_adult["ED"])/ (param_adult["BW"]* param_adult["AT"])
Cu = (shil["Cu"] * param_adult["IR"] * param_adult["EF"] * param_adult["ED"])/ (param_adult["BW"]* param_adult["AT"])
Zn = (shil["Zn"] * param_adult["IR"] * param_adult["EF"] * param_adult["ED"])/ (param_adult["BW"]* param_adult["AT"])
As = (shil["As"] * param_adult["IR"] * param_adult["EF"] * param_adult["ED"])/ (param_adult["BW"]* param_adult["AT"])
Cd = (shil["Cd"] * param_adult["IR"] * param_adult["EF"] * param_adult["ED"])/ (param_adult["BW"]* param_adult["AT"])
Hg = (shil["Hg"] * param_adult["IR"] * param_adult["EF"] * param_adult["ED"])/ (param_adult["BW"]* param_adult["AT"])
Pb = (shil["Pb"] * param_adult["IR"] * param_adult["EF"] * param_adult["ED"])/ (param_adult["BW"]* param_adult["AT"])

cdi_ing = pd.DataFrame(data = {
    "Mn": Mn,
    "Cr": Cr,
    "Ni": Ni,
    "Cu": Cu,
    "Zn": Zn,
    "As": As,
    "Cd": Cd,
    "Hg": Hg,
    "Pb": Pb
}
)

Mn = (shil["Mn"] * param_adult["SA"] * param_adult["Kp"]["Mn"] * param_adult["ET"] * param_adult["EF"] * param_adult["ED"] * param_adult["CF"])/ (param_adult["BW"]* param_adult["AT"])
Cr = (shil["Cr"] * param_adult["SA"] * param_adult["Kp"]["Cr"] * param_adult["ET"] * param_adult["EF"] * param_adult["ED"] * param_adult["CF"])/ (param_adult["BW"]* param_adult["AT"])
Ni = (shil["Ni"] * param_adult["SA"] * param_adult["Kp"]["Ni"] * param_adult["ET"] * param_adult["EF"] * param_adult["ED"] * param_adult["CF"])/ (param_adult["BW"]* param_adult["AT"])
Cu = (shil["Cu"] * param_adult["SA"] * param_adult["Kp"]["Cu"] * param_adult["ET"] * param_adult["EF"] * param_adult["ED"] * param_adult["CF"])/ (param_adult["BW"]* param_adult["AT"])
Zn = (shil["Zn"] * param_adult["SA"] * param_adult["Kp"]["Zn"] * param_adult["ET"] * param_adult["EF"] * param_adult["ED"] * param_adult["CF"])/ (param_adult["BW"]* param_adult["AT"])
As = (shil["As"] * param_adult["SA"] * param_adult["Kp"]["As"] * param_adult["ET"] * param_adult["EF"] * param_adult["ED"] * param_adult["CF"])/ (param_adult["BW"]* param_adult["AT"])
Cd = (shil["Cd"] * param_adult["SA"] * param_adult["Kp"]["Cd"] * param_adult["ET"] * param_adult["EF"] * param_adult["ED"] * param_adult["CF"])/ (param_adult["BW"]* param_adult["AT"])
Hg = (shil["Hg"] * param_adult["SA"] * param_adult["Kp"]["Hg"] * param_adult["ET"] * param_adult["EF"] * param_adult["ED"] * param_adult["CF"])/ (param_adult["BW"]* param_adult["AT"])
Pb = (shil["Pb"] * param_adult["SA"] * param_adult["Kp"]["Pb"] * param_adult["ET"] * param_adult["EF"] * param_adult["ED"] * param_adult["CF"])/ (param_adult["BW"]* param_adult["AT"])

cdi_derm = pd.DataFrame(data = {
    "Mn": Mn,
    "Cr": Cr,
    "Ni": Ni,
    "Cu": Cu,
    "Zn": Zn,
    "As": As,
    "Cd": Cd,
    "Hg": Hg,
    "Pb": Pb
}
)

Cd = cdi_ing.Cd * param_adult["CSFing"]["Cd"]
Cr = cdi_ing.Cr * param_adult["CSFing"]["Cr"]
As = cdi_ing.As * param_adult["CSFing"]["As"]
Pb = cdi_ing.Pb * param_adult["CSFing"]["Pb"]
Ni = cdi_ing.Ni * param_adult["CSFing"]["Ni"]


ilcr_ingsa = pd.DataFrame(data={
    "Cd": Cd,
    "Cr": Cr,
    "As": As,
    "Pb": Pb,
    "Ni": Ni
})

Cd = cdi_derm.Cd * param_adult["CSFderm"]["Cd"]
Cr = cdi_derm.Cr * param_adult["CSFderm"]["Cr"]
As = cdi_derm.As * param_adult["CSFderm"]["As"]
Pb = cdi_derm.Pb * param_adult["CSFderm"]["Pb"]
Ni = cdi_derm.Pb * param_adult["CSFderm"]["Ni"]


ilcr_dermsa = pd.DataFrame(data={
    "Cd": Cd,
    "Cr": Cr,
    "As": As,
    "Pb": Pb,
    "Ni": Ni
})

ilcr = ilcr_ingsa + ilcr_dermsa
ilcr_sadult = ilcr.sum(axis=1)
ilcr_sadult





shil = pd.DataFrame(data={
    "Cd": df.CdS,
    "Cr": df.CrS,
    "Ni": df.NiS,
    "Cu": df.CuS,
    "Zn": df.ZnS,
    "Mn": df.MnS,
    "Hg": df.HgS,
    "As": df.AsS,
    "Pb": df.PbS,
})

Mn = (shil["Mn"] * param_child["IR"] * param_child["EF"] * param_child["ED"])/ (param_child["BW"]* param_child["AT"])
Cr = (shil["Cr"] * param_child["IR"] * param_child["EF"] * param_child["ED"])/ (param_child["BW"]* param_child["AT"])
Ni = (shil["Ni"] * param_child["IR"] * param_child["EF"] * param_child["ED"])/ (param_child["BW"]* param_child["AT"])
Cu = (shil["Cu"] * param_child["IR"] * param_child["EF"] * param_child["ED"])/ (param_child["BW"]* param_child["AT"])
Zn = (shil["Zn"] * param_child["IR"] * param_child["EF"] * param_child["ED"])/ (param_child["BW"]* param_child["AT"])
As = (shil["As"] * param_child["IR"] * param_child["EF"] * param_child["ED"])/ (param_child["BW"]* param_child["AT"])
Cd = (shil["Cd"] * param_child["IR"] * param_child["EF"] * param_child["ED"])/ (param_child["BW"]* param_child["AT"])
Hg = (shil["Hg"] * param_child["IR"] * param_child["EF"] * param_child["ED"])/ (param_child["BW"]* param_child["AT"])
Pb = (shil["Pb"] * param_child["IR"] * param_child["EF"] * param_child["ED"])/ (param_child["BW"]* param_child["AT"])

cdi_ing = pd.DataFrame(data = {
    "Mn": Mn,
    "Cr": Cr,
    "Ni": Ni,
    "Cu": Cu,
    "Zn": Zn,
    "As": As,
    "Cd": Cd,
    "Hg": Hg,
    "Pb": Pb
}
)

hqMn = cdi_ing["Mn"] / param_child["RfDing"]["Mn"]
hqCr = cdi_ing["Cr"] / param_child["RfDing"]["Cr"]
hqCu = cdi_ing["Cu"] / param_child["RfDing"]["Cu"]
hqZn = cdi_ing["Zn"] / param_child["RfDing"]["Zn"]
hqAs = cdi_ing["As"] / param_child["RfDing"]["As"]
hqCd = cdi_ing["Cd"] / param_child["RfDing"]["Cd"]
hqHg = cdi_ing["Hg"] / param_child["RfDing"]["Hg"]
hqPb = cdi_ing["Pb"] / param_child["RfDing"]["Pb"]
hqNi = cdi_ing["Ni"] / param_child["RfDing"]["Ni"]

hq_ingsc = pd.DataFrame(data = {
    "Mn": hqMn,
    "Cr": hqCr,
    "Ni": hqNi,
    "Cu": hqCu,
    "Zn": hqZn,
    "As": hqAs,
    "Cd": hqCd,
    "Hg": hqHg,
    "Pb": hqPb
}
)

Mn = (shil["Mn"] * param_child["SA"] * param_child["Kp"]["Mn"] * param_child["ET"] * param_child["EF"] * param_child["ED"] * param_child["CF"])/ (param_child["BW"]* param_child["AT"])
Cr = (shil["Cr"] * param_child["SA"] * param_child["Kp"]["Cr"] * param_child["ET"] * param_child["EF"] * param_child["ED"] * param_child["CF"])/ (param_child["BW"]* param_child["AT"])
Ni = (shil["Ni"] * param_child["SA"] * param_child["Kp"]["Ni"] * param_child["ET"] * param_child["EF"] * param_child["ED"] * param_child["CF"])/ (param_child["BW"]* param_child["AT"])
Cu = (shil["Cu"] * param_child["SA"] * param_child["Kp"]["Cu"] * param_child["ET"] * param_child["EF"] * param_child["ED"] * param_child["CF"])/ (param_child["BW"]* param_child["AT"])
Zn = (shil["Zn"] * param_child["SA"] * param_child["Kp"]["Zn"] * param_child["ET"] * param_child["EF"] * param_child["ED"] * param_child["CF"])/ (param_child["BW"]* param_child["AT"])
As = (shil["As"] * param_child["SA"] * param_child["Kp"]["As"] * param_child["ET"] * param_child["EF"] * param_child["ED"] * param_child["CF"])/ (param_child["BW"]* param_child["AT"])
Cd = (shil["Cd"] * param_child["SA"] * param_child["Kp"]["Cd"] * param_child["ET"] * param_child["EF"] * param_child["ED"] * param_child["CF"])/ (param_child["BW"]* param_child["AT"])
Hg = (shil["Hg"] * param_child["SA"] * param_child["Kp"]["Hg"] * param_child["ET"] * param_child["EF"] * param_child["ED"] * param_child["CF"])/ (param_child["BW"]* param_child["AT"])
Pb = (shil["Pb"] * param_child["SA"] * param_child["Kp"]["Pb"] * param_child["ET"] * param_child["EF"] * param_child["ED"] * param_child["CF"])/ (param_child["BW"]* param_child["AT"])

cdi_derm = pd.DataFrame(data = {
    "Mn": Mn,
    "Cr": Cr,
    "Ni": Ni,
    "Cu": Cu,
    "Zn": Zn,
    "As": As,
    "Cd": Cd,
    "Hg": Hg,
    "Pb": Pb
}
)

hqMn = cdi_derm["Mn"] / param_child["RfDderm"]["Mn"]
hqCr = cdi_derm["Cr"] / param_child["RfDderm"]["Cr"]
hqCu = cdi_derm["Cu"] / param_child["RfDderm"]["Cu"]
hqZn = cdi_derm["Zn"] / param_child["RfDderm"]["Zn"]
hqAs = cdi_derm["As"] / param_child["RfDderm"]["As"]
hqCd = cdi_derm["Cd"] / param_child["RfDderm"]["Cd"]
hqHg = cdi_derm["Hg"] / param_child["RfDderm"]["Hg"]
hqPb = cdi_derm["Pb"] / param_child["RfDderm"]["Pb"]
hqNi = cdi_derm["Ni"] / param_child["RfDderm"]["Ni"]

hq_dermsc = pd.DataFrame(data = {
    "Mn": hqMn,
    "Cr": hqCr,
    "Ni": hqNi,
    "Cu": hqCu,
    "Zn": hqZn,
    "As": hqAs,
    "Cd": hqCd,
    "Hg": hqHg,
    "Pb": hqPb
}
)

hi = hq_dermsc + hq_ingsc
hisc = hi.sum(axis=1)
hisc


shil = pd.DataFrame(data={
    "Cd": df.CdS,
    "Cr": df.CrS,
    "Ni": df.NiS,
    "Cu": df.CuS,
    "Zn": df.ZnS,
    "Mn": df.MnS,
    "Hg": df.HgS,
    "As": df.AsS,
    "Pb": df.PbS,
})

Mn = (shil["Mn"] * param_child["IR"] * param_child["EF"] * param_child["ED"])/ (param_child["BW"]* param_child["AT"])
Cr = (shil["Cr"] * param_child["IR"] * param_child["EF"] * param_child["ED"])/ (param_child["BW"]* param_child["AT"])
Ni = (shil["Ni"] * param_child["IR"] * param_child["EF"] * param_child["ED"])/ (param_child["BW"]* param_child["AT"])
Cu = (shil["Cu"] * param_child["IR"] * param_child["EF"] * param_child["ED"])/ (param_child["BW"]* param_child["AT"])
Zn = (shil["Zn"] * param_child["IR"] * param_child["EF"] * param_child["ED"])/ (param_child["BW"]* param_child["AT"])
As = (shil["As"] * param_child["IR"] * param_child["EF"] * param_child["ED"])/ (param_child["BW"]* param_child["AT"])
Cd = (shil["Cd"] * param_child["IR"] * param_child["EF"] * param_child["ED"])/ (param_child["BW"]* param_child["AT"])
Hg = (shil["Hg"] * param_child["IR"] * param_child["EF"] * param_child["ED"])/ (param_child["BW"]* param_child["AT"])
Pb = (shil["Pb"] * param_child["IR"] * param_child["EF"] * param_child["ED"])/ (param_child["BW"]* param_child["AT"])

cdi_ing = pd.DataFrame(data = {
    "Mn": Mn,
    "Cr": Cr,
    "Ni": Ni,
    "Cu": Cu,
    "Zn": Zn,
    "As": As,
    "Cd": Cd,
    "Hg": Hg,
    "Pb": Pb
}
)

Mn = (shil["Mn"] * param_child["SA"] * param_child["Kp"]["Mn"] * param_child["ET"] * param_child["EF"] * param_child["ED"] * param_child["CF"])/ (param_child["BW"]* param_child["AT"])
Cr = (shil["Cr"] * param_child["SA"] * param_child["Kp"]["Cr"] * param_child["ET"] * param_child["EF"] * param_child["ED"] * param_child["CF"])/ (param_child["BW"]* param_child["AT"])
Ni = (shil["Ni"] * param_child["SA"] * param_child["Kp"]["Ni"] * param_child["ET"] * param_child["EF"] * param_child["ED"] * param_child["CF"])/ (param_child["BW"]* param_child["AT"])
Cu = (shil["Cu"] * param_child["SA"] * param_child["Kp"]["Cu"] * param_child["ET"] * param_child["EF"] * param_child["ED"] * param_child["CF"])/ (param_child["BW"]* param_child["AT"])
Zn = (shil["Zn"] * param_child["SA"] * param_child["Kp"]["Zn"] * param_child["ET"] * param_child["EF"] * param_child["ED"] * param_child["CF"])/ (param_child["BW"]* param_child["AT"])
As = (shil["As"] * param_child["SA"] * param_child["Kp"]["As"] * param_child["ET"] * param_child["EF"] * param_child["ED"] * param_child["CF"])/ (param_child["BW"]* param_child["AT"])
Cd = (shil["Cd"] * param_child["SA"] * param_child["Kp"]["Cd"] * param_child["ET"] * param_child["EF"] * param_child["ED"] * param_child["CF"])/ (param_child["BW"]* param_child["AT"])
Hg = (shil["Hg"] * param_child["SA"] * param_child["Kp"]["Hg"] * param_child["ET"] * param_child["EF"] * param_child["ED"] * param_child["CF"])/ (param_child["BW"]* param_child["AT"])
Pb = (shil["Pb"] * param_child["SA"] * param_child["Kp"]["Pb"] * param_child["ET"] * param_child["EF"] * param_child["ED"] * param_child["CF"])/ (param_child["BW"]* param_child["AT"])

cdi_derm = pd.DataFrame(data = {
    "Mn": Mn,
    "Cr": Cr,
    "Ni": Ni,
    "Cu": Cu,
    "Zn": Zn,
    "As": As,
    "Cd": Cd,
    "Hg": Hg,
    "Pb": Pb
}
)

Cd = cdi_ing.Cd * param_child["CSFing"]["Cd"]
Cr = cdi_ing.Cr * param_child["CSFing"]["Cr"]
As = cdi_ing.As * param_child["CSFing"]["As"]
Pb = cdi_ing.Pb * param_child["CSFing"]["Pb"]
Ni = cdi_ing.Ni * param_child["CSFing"]["Ni"]

ilcr_ingsc = pd.DataFrame(data={
    "Cd": Cd,
    "Cr": Cr,
    "As": As,
    "Pb": Pb,
    "Ni": Ni
})

Cd = cdi_derm.Cd * param_child["CSFderm"]["Cd"]
Cr = cdi_derm.Cr * param_child["CSFderm"]["Cr"]
As = cdi_derm.As * param_child["CSFderm"]["As"]
Pb = cdi_derm.Pb * param_child["CSFderm"]["Pb"]
Ni = cdi_derm.Ni * param_child["CSFderm"]["Ni"]


ilcr_dermsc = pd.DataFrame(data={
    "Cd": Cd,
    "Cr": Cr,
    "As": As,
    "Pb": Pb,
    "Ni": Ni
})

ilcr = ilcr_ingsc + ilcr_dermsc
ilcr_schild = ilcr.sum(axis=1)
ilcr_schild





shil = pd.DataFrame(data={
    "Cd": df.CdW,
    "Cr": df.CrW,
    "Ni": df.NiW,
    "Cu": df.CuW,
    "Zn": df.ZnW,
    "Mn": df.MnW,
    "Hg": df.HgW,
    "As": df.AsW,
    "Pb": df.PbW,
})

Mn = (shil["Mn"] * param_child["IR"] * param_child["EF"] * param_child["ED"])/ (param_child["BW"]* param_child["AT"])
Cr = (shil["Cr"] * param_child["IR"] * param_child["EF"] * param_child["ED"])/ (param_child["BW"]* param_child["AT"])
Ni = (shil["Ni"] * param_child["IR"] * param_child["EF"] * param_child["ED"])/ (param_child["BW"]* param_child["AT"])
Cu = (shil["Cu"] * param_child["IR"] * param_child["EF"] * param_child["ED"])/ (param_child["BW"]* param_child["AT"])
Zn = (shil["Zn"] * param_child["IR"] * param_child["EF"] * param_child["ED"])/ (param_child["BW"]* param_child["AT"])
As = (shil["As"] * param_child["IR"] * param_child["EF"] * param_child["ED"])/ (param_child["BW"]* param_child["AT"])
Cd = (shil["Cd"] * param_child["IR"] * param_child["EF"] * param_child["ED"])/ (param_child["BW"]* param_child["AT"])
Hg = (shil["Hg"] * param_child["IR"] * param_child["EF"] * param_child["ED"])/ (param_child["BW"]* param_child["AT"])
Pb = (shil["Pb"] * param_child["IR"] * param_child["EF"] * param_child["ED"])/ (param_child["BW"]* param_child["AT"])

cdi_ing = pd.DataFrame(data = {
    "Mn": Mn,
    "Cr": Cr,
    "Ni": Ni,
    "Cu": Cu,
    "Zn": Zn,
    "As": As,
    "Cd": Cd,
    "Hg": Hg,
    "Pb": Pb
}
)

hqMn = cdi_ing["Mn"] / param_child["RfDing"]["Mn"]
hqCr = cdi_ing["Cr"] / param_child["RfDing"]["Cr"]
hqCu = cdi_ing["Cu"] / param_child["RfDing"]["Cu"]
hqZn = cdi_ing["Zn"] / param_child["RfDing"]["Zn"]
hqAs = cdi_ing["As"] / param_child["RfDing"]["As"]
hqCd = cdi_ing["Cd"] / param_child["RfDing"]["Cd"]
hqHg = cdi_ing["Hg"] / param_child["RfDing"]["Hg"]
hqPb = cdi_ing["Pb"] / param_child["RfDing"]["Pb"]
hqNi = cdi_ing["Ni"] / param_child["RfDing"]["Ni"]

hq_ingwc = pd.DataFrame(data = {
    "Mn": hqMn,
    "Cr": hqCr,
    "Ni": hqNi,
    "Cu": hqCu,
    "Zn": hqZn,
    "As": hqAs,
    "Cd": hqCd,
    "Hg": hqHg,
    "Pb": hqPb
}
)

Mn = (shil["Mn"] * param_child["SA"] * param_child["Kp"]["Mn"] * param_child["ET"] * param_child["EF"] * param_child["ED"] * param_child["CF"])/ (param_child["BW"]* param_child["AT"])
Cr = (shil["Cr"] * param_child["SA"] * param_child["Kp"]["Cr"] * param_child["ET"] * param_child["EF"] * param_child["ED"] * param_child["CF"])/ (param_child["BW"]* param_child["AT"])
Ni = (shil["Ni"] * param_child["SA"] * param_child["Kp"]["Ni"] * param_child["ET"] * param_child["EF"] * param_child["ED"] * param_child["CF"])/ (param_child["BW"]* param_child["AT"])
Cu = (shil["Cu"] * param_child["SA"] * param_child["Kp"]["Cu"] * param_child["ET"] * param_child["EF"] * param_child["ED"] * param_child["CF"])/ (param_child["BW"]* param_child["AT"])
Zn = (shil["Zn"] * param_child["SA"] * param_child["Kp"]["Zn"] * param_child["ET"] * param_child["EF"] * param_child["ED"] * param_child["CF"])/ (param_child["BW"]* param_child["AT"])
As = (shil["As"] * param_child["SA"] * param_child["Kp"]["As"] * param_child["ET"] * param_child["EF"] * param_child["ED"] * param_child["CF"])/ (param_child["BW"]* param_child["AT"])
Cd = (shil["Cd"] * param_child["SA"] * param_child["Kp"]["Cd"] * param_child["ET"] * param_child["EF"] * param_child["ED"] * param_child["CF"])/ (param_child["BW"]* param_child["AT"])
Hg = (shil["Hg"] * param_child["SA"] * param_child["Kp"]["Hg"] * param_child["ET"] * param_child["EF"] * param_child["ED"] * param_child["CF"])/ (param_child["BW"]* param_child["AT"])
Pb = (shil["Pb"] * param_child["SA"] * param_child["Kp"]["Pb"] * param_child["ET"] * param_child["EF"] * param_child["ED"] * param_child["CF"])/ (param_child["BW"]* param_child["AT"])

cdi_derm = pd.DataFrame(data = {
    "Mn": Mn,
    "Cr": Cr,
    "Ni": Ni,
    "Cu": Cu,
    "Zn": Zn,
    "As": As,
    "Cd": Cd,
    "Hg": Hg,
    "Pb": Pb
}
)

hqMn = cdi_derm["Mn"] / param_child["RfDderm"]["Mn"]
hqCr = cdi_derm["Cr"] / param_child["RfDderm"]["Cr"]
hqCu = cdi_derm["Cu"] / param_child["RfDderm"]["Cu"]
hqZn = cdi_derm["Zn"] / param_child["RfDderm"]["Zn"]
hqAs = cdi_derm["As"] / param_child["RfDderm"]["As"]
hqCd = cdi_derm["Cd"] / param_child["RfDderm"]["Cd"]
hqHg = cdi_derm["Hg"] / param_child["RfDderm"]["Hg"]
hqPb = cdi_derm["Pb"] / param_child["RfDderm"]["Pb"]
hqNi = cdi_derm["Ni"] / param_child["RfDderm"]["Ni"]

hq_dermwc = pd.DataFrame(data = {
    "Mn": hqMn,
    "Cr": hqCr,
    "Ni": hqNi,
    "Cu": hqCu,
    "Zn": hqZn,
    "As": hqAs,
    "Cd": hqCd,
    "Hg": hqHg,
    "Pb": hqPb
}
)

hi = hq_dermwc + hq_ingwc
hiwc = hi.sum(axis=1)
hiwc


shil = pd.DataFrame(data={
    "Cd": df.CdW,
    "Cr": df.CrW,
    "Ni": df.NiW,
    "Cu": df.CuW,
    "Zn": df.ZnW,
    "Mn": df.MnW,
    "Hg": df.HgW,
    "As": df.AsW,
    "Pb": df.PbW,
})


Mn = (shil["Mn"] * param_child["IR"] * param_child["EF"] * param_child["ED"])/ (param_child["BW"]* param_child["AT"])
Cr = (shil["Cr"] * param_child["IR"] * param_child["EF"] * param_child["ED"])/ (param_child["BW"]* param_child["AT"])
Ni = (shil["Ni"] * param_child["IR"] * param_child["EF"] * param_child["ED"])/ (param_child["BW"]* param_child["AT"])
Cu = (shil["Cu"] * param_child["IR"] * param_child["EF"] * param_child["ED"])/ (param_child["BW"]* param_child["AT"])
Zn = (shil["Zn"] * param_child["IR"] * param_child["EF"] * param_child["ED"])/ (param_child["BW"]* param_child["AT"])
As = (shil["As"] * param_child["IR"] * param_child["EF"] * param_child["ED"])/ (param_child["BW"]* param_child["AT"])
Cd = (shil["Cd"] * param_child["IR"] * param_child["EF"] * param_child["ED"])/ (param_child["BW"]* param_child["AT"])
Hg = (shil["Hg"] * param_child["IR"] * param_child["EF"] * param_child["ED"])/ (param_child["BW"]* param_child["AT"])
Pb = (shil["Pb"] * param_child["IR"] * param_child["EF"] * param_child["ED"])/ (param_child["BW"]* param_child["AT"])

cdi_ing = pd.DataFrame(data = {
    "Mn": Mn,
    "Cr": Cr,
    "Ni": Ni,
    "Cu": Cu,
    "Zn": Zn,
    "As": As,
    "Cd": Cd,
    "Hg": Hg,
    "Pb": Pb
}
)

Mn = (shil["Mn"] * param_child["SA"] * param_child["Kp"]["Mn"] * param_child["ET"] * param_child["EF"] * param_child["ED"] * param_child["CF"])/ (param_child["BW"]* param_child["AT"])
Cr = (shil["Cr"] * param_child["SA"] * param_child["Kp"]["Cr"] * param_child["ET"] * param_child["EF"] * param_child["ED"] * param_child["CF"])/ (param_child["BW"]* param_child["AT"])
Ni = (shil["Ni"] * param_child["SA"] * param_child["Kp"]["Ni"] * param_child["ET"] * param_child["EF"] * param_child["ED"] * param_child["CF"])/ (param_child["BW"]* param_child["AT"])
Cu = (shil["Cu"] * param_child["SA"] * param_child["Kp"]["Cu"] * param_child["ET"] * param_child["EF"] * param_child["ED"] * param_child["CF"])/ (param_child["BW"]* param_child["AT"])
Zn = (shil["Zn"] * param_child["SA"] * param_child["Kp"]["Zn"] * param_child["ET"] * param_child["EF"] * param_child["ED"] * param_child["CF"])/ (param_child["BW"]* param_child["AT"])
As = (shil["As"] * param_child["SA"] * param_child["Kp"]["As"] * param_child["ET"] * param_child["EF"] * param_child["ED"] * param_child["CF"])/ (param_child["BW"]* param_child["AT"])
Cd = (shil["Cd"] * param_child["SA"] * param_child["Kp"]["Cd"] * param_child["ET"] * param_child["EF"] * param_child["ED"] * param_child["CF"])/ (param_child["BW"]* param_child["AT"])
Hg = (shil["Hg"] * param_child["SA"] * param_child["Kp"]["Hg"] * param_child["ET"] * param_child["EF"] * param_child["ED"] * param_child["CF"])/ (param_child["BW"]* param_child["AT"])
Pb = (shil["Pb"] * param_child["SA"] * param_child["Kp"]["Pb"] * param_child["ET"] * param_child["EF"] * param_child["ED"] * param_child["CF"])/ (param_child["BW"]* param_child["AT"])

cdi_derm = pd.DataFrame(data = {
    "Mn": Mn,
    "Cr": Cr,
    "Ni": Ni,
    "Cu": Cu,
    "Zn": Zn,
    "As": As,
    "Cd": Cd,
    "Hg": Hg,
    "Pb": Pb
}
)

Cd = cdi_ing.Cd * param_child["CSFing"]["Cd"]
Cr = cdi_ing.Cr * param_child["CSFing"]["Cr"]
As = cdi_ing.As * param_child["CSFing"]["As"]
Pb = cdi_ing.Pb * param_child["CSFing"]["Pb"]
Ni = cdi_ing.Ni * param_child["CSFing"]["Ni"]

ilcr_ingwc = pd.DataFrame(data={
    "Cd": Cd,
    "Cr": Cr,
    "As": As,
    "Pb": Pb,
    "Ni": Ni
})

Cd = cdi_derm.Cd * param_child["CSFderm"]["Cd"]
Cr = cdi_derm.Cr * param_child["CSFderm"]["Cr"]
As = cdi_derm.As * param_child["CSFderm"]["As"]
Pb = cdi_derm.Pb * param_child["CSFderm"]["Pb"]
Ni = cdi_derm.Ni * param_child["CSFderm"]["Ni"]


ilcr_dermwc = pd.DataFrame(data={
    "Cd": Cd,
    "Cr": Cr,
    "As": As,
    "Pb": Pb,
    "Ni": Ni
})

ilcr = ilcr_ingwc + ilcr_dermwc
ilcr_wchild = ilcr.sum(axis=1)
ilcr_wchild





hi = pd.DataFrame(data={
    "Adult W": hiwa,
    "Child W": hiwc,
    "Adult S": hisa,
    "Child S": hisc,
})

hi


cr = pd.DataFrame(data={
    "Adult W": ilcr_wadult,
    "Child W": ilcr_wchild,
    "Adult S": ilcr_sadult,
    "Child S": ilcr_schild,
})

cr


healthRisk = pd.DataFrame(data={
    "SamplingPoint": df.SamplingPoint,
    "HI Adult W": hiwa,
    "HI Child W": hiwc,
    "HI Adult S": hisa,
    "HI Child S": hisc,
    "CR Adult W": ilcr_wadult,
    "CR Child W": ilcr_wchild,
    "CR Adult S": ilcr_sadult,
    "CR Child S": ilcr_schild,
})

healthRisk


healthRisk.to_csv("data/HealthRisk.csv")











hq_dermsa.describe()


hq_metals = pd.DataFrame(data={
    "IngMeanWa": hq_ingwa.mean(),
    "IngMeanWc": hq_ingwc.mean(),
    "IngSDWa": hq_ingwa.std(),
    "IngSDWc": hq_ingwc.std(),
    "DermMeanWa": hq_dermwa.mean(),
    "DermMeanWc": hq_dermwc.mean(),
    "DermSDWa": hq_dermwa.std(),
    "DermSDWc":hq_dermwc.std(),
    "IngMeanSa": hq_ingsa.mean(),
    "IngMeanSc": hq_ingsc.mean(),
    "IngSDSa": hq_ingsa.std(),
    "IngSDSc": hq_ingsc.std(),
    "DermMeanSa": hq_dermsa.mean(),
    "DermMeanSc": hq_dermsc.mean(),
    "DermSDSa": hq_dermsa.std(),
    "DermSDSc": hq_dermsc.std(),
    
    
})
hq_metals


hq_dermsa.std()


hq_metals.to_csv("data/HQMetals.csv")


hq_dermsa.min(), hq_dermsa.max()


hq_dermsc.min(), hq_dermsc.max()


hq_dermwa.min(), hq_dermwa.max()


hq_dermwc.min(), hq_dermwc.max()


hq_ingsa.min(), hq_ingsa.max()


hq_ingsc.min(), hq_ingsc.max()


hq_ingwa.min(), hq_ingwa.max()


hq_ingwc.min(), hq_ingwc.max()





ilcr_ingwa.describe()


ilcr_wadult


ilcr_metals = pd.DataFrame(data={
    "IngMeanWa": ilcr_ingwa.mean(),
    "IngMeanWc": ilcr_ingwc.mean(),
    "IngSDWa": ilcr_ingwa.std(),
    "IngSDWc": ilcr_ingwc.std(),
    "DermMeanWa": ilcr_dermwa.mean(),
    "DermMeanWc": ilcr_dermwc.mean(),
    "DermSDWa": ilcr_dermwa.std(),
    "DermSDWc":ilcr_dermwc.std(),
    "IngMeanSa": ilcr_ingsa.mean(),
    "IngMeanSc": ilcr_ingsc.mean(),
    "IngSDSa": ilcr_ingsa.std(),
    "IngSDSc": ilcr_ingsc.std(),
    "DermMeanSa": ilcr_dermsa.mean(),
    "DermMeanSc": ilcr_dermsc.mean(),
    "DermSDSa": ilcr_dermsa.std(),
    "DermSDSc": ilcr_dermsc.std(),
    
    
})
ilcr_metals


ilcr_metals.to_csv("data/ILCRMetals.csv")





ilcr_ingwa.min(),  ilcr_ingwa.max()


ilcr_ingwc.min(),  ilcr_ingwc.max()


ilcr_ingsa.min(),  ilcr_ingsa.max()


ilcr_ingsc.min(),  ilcr_ingsc.max()


ilcr_dermsa.min(), ilcr_dermsa.max()


ilcr_dermsc.min(), ilcr_dermsc.max()


ilcr_dermwa.min(), ilcr_dermwa.max()


ilcr_dermwc.min(), ilcr_dermwc.max()


hiwa.describe()


hi_ingwa = hq_ingwa.sum(axis=1)
hi_ingwa


hi_ingwa.describe()


hi_ingwa = hq_ingwa.sum(axis=1)
hi_ingwa.describe()


hi_dermwa = hq_dermwa.sum(axis=1)
hi_dermwa.describe()


hi_ingsa = hq_ingsa.sum(axis=1)
hi_ingsa.describe()


hi_dermsa = hq_dermsa.sum(axis=1)
hi_dermsa.describe()





hi_ingwc = hq_ingwc.sum(axis=1)
hi_ingwc.describe()


hi_dermwc = hq_dermwc.sum(axis=1)
hi_dermwc.describe()


hi_ingsc = hq_ingsc.sum(axis=1)
hi_ingsc.describe()


hi_dermsc = hq_dermsc.sum(axis=1)
hi_dermsc.describe()








cr_ingwa = ilcr_ingwa.sum(axis=1)
cr_ingwa.describe()


cr_dermwa = ilcr_dermwa.sum(axis=1)
cr_dermwa.describe()


cr_ingsa = ilcr_ingsa.sum(axis=1)
cr_ingsa.describe()


cr_dermsa = ilcr_dermsa.sum(axis=1)
cr_dermsa.describe()





cr_ingwc = ilcr_ingwc.sum(axis=1)
cr_ingwc.describe()


cr_dermwc = ilcr_dermwc.sum(axis=1)
cr_dermwc.describe()


cr_ingsc = ilcr_ingsc.sum(axis=1)
cr_ingsc.describe()


cr_dermsc = ilcr_dermsc.sum(axis=1)
cr_dermsc.describe()









