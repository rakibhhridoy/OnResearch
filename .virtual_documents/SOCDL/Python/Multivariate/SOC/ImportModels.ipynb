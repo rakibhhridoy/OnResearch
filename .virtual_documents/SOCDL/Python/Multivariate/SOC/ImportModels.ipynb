import pandas as pd
import numpy as np
from tensorflow.keras.models import Model
from tensorflow.keras.layers import Input, LSTM, RepeatVector
from tensorflow.keras.layers import Dense, TimeDistributed
import matplotlib.pyplot as plt
import tensorflow as tf
from tensorflow.keras.models import Sequential
from tensorflow.keras.layers import Conv1D, MaxPooling1D, Flatten, Dense
from tensorflow.keras.layers import Conv1D
from tensorflow.keras.models import Sequential
from tensorflow.keras.layers import *
from tensorflow.keras.callbacks import ModelCheckpoint
from tensorflow.keras.losses import MeanSquaredError
from tensorflow.keras.metrics import RootMeanSquaredError
from tensorflow.keras.optimizers import Adam
from sklearn.model_selection import train_test_split
from tensorflow.keras.models import load_model
from sklearn.metrics import mean_squared_error as mse
from sklearn.metrics import mean_absolute_error as mae
from sklearn.metrics import r2_score as r2
from sklearn.metrics import r2_score
from sklearn.preprocessing import MinMaxScaler
from tensorflow import keras
from keras import layers





def df_to_X_y(df, window_size=5):
    df_as_np = df.to_numpy()
    X = []
    y = []
    for i in range(len(df_as_np)-window_size):
        row = [[a] for a in df_as_np[i:i+window_size]]
        X.append(row)
        label = df_as_np[i+window_size]
        y.append(label)
    return np.array(X), np.array(y)


def load_data(file):
    df = pd.read_csv(file)
    df.drop(columns="Unnamed: 0", inplace= True)
    df = df.set_index("Date")
    return df

def fit_model(model, cp, epochs, xt, yt, xv, yv):
    model.compile(loss=MeanSquaredError(), optimizer=Adam(), metrics=[RootMeanSquaredError()])
    history = model.fit(xt, yt, validation_data=(xv, yv), epochs=epochs, callbacks=[cp], verbose=0)
    return model, history

def save_history(history, fname):
    training_loss = history.history['loss']
    validation_loss = history.history.get('val_loss', None)  # Handle optional key
    training_acc = history.history.get('accuracy', None)  # Handle optional key
    validation_acc = history.history.get('val_accuracy', None)  # Handle optional key

    # Create a dictionary
    history_data = {
        'training_loss': training_loss,
        'validation_loss': validation_loss,
        'training_accuracy': training_acc,
        'validation_accuracy': validation_acc}
    history_df = pd.DataFrame(history_data)
    history_df.to_csv(f"epochs{epochs}/history_{fname}.csv")
    

def plot_val(model,Nsample, xv, yv):
    val_predictions = model.predict(xv).flatten()
    val_results = pd.DataFrame(data={'Val Predictions':val_predictions, 'Actuals':yv})
    plt.plot(val_results['Val Predictions'][:Nsample])
    plt.plot(val_results['Actuals'][:Nsample])
    plt.title("Validation")
    plt.show()
    
def plot_test(model, Nsample, xtt, ytt):
    test_predictions = model.predict(xtt).flatten()
    test_results = pd.DataFrame(data={'Test Predictions':test_predictions, 'Actuals':ytt})
    plt.plot(test_results['Test Predictions'][:Nsample])
    plt.plot(test_results['Actuals'][:Nsample])
    plt.title("Test")
    plt.show()
    
def calculate_nse(observed, predicted):
    assert observed.shape == predicted.shape, "Observed and predicted arrays must have the same shape."
    mean_observed = np.mean(observed)
    numerator = np.sum((observed - predicted) ** 2)
    denominator = np.sum((observed - mean_observed) ** 2)
    nse = 1 - (numerator / denominator)
    return nse


def plot_predictions1(model, X, y, start=0, end=100):
    prediction = model.predict(X).flatten()
    df = pd.DataFrame(data={'Predictions':prediction, 'Actuals':y})
    plt.plot(df['Predictions'][start:end])
    plt.plot(df['Actuals'][start:end])
    plt.title("Predictions")
    plt.show()
    nse_v = calculate_nse(y, prediction)
    mse_v = mse(y, prediction)
    mae_v = mae(y, prediction)
    r2_v = r2(y, prediction)

    return nse_v, mse_v, mae_v, r2_v



def autoencode_evaluate(model, xt):
    predictions = model.predict(xt)
    predictions_flat = predictions.flatten()
    x_test_flat = xt.flatten()

    nse_v = mse(x_test_flat, predictions_flat)
    mae_v = mae(x_test_flat, predictions_flat)
    r2_v = r2(x_test_flat, predictions_flat)
    return mse_v, mae_v, r2_v

def plot_train_history(history):
    plt.plot(history.history['loss'])
    plt.xlabel('Epoch')
    plt.ylabel('Training Loss')
    plt.title('Training Loss History')
    plt.show()

def plot_train(modelname, Nsample, xt, yt):
    model = load_model(modelname)
    train_predictions = model.predict(xt).flatten()
    train_results = pd.DataFrame(data={'Train Predictions': train_predictions, 'Actuals':yt})
    plt.plot(train_results['Train Predictions'][:Nsample])
    plt.plot(train_results['Actuals'][:Nsample])
    plt.title("Train")
    plt.show()
    
def load_data_model(epochs):
    x_train = np.load(f"epochs{epochs}/x_train.npy")
    y_train = np.load(f"epochs{epochs}/y_train.npy")
    x_test  = np.load(f"epochs{epochs}/x_test.npy")
    y_test  = np.load(f"epochs{epochs}/y_test.npy")
    x_val   = np.load(f"epochs{epochs}/x_val.npy")
    y_val   = np.load(f"epochs{epochs}/y_val.npy")
    
    return x_train, y_train, x_test, y_test, x_val, y_val





epochs = 50


x_train, y_train, x_test, y_test, x_val, y_val = load_data_model(epochs)


x_train[0]








model = load_model(f"epochs{epochs}/cnn/")


cnn_nse, cnn_mse, cnn_mae, cnn_r2 = plot_predictions1(model, x_test, y_test)





model = load_model(f"epochs{epochs}/gru/")


gru_nse, gru_mse, gru_mae, gru_r2 = plot_predictions1(model, x_test, y_test)





model = load_model(f"epochs{epochs}/lstm/")


lstm_nse, lstm_mse, lstm_mae, lstm_r2 = plot_predictions1(model, x_test, y_test)





model = load_model(f"epochs{epochs}/rnn/")


rnn_nse, rnn_mse , rnn_mae, rnn_r2 = plot_predictions1(model, x_test, y_test)








model = load_model(f"epochs{epochs}/mavg_cnn/")
mavg_cnn_nse, mavg_cnn_mse , mavg_cnn_mae, mavg_cnn_r2 = plot_predictions1(model, x_test, y_test)





model = load_model(f"epochs{epochs}/mavg_gru/")


mavg_gru_nse, mavg_gru_mse , mavg_gru_mae, mavg_gru_r2 = plot_predictions1(model, x_test, y_test)





model = load_model(f"epochs{epochs}/mavg_lstm/")


mavg_lstm_nse, mavg_lstm_mse, mavg_lstm_mae, mavg_lstm_r2 = plot_predictions1(model, x_test, y_test)





model = load_model(f"epochs{epochs}/mavg_rnn/")


mavg_rnn_nse, mavg_rnn_mse, mavg_rnn_mae, mavg_rnn_r2 = plot_predictions1(model, x_test, y_test)








model = load_model(f"epochs{epochs}/autoencoder_cnn/")


auto_cnn_nse, auto_cnn_mse, auto_cnn_mae, auto_cnn_r2 = plot_predictions1(model, x_test, y_test)





model = load_model(f"epochs{epochs}/auto_gru/")


auto_gru_nse, auto_gru_mse, auto_gru_mae, auto_gru_r2 = plot_predictions1(model, x_test, y_test)





model = load_model(f"epochs{epochs}/auto_lstm/")


auto_lstm_nse, auto_lstm_mse, auto_lstm_mae, auto_lstm_r2 = plot_predictions1(model, x_test, y_test)





model = load_model(f"epochs{epochs}/auto_rnn/")


auto_rnn_nse, auto_rnn_mse, auto_rnn_mae, auto_rnn_r2 = plot_predictions1(model, x_test, y_test)








model = load_model(f"epochs{epochs}/mavg_auto_cnn/")


mavg_auto_cnn_nse, mavg_auto_cnn_mse, mavg_auto_cnn_mae, mavg_auto_cnn_r2 = plot_predictions1(model, x_test, y_test)





model = load_model(f"epochs{epochs}/mavg_auto_rnn/")


mavg_auto_rnn_nse, mavg_auto_rnn_mse, mavg_auto_rnn_mae, mavg_auto_rnn_r2 = plot_predictions1(model, x_test, y_test)





model = load_model(f"epochs{epochs}/mavg_auto_gru/")


mavg_auto_gru_nse, mavg_auto_gru_mse, mavg_auto_gru_mae, mavg_auto_gru_r2 = plot_predictions1(model, x_test, y_test)





model = load_model(f"epochs{epochs}/mavg_auto_lstm/")


mavg_auto_lstm_nse, mavg_auto_lstm_mse, mavg_auto_lstm_mae, mavg_auto_lstm_r2 = plot_predictions1(model, x_test, y_test)











model = load_model(f"epochs{epochs}/hybrid_cnn_lstm/")


hybrid_cnn_lstm_nse, hybrid_cnn_lstm_mse, hybrid_cnn_lstm_mae, hybrid_cnn_lstm_r2 = plot_predictions1(model, x_test, y_test)





model = load_model(f"epochs{epochs}/hybrid_rnn_lstm/")


hybrid_rnn_lstm_nse, hybrid_rnn_lstm_mse, hybrid_rnn_lstm_mae, hybrid_rnn_lstm_r2 = plot_predictions1(model, x_test, y_test)





model = load_model(f"epochs{epochs}/hybrid_rnn_gru/")


hybrid_rnn_gru_nse, hybrid_rnn_gru_mse, hybrid_rnn_gru_mae, hybrid_rnn_gru_r2 = plot_predictions1(model, x_test, y_test)





model = load_model(f"epochs{epochs}/hybrid_cnn_gru/")


hybrid_cnn_gru_nse, hybrid_cnn_gru_mse, hybrid_cnn_gru_mae, hybrid_cnn_gru_r2 = plot_predictions1(model, x_test, y_test)





model = load_model(f"epochs{epochs}/hybrid_cnn_rnn_gru/")


hybrid_cnn_rnn_gru_nse, hybrid_cnn_rnn_gru_mse, hybrid_cnn_rnn_gru_mae, hybrid_cnn_rnn_gru_r2 = plot_predictions1(model, x_test, y_test)





model = load_model(f"epochs{epochs}/hybrid_lstm_rnn_gru/")


hybrid_lstm_rnn_gru_nse, hybrid_lstm_rnn_gru_mse, hybrid_lstm_rnn_gru_mae, hybrid_lstm_rnn_gru_r2 = plot_predictions1(model, x_test, y_test)








model = load_model(f"epochs{epochs}/mavg_hybrid_cnn_lstm/")


mavg_hybrid_cnn_lstm_nse, mavg_hybrid_cnn_lstm_mse, mavg_hybrid_cnn_lstm_mae, mavg_hybrid_cnn_lstm_r2 = plot_predictions1(model, x_test, y_test)





model = load_model(f"epochs{epochs}/mavg_hybrid_rnn_lstm/")


mavg_hybrid_rnn_lstm_nse, mavg_hybrid_rnn_lstm_mse, mavg_hybrid_rnn_lstm_mae, mavg_hybrid_rnn_lstm_r2 = plot_predictions1(model, x_test, y_test)





model = load_model(f"epochs{epochs}/mavg_hybrid_rnn_gru/")


mavg_hybrid_rnn_gru_nse, mavg_hybrid_rnn_gru_mse, mavg_hybrid_rnn_gru_mae, mavg_hybrid_rnn_gru_r2 = plot_predictions1(model, x_test, y_test)





model = load_model(f"epochs{epochs}/mavg_hybrid_cnn_gru/")


mavg_hybrid_cnn_gru_nse, mavg_hybrid_cnn_gru_mse, mavg_hybrid_cnn_gru_mae, mavg_hybrid_cnn_gru_r2 = plot_predictions1(model, x_test, y_test)





model = load_model(f"epochs{epochs}/mavg_hybrid_cnn_rnn_gru/")


mavg_hybrid_cnn_rnn_gru_nse, mavg_hybrid_cnn_rnn_gru_mse, mavg_hybrid_cnn_rnn_gru_mae, mavg_hybrid_cnn_rnn_gru_r2 = plot_predictions1(model, x_test, y_test)





model = load_model(f"epochs{epochs}/mavg_hybrid_lstm_rnn_gru/")


mavg_hybrid_lstm_rnn_gru_nse, mavg_hybrid_lstm_rnn_gru_mse, mavg_hybrid_lstm_rnn_gru_mae, mavg_hybrid_lstm_rnn_gru_r2 = plot_predictions1(model, x_test, y_test)





gen = ["General" for _ in range(0,4)]
ma = ["MA" for _ in range(0,4)]
ae = ["DReg" for _ in range(0,4)]
ma_ae = ["MA DReg" for _ in range(0,4)]
hy = ["HY" for _ in range(0,6)]
ma_hy = ["MA HY" for _ in range(0,6)]

model_cat = []
for a in gen:
    model_cat.append(a)
for a in ma:
    model_cat.append(a)
for a in ae:
    model_cat.append(a)
for a in ma_ae:
    model_cat.append(a)
for a in hy:
    model_cat.append(a)
for a in ma_hy:
    model_cat.append(a)


mse_list = [cnn_mse, rnn_mse, gru_mse, lstm_mse,
            mavg_cnn_mse, mavg_rnn_mse, mavg_gru_mse, mavg_lstm_mse,
            auto_cnn_mse, auto_rnn_mse, auto_gru_mse, auto_lstm_mse,
            mavg_auto_cnn_mse, mavg_auto_rnn_mse, mavg_auto_gru_mse, mavg_auto_lstm_mse,
            hybrid_cnn_lstm_mse, hybrid_lstm_rnn_gru_mse,hybrid_cnn_rnn_gru_mse,hybrid_cnn_gru_mse,
            hybrid_rnn_gru_mse,hybrid_rnn_lstm_mse,
            mavg_hybrid_cnn_lstm_mse, mavg_hybrid_lstm_rnn_gru_mse,mavg_hybrid_cnn_rnn_gru_mse,
            mavg_hybrid_cnn_gru_mse,mavg_hybrid_rnn_gru_mse,mavg_hybrid_rnn_lstm_mse]

nse_list = [cnn_nse, rnn_nse, gru_nse, lstm_nse,
            mavg_cnn_nse, mavg_rnn_nse, mavg_gru_nse, mavg_lstm_nse,
            auto_cnn_nse, auto_rnn_nse, auto_gru_nse, auto_lstm_nse,
            mavg_auto_cnn_nse, mavg_auto_rnn_nse, mavg_auto_gru_nse, mavg_auto_lstm_nse,
            hybrid_cnn_lstm_nse, hybrid_lstm_rnn_gru_nse,hybrid_cnn_rnn_gru_nse,hybrid_cnn_gru_nse,
            hybrid_rnn_gru_nse,hybrid_rnn_lstm_nse,
            mavg_hybrid_cnn_lstm_nse, mavg_hybrid_lstm_rnn_gru_nse,mavg_hybrid_cnn_rnn_gru_nse,
            mavg_hybrid_cnn_gru_nse,mavg_hybrid_rnn_gru_nse,mavg_hybrid_rnn_lstm_nse]


mae_list = [cnn_mae, rnn_mae, gru_mae, lstm_mae,
            mavg_cnn_mae, mavg_rnn_mae, mavg_gru_mae, mavg_lstm_mae,
            auto_cnn_mae, auto_rnn_mae, auto_gru_mae, auto_lstm_mae,
            mavg_auto_cnn_mae, mavg_auto_rnn_mae, mavg_auto_gru_mae, mavg_auto_lstm_mae,
            hybrid_cnn_lstm_mae, hybrid_lstm_rnn_gru_mae,hybrid_cnn_rnn_gru_mae,hybrid_cnn_gru_mae,
            hybrid_rnn_gru_mae,hybrid_rnn_lstm_mae,
            mavg_hybrid_cnn_lstm_mae, mavg_hybrid_lstm_rnn_gru_mae,mavg_hybrid_cnn_rnn_gru_mae,
            mavg_hybrid_cnn_gru_mae,mavg_hybrid_rnn_gru_mae,mavg_hybrid_rnn_lstm_mae]

r2_list = [cnn_r2, rnn_r2, gru_r2, lstm_r2,
            mavg_cnn_r2, mavg_rnn_r2, mavg_gru_r2, mavg_lstm_r2,
            auto_cnn_r2, auto_rnn_r2, auto_gru_r2, auto_lstm_r2,
            mavg_auto_cnn_r2, mavg_auto_rnn_r2, mavg_auto_gru_r2, mavg_auto_lstm_r2,
            hybrid_cnn_lstm_r2, hybrid_lstm_rnn_gru_r2,hybrid_cnn_rnn_gru_r2,hybrid_cnn_gru_r2,
            hybrid_rnn_gru_r2,hybrid_rnn_lstm_r2,
            mavg_hybrid_cnn_lstm_r2, mavg_hybrid_lstm_rnn_gru_r2,mavg_hybrid_cnn_rnn_gru_r2,
            mavg_hybrid_cnn_gru_r2,mavg_hybrid_rnn_gru_r2,mavg_hybrid_rnn_lstm_r2]


model_n = ["CNN", "RNN", "GRU", "LSTM",
           "CNN", "RNN", "GRU", "LSTM",
           "CNN", "RNN", "GRU", "LSTM",
           "CNN", "RNN", "GRU", "LSTM",
           "CNN LSTM", "LSTM RNN GRU" ,"CNN RNN GRU","CNN GRU",
           "RNN GRU","RNN LSTM",
           "CNN LSTM", "LSTM RNN GRU","CNN RNN GRU",
           "CNN GRU","RNN GRU","RNN LSTM"
          ]


metricsdf = pd.DataFrame({
    "Model Category": model_cat,
    "Model": model_n,
    "NSE": nse_list,
    "MSE": mse_list,
    "MAE": mae_list,
    "R2": r2_list
})

rmse = np.sqrt(metricsdf.MSE)
metricsdf["RMSE"] = rmse

metricsdf.plot("Model", "MSE", kind= "bar")
metricsdf.plot("Model", "RMSE", kind= "bar")
metricsdf.plot("Model", "R2", kind= "bar")
metricsdf.plot("Model", "NSE", kind= "bar")
metricsdf.plot("Model", "MAE", kind= "bar")


metricsdf.drop(columns= "MSE", inplace = True)


metricsdf


metricsdf.to_csv(f"epochs{epochs}/metricsT.csv", index= False)


metricsdf


nse = metricsdf.NSE
mae = metricsdf.MAE
r2 = metricsdf.R2
rmse = metricsdf.RMSE


l_nse = ["NSE" for _ in range(0,28)]

msedf = pd.DataFrame({
    "Metrics": l_nse,
    "Model Category": metricsdf["Model Category"],
    "Model": metricsdf.Model,
    "y": nse
})


l_mae = ["MAE" for _ in range(0,28)]

maedf = pd.DataFrame({
    "Metrics": l_mae,
    "Model Category": metricsdf["Model Category"],
    "Model": metricsdf.Model,
    "y": mae
})


l_rmse = ["RMSE" for _ in range(0,28)]

rmsedf = pd.DataFrame({
    "Metrics": l_rmse,
    "Model Category": metricsdf["Model Category"],
    "Model": metricsdf.Model,
    "y": rmse
})


l_r2 = ["R2" for _ in range(0,28)]

r2df = pd.DataFrame({
    "Metrics": l_r2,
    "Model Category": metricsdf["Model Category"],
    "Model": metricsdf.Model,
    "y": r2
})


metrics = pd.concat([msedf, rmsedf, maedf, r2df])


metrics


metrics.to_csv(f"epochs{epochs}/metrics.csv", index= False)



























