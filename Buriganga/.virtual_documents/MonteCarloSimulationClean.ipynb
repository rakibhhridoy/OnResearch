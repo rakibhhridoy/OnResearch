import numpy as np
import pandas as pd



df = pd.read_csv("data/heavymetalSummer_Winter.csv")


param_adult= {
    "IR" : 2.5,
    "EF": 365,
    "ED": 70,
    "BW": 70,
    "AT": 365 * 70,
    "SA": 18000,
    "ET": 0.58,
    "CF": 10**-3,
    'Kp': {
        "Mn": 0.001,
        "Cr": 0.002,
        "Ni": 0.0002,
        "Cu": 0.001,
        "Zn": 0.0006,
        "As": 0.001,
        "Cd": 0.001,
        "Hg": 0.001,
        "Pb": 0.0001
    },
    'RfDing': {
        "Mn": 0.024,
        "Cr": 0.003,
        "Ni": 0.025,
        "Cu": 0.04,
        "Zn": 0.3,
        "As": 0.0003,
        "Cd": 0.0005,
        "Hg": 0.00016,
        "Pb": 0.0035
    },
    "RfDderm": {
        "Mn": 0.00096,
        "Cr": 0.0195,
        "Ni": 0.0054,
        "Cu": 0.04,
        "Zn": 0.06,
        "As": 0.0003,
        "Cd": 0.000025,
        "Hg": 0.00016,
        "Pb": 0.042
        
    },
    "CSFing": {
        "Cd": 0.38,
        "Cr": 0.5,
        "As": 1.5,
        "Pb": 0.0085,
        "Ni": 1.7
    },
    "CSFderm": {
        "Cd": 0.38,
        "Cr": 0.5,
        "As": 1.5,
        "Pb": 0.0085,
        "Ni": 1.7
    }
    

}

param_child= {
    "IR" : 0.64,
    "EF": 365,
    "ED": 6,
    "BW": 25,
    "AT": 365 * 6,
    "SA": 6600,
    "ET": 1,
    "CF": 10**-3,
    'Kp': {
        "Mn": 0.001,
        "Cr": 0.002,
        "Ni": 0.0002,
        "Cu": 0.001,
        "Zn": 0.0006,
        "As": 0.001,
        "Cd": 0.001,
        "Hg": 0.001,
        "Pb": 0.0001
    },
    'RfDing': {
        "Mn": 0.024,
        "Cr": 0.003,
        "Ni": 0.025,
        "Cu": 0.04,
        "Zn": 0.3,
        "As": 0.0003,
        "Cd": 0.0005,
        "Hg": 0.00016,
        "Pb": 0.0035
    },
    "RfDderm": {
        "Mn": 0.00096,
        "Cr": 0.0195,
        "Ni": 0.0054,
        "Cu": 0.04,
        "Zn": 0.06,
        "As": 0.0003,
        "Cd": 0.000025,
        "Hg": 0.00016,
        "Pb": 0.042
    },
    "CSFing": {
        "Cd": 0.38,
        "Cr": 0.5,
        "As": 1.5,
        "Pb": 0.0085,
        "Ni": 1.7
    },
    "CSFderm": {
        "Cd": 0.38,
        "Cr": 0.5,
        "As": 1.5,
        "Pb": 0.0085,
        "Ni": 1.7
    }
    

}




def HI_WA(df):
    shil = pd.DataFrame(data={
        "Cd": df.CdW,
        "Cr": df.CrW,
        "Ni": df.NiW,
        "Cu": df.CuW,
        "Zn": df.ZnW,
        "Mn": df.MnW,
        "Hg": df.HgW,
        "As": df.AsW,
        "Pb": df.PbW,
    })

    Mn = (shil["Mn"] * param_adult["IR"] * param_adult["EF"] * param_adult["ED"])/ (param_adult["BW"]* param_adult["AT"])
    Cr = (shil["Cr"] * param_adult["IR"] * param_adult["EF"] * param_adult["ED"])/ (param_adult["BW"]* param_adult["AT"])
    Ni = (shil["Ni"] * param_adult["IR"] * param_adult["EF"] * param_adult["ED"])/ (param_adult["BW"]* param_adult["AT"])
    Cu = (shil["Cu"] * param_adult["IR"] * param_adult["EF"] * param_adult["ED"])/ (param_adult["BW"]* param_adult["AT"])
    Zn = (shil["Zn"] * param_adult["IR"] * param_adult["EF"] * param_adult["ED"])/ (param_adult["BW"]* param_adult["AT"])
    As = (shil["As"] * param_adult["IR"] * param_adult["EF"] * param_adult["ED"])/ (param_adult["BW"]* param_adult["AT"])
    Cd = (shil["Cd"] * param_adult["IR"] * param_adult["EF"] * param_adult["ED"])/ (param_adult["BW"]* param_adult["AT"])
    Hg = (shil["Hg"] * param_adult["IR"] * param_adult["EF"] * param_adult["ED"])/ (param_adult["BW"]* param_adult["AT"])
    Pb = (shil["Pb"] * param_adult["IR"] * param_adult["EF"] * param_adult["ED"])/ (param_adult["BW"]* param_adult["AT"])

    cdi_ing = pd.DataFrame(data = {
        "Mn": Mn,
        "Cr": Cr,
        "Ni": Ni,
        "Cu": Cu,
        "Zn": Zn,
        "As": As,
        "Cd": Cd,
        "Hg": Hg,
        "Pb": Pb
    }
    )

    hqMn = cdi_ing["Mn"] / param_adult["RfDing"]["Mn"]
    hqCr = cdi_ing["Cr"] / param_adult["RfDing"]["Cr"]
    hqCu = cdi_ing["Cu"] / param_adult["RfDing"]["Cu"]
    hqZn = cdi_ing["Zn"] / param_adult["RfDing"]["Zn"]
    hqAs = cdi_ing["As"] / param_adult["RfDing"]["As"]
    hqCd = cdi_ing["Cd"] / param_adult["RfDing"]["Cd"]
    hqHg = cdi_ing["Hg"] / param_adult["RfDing"]["Hg"]
    hqPb = cdi_ing["Pb"] / param_adult["RfDing"]["Pb"]
    hqNi = cdi_ing["Ni"] / param_adult["RfDing"]["Ni"]

    hq_ingwa = pd.DataFrame(data = {
        "Mn": hqMn,
        "Cr": hqCr,
        "Ni": hqNi,
        "Cu": hqCu,
        "Zn": hqZn,
        "As": hqAs,
        "Cd": hqCd,
        "Hg": hqHg,
        "Pb": hqPb
    }
    )

    Mn = (shil["Mn"] * param_adult["SA"] * param_adult["Kp"]["Mn"] * param_adult["ET"] * param_adult["EF"] * param_adult["ED"] * param_adult["CF"])/ (param_adult["BW"]* param_adult["AT"])
    Cr = (shil["Cr"] * param_adult["SA"] * param_adult["Kp"]["Cr"] * param_adult["ET"] * param_adult["EF"] * param_adult["ED"] * param_adult["CF"])/ (param_adult["BW"]* param_adult["AT"])
    Ni = (shil["Ni"] * param_adult["SA"] * param_adult["Kp"]["Ni"] * param_adult["ET"] * param_adult["EF"] * param_adult["ED"] * param_adult["CF"])/ (param_adult["BW"]* param_adult["AT"])
    Cu = (shil["Cu"] * param_adult["SA"] * param_adult["Kp"]["Cu"] * param_adult["ET"] * param_adult["EF"] * param_adult["ED"] * param_adult["CF"])/ (param_adult["BW"]* param_adult["AT"])
    Zn = (shil["Zn"] * param_adult["SA"] * param_adult["Kp"]["Zn"] * param_adult["ET"] * param_adult["EF"] * param_adult["ED"] * param_adult["CF"])/ (param_adult["BW"]* param_adult["AT"])
    As = (shil["As"] * param_adult["SA"] * param_adult["Kp"]["As"] * param_adult["ET"] * param_adult["EF"] * param_adult["ED"] * param_adult["CF"])/ (param_adult["BW"]* param_adult["AT"])
    Cd = (shil["Cd"] * param_adult["SA"] * param_adult["Kp"]["Cd"] * param_adult["ET"] * param_adult["EF"] * param_adult["ED"] * param_adult["CF"])/ (param_adult["BW"]* param_adult["AT"])
    Hg = (shil["Hg"] * param_adult["SA"] * param_adult["Kp"]["Hg"] * param_adult["ET"] * param_adult["EF"] * param_adult["ED"] * param_adult["CF"])/ (param_adult["BW"]* param_adult["AT"])
    Pb = (shil["Pb"] * param_adult["SA"] * param_adult["Kp"]["Pb"] * param_adult["ET"] * param_adult["EF"] * param_adult["ED"] * param_adult["CF"])/ (param_adult["BW"]* param_adult["AT"])

    cdi_derm = pd.DataFrame(data = {
        "Mn": Mn,
        "Cr": Cr,
        "Ni": Ni,
        "Cu": Cu,
        "Zn": Zn,
        "As": As,
        "Cd": Cd,
        "Hg": Hg,
        "Pb": Pb
    }
    )

    hqMn = cdi_derm["Mn"] / param_adult["RfDderm"]["Mn"]
    hqCr = cdi_derm["Cr"] / param_adult["RfDderm"]["Cr"]
    hqCu = cdi_derm["Cu"] / param_adult["RfDderm"]["Cu"]
    hqZn = cdi_derm["Zn"] / param_adult["RfDderm"]["Zn"]
    hqAs = cdi_derm["As"] / param_adult["RfDderm"]["As"]
    hqCd = cdi_derm["Cd"] / param_adult["RfDderm"]["Cd"]
    hqHg = cdi_derm["Hg"] / param_adult["RfDderm"]["Hg"]
    hqPb = cdi_derm["Pb"] / param_adult["RfDderm"]["Pb"]
    hqNi = cdi_derm["Ni"] / param_adult["RfDderm"]["Ni"]

    hq_dermwa = pd.DataFrame(data = {
        "Mn": hqMn,
        "Cr": hqCr,
        "Ni": hqNi,
        "Cu": hqCu,
        "Zn": hqZn,
        "As": hqAs,
        "Cd": hqCd,
        "Hg": hqHg,
        "Pb": hqPb
    }
    )

    hi = hq_dermwa + hq_ingwa
    hiwa = hi.sum(axis=1)

    return hi, hiwa




def CR_WA(df):

    shil = pd.DataFrame(data={
        "Cd": df.CdW,
        "Cr": df.CrW,
        "Ni": df.NiW,
        "Cu": df.CuW,
        "Zn": df.ZnW,
        "Mn": df.MnW,
        "Hg": df.HgW,
        "As": df.AsW,
        "Pb": df.PbW,
    })

    Mn = (shil["Mn"] * param_adult["IR"] * param_adult["EF"] * param_adult["ED"])/ (param_adult["BW"]* param_adult["AT"])
    Cr = (shil["Cr"] * param_adult["IR"] * param_adult["EF"] * param_adult["ED"])/ (param_adult["BW"]* param_adult["AT"])
    Ni = (shil["Ni"] * param_adult["IR"] * param_adult["EF"] * param_adult["ED"])/ (param_adult["BW"]* param_adult["AT"])
    Cu = (shil["Cu"] * param_adult["IR"] * param_adult["EF"] * param_adult["ED"])/ (param_adult["BW"]* param_adult["AT"])
    Zn = (shil["Zn"] * param_adult["IR"] * param_adult["EF"] * param_adult["ED"])/ (param_adult["BW"]* param_adult["AT"])
    As = (shil["As"] * param_adult["IR"] * param_adult["EF"] * param_adult["ED"])/ (param_adult["BW"]* param_adult["AT"])
    Cd = (shil["Cd"] * param_adult["IR"] * param_adult["EF"] * param_adult["ED"])/ (param_adult["BW"]* param_adult["AT"])
    Hg = (shil["Hg"] * param_adult["IR"] * param_adult["EF"] * param_adult["ED"])/ (param_adult["BW"]* param_adult["AT"])
    Pb = (shil["Pb"] * param_adult["IR"] * param_adult["EF"] * param_adult["ED"])/ (param_adult["BW"]* param_adult["AT"])

    cdi_ing = pd.DataFrame(data = {
        "Mn": Mn,
        "Cr": Cr,
        "Ni": Ni,
        "Cu": Cu,
        "Zn": Zn,
        "As": As,
        "Cd": Cd,
        "Hg": Hg,
        "Pb": Pb
    }
    )

    Mn = (shil["Mn"] * param_adult["SA"] * param_adult["Kp"]["Mn"] * param_adult["ET"] * param_adult["EF"] * param_adult["ED"] * param_adult["CF"])/ (param_adult["BW"]* param_adult["AT"])
    Cr = (shil["Cr"] * param_adult["SA"] * param_adult["Kp"]["Cr"] * param_adult["ET"] * param_adult["EF"] * param_adult["ED"] * param_adult["CF"])/ (param_adult["BW"]* param_adult["AT"])
    Ni = (shil["Ni"] * param_adult["SA"] * param_adult["Kp"]["Ni"] * param_adult["ET"] * param_adult["EF"] * param_adult["ED"] * param_adult["CF"])/ (param_adult["BW"]* param_adult["AT"])
    Cu = (shil["Cu"] * param_adult["SA"] * param_adult["Kp"]["Cu"] * param_adult["ET"] * param_adult["EF"] * param_adult["ED"] * param_adult["CF"])/ (param_adult["BW"]* param_adult["AT"])
    Zn = (shil["Zn"] * param_adult["SA"] * param_adult["Kp"]["Zn"] * param_adult["ET"] * param_adult["EF"] * param_adult["ED"] * param_adult["CF"])/ (param_adult["BW"]* param_adult["AT"])
    As = (shil["As"] * param_adult["SA"] * param_adult["Kp"]["As"] * param_adult["ET"] * param_adult["EF"] * param_adult["ED"] * param_adult["CF"])/ (param_adult["BW"]* param_adult["AT"])
    Cd = (shil["Cd"] * param_adult["SA"] * param_adult["Kp"]["Cd"] * param_adult["ET"] * param_adult["EF"] * param_adult["ED"] * param_adult["CF"])/ (param_adult["BW"]* param_adult["AT"])
    Hg = (shil["Hg"] * param_adult["SA"] * param_adult["Kp"]["Hg"] * param_adult["ET"] * param_adult["EF"] * param_adult["ED"] * param_adult["CF"])/ (param_adult["BW"]* param_adult["AT"])
    Pb = (shil["Pb"] * param_adult["SA"] * param_adult["Kp"]["Pb"] * param_adult["ET"] * param_adult["EF"] * param_adult["ED"] * param_adult["CF"])/ (param_adult["BW"]* param_adult["AT"])

    cdi_derm = pd.DataFrame(data = {
        "Mn": Mn,
        "Cr": Cr,
        "Ni": Ni,
        "Cu": Cu,
        "Zn": Zn,
        "As": As,
        "Cd": Cd,
        "Hg": Hg,
        "Pb": Pb
    }
    )

    Cd = cdi_ing.Cd * param_adult["CSFing"]["Cd"]
    Cr = cdi_ing.Cr * param_adult["CSFing"]["Cr"]
    As = cdi_ing.As * param_adult["CSFing"]["As"]
    Pb = cdi_ing.Pb * param_adult["CSFing"]["Pb"]
    Ni = cdi_ing.Ni * param_adult["CSFing"]["Ni"]


    ilcr_ingwa = pd.DataFrame(data={
        "Cd": Cd,
        "Cr": Cr,
        "As": As,
        "Pb": Pb,
        "Ni": Ni
    })

    Cd = cdi_derm.Cd * param_adult["CSFderm"]["Cd"]
    Cr = cdi_derm.Cr * param_adult["CSFderm"]["Cr"]
    As = cdi_derm.As * param_adult["CSFderm"]["As"]
    Pb = cdi_derm.Pb * param_adult["CSFderm"]["Pb"]
    Ni = cdi_derm.Ni * param_adult["CSFderm"]["Ni"]

    ilcr_dermwa = pd.DataFrame(data={
        "Cd": Cd,
        "Cr": Cr,
        "As": As,
        "Pb": Pb,
        "Ni": Ni
    })

    ilcr = ilcr_ingwa + ilcr_dermwa
    ilcr_wadult = ilcr.sum(axis=1)

    return ilcr, ilcr_wadult




def HI_SA(df):
    shil = pd.DataFrame(data={
        "Cd": df.CdS,
        "Cr": df.CrS,
        "Ni": df.NiS,
        "Cu": df.CuS,
        "Zn": df.ZnS,
        "Mn": df.MnS,
        "Hg": df.HgS,
        "As": df.AsS,
        "Pb": df.PbS,
    })

    Mn = (shil["Mn"] * param_adult["IR"] * param_adult["EF"] * param_adult["ED"])/ (param_adult["BW"]* param_adult["AT"])
    Cr = (shil["Cr"] * param_adult["IR"] * param_adult["EF"] * param_adult["ED"])/ (param_adult["BW"]* param_adult["AT"])
    Ni = (shil["Ni"] * param_adult["IR"] * param_adult["EF"] * param_adult["ED"])/ (param_adult["BW"]* param_adult["AT"])
    Cu = (shil["Cu"] * param_adult["IR"] * param_adult["EF"] * param_adult["ED"])/ (param_adult["BW"]* param_adult["AT"])
    Zn = (shil["Zn"] * param_adult["IR"] * param_adult["EF"] * param_adult["ED"])/ (param_adult["BW"]* param_adult["AT"])
    As = (shil["As"] * param_adult["IR"] * param_adult["EF"] * param_adult["ED"])/ (param_adult["BW"]* param_adult["AT"])
    Cd = (shil["Cd"] * param_adult["IR"] * param_adult["EF"] * param_adult["ED"])/ (param_adult["BW"]* param_adult["AT"])
    Hg = (shil["Hg"] * param_adult["IR"] * param_adult["EF"] * param_adult["ED"])/ (param_adult["BW"]* param_adult["AT"])
    Pb = (shil["Pb"] * param_adult["IR"] * param_adult["EF"] * param_adult["ED"])/ (param_adult["BW"]* param_adult["AT"])

    cdi_ing = pd.DataFrame(data = {
        "Mn": Mn,
        "Cr": Cr,
        "Ni": Ni,
        "Cu": Cu,
        "Zn": Zn,
        "As": As,
        "Cd": Cd,
        "Hg": Hg,
        "Pb": Pb
    }
    )

    hqMn = cdi_ing["Mn"] / param_adult["RfDing"]["Mn"]
    hqCr = cdi_ing["Cr"] / param_adult["RfDing"]["Cr"]
    hqCu = cdi_ing["Cu"] / param_adult["RfDing"]["Cu"]
    hqZn = cdi_ing["Zn"] / param_adult["RfDing"]["Zn"]
    hqAs = cdi_ing["As"] / param_adult["RfDing"]["As"]
    hqCd = cdi_ing["Cd"] / param_adult["RfDing"]["Cd"]
    hqHg = cdi_ing["Hg"] / param_adult["RfDing"]["Hg"]
    hqPb = cdi_ing["Pb"] / param_adult["RfDing"]["Pb"]
    hqNi = cdi_ing["Ni"] / param_adult["RfDing"]["Ni"]

    hq_ingsa = pd.DataFrame(data = {
        "Mn": hqMn,
        "Cr": hqCr,
        "Ni": hqNi,
        "Cu": hqCu,
        "Zn": hqZn,
        "As": hqAs,
        "Cd": hqCd,
        "Hg": hqHg,
        "Pb": hqPb
    }
    )

    Mn = (shil["Mn"] * param_adult["SA"] * param_adult["Kp"]["Mn"] * param_adult["ET"] * param_adult["EF"] * param_adult["ED"] * param_adult["CF"])/ (param_adult["BW"]* param_adult["AT"])
    Cr = (shil["Cr"] * param_adult["SA"] * param_adult["Kp"]["Cr"] * param_adult["ET"] * param_adult["EF"] * param_adult["ED"] * param_adult["CF"])/ (param_adult["BW"]* param_adult["AT"])
    Ni = (shil["Ni"] * param_adult["SA"] * param_adult["Kp"]["Ni"] * param_adult["ET"] * param_adult["EF"] * param_adult["ED"] * param_adult["CF"])/ (param_adult["BW"]* param_adult["AT"])
    Cu = (shil["Cu"] * param_adult["SA"] * param_adult["Kp"]["Cu"] * param_adult["ET"] * param_adult["EF"] * param_adult["ED"] * param_adult["CF"])/ (param_adult["BW"]* param_adult["AT"])
    Zn = (shil["Zn"] * param_adult["SA"] * param_adult["Kp"]["Zn"] * param_adult["ET"] * param_adult["EF"] * param_adult["ED"] * param_adult["CF"])/ (param_adult["BW"]* param_adult["AT"])
    As = (shil["As"] * param_adult["SA"] * param_adult["Kp"]["As"] * param_adult["ET"] * param_adult["EF"] * param_adult["ED"] * param_adult["CF"])/ (param_adult["BW"]* param_adult["AT"])
    Cd = (shil["Cd"] * param_adult["SA"] * param_adult["Kp"]["Cd"] * param_adult["ET"] * param_adult["EF"] * param_adult["ED"] * param_adult["CF"])/ (param_adult["BW"]* param_adult["AT"])
    Hg = (shil["Hg"] * param_adult["SA"] * param_adult["Kp"]["Hg"] * param_adult["ET"] * param_adult["EF"] * param_adult["ED"] * param_adult["CF"])/ (param_adult["BW"]* param_adult["AT"])
    Pb = (shil["Pb"] * param_adult["SA"] * param_adult["Kp"]["Pb"] * param_adult["ET"] * param_adult["EF"] * param_adult["ED"] * param_adult["CF"])/ (param_adult["BW"]* param_adult["AT"])

    cdi_derm = pd.DataFrame(data = {
        "Mn": Mn,
        "Cr": Cr,
        "Ni": Ni,
        "Cu": Cu,
        "Zn": Zn,
        "As": As,
        "Cd": Cd,
        "Hg": Hg,
        "Pb": Pb
    }
    )

    hqMn = cdi_derm["Mn"] / param_adult["RfDderm"]["Mn"]
    hqCr = cdi_derm["Cr"] / param_adult["RfDderm"]["Cr"]
    hqCu = cdi_derm["Cu"] / param_adult["RfDderm"]["Cu"]
    hqZn = cdi_derm["Zn"] / param_adult["RfDderm"]["Zn"]
    hqAs = cdi_derm["As"] / param_adult["RfDderm"]["As"]
    hqCd = cdi_derm["Cd"] / param_adult["RfDderm"]["Cd"]
    hqHg = cdi_derm["Hg"] / param_adult["RfDderm"]["Hg"]
    hqPb = cdi_derm["Pb"] / param_adult["RfDderm"]["Pb"]
    hqNi = cdi_derm["Ni"] / param_adult["RfDderm"]["Ni"]

    hq_dermsa = pd.DataFrame(data = {
        "Mn": hqMn,
        "Cr": hqCr,
        "Ni": hqNi,
        "Cu": hqCu,
        "Zn": hqZn,
        "As": hqAs,
        "Cd": hqCd,
        "Hg": hqHg,
        "Pb": hqPb
    }
    )

    hi = hq_dermsa + hq_ingsa
    hisa = hi.sum(axis=1)

    return hi, hisa


def CR_SA(df):

    shil = pd.DataFrame(data={
        "Cd": df.CdS,
        "Cr": df.CrS,
        "Ni": df.NiS,
        "Cu": df.CuS,
        "Zn": df.ZnS,
        "Mn": df.MnS,
        "Hg": df.HgS,
        "As": df.AsS,
        "Pb": df.PbS,
    })

    Mn = (shil["Mn"] * param_adult["IR"] * param_adult["EF"] * param_adult["ED"])/ (param_adult["BW"]* param_adult["AT"])
    Cr = (shil["Cr"] * param_adult["IR"] * param_adult["EF"] * param_adult["ED"])/ (param_adult["BW"]* param_adult["AT"])
    Ni = (shil["Ni"] * param_adult["IR"] * param_adult["EF"] * param_adult["ED"])/ (param_adult["BW"]* param_adult["AT"])
    Cu = (shil["Cu"] * param_adult["IR"] * param_adult["EF"] * param_adult["ED"])/ (param_adult["BW"]* param_adult["AT"])
    Zn = (shil["Zn"] * param_adult["IR"] * param_adult["EF"] * param_adult["ED"])/ (param_adult["BW"]* param_adult["AT"])
    As = (shil["As"] * param_adult["IR"] * param_adult["EF"] * param_adult["ED"])/ (param_adult["BW"]* param_adult["AT"])
    Cd = (shil["Cd"] * param_adult["IR"] * param_adult["EF"] * param_adult["ED"])/ (param_adult["BW"]* param_adult["AT"])
    Hg = (shil["Hg"] * param_adult["IR"] * param_adult["EF"] * param_adult["ED"])/ (param_adult["BW"]* param_adult["AT"])
    Pb = (shil["Pb"] * param_adult["IR"] * param_adult["EF"] * param_adult["ED"])/ (param_adult["BW"]* param_adult["AT"])

    cdi_ing = pd.DataFrame(data = {
        "Mn": Mn,
        "Cr": Cr,
        "Ni": Ni,
        "Cu": Cu,
        "Zn": Zn,
        "As": As,
        "Cd": Cd,
        "Hg": Hg,
        "Pb": Pb
    }
    )

    Mn = (shil["Mn"] * param_adult["SA"] * param_adult["Kp"]["Mn"] * param_adult["ET"] * param_adult["EF"] * param_adult["ED"] * param_adult["CF"])/ (param_adult["BW"]* param_adult["AT"])
    Cr = (shil["Cr"] * param_adult["SA"] * param_adult["Kp"]["Cr"] * param_adult["ET"] * param_adult["EF"] * param_adult["ED"] * param_adult["CF"])/ (param_adult["BW"]* param_adult["AT"])
    Ni = (shil["Ni"] * param_adult["SA"] * param_adult["Kp"]["Ni"] * param_adult["ET"] * param_adult["EF"] * param_adult["ED"] * param_adult["CF"])/ (param_adult["BW"]* param_adult["AT"])
    Cu = (shil["Cu"] * param_adult["SA"] * param_adult["Kp"]["Cu"] * param_adult["ET"] * param_adult["EF"] * param_adult["ED"] * param_adult["CF"])/ (param_adult["BW"]* param_adult["AT"])
    Zn = (shil["Zn"] * param_adult["SA"] * param_adult["Kp"]["Zn"] * param_adult["ET"] * param_adult["EF"] * param_adult["ED"] * param_adult["CF"])/ (param_adult["BW"]* param_adult["AT"])
    As = (shil["As"] * param_adult["SA"] * param_adult["Kp"]["As"] * param_adult["ET"] * param_adult["EF"] * param_adult["ED"] * param_adult["CF"])/ (param_adult["BW"]* param_adult["AT"])
    Cd = (shil["Cd"] * param_adult["SA"] * param_adult["Kp"]["Cd"] * param_adult["ET"] * param_adult["EF"] * param_adult["ED"] * param_adult["CF"])/ (param_adult["BW"]* param_adult["AT"])
    Hg = (shil["Hg"] * param_adult["SA"] * param_adult["Kp"]["Hg"] * param_adult["ET"] * param_adult["EF"] * param_adult["ED"] * param_adult["CF"])/ (param_adult["BW"]* param_adult["AT"])
    Pb = (shil["Pb"] * param_adult["SA"] * param_adult["Kp"]["Pb"] * param_adult["ET"] * param_adult["EF"] * param_adult["ED"] * param_adult["CF"])/ (param_adult["BW"]* param_adult["AT"])

    cdi_derm = pd.DataFrame(data = {
        "Mn": Mn,
        "Cr": Cr,
        "Ni": Ni,
        "Cu": Cu,
        "Zn": Zn,
        "As": As,
        "Cd": Cd,
        "Hg": Hg,
        "Pb": Pb
    }
    )

    Cd = cdi_ing.Cd * param_adult["CSFing"]["Cd"]
    Cr = cdi_ing.Cr * param_adult["CSFing"]["Cr"]
    As = cdi_ing.As * param_adult["CSFing"]["As"]
    Pb = cdi_ing.Pb * param_adult["CSFing"]["Pb"]
    Ni = cdi_ing.Ni * param_adult["CSFing"]["Ni"]


    ilcr_ingsa = pd.DataFrame(data={
        "Cd": Cd,
        "Cr": Cr,
        "As": As,
        "Pb": Pb,
        "Ni": Ni
    })

    Cd = cdi_derm.Cd * param_adult["CSFderm"]["Cd"]
    Cr = cdi_derm.Cr * param_adult["CSFderm"]["Cr"]
    As = cdi_derm.As * param_adult["CSFderm"]["As"]
    Pb = cdi_derm.Pb * param_adult["CSFderm"]["Pb"]
    Ni = cdi_derm.Pb * param_adult["CSFderm"]["Ni"]


    ilcr_dermsa = pd.DataFrame(data={
        "Cd": Cd,
        "Cr": Cr,
        "As": As,
        "Pb": Pb,
        "Ni": Ni
    })

    ilcr = ilcr_ingsa + ilcr_dermsa
    ilcr_sadult = ilcr.sum(axis=1)

    return ilcr, ilcr_sadult




def random_genW(df):
    cdW = []
    crW = []
    niW = []
    cuW = []
    znW = []
    mnW = []
    hgW = []
    asW = []
    pbW = []

    metals = [cdW, 
            crW, 
            niW, 
            cuW, 
            znW, 
            mnW, 
            hgW, 
            asW, 
            pbW]

    def logic(x, elem):
        if x > 0:
            elem.append(x)


    metalsW = [df.CdW, 
            df.CrW, 
            df.NiW, 
            df.CuW,
            df.ZnW, 
            df.MnW,
            df.HgW, 
            df.AsW,
            df.PbW]



    for j in range(9):
        i = 0        
        while i < 10000:
            x = np.random.normal(metalsW[j].mean(), metalsW[j].std())
            logic(x, metals[j])    
            i = len(metals[j])
    return metals

def random_genS(df):
    cdS = []
    crS = []
    niS = []
    cuS = []
    znS = []
    mnS = []
    hgS = []
    asS = []
    pbS = []

    metals = [cdS, 
            crS, 
            niS, 
            cuS, 
            znS, 
            mnS, 
            hgS, 
            asS, 
            pbS]

    def logic(x, elem):
        if x > 0:
            elem.append(x)


    metalsS = [df.CdS, 
            df.CrS, 
            df.NiS, 
            df.CuS,
            df.ZnS, 
            df.MnS,
            df.HgS, 
            df.AsS,
            df.PbS]



    for j in range(9):
        i = 0        
        while i < 10000:
            x = np.random.normal(metalsS[j].mean(), metalsS[j].std())
            logic(x, metals[j])    
            i = len(metals[j])
    return metals


winter = ["Winter" for i in range(10000)]
summer = ["Summer" for i in range(10000)]


metalsW = random_genW(df)
dataW = pd.DataFrame(data={
        "CdW":metalsW[0],
        "CrW":metalsW[1],
        "NiW":metalsW[2],
        "CuW":metalsW[3],
        "ZnW":metalsW[4],
        "MnW":metalsW[5],
        "HgW":metalsW[6],
        "AsW":metalsW[7],
        "PbW":metalsW[8],
    })



metalsS = random_genS(df)
dataS = pd.DataFrame(data={
        "CdS":metalsS[0],
        "CrS":metalsS[1],
        "NiS":metalsS[2],
        "CuS":metalsS[3],
        "ZnS":metalsS[4],
        "MnS":metalsS[5],
        "HgS":metalsS[6],
        "AsS":metalsS[7],
        "PbS":metalsS[8],
    })


dataW.to_csv("monteData/simul/orig_dataW.csv")
dataS.to_csv("monteData/simul/orig_dataS.csv")



rawHiW, hiWA = HI_WA(dataW)
rawHiS, hiSA = HI_SA(dataS)

rawCRW, crWA = CR_WA(dataW)
rawCRS, crSA = CR_SA(dataS)



Whi = pd.DataFrame(data={
    "Values": hiWA,
    "Seasons": winter
})

Shi = pd.DataFrame(data={
    "Values": hiSA,
    "Seasons": summer
})

Wcr = pd.DataFrame(data={
    "Values": crWA,
    "Seasons": winter
})

Scr = pd.DataFrame(data={
    "Values": crSA,
    "Seasons": summer
})



hiA = pd.concat([Whi, Shi])
crA = pd.concat([Wcr, Scr])


hiA.to_csv("monteData/simul/hiA_orig.csv")
crA.to_csv("monteData/simul/crA_orig.csv")





def iteration(df, n):
    
    for i in range(n):
        metalsW = random_genW(df)
        dataW = pd.DataFrame(data={
                "CdW":metalsW[0],
                "CrW":metalsW[1],
                "NiW":metalsW[2],
                "CuW":metalsW[3],
                "ZnW":metalsW[4],
                "MnW":metalsW[5],
                "HgW":metalsW[6],
                "AsW":metalsW[7],
                "PbW":metalsW[8],
            })



        metalsS = random_genS(df)
        dataS = pd.DataFrame(data={
                "CdS":metalsS[0],
                "CrS":metalsS[1],
                "NiS":metalsS[2],
                "CuS":metalsS[3],
                "ZnS":metalsS[4],
                "MnS":metalsS[5],
                "HgS":metalsS[6],
                "AsS":metalsS[7],
                "PbS":metalsS[8],
            })


        dataW.to_csv("monteData/simul/orig_dataW{}.csv".format(i))
        dataS.to_csv("monteData/simul/orig_dataS{}.csv".format(i))



        rawHiW, hiWA = HI_WA(dataW)
        rawHiS, hiSA = HI_SA(dataS)

        rawCRW, crWA = CR_WA(dataW)
        rawCRS, crSA = CR_SA(dataS)



        crWA.to_csv("monteData/simul/crWA{}.csv".format(i))
        crSA.to_csv("monteData/simul/crSA{}.csv".format(i))

        hiWA.to_csv("monteData/simul/hiWA{}.csv".format(i))
        hiSA.to_csv("monteData/simul/hiSA{}.csv".format(i))

        Whi = pd.DataFrame(data={
            "Values": hiWA,
            "Seasons": winter
        })

        Shi = pd.DataFrame(data={
            "Values": hiSA,
            "Seasons": summer
        })

        Wcr = pd.DataFrame(data={
            "Values": crWA,
            "Seasons": winter
        })

        Scr = pd.DataFrame(data={
            "Values": crSA,
            "Seasons": summer
        })



        hiA = pd.concat([Whi, Shi])
        crA = pd.concat([Wcr, Scr])


        hiA.to_csv("monteData/simul/hiA_orig{}.csv".format(i))
        crA.to_csv("monteData/simul/crA_orig{}.csv".format(i))

        
        print("Mean of hiWA{}: {}".format(i, hiWA.mean() ))
        print("Mean of hiSA{}: {}".format(i, hiSA.mean()))

        print("Mean of crWA{}: {}".format(i, crWA.mean()))
        print("Mean of crSA{}: {}".format(i, crSA.mean()))
        print("===========================")
        print("===========================")



iteration(df, 100)








def HI_SC(df):
    
    shil = pd.DataFrame(data={
        "Cd": df.CdS,
        "Cr": df.CrS,
        "Ni": df.NiS,
        "Cu": df.CuS,
        "Zn": df.ZnS,
        "Mn": df.MnS,
        "Hg": df.HgS,
        "As": df.AsS,
        "Pb": df.PbS,
    })

    Mn = (shil["Mn"] * param_child["IR"] * param_child["EF"] * param_child["ED"])/ (param_child["BW"]* param_child["AT"])
    Cr = (shil["Cr"] * param_child["IR"] * param_child["EF"] * param_child["ED"])/ (param_child["BW"]* param_child["AT"])
    Ni = (shil["Ni"] * param_child["IR"] * param_child["EF"] * param_child["ED"])/ (param_child["BW"]* param_child["AT"])
    Cu = (shil["Cu"] * param_child["IR"] * param_child["EF"] * param_child["ED"])/ (param_child["BW"]* param_child["AT"])
    Zn = (shil["Zn"] * param_child["IR"] * param_child["EF"] * param_child["ED"])/ (param_child["BW"]* param_child["AT"])
    As = (shil["As"] * param_child["IR"] * param_child["EF"] * param_child["ED"])/ (param_child["BW"]* param_child["AT"])
    Cd = (shil["Cd"] * param_child["IR"] * param_child["EF"] * param_child["ED"])/ (param_child["BW"]* param_child["AT"])
    Hg = (shil["Hg"] * param_child["IR"] * param_child["EF"] * param_child["ED"])/ (param_child["BW"]* param_child["AT"])
    Pb = (shil["Pb"] * param_child["IR"] * param_child["EF"] * param_child["ED"])/ (param_child["BW"]* param_child["AT"])

    cdi_ing = pd.DataFrame(data = {
        "Mn": Mn,
        "Cr": Cr,
        "Ni": Ni,
        "Cu": Cu,
        "Zn": Zn,
        "As": As,
        "Cd": Cd,
        "Hg": Hg,
        "Pb": Pb
    }
    )

    hqMn = cdi_ing["Mn"] / param_child["RfDing"]["Mn"]
    hqCr = cdi_ing["Cr"] / param_child["RfDing"]["Cr"]
    hqCu = cdi_ing["Cu"] / param_child["RfDing"]["Cu"]
    hqZn = cdi_ing["Zn"] / param_child["RfDing"]["Zn"]
    hqAs = cdi_ing["As"] / param_child["RfDing"]["As"]
    hqCd = cdi_ing["Cd"] / param_child["RfDing"]["Cd"]
    hqHg = cdi_ing["Hg"] / param_child["RfDing"]["Hg"]
    hqPb = cdi_ing["Pb"] / param_child["RfDing"]["Pb"]
    hqNi = cdi_ing["Ni"] / param_child["RfDing"]["Ni"]

    hq_ingsc = pd.DataFrame(data = {
        "Mn": hqMn,
        "Cr": hqCr,
        "Ni": hqNi,
        "Cu": hqCu,
        "Zn": hqZn,
        "As": hqAs,
        "Cd": hqCd,
        "Hg": hqHg,
        "Pb": hqPb
    }
    )

    Mn = (shil["Mn"] * param_child["SA"] * param_child["Kp"]["Mn"] * param_child["ET"] * param_child["EF"] * param_child["ED"] * param_child["CF"])/ (param_child["BW"]* param_child["AT"])
    Cr = (shil["Cr"] * param_child["SA"] * param_child["Kp"]["Cr"] * param_child["ET"] * param_child["EF"] * param_child["ED"] * param_child["CF"])/ (param_child["BW"]* param_child["AT"])
    Ni = (shil["Ni"] * param_child["SA"] * param_child["Kp"]["Ni"] * param_child["ET"] * param_child["EF"] * param_child["ED"] * param_child["CF"])/ (param_child["BW"]* param_child["AT"])
    Cu = (shil["Cu"] * param_child["SA"] * param_child["Kp"]["Cu"] * param_child["ET"] * param_child["EF"] * param_child["ED"] * param_child["CF"])/ (param_child["BW"]* param_child["AT"])
    Zn = (shil["Zn"] * param_child["SA"] * param_child["Kp"]["Zn"] * param_child["ET"] * param_child["EF"] * param_child["ED"] * param_child["CF"])/ (param_child["BW"]* param_child["AT"])
    As = (shil["As"] * param_child["SA"] * param_child["Kp"]["As"] * param_child["ET"] * param_child["EF"] * param_child["ED"] * param_child["CF"])/ (param_child["BW"]* param_child["AT"])
    Cd = (shil["Cd"] * param_child["SA"] * param_child["Kp"]["Cd"] * param_child["ET"] * param_child["EF"] * param_child["ED"] * param_child["CF"])/ (param_child["BW"]* param_child["AT"])
    Hg = (shil["Hg"] * param_child["SA"] * param_child["Kp"]["Hg"] * param_child["ET"] * param_child["EF"] * param_child["ED"] * param_child["CF"])/ (param_child["BW"]* param_child["AT"])
    Pb = (shil["Pb"] * param_child["SA"] * param_child["Kp"]["Pb"] * param_child["ET"] * param_child["EF"] * param_child["ED"] * param_child["CF"])/ (param_child["BW"]* param_child["AT"])

    cdi_derm = pd.DataFrame(data = {
        "Mn": Mn,
        "Cr": Cr,
        "Ni": Ni,
        "Cu": Cu,
        "Zn": Zn,
        "As": As,
        "Cd": Cd,
        "Hg": Hg,
        "Pb": Pb
    }
    )

    hqMn = cdi_derm["Mn"] / param_child["RfDderm"]["Mn"]
    hqCr = cdi_derm["Cr"] / param_child["RfDderm"]["Cr"]
    hqCu = cdi_derm["Cu"] / param_child["RfDderm"]["Cu"]
    hqZn = cdi_derm["Zn"] / param_child["RfDderm"]["Zn"]
    hqAs = cdi_derm["As"] / param_child["RfDderm"]["As"]
    hqCd = cdi_derm["Cd"] / param_child["RfDderm"]["Cd"]
    hqHg = cdi_derm["Hg"] / param_child["RfDderm"]["Hg"]
    hqPb = cdi_derm["Pb"] / param_child["RfDderm"]["Pb"]
    hqNi = cdi_derm["Ni"] / param_child["RfDderm"]["Ni"]

    hq_dermsc = pd.DataFrame(data = {
        "Mn": hqMn,
        "Cr": hqCr,
        "Ni": hqNi,
        "Cu": hqCu,
        "Zn": hqZn,
        "As": hqAs,
        "Cd": hqCd,
        "Hg": hqHg,
        "Pb": hqPb
    }
    )

    hi = hq_dermsc + hq_ingsc
    hisc = hi.sum(axis=1)
    return hi, hisc

def CR_SC(df):

    shil = pd.DataFrame(data={
        "Cd": df.CdS,
        "Cr": df.CrS,
        "Ni": df.NiS,
        "Cu": df.CuS,
        "Zn": df.ZnS,
        "Mn": df.MnS,
        "Hg": df.HgS,
        "As": df.AsS,
        "Pb": df.PbS,
    })

    Mn = (shil["Mn"] * param_child["IR"] * param_child["EF"] * param_child["ED"])/ (param_child["BW"]* param_child["AT"])
    Cr = (shil["Cr"] * param_child["IR"] * param_child["EF"] * param_child["ED"])/ (param_child["BW"]* param_child["AT"])
    Ni = (shil["Ni"] * param_child["IR"] * param_child["EF"] * param_child["ED"])/ (param_child["BW"]* param_child["AT"])
    Cu = (shil["Cu"] * param_child["IR"] * param_child["EF"] * param_child["ED"])/ (param_child["BW"]* param_child["AT"])
    Zn = (shil["Zn"] * param_child["IR"] * param_child["EF"] * param_child["ED"])/ (param_child["BW"]* param_child["AT"])
    As = (shil["As"] * param_child["IR"] * param_child["EF"] * param_child["ED"])/ (param_child["BW"]* param_child["AT"])
    Cd = (shil["Cd"] * param_child["IR"] * param_child["EF"] * param_child["ED"])/ (param_child["BW"]* param_child["AT"])
    Hg = (shil["Hg"] * param_child["IR"] * param_child["EF"] * param_child["ED"])/ (param_child["BW"]* param_child["AT"])
    Pb = (shil["Pb"] * param_child["IR"] * param_child["EF"] * param_child["ED"])/ (param_child["BW"]* param_child["AT"])

    cdi_ing = pd.DataFrame(data = {
        "Mn": Mn,
        "Cr": Cr,
        "Ni": Ni,
        "Cu": Cu,
        "Zn": Zn,
        "As": As,
        "Cd": Cd,
        "Hg": Hg,
        "Pb": Pb
    }
    )

    Mn = (shil["Mn"] * param_child["SA"] * param_child["Kp"]["Mn"] * param_child["ET"] * param_child["EF"] * param_child["ED"] * param_child["CF"])/ (param_child["BW"]* param_child["AT"])
    Cr = (shil["Cr"] * param_child["SA"] * param_child["Kp"]["Cr"] * param_child["ET"] * param_child["EF"] * param_child["ED"] * param_child["CF"])/ (param_child["BW"]* param_child["AT"])
    Ni = (shil["Ni"] * param_child["SA"] * param_child["Kp"]["Ni"] * param_child["ET"] * param_child["EF"] * param_child["ED"] * param_child["CF"])/ (param_child["BW"]* param_child["AT"])
    Cu = (shil["Cu"] * param_child["SA"] * param_child["Kp"]["Cu"] * param_child["ET"] * param_child["EF"] * param_child["ED"] * param_child["CF"])/ (param_child["BW"]* param_child["AT"])
    Zn = (shil["Zn"] * param_child["SA"] * param_child["Kp"]["Zn"] * param_child["ET"] * param_child["EF"] * param_child["ED"] * param_child["CF"])/ (param_child["BW"]* param_child["AT"])
    As = (shil["As"] * param_child["SA"] * param_child["Kp"]["As"] * param_child["ET"] * param_child["EF"] * param_child["ED"] * param_child["CF"])/ (param_child["BW"]* param_child["AT"])
    Cd = (shil["Cd"] * param_child["SA"] * param_child["Kp"]["Cd"] * param_child["ET"] * param_child["EF"] * param_child["ED"] * param_child["CF"])/ (param_child["BW"]* param_child["AT"])
    Hg = (shil["Hg"] * param_child["SA"] * param_child["Kp"]["Hg"] * param_child["ET"] * param_child["EF"] * param_child["ED"] * param_child["CF"])/ (param_child["BW"]* param_child["AT"])
    Pb = (shil["Pb"] * param_child["SA"] * param_child["Kp"]["Pb"] * param_child["ET"] * param_child["EF"] * param_child["ED"] * param_child["CF"])/ (param_child["BW"]* param_child["AT"])

    cdi_derm = pd.DataFrame(data = {
        "Mn": Mn,
        "Cr": Cr,
        "Ni": Ni,
        "Cu": Cu,
        "Zn": Zn,
        "As": As,
        "Cd": Cd,
        "Hg": Hg,
        "Pb": Pb
    }
    )

    Cd = cdi_ing.Cd * param_child["CSFing"]["Cd"]
    Cr = cdi_ing.Cr * param_child["CSFing"]["Cr"]
    As = cdi_ing.As * param_child["CSFing"]["As"]
    Pb = cdi_ing.Pb * param_child["CSFing"]["Pb"]
    Ni = cdi_ing.Ni * param_child["CSFing"]["Ni"]

    ilcr_ingsc = pd.DataFrame(data={
        "Cd": Cd,
        "Cr": Cr,
        "As": As,
        "Pb": Pb,
        "Ni": Ni
    })

    Cd = cdi_derm.Cd * param_child["CSFderm"]["Cd"]
    Cr = cdi_derm.Cr * param_child["CSFderm"]["Cr"]
    As = cdi_derm.As * param_child["CSFderm"]["As"]
    Pb = cdi_derm.Pb * param_child["CSFderm"]["Pb"]
    Ni = cdi_derm.Ni * param_child["CSFderm"]["Ni"]


    ilcr_dermsc = pd.DataFrame(data={
        "Cd": Cd,
        "Cr": Cr,
        "As": As,
        "Pb": Pb,
        "Ni": Ni
    })

    ilcr = ilcr_ingsc + ilcr_dermsc
    ilcr_schild = ilcr.sum(axis=1)
    return ilcr, ilcr_schild


def HI_WC(df):
    shil = pd.DataFrame(data={
        "Cd": df.CdW,
        "Cr": df.CrW,
        "Ni": df.NiW,
        "Cu": df.CuW,
        "Zn": df.ZnW,
        "Mn": df.MnW,
        "Hg": df.HgW,
        "As": df.AsW,
        "Pb": df.PbW,
    })

    Mn = (shil["Mn"] * param_child["IR"] * param_child["EF"] * param_child["ED"])/ (param_child["BW"]* param_child["AT"])
    Cr = (shil["Cr"] * param_child["IR"] * param_child["EF"] * param_child["ED"])/ (param_child["BW"]* param_child["AT"])
    Ni = (shil["Ni"] * param_child["IR"] * param_child["EF"] * param_child["ED"])/ (param_child["BW"]* param_child["AT"])
    Cu = (shil["Cu"] * param_child["IR"] * param_child["EF"] * param_child["ED"])/ (param_child["BW"]* param_child["AT"])
    Zn = (shil["Zn"] * param_child["IR"] * param_child["EF"] * param_child["ED"])/ (param_child["BW"]* param_child["AT"])
    As = (shil["As"] * param_child["IR"] * param_child["EF"] * param_child["ED"])/ (param_child["BW"]* param_child["AT"])
    Cd = (shil["Cd"] * param_child["IR"] * param_child["EF"] * param_child["ED"])/ (param_child["BW"]* param_child["AT"])
    Hg = (shil["Hg"] * param_child["IR"] * param_child["EF"] * param_child["ED"])/ (param_child["BW"]* param_child["AT"])
    Pb = (shil["Pb"] * param_child["IR"] * param_child["EF"] * param_child["ED"])/ (param_child["BW"]* param_child["AT"])

    cdi_ing = pd.DataFrame(data = {
        "Mn": Mn,
        "Cr": Cr,
        "Ni": Ni,
        "Cu": Cu,
        "Zn": Zn,
        "As": As,
        "Cd": Cd,
        "Hg": Hg,
        "Pb": Pb
    }
    )

    hqMn = cdi_ing["Mn"] / param_child["RfDing"]["Mn"]
    hqCr = cdi_ing["Cr"] / param_child["RfDing"]["Cr"]
    hqCu = cdi_ing["Cu"] / param_child["RfDing"]["Cu"]
    hqZn = cdi_ing["Zn"] / param_child["RfDing"]["Zn"]
    hqAs = cdi_ing["As"] / param_child["RfDing"]["As"]
    hqCd = cdi_ing["Cd"] / param_child["RfDing"]["Cd"]
    hqHg = cdi_ing["Hg"] / param_child["RfDing"]["Hg"]
    hqPb = cdi_ing["Pb"] / param_child["RfDing"]["Pb"]
    hqNi = cdi_ing["Ni"] / param_child["RfDing"]["Ni"]

    hq_ingwc = pd.DataFrame(data = {
        "Mn": hqMn,
        "Cr": hqCr,
        "Ni": hqNi,
        "Cu": hqCu,
        "Zn": hqZn,
        "As": hqAs,
        "Cd": hqCd,
        "Hg": hqHg,
        "Pb": hqPb
    }
    )

    Mn = (shil["Mn"] * param_child["SA"] * param_child["Kp"]["Mn"] * param_child["ET"] * param_child["EF"] * param_child["ED"] * param_child["CF"])/ (param_child["BW"]* param_child["AT"])
    Cr = (shil["Cr"] * param_child["SA"] * param_child["Kp"]["Cr"] * param_child["ET"] * param_child["EF"] * param_child["ED"] * param_child["CF"])/ (param_child["BW"]* param_child["AT"])
    Ni = (shil["Ni"] * param_child["SA"] * param_child["Kp"]["Ni"] * param_child["ET"] * param_child["EF"] * param_child["ED"] * param_child["CF"])/ (param_child["BW"]* param_child["AT"])
    Cu = (shil["Cu"] * param_child["SA"] * param_child["Kp"]["Cu"] * param_child["ET"] * param_child["EF"] * param_child["ED"] * param_child["CF"])/ (param_child["BW"]* param_child["AT"])
    Zn = (shil["Zn"] * param_child["SA"] * param_child["Kp"]["Zn"] * param_child["ET"] * param_child["EF"] * param_child["ED"] * param_child["CF"])/ (param_child["BW"]* param_child["AT"])
    As = (shil["As"] * param_child["SA"] * param_child["Kp"]["As"] * param_child["ET"] * param_child["EF"] * param_child["ED"] * param_child["CF"])/ (param_child["BW"]* param_child["AT"])
    Cd = (shil["Cd"] * param_child["SA"] * param_child["Kp"]["Cd"] * param_child["ET"] * param_child["EF"] * param_child["ED"] * param_child["CF"])/ (param_child["BW"]* param_child["AT"])
    Hg = (shil["Hg"] * param_child["SA"] * param_child["Kp"]["Hg"] * param_child["ET"] * param_child["EF"] * param_child["ED"] * param_child["CF"])/ (param_child["BW"]* param_child["AT"])
    Pb = (shil["Pb"] * param_child["SA"] * param_child["Kp"]["Pb"] * param_child["ET"] * param_child["EF"] * param_child["ED"] * param_child["CF"])/ (param_child["BW"]* param_child["AT"])

    cdi_derm = pd.DataFrame(data = {
        "Mn": Mn,
        "Cr": Cr,
        "Ni": Ni,
        "Cu": Cu,
        "Zn": Zn,
        "As": As,
        "Cd": Cd,
        "Hg": Hg,
        "Pb": Pb
    }
    )

    hqMn = cdi_derm["Mn"] / param_child["RfDderm"]["Mn"]
    hqCr = cdi_derm["Cr"] / param_child["RfDderm"]["Cr"]
    hqCu = cdi_derm["Cu"] / param_child["RfDderm"]["Cu"]
    hqZn = cdi_derm["Zn"] / param_child["RfDderm"]["Zn"]
    hqAs = cdi_derm["As"] / param_child["RfDderm"]["As"]
    hqCd = cdi_derm["Cd"] / param_child["RfDderm"]["Cd"]
    hqHg = cdi_derm["Hg"] / param_child["RfDderm"]["Hg"]
    hqPb = cdi_derm["Pb"] / param_child["RfDderm"]["Pb"]
    hqNi = cdi_derm["Ni"] / param_child["RfDderm"]["Ni"]

    hq_dermwc = pd.DataFrame(data = {
        "Mn": hqMn,
        "Cr": hqCr,
        "Ni": hqNi,
        "Cu": hqCu,
        "Zn": hqZn,
        "As": hqAs,
        "Cd": hqCd,
        "Hg": hqHg,
        "Pb": hqPb
    }
    )

    hi = hq_dermwc + hq_ingwc
    hiwc = hi.sum(axis=1)
    return hi, hiwc


def CR_WC(df):
    shil = pd.DataFrame(data={
        "Cd": df.CdW,
        "Cr": df.CrW,
        "Ni": df.NiW,
        "Cu": df.CuW,
        "Zn": df.ZnW,
        "Mn": df.MnW,
        "Hg": df.HgW,
        "As": df.AsW,
        "Pb": df.PbW,
    })


    Mn = (shil["Mn"] * param_child["IR"] * param_child["EF"] * param_child["ED"])/ (param_child["BW"]* param_child["AT"])
    Cr = (shil["Cr"] * param_child["IR"] * param_child["EF"] * param_child["ED"])/ (param_child["BW"]* param_child["AT"])
    Ni = (shil["Ni"] * param_child["IR"] * param_child["EF"] * param_child["ED"])/ (param_child["BW"]* param_child["AT"])
    Cu = (shil["Cu"] * param_child["IR"] * param_child["EF"] * param_child["ED"])/ (param_child["BW"]* param_child["AT"])
    Zn = (shil["Zn"] * param_child["IR"] * param_child["EF"] * param_child["ED"])/ (param_child["BW"]* param_child["AT"])
    As = (shil["As"] * param_child["IR"] * param_child["EF"] * param_child["ED"])/ (param_child["BW"]* param_child["AT"])
    Cd = (shil["Cd"] * param_child["IR"] * param_child["EF"] * param_child["ED"])/ (param_child["BW"]* param_child["AT"])
    Hg = (shil["Hg"] * param_child["IR"] * param_child["EF"] * param_child["ED"])/ (param_child["BW"]* param_child["AT"])
    Pb = (shil["Pb"] * param_child["IR"] * param_child["EF"] * param_child["ED"])/ (param_child["BW"]* param_child["AT"])

    cdi_ing = pd.DataFrame(data = {
        "Mn": Mn,
        "Cr": Cr,
        "Ni": Ni,
        "Cu": Cu,
        "Zn": Zn,
        "As": As,
        "Cd": Cd,
        "Hg": Hg,
        "Pb": Pb
    }
    )

    Mn = (shil["Mn"] * param_child["SA"] * param_child["Kp"]["Mn"] * param_child["ET"] * param_child["EF"] * param_child["ED"] * param_child["CF"])/ (param_child["BW"]* param_child["AT"])
    Cr = (shil["Cr"] * param_child["SA"] * param_child["Kp"]["Cr"] * param_child["ET"] * param_child["EF"] * param_child["ED"] * param_child["CF"])/ (param_child["BW"]* param_child["AT"])
    Ni = (shil["Ni"] * param_child["SA"] * param_child["Kp"]["Ni"] * param_child["ET"] * param_child["EF"] * param_child["ED"] * param_child["CF"])/ (param_child["BW"]* param_child["AT"])
    Cu = (shil["Cu"] * param_child["SA"] * param_child["Kp"]["Cu"] * param_child["ET"] * param_child["EF"] * param_child["ED"] * param_child["CF"])/ (param_child["BW"]* param_child["AT"])
    Zn = (shil["Zn"] * param_child["SA"] * param_child["Kp"]["Zn"] * param_child["ET"] * param_child["EF"] * param_child["ED"] * param_child["CF"])/ (param_child["BW"]* param_child["AT"])
    As = (shil["As"] * param_child["SA"] * param_child["Kp"]["As"] * param_child["ET"] * param_child["EF"] * param_child["ED"] * param_child["CF"])/ (param_child["BW"]* param_child["AT"])
    Cd = (shil["Cd"] * param_child["SA"] * param_child["Kp"]["Cd"] * param_child["ET"] * param_child["EF"] * param_child["ED"] * param_child["CF"])/ (param_child["BW"]* param_child["AT"])
    Hg = (shil["Hg"] * param_child["SA"] * param_child["Kp"]["Hg"] * param_child["ET"] * param_child["EF"] * param_child["ED"] * param_child["CF"])/ (param_child["BW"]* param_child["AT"])
    Pb = (shil["Pb"] * param_child["SA"] * param_child["Kp"]["Pb"] * param_child["ET"] * param_child["EF"] * param_child["ED"] * param_child["CF"])/ (param_child["BW"]* param_child["AT"])

    cdi_derm = pd.DataFrame(data = {
        "Mn": Mn,
        "Cr": Cr,
        "Ni": Ni,
        "Cu": Cu,
        "Zn": Zn,
        "As": As,
        "Cd": Cd,
        "Hg": Hg,
        "Pb": Pb
    }
    )

    Cd = cdi_ing.Cd * param_child["CSFing"]["Cd"]
    Cr = cdi_ing.Cr * param_child["CSFing"]["Cr"]
    As = cdi_ing.As * param_child["CSFing"]["As"]
    Pb = cdi_ing.Pb * param_child["CSFing"]["Pb"]
    Ni = cdi_ing.Ni * param_child["CSFing"]["Ni"]

    ilcr_ingwc = pd.DataFrame(data={
        "Cd": Cd,
        "Cr": Cr,
        "As": As,
        "Pb": Pb,
        "Ni": Ni
    })

    Cd = cdi_derm.Cd * param_child["CSFderm"]["Cd"]
    Cr = cdi_derm.Cr * param_child["CSFderm"]["Cr"]
    As = cdi_derm.As * param_child["CSFderm"]["As"]
    Pb = cdi_derm.Pb * param_child["CSFderm"]["Pb"]
    Ni = cdi_derm.Ni * param_child["CSFderm"]["Ni"]


    ilcr_dermwc = pd.DataFrame(data={
        "Cd": Cd,
        "Cr": Cr,
        "As": As,
        "Pb": Pb,
        "Ni": Ni
    })

    ilcr = ilcr_ingwc + ilcr_dermwc
    ilcr_wchild = ilcr.sum(axis=1)
    return ilcr, ilcr_wchild


def iterationC(df, n):
    
    for i in range(n):
        metalsW = random_genW(df)
        dataW = pd.DataFrame(data={
                "CdW":metalsW[0],
                "CrW":metalsW[1],
                "NiW":metalsW[2],
                "CuW":metalsW[3],
                "ZnW":metalsW[4],
                "MnW":metalsW[5],
                "HgW":metalsW[6],
                "AsW":metalsW[7],
                "PbW":metalsW[8],
            })



        metalsS = random_genS(df)
        dataS = pd.DataFrame(data={
                "CdS":metalsS[0],
                "CrS":metalsS[1],
                "NiS":metalsS[2],
                "CuS":metalsS[3],
                "ZnS":metalsS[4],
                "MnS":metalsS[5],
                "HgS":metalsS[6],
                "AsS":metalsS[7],
                "PbS":metalsS[8],
            })


        dataW.to_csv("monteData/simul/orig_dataWC{}.csv".format(i))
        dataS.to_csv("monteData/simul/orig_dataSC{}.csv".format(i))



        rawHiW, hiWC = HI_WC(dataW)
        rawHiS, hiSC = HI_SC(dataS)

        rawCRW, crWC = CR_WC(dataW)
        rawCRS, crSC = CR_SC(dataS)



        crWC.to_csv("monteData/simul/crWC{}.csv".format(i))
        crSC.to_csv("monteData/simul/crSC{}.csv".format(i))

        hiWC.to_csv("monteData/simul/hiWC{}.csv".format(i))
        hiSC.to_csv("monteData/simul/hiSC{}.csv".format(i))

        Whi = pd.DataFrame(data={
            "Values": hiWC,
            "Seasons": winter
        })

        Shi = pd.DataFrame(data={
            "Values": hiSC,
            "Seasons": summer
        })

        Wcr = pd.DataFrame(data={
            "Values": crWC,
            "Seasons": winter
        })

        Scr = pd.DataFrame(data={
            "Values": crSC,
            "Seasons": summer
        })



        hiA = pd.concat([Whi, Shi])
        crA = pd.concat([Wcr, Scr])


        hiA.to_csv("monteData/simul/hiA_origC{}.csv".format(i))
        crA.to_csv("monteData/simul/crA_origC{}.csv".format(i))

        
        print("Mean of hiWC{}: {}".format(i, hiWC.mean() ))
        print("Mean of hiSC{}: {}".format(i, hiSC.mean()))

        print("Mean of crWC{}: {}".format(i, crWC.mean()))
        print("Mean of crSC{}: {}".format(i, crSC.mean()))
        print("===========================")
        print("===========================")



iterationC(df, 100)





! ls monteData/simul/


! ls -l monteData/simul/hiA_orig36.csv monteData/simul/hiA_origC83.csv


import pandas as pd


hi36 = pd.read_csv("monteData/simul/hiA_orig36.csv")
cr36 = pd.read_csv("monteData/simul/crA_orig36.csv")

hi83 = pd.read_csv("monteData/simul/hiA_origC83.csv")
cr83 = pd.read_csv("monteData/simul/crA_origC83.csv")


hi36.groupby("Seasons").mean()


hi83.groupby("Seasons").mean()





hiWA = pd.read_csv("monteData/simul/hiWA36.csv")
crWA = pd.read_csv("monteData/simul/crWA36.csv")

hiSA = pd.read_csv("monteData/simul/hiSA36.csv")
crSA = pd.read_csv("monteData/simul/crSA36.csv")

hiWC = pd.read_csv("monteData/simul/hiWC83.csv")
crWC = pd.read_csv("monteData/simul/crWC83.csv")

hiSC = pd.read_csv("monteData/simul/hiSC83.csv")
crSC = pd.read_csv("monteData/simul/crSC83.csv")


hiWA








dataWA = pd.read_csv("monteData/simul/orig_dataW36.csv")
dataSA = pd.read_csv("monteData/simul/orig_dataS36.csv")

dataWC = pd.read_csv("monteData/simul/orig_dataWC83.csv")
dataSC = pd.read_csv("monteData/simul/orig_dataSC83.csv")


rawHiWA, hiWA = HI_WA(dataWA)
rawHiSA, hiSA = HI_SA(dataSA)

rawCRWA, crWA = CR_WA(dataWA)
rawCRSA, crSA = CR_SA(dataSA)


rawHiWC, hiWC = HI_WC(dataWC)
rawHiSC, hiSC = HI_SC(dataSC)

rawCRWC, crWC = CR_WC(dataWC)
rawCRSC, crSC = CR_SC(dataSC)


hiWA[:9999].mean(), hiWC[:9999].mean(),hiSA[:9999].mean(),hiSC[:9999].mean()


crWA[:9999].mean(), crWC[:9999].mean(),crSA[:9999].mean(),crSC[:9999].mean()


hi36.groupby("Seasons").mean(), hi83.groupby("Seasons").mean()


cr36.groupby("Seasons").mean(), cr83.groupby("Seasons").mean()


rawHiSA


hiWA = rawHiWA.sum(axis = 1)
hiSA = rawHiSA.sum(axis = 1)

hiWC = rawHiWC.sum(axis = 1)
hiSC = rawHiSC.sum(axis = 1)

crWA = rawCRWA.sum(axis = 1)
crSA = rawCRSA.sum(axis = 1)

crWC = rawCRWC.sum(axis = 1)
crSC = rawCRSC.sum(axis = 1)


rawHiWA["HI"] = hiWA
rawHiSA["HI"] = hiSA
rawHiWC["HI"] = hiWC
rawHiSC["HI"] = hiSC

rawCRWA["CR"] = crWA
rawCRSA["CR"] = crSA
rawCRWC["CR"] = crWC
rawCRSC["CR"] = crSC


rawHiWA


def percent(df):
    mn = (df["Mn"].sum() / df["HI"].sum())* 100
    cr = (df["Cr"].sum() / df["HI"].sum())* 100
    ni = (df["Ni"].sum() / df["HI"].sum())* 100
    cu = (df["Cu"].sum() / df["HI"].sum())* 100
    zn = (df["Zn"].sum() / df["HI"].sum())* 100
    As = (df["As"].sum() / df["HI"].sum())* 100
    cd = (df["Cd"].sum() / df["HI"].sum())* 100
    hg = (df["Hg"].sum() / df["HI"].sum())* 100
    pb = (df["Pb"].sum() / df["HI"].sum())* 100


    metals = [mn, cr, ni, cu, zn, As, cd, hg, pb]
    return metals


def percentCR(df):
    cr = (df["Cr"].sum() / df["CR"].sum())* 100
    ni = (df["Ni"].sum() / df["CR"].sum())* 100
    As = (df["As"].sum() / df["CR"].sum())* 100
    cd = (df["Cd"].sum() / df["CR"].sum())* 100
    pb = (df["Pb"].sum() / df["CR"].sum())* 100
    
    metals = [cr, ni, As, cd, pb]
    return metals


def HI_percent(metals):
    df = pd.DataFrame(data={
    
        "metals": ["Mn", "Cr","Ni","Cu","Zn","As","Cd","Hg","Pb"],
        "percent": metals
    })
    
    return df
    


def CR_percent(metals):
    df = pd.DataFrame(data={
    
        "metals": ["Cr","Ni","As","Cd","Pb"],
        "percent": metals
    })
    
    return df


percenthiWA = percent(rawHiWA)
percenthiSA = percent(rawHiSA)

percenthiWC = percent(rawHiWC)
percenthiSC = percent(rawHiSC)

percentcrWA = percentCR(rawCRWA)
percentcrSA = percentCR(rawCRSA)

percentcrWC = percentCR(rawCRWC)
percentcrSC = percentCR(rawCRSC)


perHiWA = HI_percent(percenthiWA)
perHiSA = HI_percent(percenthiSA)

perHiWC = HI_percent(percenthiWC)
perHiSC = HI_percent(percenthiSC)

percrWA = CR_percent(percentcrWA)
percrSA = CR_percent(percentcrSA)

percrWC = CR_percent(percentcrWC)
percrSC = CR_percent(percentcrSC)


perHiA = pd.concat([perHiWA, perHiSA])
perHiC = pd.concat([perHiWC, perHiSC])

percrA = pd.concat([percrWA, percrSA])
percrC = pd.concat([percrWC, percrSC])


winter = ["Winter" for _ in range(9)]
summer = ["Summer" for _ in range(9)]


winter = pd.Series(winter)
summer = pd.Series(summer)


seasons = pd.concat([winter, summer])


perHiA["Seasons"] = seasons
perHiC["Seasons"] = seasons


winter = ["Winter" for _ in range(5)]
summer = ["Summer" for _ in range(5)]
winter = pd.Series(winter)
summer = pd.Series(summer)
seasons = pd.concat([winter, summer])


percrA["Seasons"] = seasons
percrC["Seasons"] = seasons


perHiA.to_csv("monteData/simul/percent_HiA.csv")
perHiC.to_csv("monteData/simul/percent_HiC.csv")
percrA.to_csv("monteData/simul/percent_crA.csv")
percrC.to_csv("monteData/simul/percent_crC.csv")





perHiA = pd.read_csv("monteData/simul/percent_HiA.csv")
perHiC = pd.read_csv("monteData/simul/percent_HiC.csv")
percrA = pd.read_csv("monteData/simul/percent_crA.csv")
percrC = pd.read_csv("monteData/simul/percent_crC.csv")


perHiA


perHiC


percrA


hiWA















