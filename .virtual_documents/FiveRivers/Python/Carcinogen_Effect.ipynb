import pandas as pd


%ls data


child_param = {
    "BW": 15,
    "EF":180,
    "ED": 6,
    "IRing": 200,
    "IRinh": 7.6,
    "SA": 1150,
    "SL": 0.2,
    "ABS": [0.001, 0.03],
    "PEF": 1.36 * ((10)**9),
    "CF": 10**(-6),
    "AT_carc": 365*70,
    "AT_non": 365 * 6,
    "RfDing": {
        "Cr": 3.00e-03,
        "Ni": 2.00e-02,
        "Cu": 4.00e-02,
        "Cd": 1.00e-03,
        "As": 3.00e-04,
        "Pb": 3.50e-03
    },
    "RfDinh": {
        "Cr": 2.86e-03,
        "Ni": 2.06e-02,
        "Cu": 4.02e-02,
        "Cd": 1.00e-03,
        "As": 3.01e-04,
        "Pb": 3.52e-03
    },
    "RfDderm": {
        "Cr": 6.00e-05,
        "Ni": 5.40e-03,
        "Cu": 1.20e-02,
        "Cd": 1.00e-05,
        "As": 1.25e-04,
        "Pb": 5.25e-04
    },
    "SFing": {
        "Pb": 9.00e-03,
        "As": 1.50e+00
    },
    
    "SFinh": {
        "Cr": 4.20e+01,
        "Ni": 8.40e-01,
        "Cu": 1.20e-02,
        "Cd": 6.30e+00,
        "As": 1.51e+01
    },
    
    "SFderm": {
        "Cr": 2.00e+01,
        "As": 3.66e+00
    }
}


child_param


child_param["RfDing"]["Cr"]


adult_param = {
    "BW": 70,
    "EF":180,
    "ED": 30,
    "IRing": 100,
    "IRinh": 20,
    "SA": 2145,
    "SL": 0.07,
    "ABS": 0.001,
    "PEF": 1.36e+09,
    "CF": 10e-06,
    "AT_carc": 365*70,
    "AT_non": 365 * 30,
    "RfDing": {
        "Cr": 3.00e-03,
        "Ni": 2.00e-02,
        "Cu": 4.00e-02,
        "Cd": 1.00e-03,
        "As": 3.00e-04,
        "Pb": 3.50e-03
    },
    "RfDinh": {
        "Cr": 2.86e-03,
        "Ni": 2.06e-02,
        "Cu": 4.02e-02,
        "Cd": 1.00e-03,
        "As": 3.01e-04,
        "Pb": 3.52e-03
    },
    "RfDderm": {
        "Cr": 6.00e-05,
        "Ni": 5.40e-03,
        "Cu": 1.20e-02,
        "Cd": 1.00e-05,
        "As": 1.25e-04,
        "Pb": 5.25e-04
    },
    "SFing": {
        "Pb": 9.00e-03,
        "As": 1.50e+00
    },
    
    "SFinh": {
        "Cr": 4.20e+01,
        "Ni": 8.40e-01,
        "Cu": 1.20e-02,
        "Cd": 6.30e+00,
        "As": 1.51e+01
    },
    
    "SFderm": {
        "Cr": 2.00e+01,
        "As": 3.66e+00
    }
}


df = pd.read_csv("data/data.csv")


df.info()


stations = pd.read_csv("data/stations.csv")


stations


df["Station"], df["Location"], df["ID"]  = stations["Stations"], stations["Location"], stations["Station_Code"]


df.head()


df = df.drop(columns=["Stations"])


df.head()











df


ds = df.loc[:6]
turag = df.loc[7:9]
buri = df.loc[10:11]
balu = df.loc[12:13]
sl = df.loc[14:]





add_upper_ingCrW = ds["CrW"] * child_param["IRing"] * child_param["CF"] * child_param["EF"] * child_param["ED"]


ADDingCrW = add_upper_ingCrW /  (child_param["BW"] * child_param["AT_non"])
ADDingCrW


add_upper_inhCrW = ds["CrW"] * child_param["IRinh"]  * child_param["EF"] * child_param["ED"]
ADDinhCrW = add_upper_inhCrW /  (child_param["PEF"] * child_param["BW"] * child_param["AT_non"])
ADDinhCrW








def hq_val(ds):
    
    #ingestion
    add_upper_ingCrW = ds["CrW"] * child_param["IRing"] * child_param["CF"] * child_param["EF"] * child_param["ED"]
    ADDingCrW = add_upper_ingCrW /  (child_param["BW"] * child_param["AT_non"])

    add_upper_ingNiW = ds["NiW"] * child_param["IRing"] * child_param["CF"] * child_param["EF"] * child_param["ED"]
    ADDingNiW = add_upper_ingNiW /  (child_param["BW"] * child_param["AT_non"])

    add_upper_ingCuW = ds["CuW"] * child_param["IRing"] * child_param["CF"] * child_param["EF"] * child_param["ED"]
    ADDingCuW = add_upper_ingCuW /  (child_param["BW"] * child_param["AT_non"])

    add_upper_ingAsW = ds["AsW"] * child_param["IRing"] * child_param["CF"] * child_param["EF"] * child_param["ED"]
    ADDingAsW = add_upper_ingAsW /  (child_param["BW"] * child_param["AT_non"])

    add_upper_ingCdW = ds["CdW"] * child_param["IRing"] * child_param["CF"] * child_param["EF"] * child_param["ED"]
    ADDingCdW = add_upper_ingCdW /  (child_param["BW"] * child_param["AT_non"])

    add_upper_ingPbW = ds["PbW"] * child_param["IRing"] * child_param["CF"] * child_param["EF"] * child_param["ED"]
    ADDingPbW = add_upper_ingPbW /  (child_param["BW"] * child_param["AT_non"])

    
    
    add_upper_ingCrR = ds["CrR"] * child_param["IRing"] * child_param["CF"] * child_param["EF"] * child_param["ED"]
    ADDingCrR = add_upper_ingCrR /  (child_param["BW"] * child_param["AT_non"])

    add_upper_ingNiR = ds["NiR"] * child_param["IRing"] * child_param["CF"] * child_param["EF"] * child_param["ED"]
    ADDingNiR = add_upper_ingNiR /  (child_param["BW"] * child_param["AT_non"])

    add_upper_ingCuR = ds["CuR"] * child_param["IRing"] * child_param["CF"] * child_param["EF"] * child_param["ED"]
    ADDingCuR = add_upper_ingCuR /  (child_param["BW"] * child_param["AT_non"])

    add_upper_ingAsR = ds["AsR"] * child_param["IRing"] * child_param["CF"] * child_param["EF"] * child_param["ED"]
    ADDingAsR = add_upper_ingAsR /  (child_param["BW"] * child_param["AT_non"])

    add_upper_ingCdR = ds["CdR"] * child_param["IRing"] * child_param["CF"] * child_param["EF"] * child_param["ED"]
    ADDingCdR = add_upper_ingCdR /  (child_param["BW"] * child_param["AT_non"])

    add_upper_ingPbR = ds["PbR"] * child_param["IRing"] * child_param["CF"] * child_param["EF"] * child_param["ED"]
    ADDingPbR = add_upper_ingPbR /  (child_param["BW"] * child_param["AT_non"])
    
    
    #inhalation
    add_upper_inhCrW = ds["CrW"] * child_param["IRinh"]  * child_param["EF"] * child_param["ED"]
    ADDinhCrW = add_upper_inhCrW /  (child_param["PEF"] * child_param["BW"] * child_param["AT_non"])

    add_upper_inhNiW = ds["NiW"] * child_param["IRinh"]  * child_param["EF"] * child_param["ED"]
    ADDinhNiW = add_upper_inhNiW /  (child_param["PEF"] * child_param["BW"] * child_param["AT_non"])

    add_upper_inhCuW = ds["CuW"] * child_param["IRinh"]  * child_param["EF"] * child_param["ED"]
    ADDinhCuW = add_upper_inhCuW /  (child_param["PEF"] * child_param["BW"] * child_param["AT_non"])

    add_upper_inhAsW = ds["AsW"] * child_param["IRinh"]  * child_param["EF"] * child_param["ED"]
    ADDinhAsW = add_upper_inhAsW /  (child_param["PEF"] * child_param["BW"] * child_param["AT_non"])

    add_upper_inhCdW = ds["CdW"] * child_param["IRinh"]  * child_param["EF"] * child_param["ED"]
    ADDinhCdW = add_upper_inhCdW /  (child_param["PEF"] * child_param["BW"] * child_param["AT_non"])

    add_upper_inhPbW = ds["PbW"] * child_param["IRinh"]  * child_param["EF"] * child_param["ED"]
    ADDinhPbW = add_upper_inhPbW /  (child_param["PEF"] * child_param["BW"] * child_param["AT_non"])
    
    

    add_upper_inhCrR = ds["CrR"] * child_param["IRinh"]  * child_param["EF"] * child_param["ED"]
    ADDinhCrR = add_upper_inhCrR /  (child_param["PEF"] * child_param["BW"] * child_param["AT_non"])

    add_upper_inhNiR = ds["NiR"] * child_param["IRinh"]  * child_param["EF"] * child_param["ED"]
    ADDinhNiR = add_upper_inhNiR /  (child_param["PEF"] * child_param["BW"] * child_param["AT_non"])

    add_upper_inhCuR = ds["CuR"] * child_param["IRinh"]  * child_param["EF"] * child_param["ED"]
    ADDinhCuR = add_upper_inhCuR /  (child_param["PEF"] * child_param["BW"] * child_param["AT_non"])

    add_upper_inhAsR = ds["AsR"] * child_param["IRinh"]  * child_param["EF"] * child_param["ED"]
    ADDinhAsR = add_upper_inhAsR /  (child_param["PEF"] * child_param["BW"] * child_param["AT_non"])

    add_upper_inhCdR = ds["CdR"] * child_param["IRinh"]  * child_param["EF"] * child_param["ED"]
    ADDinhCdR = add_upper_inhCdR /  (child_param["PEF"] * child_param["BW"] * child_param["AT_non"])

    add_upper_inhPbR = ds["PbR"] * child_param["IRinh"]  * child_param["EF"] * child_param["ED"]
    ADDinhPbR = add_upper_inhPbR /  (child_param["PEF"] * child_param["BW"] * child_param["AT_non"])
    
    
    
    #dermal
    add_upper_dermCrW = ds["CrW"] * child_param["CF"] * child_param["SA"] * child_param["SA"] * child_param["SL"] * child_param["ABS"][0] * child_param["EF"] * child_param["ED"]
    ADDdermCrW = add_upper_dermCrW / (child_param["BW"] * child_param["AT_non"])

    add_upper_dermNiW = ds["NiW"] * child_param["CF"] * child_param["SA"] * child_param["SA"] * child_param["SL"] * child_param["ABS"][0] * child_param["EF"] * child_param["ED"]
    ADDdermNiW = add_upper_dermNiW / (child_param["BW"] * child_param["AT_non"])

    add_upper_dermCuW = ds["CuW"] * child_param["CF"] * child_param["SA"] * child_param["SA"] * child_param["SL"] * child_param["ABS"][0] * child_param["EF"] * child_param["ED"]
    ADDdermCuW = add_upper_dermCuW / (child_param["BW"] * child_param["AT_non"])

    add_upper_dermAsW = ds["AsW"] * child_param["CF"] * child_param["SA"] * child_param["SA"] * child_param["SL"] * child_param["ABS"][1] * child_param["EF"] * child_param["ED"]
    ADDdermAsW = add_upper_dermAsW / (child_param["BW"] * child_param["AT_non"])

    add_upper_dermCdW = ds["CdW"] * child_param["CF"] * child_param["SA"] * child_param["SA"] * child_param["SL"] * child_param["ABS"][0] * child_param["EF"] * child_param["ED"]
    ADDdermCdW = add_upper_dermCdW / (child_param["BW"] * child_param["AT_non"])

    add_upper_dermPbW = ds["PbW"] * child_param["CF"] * child_param["SA"] * child_param["SA"] * child_param["SL"] * child_param["ABS"][0] * child_param["EF"] * child_param["ED"]
    ADDdermPbW = add_upper_dermPbW / (child_param["BW"] * child_param["AT_non"])
    

    
    add_upper_dermCrR = ds["CrR"] * child_param["CF"] * child_param["SA"] * child_param["SA"] * child_param["SL"] * child_param["ABS"][0] * child_param["EF"] * child_param["ED"]
    ADDdermCrR = add_upper_dermCrR / (child_param["BW"] * child_param["AT_non"])

    add_upper_dermNiR = ds["NiR"] * child_param["CF"] * child_param["SA"] * child_param["SA"] * child_param["SL"] * child_param["ABS"][0] * child_param["EF"] * child_param["ED"]
    ADDdermNiR = add_upper_dermNiR / (child_param["BW"] * child_param["AT_non"])

    add_upper_dermCuR = ds["CuR"] * child_param["CF"] * child_param["SA"] * child_param["SA"] * child_param["SL"] * child_param["ABS"][0] * child_param["EF"] * child_param["ED"]
    ADDdermCuR = add_upper_dermCuR / (child_param["BW"] * child_param["AT_non"])

    add_upper_dermAsR = ds["AsR"] * child_param["CF"] * child_param["SA"] * child_param["SA"] * child_param["SL"] * child_param["ABS"][1] * child_param["EF"] * child_param["ED"]
    ADDdermAsR = add_upper_dermAsR / (child_param["BW"] * child_param["AT_non"])

    add_upper_dermCdR = ds["CdR"] * child_param["CF"] * child_param["SA"] * child_param["SA"] * child_param["SL"] * child_param["ABS"][0] * child_param["EF"] * child_param["ED"]
    ADDdermCdR = add_upper_dermCdR / (child_param["BW"] * child_param["AT_non"])

    add_upper_dermPbR = ds["PbR"] * child_param["CF"] * child_param["SA"] * child_param["SA"] * child_param["SL"] * child_param["ABS"][0] * child_param["EF"] * child_param["ED"]
    ADDdermPbR = add_upper_dermPbR / (child_param["BW"] * child_param["AT_non"])

    
    
    #winter
    add_winter = pd.DataFrame({
        "ADDingCr" : ADDingCrW,
        "ADDinhCr" : ADDinhCrW,
        "ADDdermCr": ADDdermCrW,
        "ADDingNi" : ADDingNiW,
        "ADDinhNi" : ADDinhNiW,
        "ADDdermNi" : ADDdermNiW,
        "ADDingCu" : ADDingCuW,
        "ADDinhCu" : ADDinhCuW,
        "ADDdermCu" : ADDdermCuW,
        "ADDingAs" : ADDingAsW,
        "ADDinhAs" : ADDinhAsW,
        "ADDdermAs" : ADDdermAsW,
        "ADDingCd" : ADDingCdW,
        "ADDinhCd" : ADDinhCdW,
        "ADDdermCd" : ADDdermCdW,
        "ADDingPb" : ADDingPbW,
        "ADDinhPb" : ADDinhPbW,
        "ADDdermPb" : ADDdermPbW,
    })

    ingestion_winter = pd.DataFrame({
        "Cr": ADDingCrW,
        "Ni": ADDingNiW,
        "Cu": ADDingCuW,
        "As": ADDingAsW,
        "Cd": ADDingCdW,
        "Pb": ADDingPbW,
    })
    
    inhal_winter = pd.DataFrame({
        "Cr": ADDinhCrW,
        "Ni": ADDinhNiW,
        "Cu": ADDinhCuW,
        "As": ADDinhAsW,
        "Cd": ADDinhCdW,
        "Pb": ADDinhPbW,
    })
    
    
    derm_winter = pd.DataFrame({
        "Cr": ADDdermCrW,
        "Ni": ADDdermNiW,
        "Cu": ADDdermCuW,
        "As": ADDdermAsW,
        "Cd": ADDdermCdW,
        "Pb": ADDdermPbW,
    })
    
    
    cr_ing = ingestion_winter["Cr"] / child_param["RfDing"]["Cr"]
    ni_ing = ingestion_winter["Ni"] / child_param["RfDing"]["Ni"]
    cu_ing = ingestion_winter["Cu"] / child_param["RfDing"]["Cu"]
    as_ing = ingestion_winter["As"] / child_param["RfDing"]["As"]
    cd_ing = ingestion_winter["Cd"] / child_param["RfDing"]["Cd"]
    pb_ing = ingestion_winter["Pb"] / child_param["RfDing"]["Pb"]
    
    cr_inh = inhal_winter["Cr"] / child_param["RfDinh"]["Cr"]
    ni_inh = inhal_winter["Ni"] / child_param["RfDinh"]["Ni"]
    cu_inh = inhal_winter["Cu"] / child_param["RfDinh"]["Cu"]
    as_inh = inhal_winter["As"] / child_param["RfDinh"]["As"]
    cd_inh = inhal_winter["Cd"] / child_param["RfDinh"]["Cd"]
    pb_inh = inhal_winter["Pb"] / child_param["RfDinh"]["Pb"]
    
    cr_derm = derm_winter["Cr"] / child_param["RfDderm"]["Cr"]
    ni_derm = derm_winter["Ni"] / child_param["RfDderm"]["Ni"]
    cu_derm = derm_winter["Cu"] / child_param["RfDderm"]["Cu"]
    as_derm = derm_winter["As"] / child_param["RfDderm"]["As"]
    cd_derm = derm_winter["Cd"] / child_param["RfDderm"]["Cd"]
    pb_derm = derm_winter["Pb"] / child_param["RfDderm"]["Pb"]

    
    ing_w = pd.DataFrame({
        "Cr": cr_ing,
        "Ni": ni_ing,
        "Cu": cu_ing,
        "As": as_ing,
        "Cd": cd_ing,
        "Pb": pb_ing,
    })
    
    inh_w = pd.DataFrame({
        "Cr": cr_inh,
        "Ni": ni_inh,
        "Cu": cu_inh,
        "As": as_inh,
        "Cd": cd_inh,
        "Pb": pb_inh,
    })
    
    derm_w = pd.DataFrame({
        "Cr": cr_derm,
        "Ni": ni_derm,
        "Cu": cu_derm,
        "As": as_derm,
        "Cd": cd_derm,
        "Pb": pb_derm,
    })
    
    

    
    return























add_upper_inhCrW = ds["CrW"] * child_param["IRinh"]  * child_param["EF"] * child_param["ED"]
ADDinhCrW = add_upper_inhCrW /  (child_param["PEF"] * child_param["BW"] * child_param["AT_non"])

add_upper_inhNiW = ds["NiW"] * child_param["IRinh"]  * child_param["EF"] * child_param["ED"]
ADDinhNiW = add_upper_inhNiW /  (child_param["PEF"] * child_param["BW"] * child_param["AT_non"])

add_upper_inhCuW = ds["CuW"] * child_param["IRinh"]  * child_param["EF"] * child_param["ED"]
ADDinhCuW = add_upper_inhCuW /  (child_param["PEF"] * child_param["BW"] * child_param["AT_non"])

add_upper_inhAsW = ds["AsW"] * child_param["IRinh"]  * child_param["EF"] * child_param["ED"]
ADDinhAsW = add_upper_inhAsW /  (child_param["PEF"] * child_param["BW"] * child_param["AT_non"])

add_upper_inhCdW = ds["CdW"] * child_param["IRinh"]  * child_param["EF"] * child_param["ED"]
ADDinhCdW = add_upper_inhCdW /  (child_param["PEF"] * child_param["BW"] * child_param["AT_non"])

add_upper_inhPbW = ds["PbW"] * child_param["IRinh"]  * child_param["EF"] * child_param["ED"]
ADDinhPbW = add_upper_inhPbW /  (child_param["PEF"] * child_param["BW"] * child_param["AT_non"])


add_upper_inhCrR = ds["CrR"] * child_param["IRinh"]  * child_param["EF"] * child_param["ED"]
ADDinhCrR = add_upper_inhCrR /  (child_param["PEF"] * child_param["BW"] * child_param["AT_non"])

add_upper_inhNiR = ds["NiR"] * child_param["IRinh"]  * child_param["EF"] * child_param["ED"]
ADDinhNiR = add_upper_inhNiR /  (child_param["PEF"] * child_param["BW"] * child_param["AT_non"])

add_upper_inhCuR = ds["CuR"] * child_param["IRinh"]  * child_param["EF"] * child_param["ED"]
ADDinhCuR = add_upper_inhCuR /  (child_param["PEF"] * child_param["BW"] * child_param["AT_non"])

add_upper_inhAsR = ds["AsR"] * child_param["IRinh"]  * child_param["EF"] * child_param["ED"]
ADDinhAsR = add_upper_inhAsR /  (child_param["PEF"] * child_param["BW"] * child_param["AT_non"])

add_upper_inhCdR = ds["CdR"] * child_param["IRinh"]  * child_param["EF"] * child_param["ED"]
ADDinhCdR = add_upper_inhCdR /  (child_param["PEF"] * child_param["BW"] * child_param["AT_non"])

add_upper_inhPbR = ds["PbR"] * child_param["IRinh"]  * child_param["EF"] * child_param["ED"]
ADDinhPbR = add_upper_inhPbR /  (child_param["PEF"] * child_param["BW"] * child_param["AT_non"])






add_upper_ingCrW = ds["CrW"] * child_param["IRing"] * child_param["CF"] * child_param["EF"] * child_param["ED"]
ADDingCrW = add_upper_ingCrW /  (child_param["BW"] * child_param["AT_non"])

add_upper_ingNiW = ds["NiW"] * child_param["IRing"] * child_param["CF"] * child_param["EF"] * child_param["ED"]
ADDingNiW = add_upper_ingNiW /  (child_param["BW"] * child_param["AT_non"])

add_upper_ingCuW = ds["CuW"] * child_param["IRing"] * child_param["CF"] * child_param["EF"] * child_param["ED"]
ADDingCuW = add_upper_ingCuW /  (child_param["BW"] * child_param["AT_non"])

add_upper_ingAsW = ds["AsW"] * child_param["IRing"] * child_param["CF"] * child_param["EF"] * child_param["ED"]
ADDingAsW = add_upper_ingAsW /  (child_param["BW"] * child_param["AT_non"])

add_upper_ingCdW = ds["CdW"] * child_param["IRing"] * child_param["CF"] * child_param["EF"] * child_param["ED"]
ADDingCdW = add_upper_ingCdW /  (child_param["BW"] * child_param["AT_non"])

add_upper_ingPbW = ds["PbW"] * child_param["IRing"] * child_param["CF"] * child_param["EF"] * child_param["ED"]
ADDingPbW = add_upper_ingPbW /  (child_param["BW"] * child_param["AT_non"])


add_upper_ingCrR = ds["CrR"] * child_param["IRing"] * child_param["CF"] * child_param["EF"] * child_param["ED"]
ADDingCrR = add_upper_ingCrR /  (child_param["BW"] * child_param["AT_non"])

add_upper_ingNiR = ds["NiR"] * child_param["IRing"] * child_param["CF"] * child_param["EF"] * child_param["ED"]
ADDingNiR = add_upper_ingNiR /  (child_param["BW"] * child_param["AT_non"])

add_upper_ingCuR = ds["CuR"] * child_param["IRing"] * child_param["CF"] * child_param["EF"] * child_param["ED"]
ADDingCuR = add_upper_ingCuR /  (child_param["BW"] * child_param["AT_non"])

add_upper_ingAsR = ds["AsR"] * child_param["IRing"] * child_param["CF"] * child_param["EF"] * child_param["ED"]
ADDingAsR = add_upper_ingAsR /  (child_param["BW"] * child_param["AT_non"])

add_upper_ingCdR = ds["CdR"] * child_param["IRing"] * child_param["CF"] * child_param["EF"] * child_param["ED"]
ADDingCdR = add_upper_ingCdR /  (child_param["BW"] * child_param["AT_non"])

add_upper_ingPbR = ds["PbR"] * child_param["IRing"] * child_param["CF"] * child_param["EF"] * child_param["ED"]
ADDingPbR = add_upper_ingPbR /  (child_param["BW"] * child_param["AT_non"])





add_upper_dermCrW = ds["CrW"] * child_param["CF"] * child_param["SA"] * child_param["SA"] * child_param["SL"] * child_param["ABS"][0] * child_param["EF"] * child_param["ED"]
ADDdermCrW = add_upper_dermCrW / (child_param["BW"] * child_param["AT_non"])

add_upper_dermNiW = ds["NiW"] * child_param["CF"] * child_param["SA"] * child_param["SA"] * child_param["SL"] * child_param["ABS"][0] * child_param["EF"] * child_param["ED"]
ADDdermNiW = add_upper_dermNiW / (child_param["BW"] * child_param["AT_non"])

add_upper_dermCuW = ds["CuW"] * child_param["CF"] * child_param["SA"] * child_param["SA"] * child_param["SL"] * child_param["ABS"][0] * child_param["EF"] * child_param["ED"]
ADDdermCuW = add_upper_dermCuW / (child_param["BW"] * child_param["AT_non"])

add_upper_dermAsW = ds["AsW"] * child_param["CF"] * child_param["SA"] * child_param["SA"] * child_param["SL"] * child_param["ABS"][1] * child_param["EF"] * child_param["ED"]
ADDdermAsW = add_upper_dermAsW / (child_param["BW"] * child_param["AT_non"])

add_upper_dermCdW = ds["CdW"] * child_param["CF"] * child_param["SA"] * child_param["SA"] * child_param["SL"] * child_param["ABS"][0] * child_param["EF"] * child_param["ED"]
ADDdermCdW = add_upper_dermCdW / (child_param["BW"] * child_param["AT_non"])

add_upper_dermPbW = ds["PbW"] * child_param["CF"] * child_param["SA"] * child_param["SA"] * child_param["SL"] * child_param["ABS"][0] * child_param["EF"] * child_param["ED"]
ADDdermPbW = add_upper_dermPbW / (child_param["BW"] * child_param["AT_non"])



add_upper_dermCrR = ds["CrR"] * child_param["CF"] * child_param["SA"] * child_param["SA"] * child_param["SL"] * child_param["ABS"][0] * child_param["EF"] * child_param["ED"]
ADDdermCrR = add_upper_dermCrR / (child_param["BW"] * child_param["AT_non"])

add_upper_dermNiR = ds["NiR"] * child_param["CF"] * child_param["SA"] * child_param["SA"] * child_param["SL"] * child_param["ABS"][0] * child_param["EF"] * child_param["ED"]
ADDdermNiR = add_upper_dermNiR / (child_param["BW"] * child_param["AT_non"])

add_upper_dermCuR = ds["CuR"] * child_param["CF"] * child_param["SA"] * child_param["SA"] * child_param["SL"] * child_param["ABS"][0] * child_param["EF"] * child_param["ED"]
ADDdermCuR = add_upper_dermCuR / (child_param["BW"] * child_param["AT_non"])

add_upper_dermAsR = ds["AsR"] * child_param["CF"] * child_param["SA"] * child_param["SA"] * child_param["SL"] * child_param["ABS"][1] * child_param["EF"] * child_param["ED"]
ADDdermAsR = add_upper_dermAsR / (child_param["BW"] * child_param["AT_non"])

add_upper_dermCdR = ds["CdR"] * child_param["CF"] * child_param["SA"] * child_param["SA"] * child_param["SL"] * child_param["ABS"][0] * child_param["EF"] * child_param["ED"]
ADDdermCdR = add_upper_dermCdR / (child_param["BW"] * child_param["AT_non"])

add_upper_dermPbR = ds["PbR"] * child_param["CF"] * child_param["SA"] * child_param["SA"] * child_param["SL"] * child_param["ABS"][0] * child_param["EF"] * child_param["ED"]
ADDdermPbR = add_upper_dermPbR / (child_param["BW"] * child_param["AT_non"])









ADD = ADDdermCrW + ADDingCrW + ADDinhCrW
ADD


add_winter = pd.DataFrame({
    "ADDingCr" : ADDingCrW,
    "ADDinhCr" : ADDinhCrW,
    "ADDdermCr": ADDdermCrW,
    "ADDingNi" : ADDingNiW,
    "ADDinhNi" : ADDinhNiW,
    "ADDdermNi" : ADDdermNiW,
    "ADDingCu" : ADDingCuW,
    "ADDinhCu" : ADDinhCuW,
    "ADDdermCu" : ADDdermCuW,
    "ADDingAs" : ADDingAsW,
    "ADDinhAs" : ADDinhAsW,
    "ADDdermAs" : ADDdermAsW,
    "ADDingCd" : ADDingCdW,
    "ADDinhCd" : ADDinhCdW,
    "ADDdermCd" : ADDdermCdW,
    "ADDingPb" : ADDingPbW,
    "ADDinhPb" : ADDinhPbW,
    "ADDdermPb" : ADDdermPbW,

})



add_winter


ingestion_winter = pd.DataFrame({
    "Cr": ADDingCrW,
    "Ni": ADDingNiW,
    "Cu": ADDingCuW,
    "As": ADDingAsW,
    "Cd": ADDingCdW,
    "Pb": ADDingPbW,
})


ingestion_winter


inhal_winter = pd.DataFrame({
    "Cr": ADDinhCrW,
    "Ni": ADDinhNiW,
    "Cu": ADDinhCuW,
    "As": ADDinhAsW,
    "Cd": ADDinhCdW,
    "Pb": ADDinhPbW,
})


inhal_winter


derm_winter = pd.DataFrame({
    "Cr": ADDdermCrW,
    "Ni": ADDdermNiW,
    "Cu": ADDdermCuW,
    "As": ADDdermAsW,
    "Cd": ADDdermCdW,
    "Pb": ADDdermPbW,
})


derm_winter


cr_ing = ingestion_winter["Cr"] / child_param["RfDing"]["Cr"]
ni_ing = ingestion_winter["Ni"] / child_param["RfDing"]["Ni"]
cu_ing = ingestion_winter["Cu"] / child_param["RfDing"]["Cu"]
as_ing = ingestion_winter["As"] / child_param["RfDing"]["As"]
cd_ing = ingestion_winter["Cd"] / child_param["RfDing"]["Cd"]
pb_ing = ingestion_winter["Pb"] / child_param["RfDing"]["Pb"]


ing_w = pd.DataFrame({
    "Cr": cr_ing,
    "Ni": ni_ing,
    "Cu": cu_ing,
    "As": as_ing,
    "Cd": cd_ing,
    "Pb": pb_ing,
})


ing_w





ing_w.mean()





cr_inh = inhal_winter["Cr"] / child_param["RfDinh"]["Cr"]
ni_inh = inhal_winter["Ni"] / child_param["RfDinh"]["Ni"]
cu_inh = inhal_winter["Cu"] / child_param["RfDinh"]["Cu"]
as_inh = inhal_winter["As"] / child_param["RfDinh"]["As"]
cd_inh = inhal_winter["Cd"] / child_param["RfDinh"]["Cd"]
pb_inh = inhal_winter["Pb"] / child_param["RfDinh"]["Pb"]


inh_w = pd.DataFrame({
    "Cr": cr_inh,
    "Ni": ni_inh,
    "Cu": cu_inh,
    "As": as_inh,
    "Cd": cd_inh,
    "Pb": pb_inh,
})

inh_w





inh_w.mean()





cr_derm = derm_winter["Cr"] / child_param["RfDderm"]["Cr"]
ni_derm = derm_winter["Ni"] / child_param["RfDderm"]["Ni"]
cu_derm = derm_winter["Cu"] / child_param["RfDderm"]["Cu"]
as_derm = derm_winter["As"] / child_param["RfDderm"]["As"]
cd_derm = derm_winter["Cd"] / child_param["RfDderm"]["Cd"]
pb_derm = derm_winter["Pb"] / child_param["RfDderm"]["Pb"]


derm_w = pd.DataFrame({
    "Cr": cr_derm,
    "Ni": ni_derm,
    "Cu": cu_derm,
    "As": as_derm,
    "Cd": cd_derm,
    "Pb": pb_derm,
})

derm_w


derm_w.mean()





ing_w.mean(), inh_w.mean(), derm_w.mean()




















add_rainy = pd.DataFrame({
    "ADDingCr" : ADDingCrR,
    "ADDinhCr" : ADDinhCrR,
    "ADDdermCr": ADDdermCrR,
    "ADDingNi" : ADDingNiR,
    "ADDinhNi" : ADDinhNiR,
    "ADDdermNi" : ADDdermNiR,
    "ADDingCu" : ADDingCuR,
    "ADDinhCu" : ADDinhCuR,
    "ADDdermCu" : ADDdermCuR,
    "ADDingAs" : ADDingAsR,
    "ADDinhAs" : ADDinhAsR,
    "ADDdermAs" : ADDdermAsR,
    "ADDingCd" : ADDingCdR,
    "ADDinhCd" : ADDinhCdR,
    "ADDdermCd" : ADDdermCdR,
    "ADDingPb" : ADDingPbR,
    "ADDinhPb" : ADDinhPbR,
    "ADDdermPb" : ADDdermPbR,

})


add_rainy


ingestion_rainy = pd.DataFrame({
    "Cr": ADDingCrR,
    "Ni": ADDingNiR,
    "Cu": ADDingCuR,
    "As": ADDingAsR,
    "Cd": ADDingCdR,
    "Pb": ADDingPbR,
})

inhal_rainy = pd.DataFrame({
    "Cr": ADDinhCrR,
    "Ni": ADDinhNiR,
    "Cu": ADDinhCuR,
    "As": ADDinhAsR,
    "Cd": ADDinhCdR,
    "Pb": ADDinhPbR,
})

dermal_rainy = pd.DataFrame({
    "Cr": ADDdermCrR,
    "Ni": ADDdermNiR,
    "Cu": ADDdermCuR,
    "As": ADDdermAsR,
    "Cd": ADDdermCdR,
    "Pb": ADDdermPbR,
})


ingestion_rainy


inhal_rainy


dermal_rainy


cr_ing = ingestion_rainy["Cr"] / child_param["RfDing"]["Cr"]
ni_ing = ingestion_rainy["Ni"] / child_param["RfDing"]["Ni"]
cu_ing = ingestion_rainy["Cu"] / child_param["RfDing"]["Cu"]
as_ing = ingestion_rainy["As"] / child_param["RfDing"]["As"]
cd_ing = ingestion_rainy["Cd"] / child_param["RfDing"]["Cd"]
pb_ing = ingestion_rainy["Pb"] / child_param["RfDing"]["Pb"]

cr_inh = inhal_rainy["Cr"] / child_param["RfDinh"]["Cr"]
ni_inh = inhal_rainy["Ni"] / child_param["RfDinh"]["Ni"]
cu_inh = inhal_rainy["Cu"] / child_param["RfDinh"]["Cu"]
as_inh = inhal_rainy["As"] / child_param["RfDinh"]["As"]
cd_inh = inhal_rainy["Cd"] / child_param["RfDinh"]["Cd"]
pb_inh = inhal_rainy["Pb"] / child_param["RfDinh"]["Pb"]

cr_derm = dermal_rainy["Cr"] / child_param["RfDderm"]["Cr"]
ni_derm = dermal_rainy["Ni"] / child_param["RfDderm"]["Ni"]
cu_derm = dermal_rainy["Cu"] / child_param["RfDderm"]["Cu"]
as_derm = dermal_rainy["As"] / child_param["RfDderm"]["As"]
cd_derm = dermal_rainy["Cd"] / child_param["RfDderm"]["Cd"]
pb_derm = dermal_rainy["Pb"] / child_param["RfDderm"]["Pb"]


ing_r = pd.DataFrame({
    "Cr": cr_ing,
    "Ni": ni_ing,
    "Cu": cu_ing,
    "As": as_ing,
    "Cd": cd_ing,
    "Pb": pb_ing,
})

inh_r = pd.DataFrame({
    "Cr": cr_inh,
    "Ni": ni_inh,
    "Cu": cu_inh,
    "As": as_inh,
    "Cd": cd_inh,
    "Pb": pb_inh,
})

derm_r = pd.DataFrame({
    "Cr": cr_derm,
    "Ni": ni_derm,
    "Cu": cu_derm,
    "As": as_derm,
    "Cd": cd_derm,
    "Pb": pb_derm,
})


ing_r


inh_r


derm_r





ing_r.mean()


inh_r.mean()


derm_r.mean()





def hq_non(ds, parameters):
    
    #ingestion
    add_upper_ingCrW = ds["CrW"] * parameters["IRing"] * parameters["CF"] * parameters["EF"] * parameters["ED"]
    ADDingCrW = add_upper_ingCrW /  (parameters["BW"] * parameters["AT_non"])

    add_upper_ingNiW = ds["NiW"] * parameters["IRing"] * parameters["CF"] * parameters["EF"] * parameters["ED"]
    ADDingNiW = add_upper_ingNiW /  (parameters["BW"] * parameters["AT_non"])

    add_upper_ingCuW = ds["CuW"] * parameters["IRing"] * parameters["CF"] * parameters["EF"] * parameters["ED"]
    ADDingCuW = add_upper_ingCuW /  (parameters["BW"] * parameters["AT_non"])

    add_upper_ingAsW = ds["AsW"] * parameters["IRing"] * parameters["CF"] * parameters["EF"] * parameters["ED"]
    ADDingAsW = add_upper_ingAsW /  (parameters["BW"] * parameters["AT_non"])

    add_upper_ingCdW = ds["CdW"] * parameters["IRing"] * parameters["CF"] * parameters["EF"] * parameters["ED"]
    ADDingCdW = add_upper_ingCdW /  (parameters["BW"] * parameters["AT_non"])

    add_upper_ingPbW = ds["PbW"] * parameters["IRing"] * parameters["CF"] * parameters["EF"] * parameters["ED"]
    ADDingPbW = add_upper_ingPbW /  (parameters["BW"] * parameters["AT_non"])

    
    
    add_upper_ingCrR = ds["CrR"] * parameters["IRing"] * parameters["CF"] * parameters["EF"] * parameters["ED"]
    ADDingCrR = add_upper_ingCrR /  (parameters["BW"] * parameters["AT_non"])

    add_upper_ingNiR = ds["NiR"] * parameters["IRing"] * parameters["CF"] * parameters["EF"] * parameters["ED"]
    ADDingNiR = add_upper_ingNiR /  (parameters["BW"] * parameters["AT_non"])

    add_upper_ingCuR = ds["CuR"] * parameters["IRing"] * parameters["CF"] * parameters["EF"] * parameters["ED"]
    ADDingCuR = add_upper_ingCuR /  (parameters["BW"] * parameters["AT_non"])

    add_upper_ingAsR = ds["AsR"] * parameters["IRing"] * parameters["CF"] * parameters["EF"] * parameters["ED"]
    ADDingAsR = add_upper_ingAsR /  (parameters["BW"] * parameters["AT_non"])

    add_upper_ingCdR = ds["CdR"] * parameters["IRing"] * parameters["CF"] * parameters["EF"] * parameters["ED"]
    ADDingCdR = add_upper_ingCdR /  (parameters["BW"] * parameters["AT_non"])

    add_upper_ingPbR = ds["PbR"] * parameters["IRing"] * parameters["CF"] * parameters["EF"] * parameters["ED"]
    ADDingPbR = add_upper_ingPbR /  (parameters["BW"] * parameters["AT_non"])
    
    
    #inhalation
    add_upper_inhCrW = ds["CrW"] * parameters["IRinh"]  * parameters["EF"] * parameters["ED"]
    ADDinhCrW = add_upper_inhCrW /  (parameters["PEF"] * parameters["BW"] * parameters["AT_non"])

    add_upper_inhNiW = ds["NiW"] * parameters["IRinh"]  * parameters["EF"] * parameters["ED"]
    ADDinhNiW = add_upper_inhNiW /  (parameters["PEF"] * parameters["BW"] * parameters["AT_non"])

    add_upper_inhCuW = ds["CuW"] * parameters["IRinh"]  * parameters["EF"] * parameters["ED"]
    ADDinhCuW = add_upper_inhCuW /  (parameters["PEF"] * parameters["BW"] * parameters["AT_non"])

    add_upper_inhAsW = ds["AsW"] * parameters["IRinh"]  * parameters["EF"] * parameters["ED"]
    ADDinhAsW = add_upper_inhAsW /  (parameters["PEF"] * parameters["BW"] * parameters["AT_non"])

    add_upper_inhCdW = ds["CdW"] * parameters["IRinh"]  * parameters["EF"] * parameters["ED"]
    ADDinhCdW = add_upper_inhCdW /  (parameters["PEF"] * parameters["BW"] * parameters["AT_non"])

    add_upper_inhPbW = ds["PbW"] * parameters["IRinh"]  * parameters["EF"] * parameters["ED"]
    ADDinhPbW = add_upper_inhPbW /  (parameters["PEF"] * parameters["BW"] * parameters["AT_non"])
    
    

    add_upper_inhCrR = ds["CrR"] * parameters["IRinh"]  * parameters["EF"] * parameters["ED"]
    ADDinhCrR = add_upper_inhCrR /  (parameters["PEF"] * parameters["BW"] * parameters["AT_non"])

    add_upper_inhNiR = ds["NiR"] * parameters["IRinh"]  * parameters["EF"] * parameters["ED"]
    ADDinhNiR = add_upper_inhNiR /  (parameters["PEF"] * parameters["BW"] * parameters["AT_non"])

    add_upper_inhCuR = ds["CuR"] * parameters["IRinh"]  * parameters["EF"] * parameters["ED"]
    ADDinhCuR = add_upper_inhCuR /  (parameters["PEF"] * parameters["BW"] * parameters["AT_non"])

    add_upper_inhAsR = ds["AsR"] * parameters["IRinh"]  * parameters["EF"] * parameters["ED"]
    ADDinhAsR = add_upper_inhAsR /  (parameters["PEF"] * parameters["BW"] * parameters["AT_non"])

    add_upper_inhCdR = ds["CdR"] * parameters["IRinh"]  * parameters["EF"] * parameters["ED"]
    ADDinhCdR = add_upper_inhCdR /  (parameters["PEF"] * parameters["BW"] * parameters["AT_non"])

    add_upper_inhPbR = ds["PbR"] * parameters["IRinh"]  * parameters["EF"] * parameters["ED"]
    ADDinhPbR = add_upper_inhPbR /  (parameters["PEF"] * parameters["BW"] * parameters["AT_non"])
    
    
    
    #dermal
    add_upper_dermCrW = ds["CrW"] * parameters["CF"] * parameters["SA"] * parameters["SA"] * parameters["SL"] * parameters["ABS"][0] * parameters["EF"] * parameters["ED"]
    ADDdermCrW = add_upper_dermCrW / (parameters["BW"] * parameters["AT_non"])

    add_upper_dermNiW = ds["NiW"] * parameters["CF"] * parameters["SA"] * parameters["SA"] * parameters["SL"] * parameters["ABS"][0] * parameters["EF"] * parameters["ED"]
    ADDdermNiW = add_upper_dermNiW / (parameters["BW"] * parameters["AT_non"])

    add_upper_dermCuW = ds["CuW"] * parameters["CF"] * parameters["SA"] * parameters["SA"] * parameters["SL"] * parameters["ABS"][0] * parameters["EF"] * parameters["ED"]
    ADDdermCuW = add_upper_dermCuW / (parameters["BW"] * parameters["AT_non"])

    add_upper_dermAsW = ds["AsW"] * parameters["CF"] * parameters["SA"] * parameters["SA"] * parameters["SL"] * parameters["ABS"][1] * parameters["EF"] * parameters["ED"]
    ADDdermAsW = add_upper_dermAsW / (parameters["BW"] * parameters["AT_non"])

    add_upper_dermCdW = ds["CdW"] * parameters["CF"] * parameters["SA"] * parameters["SA"] * parameters["SL"] * parameters["ABS"][0] * parameters["EF"] * parameters["ED"]
    ADDdermCdW = add_upper_dermCdW / (parameters["BW"] * parameters["AT_non"])

    add_upper_dermPbW = ds["PbW"] * parameters["CF"] * parameters["SA"] * parameters["SA"] * parameters["SL"] * parameters["ABS"][0] * parameters["EF"] * parameters["ED"]
    ADDdermPbW = add_upper_dermPbW / (parameters["BW"] * parameters["AT_non"])
    

    
    add_upper_dermCrR = ds["CrR"] * parameters["CF"] * parameters["SA"] * parameters["SA"] * parameters["SL"] * parameters["ABS"][0] * parameters["EF"] * parameters["ED"]
    ADDdermCrR = add_upper_dermCrR / (parameters["BW"] * parameters["AT_non"])

    add_upper_dermNiR = ds["NiR"] * parameters["CF"] * parameters["SA"] * parameters["SA"] * parameters["SL"] * parameters["ABS"][0] * parameters["EF"] * parameters["ED"]
    ADDdermNiR = add_upper_dermNiR / (parameters["BW"] * parameters["AT_non"])

    add_upper_dermCuR = ds["CuR"] * parameters["CF"] * parameters["SA"] * parameters["SA"] * parameters["SL"] * parameters["ABS"][0] * parameters["EF"] * parameters["ED"]
    ADDdermCuR = add_upper_dermCuR / (parameters["BW"] * parameters["AT_non"])

    add_upper_dermAsR = ds["AsR"] * parameters["CF"] * parameters["SA"] * parameters["SA"] * parameters["SL"] * parameters["ABS"][1] * parameters["EF"] * parameters["ED"]
    ADDdermAsR = add_upper_dermAsR / (parameters["BW"] * parameters["AT_non"])

    add_upper_dermCdR = ds["CdR"] * parameters["CF"] * parameters["SA"] * parameters["SA"] * parameters["SL"] * parameters["ABS"][0] * parameters["EF"] * parameters["ED"]
    ADDdermCdR = add_upper_dermCdR / (parameters["BW"] * parameters["AT_non"])

    add_upper_dermPbR = ds["PbR"] * parameters["CF"] * parameters["SA"] * parameters["SA"] * parameters["SL"] * parameters["ABS"][0] * parameters["EF"] * parameters["ED"]
    ADDdermPbR = add_upper_dermPbR / (parameters["BW"] * parameters["AT_non"])

    
    
    #winter
    add_winter = pd.DataFrame({
        "ADDingCr" : ADDingCrW,
        "ADDinhCr" : ADDinhCrW,
        "ADDdermCr": ADDdermCrW,
        "ADDingNi" : ADDingNiW,
        "ADDinhNi" : ADDinhNiW,
        "ADDdermNi" : ADDdermNiW,
        "ADDingCu" : ADDingCuW,
        "ADDinhCu" : ADDinhCuW,
        "ADDdermCu" : ADDdermCuW,
        "ADDingAs" : ADDingAsW,
        "ADDinhAs" : ADDinhAsW,
        "ADDdermAs" : ADDdermAsW,
        "ADDingCd" : ADDingCdW,
        "ADDinhCd" : ADDinhCdW,
        "ADDdermCd" : ADDdermCdW,
        "ADDingPb" : ADDingPbW,
        "ADDinhPb" : ADDinhPbW,
        "ADDdermPb" : ADDdermPbW,
    })

    ingestion_winter = pd.DataFrame({
        "Cr": ADDingCrW,
        "Ni": ADDingNiW,
        "Cu": ADDingCuW,
        "As": ADDingAsW,
        "Cd": ADDingCdW,
        "Pb": ADDingPbW,
    })
    
    inhal_winter = pd.DataFrame({
        "Cr": ADDinhCrW,
        "Ni": ADDinhNiW,
        "Cu": ADDinhCuW,
        "As": ADDinhAsW,
        "Cd": ADDinhCdW,
        "Pb": ADDinhPbW,
    })
    
    
    derm_winter = pd.DataFrame({
        "Cr": ADDdermCrW,
        "Ni": ADDdermNiW,
        "Cu": ADDdermCuW,
        "As": ADDdermAsW,
        "Cd": ADDdermCdW,
        "Pb": ADDdermPbW,
    })
    
    
    cr_ing = ingestion_winter["Cr"] / parameters["RfDing"]["Cr"]
    ni_ing = ingestion_winter["Ni"] / parameters["RfDing"]["Ni"]
    cu_ing = ingestion_winter["Cu"] / parameters["RfDing"]["Cu"]
    as_ing = ingestion_winter["As"] / parameters["RfDing"]["As"]
    cd_ing = ingestion_winter["Cd"] / parameters["RfDing"]["Cd"]
    pb_ing = ingestion_winter["Pb"] / parameters["RfDing"]["Pb"]
    
    cr_inh = inhal_winter["Cr"] / parameters["RfDinh"]["Cr"]
    ni_inh = inhal_winter["Ni"] / parameters["RfDinh"]["Ni"]
    cu_inh = inhal_winter["Cu"] / parameters["RfDinh"]["Cu"]
    as_inh = inhal_winter["As"] / parameters["RfDinh"]["As"]
    cd_inh = inhal_winter["Cd"] / parameters["RfDinh"]["Cd"]
    pb_inh = inhal_winter["Pb"] / parameters["RfDinh"]["Pb"]
    
    cr_derm = derm_winter["Cr"] / parameters["RfDderm"]["Cr"]
    ni_derm = derm_winter["Ni"] / parameters["RfDderm"]["Ni"]
    cu_derm = derm_winter["Cu"] / parameters["RfDderm"]["Cu"]
    as_derm = derm_winter["As"] / parameters["RfDderm"]["As"]
    cd_derm = derm_winter["Cd"] / parameters["RfDderm"]["Cd"]
    pb_derm = derm_winter["Pb"] / parameters["RfDderm"]["Pb"]

    
    ing_w = pd.DataFrame({
        "Cr": cr_ing,
        "Ni": ni_ing,
        "Cu": cu_ing,
        "As": as_ing,
        "Cd": cd_ing,
        "Pb": pb_ing,
    })
    
    inh_w = pd.DataFrame({
        "Cr": cr_inh,
        "Ni": ni_inh,
        "Cu": cu_inh,
        "As": as_inh,
        "Cd": cd_inh,
        "Pb": pb_inh,
    })
    
    derm_w = pd.DataFrame({
        "Cr": cr_derm,
        "Ni": ni_derm,
        "Cu": cu_derm,
        "As": as_derm,
        "Cd": cd_derm,
        "Pb": pb_derm,
    })
    
    
    #rainy
    add_rainy = pd.DataFrame({
        "ADDingCr" : ADDingCrR,
        "ADDinhCr" : ADDinhCrR,
        "ADDdermCr": ADDdermCrR,
        "ADDingNi" : ADDingNiR,
        "ADDinhNi" : ADDinhNiR,
        "ADDdermNi" : ADDdermNiR,
        "ADDingCu" : ADDingCuR,
        "ADDinhCu" : ADDinhCuR,
        "ADDdermCu" : ADDdermCuR,
        "ADDingAs" : ADDingAsR,
        "ADDinhAs" : ADDinhAsR,
        "ADDdermAs" : ADDdermAsR,
        "ADDingCd" : ADDingCdR,
        "ADDinhCd" : ADDinhCdR,
        "ADDdermCd" : ADDdermCdR,
        "ADDingPb" : ADDingPbR,
        "ADDinhPb" : ADDinhPbR,
        "ADDdermPb" : ADDdermPbR,
    })

    ingestion_rainy = pd.DataFrame({
        "Cr": ADDingCrR,
        "Ni": ADDingNiR,
        "Cu": ADDingCuR,
        "As": ADDingAsR,
        "Cd": ADDingCdR,
        "Pb": ADDingPbR,
    })

    inhal_rainy = pd.DataFrame({
        "Cr": ADDinhCrR,
        "Ni": ADDinhNiR,
        "Cu": ADDinhCuR,
        "As": ADDinhAsR,
        "Cd": ADDinhCdR,
        "Pb": ADDinhPbR,
    })


    derm_rainy = pd.DataFrame({
        "Cr": ADDdermCrR,
        "Ni": ADDdermNiR,
        "Cu": ADDdermCuR,
        "As": ADDdermAsR,
        "Cd": ADDdermCdR,
        "Pb": ADDdermPbR,
    })
    
    
    cr_ingR = ingestion_rainy["Cr"] / parameters["RfDing"]["Cr"]
    ni_ingR = ingestion_rainy["Ni"] / parameters["RfDing"]["Ni"]
    cu_ingR = ingestion_rainy["Cu"] / parameters["RfDing"]["Cu"]
    as_ingR = ingestion_rainy["As"] / parameters["RfDing"]["As"]
    cd_ingR = ingestion_rainy["Cd"] / parameters["RfDing"]["Cd"]
    pb_ingR = ingestion_rainy["Pb"] / parameters["RfDing"]["Pb"]
    
    cr_inhR = inhal_rainy["Cr"] / parameters["RfDinh"]["Cr"]
    ni_inhR = inhal_rainy["Ni"] / parameters["RfDinh"]["Ni"]
    cu_inhR = inhal_rainy["Cu"] / parameters["RfDinh"]["Cu"]
    as_inhR = inhal_rainy["As"] / parameters["RfDinh"]["As"]
    cd_inhR = inhal_rainy["Cd"] / parameters["RfDinh"]["Cd"]
    pb_inhR = inhal_rainy["Pb"] / parameters["RfDinh"]["Pb"]
    
    cr_dermR = derm_rainy["Cr"] / parameters["RfDderm"]["Cr"]
    ni_dermR = derm_rainy["Ni"] / parameters["RfDderm"]["Ni"]
    cu_dermR = derm_rainy["Cu"] / parameters["RfDderm"]["Cu"]
    as_dermR = derm_rainy["As"] / parameters["RfDderm"]["As"]
    cd_dermR = derm_rainy["Cd"] / parameters["RfDderm"]["Cd"]
    pb_dermR = derm_rainy["Pb"] / parameters["RfDderm"]["Pb"]

    
    ing_r = pd.DataFrame({
        "Cr": cr_ingR,
        "Ni": ni_ingR,
        "Cu": cu_ingR,
        "As": as_ingR,
        "Cd": cd_ingR,
        "Pb": pb_ingR,
    })
    
    inh_r = pd.DataFrame({
        "Cr": cr_inhR,
        "Ni": ni_inhR,
        "Cu": cu_inhR,
        "As": as_inhR,
        "Cd": cd_inhR,
        "Pb": pb_inhR,
    })
    
    derm_r = pd.DataFrame({
        "Cr": cr_dermR,
        "Ni": ni_dermR,
        "Cu": cu_dermR,
        "As": as_dermR,
        "Cd": cd_dermR,
        "Pb": pb_dermR,
    })
    

    ing_w = ing_w.mean()
    inh_w = inh_w.mean()
    derm_w = derm_w.mean()
    ing_r = ing_r.mean()
    inh_r = inh_r.mean()
    derm_r = derm_r.mean()
    
    return ing_w, inh_w, derm_w, ing_r, inh_r, derm_r


ingestionW,inhalW,dermalW,ingestionR,inhalR,dermalR = hq_non(ds=ds, parameters=child_param)


ingestionW


ingestionR


dermalR, dermalW












